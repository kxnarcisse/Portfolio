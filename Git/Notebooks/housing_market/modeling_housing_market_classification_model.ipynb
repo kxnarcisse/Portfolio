{
 "cells": [
  {
   "cell_type": "markdown",
   "id": "8a89682b",
   "metadata": {},
   "source": [
    "## Feature Engineering - Machine Learning Modeling - Classification"
   ]
  },
  {
   "cell_type": "markdown",
   "id": "c20942ea",
   "metadata": {},
   "source": [
    "### Load Libraries"
   ]
  },
  {
   "cell_type": "code",
   "execution_count": 1,
   "id": "950b6db0",
   "metadata": {},
   "outputs": [],
   "source": [
    "import pandas as pd\n",
    "import numpy as np\n",
    "import missingno as msno\n",
    "import matplotlib.pyplot as plt\n",
    "import statistics as st\n",
    "import seaborn as sns\n",
    "import os\n",
    "import statsmodels.api as sm\n",
    "import scipy.stats as ss\n",
    "import itertools"
   ]
  },
  {
   "cell_type": "code",
   "execution_count": 2,
   "id": "89007e31",
   "metadata": {},
   "outputs": [],
   "source": [
    "df = pd.read_csv('clean_data.csv')"
   ]
  },
  {
   "cell_type": "code",
   "execution_count": 3,
   "id": "a3d4c1db",
   "metadata": {},
   "outputs": [
    {
     "data": {
      "text/html": [
       "<div>\n",
       "<style scoped>\n",
       "    .dataframe tbody tr th:only-of-type {\n",
       "        vertical-align: middle;\n",
       "    }\n",
       "\n",
       "    .dataframe tbody tr th {\n",
       "        vertical-align: top;\n",
       "    }\n",
       "\n",
       "    .dataframe thead th {\n",
       "        text-align: right;\n",
       "    }\n",
       "</style>\n",
       "<table border=\"1\" class=\"dataframe\">\n",
       "  <thead>\n",
       "    <tr style=\"text-align: right;\">\n",
       "      <th></th>\n",
       "      <th>id</th>\n",
       "      <th>date</th>\n",
       "      <th>price</th>\n",
       "      <th>bedrooms</th>\n",
       "      <th>bathrooms</th>\n",
       "      <th>sqft_living</th>\n",
       "      <th>sqft_lot</th>\n",
       "      <th>floors</th>\n",
       "      <th>waterfront</th>\n",
       "      <th>view</th>\n",
       "      <th>...</th>\n",
       "      <th>grade</th>\n",
       "      <th>sqft_above</th>\n",
       "      <th>sqft_basement</th>\n",
       "      <th>yr_built</th>\n",
       "      <th>yr_renovated</th>\n",
       "      <th>zipcode</th>\n",
       "      <th>lat</th>\n",
       "      <th>long</th>\n",
       "      <th>sqft_living15</th>\n",
       "      <th>sqft_lot15</th>\n",
       "    </tr>\n",
       "  </thead>\n",
       "  <tbody>\n",
       "    <tr>\n",
       "      <th>0</th>\n",
       "      <td>1000102</td>\n",
       "      <td>20150422T000000</td>\n",
       "      <td>300000.0</td>\n",
       "      <td>6</td>\n",
       "      <td>3.00</td>\n",
       "      <td>2400</td>\n",
       "      <td>9373</td>\n",
       "      <td>2.0</td>\n",
       "      <td>0</td>\n",
       "      <td>0</td>\n",
       "      <td>...</td>\n",
       "      <td>7</td>\n",
       "      <td>2400.0</td>\n",
       "      <td>0</td>\n",
       "      <td>1991</td>\n",
       "      <td>0</td>\n",
       "      <td>98002</td>\n",
       "      <td>47.3262</td>\n",
       "      <td>-122.214</td>\n",
       "      <td>2060</td>\n",
       "      <td>7316</td>\n",
       "    </tr>\n",
       "    <tr>\n",
       "      <th>1</th>\n",
       "      <td>1200019</td>\n",
       "      <td>20140508T000000</td>\n",
       "      <td>647500.0</td>\n",
       "      <td>4</td>\n",
       "      <td>1.75</td>\n",
       "      <td>2060</td>\n",
       "      <td>26036</td>\n",
       "      <td>1.0</td>\n",
       "      <td>0</td>\n",
       "      <td>0</td>\n",
       "      <td>...</td>\n",
       "      <td>8</td>\n",
       "      <td>1160.0</td>\n",
       "      <td>900</td>\n",
       "      <td>1947</td>\n",
       "      <td>0</td>\n",
       "      <td>98166</td>\n",
       "      <td>47.4444</td>\n",
       "      <td>-122.351</td>\n",
       "      <td>2590</td>\n",
       "      <td>21891</td>\n",
       "    </tr>\n",
       "    <tr>\n",
       "      <th>2</th>\n",
       "      <td>1200021</td>\n",
       "      <td>20140811T000000</td>\n",
       "      <td>400000.0</td>\n",
       "      <td>3</td>\n",
       "      <td>1.00</td>\n",
       "      <td>1460</td>\n",
       "      <td>43000</td>\n",
       "      <td>1.0</td>\n",
       "      <td>0</td>\n",
       "      <td>0</td>\n",
       "      <td>...</td>\n",
       "      <td>7</td>\n",
       "      <td>1460.0</td>\n",
       "      <td>0</td>\n",
       "      <td>1952</td>\n",
       "      <td>0</td>\n",
       "      <td>98166</td>\n",
       "      <td>47.4434</td>\n",
       "      <td>-122.347</td>\n",
       "      <td>2250</td>\n",
       "      <td>20023</td>\n",
       "    </tr>\n",
       "    <tr>\n",
       "      <th>3</th>\n",
       "      <td>2800031</td>\n",
       "      <td>20150401T000000</td>\n",
       "      <td>235000.0</td>\n",
       "      <td>3</td>\n",
       "      <td>1.00</td>\n",
       "      <td>1430</td>\n",
       "      <td>7599</td>\n",
       "      <td>1.5</td>\n",
       "      <td>0</td>\n",
       "      <td>0</td>\n",
       "      <td>...</td>\n",
       "      <td>6</td>\n",
       "      <td>1010.0</td>\n",
       "      <td>420</td>\n",
       "      <td>1930</td>\n",
       "      <td>0</td>\n",
       "      <td>98168</td>\n",
       "      <td>47.4783</td>\n",
       "      <td>-122.265</td>\n",
       "      <td>1290</td>\n",
       "      <td>10320</td>\n",
       "    </tr>\n",
       "    <tr>\n",
       "      <th>4</th>\n",
       "      <td>3600057</td>\n",
       "      <td>20150319T000000</td>\n",
       "      <td>402500.0</td>\n",
       "      <td>4</td>\n",
       "      <td>2.00</td>\n",
       "      <td>1650</td>\n",
       "      <td>3504</td>\n",
       "      <td>1.0</td>\n",
       "      <td>0</td>\n",
       "      <td>0</td>\n",
       "      <td>...</td>\n",
       "      <td>7</td>\n",
       "      <td>760.0</td>\n",
       "      <td>890</td>\n",
       "      <td>1951</td>\n",
       "      <td>2013</td>\n",
       "      <td>98144</td>\n",
       "      <td>47.5803</td>\n",
       "      <td>-122.294</td>\n",
       "      <td>1480</td>\n",
       "      <td>3504</td>\n",
       "    </tr>\n",
       "  </tbody>\n",
       "</table>\n",
       "<p>5 rows × 21 columns</p>\n",
       "</div>"
      ],
      "text/plain": [
       "        id             date     price  bedrooms  bathrooms  sqft_living  \\\n",
       "0  1000102  20150422T000000  300000.0         6       3.00         2400   \n",
       "1  1200019  20140508T000000  647500.0         4       1.75         2060   \n",
       "2  1200021  20140811T000000  400000.0         3       1.00         1460   \n",
       "3  2800031  20150401T000000  235000.0         3       1.00         1430   \n",
       "4  3600057  20150319T000000  402500.0         4       2.00         1650   \n",
       "\n",
       "   sqft_lot  floors  waterfront  view  ...  grade  sqft_above  sqft_basement  \\\n",
       "0      9373     2.0           0     0  ...      7      2400.0              0   \n",
       "1     26036     1.0           0     0  ...      8      1160.0            900   \n",
       "2     43000     1.0           0     0  ...      7      1460.0              0   \n",
       "3      7599     1.5           0     0  ...      6      1010.0            420   \n",
       "4      3504     1.0           0     0  ...      7       760.0            890   \n",
       "\n",
       "   yr_built  yr_renovated  zipcode      lat     long  sqft_living15  \\\n",
       "0      1991             0    98002  47.3262 -122.214           2060   \n",
       "1      1947             0    98166  47.4444 -122.351           2590   \n",
       "2      1952             0    98166  47.4434 -122.347           2250   \n",
       "3      1930             0    98168  47.4783 -122.265           1290   \n",
       "4      1951          2013    98144  47.5803 -122.294           1480   \n",
       "\n",
       "   sqft_lot15  \n",
       "0        7316  \n",
       "1       21891  \n",
       "2       20023  \n",
       "3       10320  \n",
       "4        3504  \n",
       "\n",
       "[5 rows x 21 columns]"
      ]
     },
     "execution_count": 3,
     "metadata": {},
     "output_type": "execute_result"
    }
   ],
   "source": [
    "df.head()"
   ]
  },
  {
   "cell_type": "code",
   "execution_count": 4,
   "id": "3f36c02c",
   "metadata": {},
   "outputs": [
    {
     "name": "stdout",
     "output_type": "stream",
     "text": [
      "<class 'pandas.core.frame.DataFrame'>\n",
      "RangeIndex: 21436 entries, 0 to 21435\n",
      "Data columns (total 21 columns):\n",
      " #   Column         Non-Null Count  Dtype  \n",
      "---  ------         --------------  -----  \n",
      " 0   id             21436 non-null  int64  \n",
      " 1   date           21436 non-null  object \n",
      " 2   price          21436 non-null  float64\n",
      " 3   bedrooms       21436 non-null  int64  \n",
      " 4   bathrooms      21436 non-null  float64\n",
      " 5   sqft_living    21436 non-null  int64  \n",
      " 6   sqft_lot       21436 non-null  int64  \n",
      " 7   floors         21436 non-null  float64\n",
      " 8   waterfront     21436 non-null  int64  \n",
      " 9   view           21436 non-null  int64  \n",
      " 10  condition      21436 non-null  int64  \n",
      " 11  grade          21436 non-null  int64  \n",
      " 12  sqft_above     21434 non-null  float64\n",
      " 13  sqft_basement  21436 non-null  int64  \n",
      " 14  yr_built       21436 non-null  int64  \n",
      " 15  yr_renovated   21436 non-null  int64  \n",
      " 16  zipcode        21436 non-null  int64  \n",
      " 17  lat            21436 non-null  float64\n",
      " 18  long           21436 non-null  float64\n",
      " 19  sqft_living15  21436 non-null  int64  \n",
      " 20  sqft_lot15     21436 non-null  int64  \n",
      "dtypes: float64(6), int64(14), object(1)\n",
      "memory usage: 3.4+ MB\n"
     ]
    }
   ],
   "source": [
    "df.info()"
   ]
  },
  {
   "cell_type": "code",
   "execution_count": 5,
   "id": "a970ab23",
   "metadata": {},
   "outputs": [
    {
     "name": "stdout",
     "output_type": "stream",
     "text": [
      "sqft_lot15 : 0\n"
     ]
    }
   ],
   "source": [
    "for column in df.columns: \n",
    "    null_count = len(df[df[column].isna()])\n",
    "print(\"{} : {}\".format(column, null_count)) "
   ]
  },
  {
   "cell_type": "code",
   "execution_count": 6,
   "id": "ff315db3",
   "metadata": {},
   "outputs": [],
   "source": [
    "df.replace([np.inf, -np.inf], np.nan, inplace=True) "
   ]
  },
  {
   "cell_type": "code",
   "execution_count": 7,
   "id": "fe506c2b",
   "metadata": {},
   "outputs": [],
   "source": [
    "df.fillna(999, inplace=True) "
   ]
  },
  {
   "cell_type": "markdown",
   "id": "2371b2d7",
   "metadata": {},
   "source": [
    "### Feature Selection & Get dummies"
   ]
  },
  {
   "cell_type": "markdown",
   "id": "de2bb3bd",
   "metadata": {},
   "source": [
    "#### Transform Price to Binary"
   ]
  },
  {
   "cell_type": "code",
   "execution_count": 8,
   "id": "00924c00",
   "metadata": {},
   "outputs": [],
   "source": [
    "df['price'] = df['price'].apply(lambda value: value > 645000.00).astype(int)"
   ]
  },
  {
   "cell_type": "markdown",
   "id": "0865c6e8",
   "metadata": {},
   "source": [
    "#### Transform Basement to binary"
   ]
  },
  {
   "cell_type": "code",
   "execution_count": 9,
   "id": "677670a1",
   "metadata": {},
   "outputs": [],
   "source": [
    "df['sqft_basement'] = df['sqft_basement'].apply(lambda value: value > 1).astype(int)"
   ]
  },
  {
   "cell_type": "markdown",
   "id": "385252f9",
   "metadata": {},
   "source": [
    "#### Housing Price over $650,000 is 1 for True and 0 for False"
   ]
  },
  {
   "cell_type": "code",
   "execution_count": 10,
   "id": "03fd5daf",
   "metadata": {},
   "outputs": [
    {
     "data": {
      "text/html": [
       "<div>\n",
       "<style scoped>\n",
       "    .dataframe tbody tr th:only-of-type {\n",
       "        vertical-align: middle;\n",
       "    }\n",
       "\n",
       "    .dataframe tbody tr th {\n",
       "        vertical-align: top;\n",
       "    }\n",
       "\n",
       "    .dataframe thead th {\n",
       "        text-align: right;\n",
       "    }\n",
       "</style>\n",
       "<table border=\"1\" class=\"dataframe\">\n",
       "  <thead>\n",
       "    <tr style=\"text-align: right;\">\n",
       "      <th></th>\n",
       "      <th>id</th>\n",
       "      <th>date</th>\n",
       "      <th>price</th>\n",
       "      <th>bedrooms</th>\n",
       "      <th>bathrooms</th>\n",
       "      <th>sqft_living</th>\n",
       "      <th>sqft_lot</th>\n",
       "      <th>floors</th>\n",
       "      <th>waterfront</th>\n",
       "      <th>view</th>\n",
       "      <th>...</th>\n",
       "      <th>grade</th>\n",
       "      <th>sqft_above</th>\n",
       "      <th>sqft_basement</th>\n",
       "      <th>yr_built</th>\n",
       "      <th>yr_renovated</th>\n",
       "      <th>zipcode</th>\n",
       "      <th>lat</th>\n",
       "      <th>long</th>\n",
       "      <th>sqft_living15</th>\n",
       "      <th>sqft_lot15</th>\n",
       "    </tr>\n",
       "  </thead>\n",
       "  <tbody>\n",
       "    <tr>\n",
       "      <th>0</th>\n",
       "      <td>1000102</td>\n",
       "      <td>20150422T000000</td>\n",
       "      <td>0</td>\n",
       "      <td>6</td>\n",
       "      <td>3.00</td>\n",
       "      <td>2400</td>\n",
       "      <td>9373</td>\n",
       "      <td>2.0</td>\n",
       "      <td>0</td>\n",
       "      <td>0</td>\n",
       "      <td>...</td>\n",
       "      <td>7</td>\n",
       "      <td>2400.0</td>\n",
       "      <td>0</td>\n",
       "      <td>1991</td>\n",
       "      <td>0</td>\n",
       "      <td>98002</td>\n",
       "      <td>47.3262</td>\n",
       "      <td>-122.214</td>\n",
       "      <td>2060</td>\n",
       "      <td>7316</td>\n",
       "    </tr>\n",
       "    <tr>\n",
       "      <th>1</th>\n",
       "      <td>1200019</td>\n",
       "      <td>20140508T000000</td>\n",
       "      <td>1</td>\n",
       "      <td>4</td>\n",
       "      <td>1.75</td>\n",
       "      <td>2060</td>\n",
       "      <td>26036</td>\n",
       "      <td>1.0</td>\n",
       "      <td>0</td>\n",
       "      <td>0</td>\n",
       "      <td>...</td>\n",
       "      <td>8</td>\n",
       "      <td>1160.0</td>\n",
       "      <td>1</td>\n",
       "      <td>1947</td>\n",
       "      <td>0</td>\n",
       "      <td>98166</td>\n",
       "      <td>47.4444</td>\n",
       "      <td>-122.351</td>\n",
       "      <td>2590</td>\n",
       "      <td>21891</td>\n",
       "    </tr>\n",
       "    <tr>\n",
       "      <th>2</th>\n",
       "      <td>1200021</td>\n",
       "      <td>20140811T000000</td>\n",
       "      <td>0</td>\n",
       "      <td>3</td>\n",
       "      <td>1.00</td>\n",
       "      <td>1460</td>\n",
       "      <td>43000</td>\n",
       "      <td>1.0</td>\n",
       "      <td>0</td>\n",
       "      <td>0</td>\n",
       "      <td>...</td>\n",
       "      <td>7</td>\n",
       "      <td>1460.0</td>\n",
       "      <td>0</td>\n",
       "      <td>1952</td>\n",
       "      <td>0</td>\n",
       "      <td>98166</td>\n",
       "      <td>47.4434</td>\n",
       "      <td>-122.347</td>\n",
       "      <td>2250</td>\n",
       "      <td>20023</td>\n",
       "    </tr>\n",
       "    <tr>\n",
       "      <th>3</th>\n",
       "      <td>2800031</td>\n",
       "      <td>20150401T000000</td>\n",
       "      <td>0</td>\n",
       "      <td>3</td>\n",
       "      <td>1.00</td>\n",
       "      <td>1430</td>\n",
       "      <td>7599</td>\n",
       "      <td>1.5</td>\n",
       "      <td>0</td>\n",
       "      <td>0</td>\n",
       "      <td>...</td>\n",
       "      <td>6</td>\n",
       "      <td>1010.0</td>\n",
       "      <td>1</td>\n",
       "      <td>1930</td>\n",
       "      <td>0</td>\n",
       "      <td>98168</td>\n",
       "      <td>47.4783</td>\n",
       "      <td>-122.265</td>\n",
       "      <td>1290</td>\n",
       "      <td>10320</td>\n",
       "    </tr>\n",
       "    <tr>\n",
       "      <th>4</th>\n",
       "      <td>3600057</td>\n",
       "      <td>20150319T000000</td>\n",
       "      <td>0</td>\n",
       "      <td>4</td>\n",
       "      <td>2.00</td>\n",
       "      <td>1650</td>\n",
       "      <td>3504</td>\n",
       "      <td>1.0</td>\n",
       "      <td>0</td>\n",
       "      <td>0</td>\n",
       "      <td>...</td>\n",
       "      <td>7</td>\n",
       "      <td>760.0</td>\n",
       "      <td>1</td>\n",
       "      <td>1951</td>\n",
       "      <td>2013</td>\n",
       "      <td>98144</td>\n",
       "      <td>47.5803</td>\n",
       "      <td>-122.294</td>\n",
       "      <td>1480</td>\n",
       "      <td>3504</td>\n",
       "    </tr>\n",
       "  </tbody>\n",
       "</table>\n",
       "<p>5 rows × 21 columns</p>\n",
       "</div>"
      ],
      "text/plain": [
       "        id             date  price  bedrooms  bathrooms  sqft_living  \\\n",
       "0  1000102  20150422T000000      0         6       3.00         2400   \n",
       "1  1200019  20140508T000000      1         4       1.75         2060   \n",
       "2  1200021  20140811T000000      0         3       1.00         1460   \n",
       "3  2800031  20150401T000000      0         3       1.00         1430   \n",
       "4  3600057  20150319T000000      0         4       2.00         1650   \n",
       "\n",
       "   sqft_lot  floors  waterfront  view  ...  grade  sqft_above  sqft_basement  \\\n",
       "0      9373     2.0           0     0  ...      7      2400.0              0   \n",
       "1     26036     1.0           0     0  ...      8      1160.0              1   \n",
       "2     43000     1.0           0     0  ...      7      1460.0              0   \n",
       "3      7599     1.5           0     0  ...      6      1010.0              1   \n",
       "4      3504     1.0           0     0  ...      7       760.0              1   \n",
       "\n",
       "   yr_built  yr_renovated  zipcode      lat     long  sqft_living15  \\\n",
       "0      1991             0    98002  47.3262 -122.214           2060   \n",
       "1      1947             0    98166  47.4444 -122.351           2590   \n",
       "2      1952             0    98166  47.4434 -122.347           2250   \n",
       "3      1930             0    98168  47.4783 -122.265           1290   \n",
       "4      1951          2013    98144  47.5803 -122.294           1480   \n",
       "\n",
       "   sqft_lot15  \n",
       "0        7316  \n",
       "1       21891  \n",
       "2       20023  \n",
       "3       10320  \n",
       "4        3504  \n",
       "\n",
       "[5 rows x 21 columns]"
      ]
     },
     "execution_count": 10,
     "metadata": {},
     "output_type": "execute_result"
    }
   ],
   "source": [
    "df.head()"
   ]
  },
  {
   "cell_type": "code",
   "execution_count": 11,
   "id": "74ff66cd",
   "metadata": {},
   "outputs": [],
   "source": [
    "df.rename(columns={'price':'high_price'}, inplace=True)"
   ]
  },
  {
   "cell_type": "code",
   "execution_count": 12,
   "id": "5fec8090",
   "metadata": {},
   "outputs": [
    {
     "data": {
      "text/plain": [
       "Index(['id', 'date', 'high_price', 'bedrooms', 'bathrooms', 'sqft_living',\n",
       "       'sqft_lot', 'floors', 'waterfront', 'view', 'condition', 'grade',\n",
       "       'sqft_above', 'sqft_basement', 'yr_built', 'yr_renovated', 'zipcode',\n",
       "       'lat', 'long', 'sqft_living15', 'sqft_lot15'],\n",
       "      dtype='object')"
      ]
     },
     "execution_count": 12,
     "metadata": {},
     "output_type": "execute_result"
    }
   ],
   "source": [
    "df.columns"
   ]
  },
  {
   "cell_type": "markdown",
   "id": "1cb22013",
   "metadata": {},
   "source": [
    "#### Examine square footage of home apart from basement"
   ]
  },
  {
   "cell_type": "code",
   "execution_count": 13,
   "id": "a99fa622",
   "metadata": {},
   "outputs": [
    {
     "name": "stdout",
     "output_type": "stream",
     "text": [
      "count    21436.00\n",
      "mean      1790.89\n",
      "std        829.06\n",
      "min        290.00\n",
      "25%       1200.00\n",
      "50%       1560.00\n",
      "75%       2220.00\n",
      "max       9410.00\n",
      "Name: sqft_above, dtype: float64\n"
     ]
    }
   ],
   "source": [
    "stat = df.sqft_above.describe().round(2)\n",
    "print(stat)"
   ]
  },
  {
   "cell_type": "markdown",
   "id": "358110fc",
   "metadata": {},
   "source": [
    "#### Transform sqft_above 75% to binary"
   ]
  },
  {
   "cell_type": "code",
   "execution_count": 14,
   "id": "ca51fe00",
   "metadata": {},
   "outputs": [],
   "source": [
    "df['sqft_above'] = df['sqft_above'].apply(lambda value: value > 2220).astype(int)"
   ]
  },
  {
   "cell_type": "code",
   "execution_count": 15,
   "id": "afe061f9",
   "metadata": {},
   "outputs": [
    {
     "data": {
      "text/html": [
       "<div>\n",
       "<style scoped>\n",
       "    .dataframe tbody tr th:only-of-type {\n",
       "        vertical-align: middle;\n",
       "    }\n",
       "\n",
       "    .dataframe tbody tr th {\n",
       "        vertical-align: top;\n",
       "    }\n",
       "\n",
       "    .dataframe thead th {\n",
       "        text-align: right;\n",
       "    }\n",
       "</style>\n",
       "<table border=\"1\" class=\"dataframe\">\n",
       "  <thead>\n",
       "    <tr style=\"text-align: right;\">\n",
       "      <th></th>\n",
       "      <th>id</th>\n",
       "      <th>date</th>\n",
       "      <th>high_price</th>\n",
       "      <th>bedrooms</th>\n",
       "      <th>bathrooms</th>\n",
       "      <th>sqft_lot</th>\n",
       "      <th>floors</th>\n",
       "      <th>waterfront</th>\n",
       "      <th>view</th>\n",
       "      <th>condition</th>\n",
       "      <th>...</th>\n",
       "      <th>sqft_living_8000</th>\n",
       "      <th>sqft_living_8010</th>\n",
       "      <th>sqft_living_8020</th>\n",
       "      <th>sqft_living_8670</th>\n",
       "      <th>sqft_living_9200</th>\n",
       "      <th>sqft_living_9640</th>\n",
       "      <th>sqft_living_9890</th>\n",
       "      <th>sqft_living_10040</th>\n",
       "      <th>sqft_living_12050</th>\n",
       "      <th>sqft_living_13540</th>\n",
       "    </tr>\n",
       "  </thead>\n",
       "  <tbody>\n",
       "    <tr>\n",
       "      <th>0</th>\n",
       "      <td>1000102</td>\n",
       "      <td>20150422T000000</td>\n",
       "      <td>0</td>\n",
       "      <td>6</td>\n",
       "      <td>3.00</td>\n",
       "      <td>9373</td>\n",
       "      <td>2.0</td>\n",
       "      <td>0</td>\n",
       "      <td>0</td>\n",
       "      <td>3</td>\n",
       "      <td>...</td>\n",
       "      <td>0</td>\n",
       "      <td>0</td>\n",
       "      <td>0</td>\n",
       "      <td>0</td>\n",
       "      <td>0</td>\n",
       "      <td>0</td>\n",
       "      <td>0</td>\n",
       "      <td>0</td>\n",
       "      <td>0</td>\n",
       "      <td>0</td>\n",
       "    </tr>\n",
       "    <tr>\n",
       "      <th>1</th>\n",
       "      <td>1200019</td>\n",
       "      <td>20140508T000000</td>\n",
       "      <td>1</td>\n",
       "      <td>4</td>\n",
       "      <td>1.75</td>\n",
       "      <td>26036</td>\n",
       "      <td>1.0</td>\n",
       "      <td>0</td>\n",
       "      <td>0</td>\n",
       "      <td>4</td>\n",
       "      <td>...</td>\n",
       "      <td>0</td>\n",
       "      <td>0</td>\n",
       "      <td>0</td>\n",
       "      <td>0</td>\n",
       "      <td>0</td>\n",
       "      <td>0</td>\n",
       "      <td>0</td>\n",
       "      <td>0</td>\n",
       "      <td>0</td>\n",
       "      <td>0</td>\n",
       "    </tr>\n",
       "    <tr>\n",
       "      <th>2</th>\n",
       "      <td>1200021</td>\n",
       "      <td>20140811T000000</td>\n",
       "      <td>0</td>\n",
       "      <td>3</td>\n",
       "      <td>1.00</td>\n",
       "      <td>43000</td>\n",
       "      <td>1.0</td>\n",
       "      <td>0</td>\n",
       "      <td>0</td>\n",
       "      <td>3</td>\n",
       "      <td>...</td>\n",
       "      <td>0</td>\n",
       "      <td>0</td>\n",
       "      <td>0</td>\n",
       "      <td>0</td>\n",
       "      <td>0</td>\n",
       "      <td>0</td>\n",
       "      <td>0</td>\n",
       "      <td>0</td>\n",
       "      <td>0</td>\n",
       "      <td>0</td>\n",
       "    </tr>\n",
       "    <tr>\n",
       "      <th>3</th>\n",
       "      <td>2800031</td>\n",
       "      <td>20150401T000000</td>\n",
       "      <td>0</td>\n",
       "      <td>3</td>\n",
       "      <td>1.00</td>\n",
       "      <td>7599</td>\n",
       "      <td>1.5</td>\n",
       "      <td>0</td>\n",
       "      <td>0</td>\n",
       "      <td>4</td>\n",
       "      <td>...</td>\n",
       "      <td>0</td>\n",
       "      <td>0</td>\n",
       "      <td>0</td>\n",
       "      <td>0</td>\n",
       "      <td>0</td>\n",
       "      <td>0</td>\n",
       "      <td>0</td>\n",
       "      <td>0</td>\n",
       "      <td>0</td>\n",
       "      <td>0</td>\n",
       "    </tr>\n",
       "    <tr>\n",
       "      <th>4</th>\n",
       "      <td>3600057</td>\n",
       "      <td>20150319T000000</td>\n",
       "      <td>0</td>\n",
       "      <td>4</td>\n",
       "      <td>2.00</td>\n",
       "      <td>3504</td>\n",
       "      <td>1.0</td>\n",
       "      <td>0</td>\n",
       "      <td>0</td>\n",
       "      <td>3</td>\n",
       "      <td>...</td>\n",
       "      <td>0</td>\n",
       "      <td>0</td>\n",
       "      <td>0</td>\n",
       "      <td>0</td>\n",
       "      <td>0</td>\n",
       "      <td>0</td>\n",
       "      <td>0</td>\n",
       "      <td>0</td>\n",
       "      <td>0</td>\n",
       "      <td>0</td>\n",
       "    </tr>\n",
       "  </tbody>\n",
       "</table>\n",
       "<p>5 rows × 1058 columns</p>\n",
       "</div>"
      ],
      "text/plain": [
       "        id             date  high_price  bedrooms  bathrooms  sqft_lot  \\\n",
       "0  1000102  20150422T000000           0         6       3.00      9373   \n",
       "1  1200019  20140508T000000           1         4       1.75     26036   \n",
       "2  1200021  20140811T000000           0         3       1.00     43000   \n",
       "3  2800031  20150401T000000           0         3       1.00      7599   \n",
       "4  3600057  20150319T000000           0         4       2.00      3504   \n",
       "\n",
       "   floors  waterfront  view  condition  ...  sqft_living_8000  \\\n",
       "0     2.0           0     0          3  ...                 0   \n",
       "1     1.0           0     0          4  ...                 0   \n",
       "2     1.0           0     0          3  ...                 0   \n",
       "3     1.5           0     0          4  ...                 0   \n",
       "4     1.0           0     0          3  ...                 0   \n",
       "\n",
       "   sqft_living_8010  sqft_living_8020  sqft_living_8670  sqft_living_9200  \\\n",
       "0                 0                 0                 0                 0   \n",
       "1                 0                 0                 0                 0   \n",
       "2                 0                 0                 0                 0   \n",
       "3                 0                 0                 0                 0   \n",
       "4                 0                 0                 0                 0   \n",
       "\n",
       "   sqft_living_9640  sqft_living_9890  sqft_living_10040  sqft_living_12050  \\\n",
       "0                 0                 0                  0                  0   \n",
       "1                 0                 0                  0                  0   \n",
       "2                 0                 0                  0                  0   \n",
       "3                 0                 0                  0                  0   \n",
       "4                 0                 0                  0                  0   \n",
       "\n",
       "   sqft_living_13540  \n",
       "0                  0  \n",
       "1                  0  \n",
       "2                  0  \n",
       "3                  0  \n",
       "4                  0  \n",
       "\n",
       "[5 rows x 1058 columns]"
      ]
     },
     "execution_count": 15,
     "metadata": {},
     "output_type": "execute_result"
    }
   ],
   "source": [
    "#create dummy variables for categorical features (X)\n",
    "df_features = pd.get_dummies(df,columns=['sqft_living'])\n",
    "df_features.head()"
   ]
  },
  {
   "cell_type": "markdown",
   "id": "50508320",
   "metadata": {},
   "source": [
    "#### Create (DV) The y matrics from dataframe where y=high_price"
   ]
  },
  {
   "cell_type": "markdown",
   "id": "85edd77e",
   "metadata": {},
   "source": [
    "#### Create (IV) The X matrics from dataframe"
   ]
  },
  {
   "cell_type": "code",
   "execution_count": 16,
   "id": "a9a5e8d2",
   "metadata": {},
   "outputs": [],
   "source": [
    "#set target and drop unuseful columns\n",
    "y = df_features['high_price']\n",
    "df_features = pd.concat([df, df_features], axis=1).drop('sqft_living', axis=1)\n",
    "X = df_features.drop('high_price', axis=1)"
   ]
  },
  {
   "cell_type": "markdown",
   "id": "d7b27af1",
   "metadata": {},
   "source": [
    "#### Drop the following columns because they do not contribute towards making predictions"
   ]
  },
  {
   "cell_type": "code",
   "execution_count": 17,
   "id": "b78f05e9",
   "metadata": {},
   "outputs": [],
   "source": [
    "X = X.drop(['id','date','lat','long'], axis=1)"
   ]
  },
  {
   "cell_type": "code",
   "execution_count": 18,
   "id": "37899f60",
   "metadata": {},
   "outputs": [
    {
     "data": {
      "text/html": [
       "<div>\n",
       "<style scoped>\n",
       "    .dataframe tbody tr th:only-of-type {\n",
       "        vertical-align: middle;\n",
       "    }\n",
       "\n",
       "    .dataframe tbody tr th {\n",
       "        vertical-align: top;\n",
       "    }\n",
       "\n",
       "    .dataframe thead th {\n",
       "        text-align: right;\n",
       "    }\n",
       "</style>\n",
       "<table border=\"1\" class=\"dataframe\">\n",
       "  <thead>\n",
       "    <tr style=\"text-align: right;\">\n",
       "      <th></th>\n",
       "      <th>bedrooms</th>\n",
       "      <th>bathrooms</th>\n",
       "      <th>sqft_lot</th>\n",
       "      <th>floors</th>\n",
       "      <th>waterfront</th>\n",
       "      <th>view</th>\n",
       "      <th>condition</th>\n",
       "      <th>grade</th>\n",
       "      <th>sqft_above</th>\n",
       "      <th>sqft_basement</th>\n",
       "      <th>...</th>\n",
       "      <th>sqft_living_8000</th>\n",
       "      <th>sqft_living_8010</th>\n",
       "      <th>sqft_living_8020</th>\n",
       "      <th>sqft_living_8670</th>\n",
       "      <th>sqft_living_9200</th>\n",
       "      <th>sqft_living_9640</th>\n",
       "      <th>sqft_living_9890</th>\n",
       "      <th>sqft_living_10040</th>\n",
       "      <th>sqft_living_12050</th>\n",
       "      <th>sqft_living_13540</th>\n",
       "    </tr>\n",
       "  </thead>\n",
       "  <tbody>\n",
       "    <tr>\n",
       "      <th>0</th>\n",
       "      <td>6</td>\n",
       "      <td>3.00</td>\n",
       "      <td>9373</td>\n",
       "      <td>2.0</td>\n",
       "      <td>0</td>\n",
       "      <td>0</td>\n",
       "      <td>3</td>\n",
       "      <td>7</td>\n",
       "      <td>1</td>\n",
       "      <td>0</td>\n",
       "      <td>...</td>\n",
       "      <td>0</td>\n",
       "      <td>0</td>\n",
       "      <td>0</td>\n",
       "      <td>0</td>\n",
       "      <td>0</td>\n",
       "      <td>0</td>\n",
       "      <td>0</td>\n",
       "      <td>0</td>\n",
       "      <td>0</td>\n",
       "      <td>0</td>\n",
       "    </tr>\n",
       "    <tr>\n",
       "      <th>1</th>\n",
       "      <td>4</td>\n",
       "      <td>1.75</td>\n",
       "      <td>26036</td>\n",
       "      <td>1.0</td>\n",
       "      <td>0</td>\n",
       "      <td>0</td>\n",
       "      <td>4</td>\n",
       "      <td>8</td>\n",
       "      <td>0</td>\n",
       "      <td>1</td>\n",
       "      <td>...</td>\n",
       "      <td>0</td>\n",
       "      <td>0</td>\n",
       "      <td>0</td>\n",
       "      <td>0</td>\n",
       "      <td>0</td>\n",
       "      <td>0</td>\n",
       "      <td>0</td>\n",
       "      <td>0</td>\n",
       "      <td>0</td>\n",
       "      <td>0</td>\n",
       "    </tr>\n",
       "    <tr>\n",
       "      <th>2</th>\n",
       "      <td>3</td>\n",
       "      <td>1.00</td>\n",
       "      <td>43000</td>\n",
       "      <td>1.0</td>\n",
       "      <td>0</td>\n",
       "      <td>0</td>\n",
       "      <td>3</td>\n",
       "      <td>7</td>\n",
       "      <td>0</td>\n",
       "      <td>0</td>\n",
       "      <td>...</td>\n",
       "      <td>0</td>\n",
       "      <td>0</td>\n",
       "      <td>0</td>\n",
       "      <td>0</td>\n",
       "      <td>0</td>\n",
       "      <td>0</td>\n",
       "      <td>0</td>\n",
       "      <td>0</td>\n",
       "      <td>0</td>\n",
       "      <td>0</td>\n",
       "    </tr>\n",
       "    <tr>\n",
       "      <th>3</th>\n",
       "      <td>3</td>\n",
       "      <td>1.00</td>\n",
       "      <td>7599</td>\n",
       "      <td>1.5</td>\n",
       "      <td>0</td>\n",
       "      <td>0</td>\n",
       "      <td>4</td>\n",
       "      <td>6</td>\n",
       "      <td>0</td>\n",
       "      <td>1</td>\n",
       "      <td>...</td>\n",
       "      <td>0</td>\n",
       "      <td>0</td>\n",
       "      <td>0</td>\n",
       "      <td>0</td>\n",
       "      <td>0</td>\n",
       "      <td>0</td>\n",
       "      <td>0</td>\n",
       "      <td>0</td>\n",
       "      <td>0</td>\n",
       "      <td>0</td>\n",
       "    </tr>\n",
       "    <tr>\n",
       "      <th>4</th>\n",
       "      <td>4</td>\n",
       "      <td>2.00</td>\n",
       "      <td>3504</td>\n",
       "      <td>1.0</td>\n",
       "      <td>0</td>\n",
       "      <td>0</td>\n",
       "      <td>3</td>\n",
       "      <td>7</td>\n",
       "      <td>0</td>\n",
       "      <td>1</td>\n",
       "      <td>...</td>\n",
       "      <td>0</td>\n",
       "      <td>0</td>\n",
       "      <td>0</td>\n",
       "      <td>0</td>\n",
       "      <td>0</td>\n",
       "      <td>0</td>\n",
       "      <td>0</td>\n",
       "      <td>0</td>\n",
       "      <td>0</td>\n",
       "      <td>0</td>\n",
       "    </tr>\n",
       "  </tbody>\n",
       "</table>\n",
       "<p>5 rows × 1068 columns</p>\n",
       "</div>"
      ],
      "text/plain": [
       "   bedrooms  bathrooms  sqft_lot  floors  waterfront  view  condition  grade  \\\n",
       "0         6       3.00      9373     2.0           0     0          3      7   \n",
       "1         4       1.75     26036     1.0           0     0          4      8   \n",
       "2         3       1.00     43000     1.0           0     0          3      7   \n",
       "3         3       1.00      7599     1.5           0     0          4      6   \n",
       "4         4       2.00      3504     1.0           0     0          3      7   \n",
       "\n",
       "   sqft_above  sqft_basement  ...  sqft_living_8000  sqft_living_8010  \\\n",
       "0           1              0  ...                 0                 0   \n",
       "1           0              1  ...                 0                 0   \n",
       "2           0              0  ...                 0                 0   \n",
       "3           0              1  ...                 0                 0   \n",
       "4           0              1  ...                 0                 0   \n",
       "\n",
       "   sqft_living_8020  sqft_living_8670  sqft_living_9200  sqft_living_9640  \\\n",
       "0                 0                 0                 0                 0   \n",
       "1                 0                 0                 0                 0   \n",
       "2                 0                 0                 0                 0   \n",
       "3                 0                 0                 0                 0   \n",
       "4                 0                 0                 0                 0   \n",
       "\n",
       "   sqft_living_9890  sqft_living_10040  sqft_living_12050  sqft_living_13540  \n",
       "0                 0                  0                  0                  0  \n",
       "1                 0                  0                  0                  0  \n",
       "2                 0                  0                  0                  0  \n",
       "3                 0                  0                  0                  0  \n",
       "4                 0                  0                  0                  0  \n",
       "\n",
       "[5 rows x 1068 columns]"
      ]
     },
     "execution_count": 18,
     "metadata": {},
     "output_type": "execute_result"
    }
   ],
   "source": [
    "X.head()"
   ]
  },
  {
   "cell_type": "markdown",
   "id": "df987c6f",
   "metadata": {},
   "source": [
    "## Predictive Models"
   ]
  },
  {
   "cell_type": "markdown",
   "id": "f868c7f7",
   "metadata": {},
   "source": [
    "Load Machine Learning Libraries\n",
    "\n",
    "Apply the following Classification models\n",
    "\n",
    "* Random Forest\n",
    "* K nearest neighbors"
   ]
  },
  {
   "cell_type": "code",
   "execution_count": 19,
   "id": "27280a25",
   "metadata": {},
   "outputs": [],
   "source": [
    "from sklearn.preprocessing import StandardScaler\n",
    "from sklearn.model_selection import train_test_split\n",
    "from sklearn.metrics import confusion_matrix\n",
    "from sklearn.ensemble import RandomForestClassifier\n",
    "from sklearn.neighbors import KNeighborsClassifier"
   ]
  },
  {
   "cell_type": "markdown",
   "id": "13bc489c",
   "metadata": {},
   "source": [
    "### Split the X and y into 70/30 training and testing data subsets"
   ]
  },
  {
   "cell_type": "code",
   "execution_count": 20,
   "id": "becda11e",
   "metadata": {},
   "outputs": [],
   "source": [
    "#train test split\n",
    "X_train, X_test, y_train, y_test=train_test_split(X, y, test_size=0.30, random_state=42)"
   ]
  },
  {
   "cell_type": "markdown",
   "id": "376efad3",
   "metadata": {},
   "source": [
    "## Feature Scaling For Standardization"
   ]
  },
  {
   "cell_type": "code",
   "execution_count": 21,
   "id": "a70adfac",
   "metadata": {},
   "outputs": [],
   "source": [
    "sc_X=StandardScaler()\n",
    "X_train = sc_X.fit_transform(X_train)\n",
    "X_test = sc_X.transform(X_test)"
   ]
  },
  {
   "cell_type": "markdown",
   "id": "acc499e5",
   "metadata": {},
   "source": [
    "## Training a Random Forrest"
   ]
  },
  {
   "cell_type": "code",
   "execution_count": 22,
   "id": "b594bb05",
   "metadata": {},
   "outputs": [
    {
     "data": {
      "text/plain": [
       "RandomForestClassifier()"
      ]
     },
     "execution_count": 22,
     "metadata": {},
     "output_type": "execute_result"
    }
   ],
   "source": [
    "rfc = RandomForestClassifier(n_estimators=100)\n",
    "rfc.fit(X_train, y_train)"
   ]
  },
  {
   "cell_type": "code",
   "execution_count": 23,
   "id": "0853afe3",
   "metadata": {},
   "outputs": [],
   "source": [
    "rfc_pred = rfc.predict(X_test)"
   ]
  },
  {
   "cell_type": "code",
   "execution_count": 24,
   "id": "28f992b4",
   "metadata": {},
   "outputs": [
    {
     "name": "stdout",
     "output_type": "stream",
     "text": [
      "[[4609  166]\n",
      " [ 464 1192]]\n"
     ]
    }
   ],
   "source": [
    "print(confusion_matrix(y_test, rfc_pred))"
   ]
  },
  {
   "cell_type": "markdown",
   "id": "011f0f32",
   "metadata": {},
   "source": [
    "#### Accuracy of our model is equal 90 %."
   ]
  },
  {
   "cell_type": "code",
   "execution_count": 25,
   "id": "dfcfc2a8",
   "metadata": {},
   "outputs": [
    {
     "name": "stdout",
     "output_type": "stream",
     "text": [
      "              precision    recall  f1-score   support\n",
      "\n",
      "           0       0.91      0.97      0.94      4775\n",
      "           1       0.88      0.72      0.79      1656\n",
      "\n",
      "    accuracy                           0.90      6431\n",
      "   macro avg       0.89      0.84      0.86      6431\n",
      "weighted avg       0.90      0.90      0.90      6431\n",
      "\n"
     ]
    }
   ],
   "source": [
    "from sklearn.metrics import classification_report\n",
    "print(classification_report(y_test, rfc_pred))"
   ]
  },
  {
   "cell_type": "markdown",
   "id": "1a943f55",
   "metadata": {},
   "source": [
    "## Training a K Nearest Neighbors"
   ]
  },
  {
   "cell_type": "code",
   "execution_count": 26,
   "id": "cd12de23",
   "metadata": {},
   "outputs": [],
   "source": [
    "test_scores = []\n",
    "train_scores = []\n",
    "\n",
    "for i in range(1,10):\n",
    "\n",
    "    knn = KNeighborsClassifier(i)\n",
    "    knn.fit(X_train,y_train)\n",
    "    \n",
    "    train_scores.append(knn.score(X_train,y_train))\n",
    "    test_scores.append(knn.score(X_test,y_test))"
   ]
  },
  {
   "cell_type": "markdown",
   "id": "2d767dcd",
   "metadata": {},
   "source": [
    "#### Print the train and test scores for each iteration."
   ]
  },
  {
   "cell_type": "code",
   "execution_count": 27,
   "id": "a4e5ca66",
   "metadata": {},
   "outputs": [
    {
     "name": "stdout",
     "output_type": "stream",
     "text": [
      "[0.8126263411600062, 0.8148032965324211, 0.835795366194993, 0.8263100606437568, 0.8343958948841549, 0.824133105271342, 0.8292645000777484, 0.8165137614678899, 0.8211786658373503]\n",
      "[1.0, 0.8951682772409197, 0.9026324558480506, 0.869843385538154, 0.8755081639453516, 0.8558480506497834, 0.8590469843385539, 0.8435854715094968, 0.8454515161612796]\n"
     ]
    }
   ],
   "source": [
    "print(test_scores)\n",
    "print(train_scores)"
   ]
  },
  {
   "cell_type": "markdown",
   "id": "2270864b",
   "metadata": {},
   "source": [
    "#### Identify the number of neighbors that resulted in the max score in the training dataset."
   ]
  },
  {
   "cell_type": "code",
   "execution_count": 28,
   "id": "1c5a8575",
   "metadata": {},
   "outputs": [
    {
     "name": "stdout",
     "output_type": "stream",
     "text": [
      "The Max train_score: 100%\n"
     ]
    }
   ],
   "source": [
    "max_score = max(train_scores)\n",
    "print('The Max train_score:',\"{:.0%}\".format(max_score))"
   ]
  },
  {
   "cell_type": "markdown",
   "id": "2e1a106b",
   "metadata": {},
   "source": [
    "#### Identify the number of neighbors that resulted in the max score in the testing dataset."
   ]
  },
  {
   "cell_type": "code",
   "execution_count": 29,
   "id": "8a7d09d8",
   "metadata": {},
   "outputs": [
    {
     "name": "stdout",
     "output_type": "stream",
     "text": [
      "The Max test_score: 84%\n"
     ]
    }
   ],
   "source": [
    "max_tscore = max(test_scores)\n",
    "print('The Max test_score:',\"{:.0%}\".format(max_tscore))"
   ]
  },
  {
   "cell_type": "markdown",
   "id": "80bf5c2e",
   "metadata": {},
   "source": [
    "#### Plot the train and test model performance by number of neighbors."
   ]
  },
  {
   "cell_type": "code",
   "execution_count": 30,
   "id": "54599640",
   "metadata": {},
   "outputs": [
    {
     "name": "stderr",
     "output_type": "stream",
     "text": [
      "C:\\ProgramData\\Anaconda3\\lib\\site-packages\\seaborn\\_decorators.py:36: FutureWarning: Pass the following variables as keyword args: x, y. From version 0.12, the only valid positional argument will be `data`, and passing other arguments without an explicit keyword will result in an error or misinterpretation.\n",
      "  warnings.warn(\n",
      "C:\\ProgramData\\Anaconda3\\lib\\site-packages\\seaborn\\_decorators.py:36: FutureWarning: Pass the following variables as keyword args: x, y. From version 0.12, the only valid positional argument will be `data`, and passing other arguments without an explicit keyword will result in an error or misinterpretation.\n",
      "  warnings.warn(\n"
     ]
    },
    {
     "data": {
      "image/png": "[encoded data removed]",
      "text/plain": [
       "<Figure size 864x360 with 1 Axes>"
      ]
     },
     "metadata": {
      "needs_background": "light"
     },
     "output_type": "display_data"
    }
   ],
   "source": [
    "plt.figure(figsize=(12,5))\n",
    "p = sns.lineplot(range(1,10),train_scores,marker='*',label='Train Score')\n",
    "p = sns.lineplot(range(1,10),test_scores,marker='o',label='Test Score')"
   ]
  },
  {
   "cell_type": "markdown",
   "id": "2a4bacaa",
   "metadata": {},
   "source": [
    "#### Fit and score the best number of neighbors based on the plot."
   ]
  },
  {
   "cell_type": "code",
   "execution_count": 31,
   "id": "3297ebaa",
   "metadata": {},
   "outputs": [
    {
     "data": {
      "text/plain": [
       "0.8172912455294666"
      ]
     },
     "execution_count": 31,
     "metadata": {},
     "output_type": "execute_result"
    }
   ],
   "source": [
    "knn = KNeighborsClassifier(n_neighbors=11)\n",
    "knn.fit(X_train, y_train)\n",
    "knn.score(X_test, y_test)"
   ]
  },
  {
   "cell_type": "markdown",
   "id": "973f6497",
   "metadata": {},
   "source": [
    "#### Plot the confusion matrix for the model fit above."
   ]
  },
  {
   "cell_type": "code",
   "execution_count": 32,
   "id": "5c99e05d",
   "metadata": {},
   "outputs": [
    {
     "data": {
      "image/png": "[encoded data removed]",
      "text/plain": [
       "<Figure size 540x540 with 1 Axes>"
      ]
     },
     "metadata": {
      "needs_background": "light"
     },
     "output_type": "display_data"
    }
   ],
   "source": [
    "from sklearn.metrics import confusion_matrix\n",
    "y_pred = knn.predict(X_test)\n",
    "conf_matrix = confusion_matrix(y_true=y_test, y_pred=y_pred)\n",
    "fig, ax = plt.subplots(figsize=(7.5, 7.5))\n",
    "ax.matshow(conf_matrix, cmap=plt.cm.Blues, alpha=0.3)\n",
    "for i in range(conf_matrix.shape[0]):\n",
    "    for j in range(conf_matrix.shape[1]):\n",
    "        ax.text(x=j, y=i,s=conf_matrix[i, j], va='center', ha='center', size='xx-large')\n",
    " \n",
    "plt.xlabel('Predictions', fontsize=18)\n",
    "plt.ylabel('Actuals', fontsize=18)\n",
    "plt.title('Confusion Matrix', fontsize=18)\n",
    "plt.show()"
   ]
  },
  {
   "cell_type": "markdown",
   "id": "6f9067a6",
   "metadata": {},
   "source": [
    "#### NOTE: Confusion Matrix Break down\n",
    "\n",
    "N = 6431\n",
    "\n",
    "TN & FN is the Predicted NO\n",
    "\n",
    "FP & TP is the Predicted YES\n",
    "\n",
    "Accuracy:\n",
    "    (TN+TP)/N\n",
    "    (4537 + 719)/6431 = 82%\n",
    "    \n",
    "Misclassification Rate:\n",
    "    (FP +FN)/N\n",
    "    (937 + 238)/6431 = 0.18%"
   ]
  },
  {
   "cell_type": "markdown",
   "id": "12d30e25",
   "metadata": {},
   "source": [
    "### Print the classification report"
   ]
  },
  {
   "cell_type": "code",
   "execution_count": 33,
   "id": "5f73f056",
   "metadata": {},
   "outputs": [
    {
     "name": "stdout",
     "output_type": "stream",
     "text": [
      "              precision    recall  f1-score   support\n",
      "\n",
      "           0       0.83      0.95      0.89      4775\n",
      "           1       0.75      0.43      0.55      1656\n",
      "\n",
      "    accuracy                           0.82      6431\n",
      "   macro avg       0.79      0.69      0.72      6431\n",
      "weighted avg       0.81      0.82      0.80      6431\n",
      "\n"
     ]
    }
   ],
   "source": [
    "from sklearn.metrics import classification_report\n",
    "print(classification_report(y_test,y_pred))"
   ]
  },
  {
   "cell_type": "code",
   "execution_count": 34,
   "id": "3268e48b",
   "metadata": {},
   "outputs": [
    {
     "data": {
      "text/plain": [
       "GridSearchCV(cv=5, estimator=KNeighborsClassifier(),\n",
       "             param_grid={'n_neighbors': array([ 1,  2,  3,  4,  5,  6,  7,  8,  9, 10, 11, 12, 13, 14, 15, 16, 17,\n",
       "       18, 19, 20, 21, 22, 23, 24, 25, 26, 27, 28, 29, 30, 31, 32, 33, 34,\n",
       "       35, 36, 37, 38, 39, 40, 41, 42, 43, 44, 45, 46, 47, 48, 49])})"
      ]
     },
     "execution_count": 34,
     "metadata": {},
     "output_type": "execute_result"
    }
   ],
   "source": [
    "from sklearn.model_selection import GridSearchCV\n",
    "param_grid = {'n_neighbors':np.arange(1,50)}\n",
    "knn = KNeighborsClassifier()\n",
    "knn_cv= GridSearchCV(knn,param_grid,cv=5)\n",
    "knn_cv.fit(X,y)"
   ]
  },
  {
   "cell_type": "markdown",
   "id": "0d480ca3",
   "metadata": {},
   "source": [
    "### Print the best score and best parameter for n_neighbors."
   ]
  },
  {
   "cell_type": "code",
   "execution_count": 35,
   "id": "285d6754",
   "metadata": {},
   "outputs": [
    {
     "name": "stdout",
     "output_type": "stream",
     "text": [
      "Best Score:0.8066342970243255\n",
      "Best Parameters: {'n_neighbors': 20}\n"
     ]
    }
   ],
   "source": [
    "print(\"Best Score:\" + str(knn_cv.best_score_))\n",
    "print(\"Best Parameters: \" + str(knn_cv.best_params_))"
   ]
  },
  {
   "cell_type": "code",
   "execution_count": 36,
   "id": "b2d05b7e",
   "metadata": {},
   "outputs": [
    {
     "data": {
      "text/plain": [
       "GridSearchCV(estimator=KNeighborsClassifier(),\n",
       "             param_grid=[{'n_neighbors': array([ 1,  2,  3,  4,  5,  6,  7,  8,  9, 10, 11, 12, 13, 14, 15, 16, 17,\n",
       "       18, 19, 20, 21, 22, 23, 24, 25, 26, 27, 28, 29, 30, 31, 32, 33, 34,\n",
       "       35, 36, 37, 38, 39, 40, 41, 42, 43, 44, 45, 46, 47, 48, 49])}],\n",
       "             scoring='r2')"
      ]
     },
     "execution_count": 36,
     "metadata": {},
     "output_type": "execute_result"
    }
   ],
   "source": [
    "from sklearn.model_selection import GridSearchCV\n",
    "\n",
    "# Define our candidate hyperparameters\n",
    "hp_candidates = [{'n_neighbors': np.arange(1,50)}]\n",
    "# Search for best hyperparameters\n",
    "grid = GridSearchCV(knn, param_grid=hp_candidates, scoring='r2')\n",
    "grid.fit(X, y)"
   ]
  },
  {
   "cell_type": "code",
   "execution_count": 37,
   "id": "72726879",
   "metadata": {},
   "outputs": [
    {
     "name": "stdout",
     "output_type": "stream",
     "text": [
      "-0.031662590409298155\n",
      "KNeighborsClassifier(n_neighbors=20)\n",
      "{'n_neighbors': 20}\n"
     ]
    }
   ],
   "source": [
    "# Get the results\n",
    "print(grid.best_score_)\n",
    "print(grid.best_estimator_)\n",
    "print(grid.best_params_)"
   ]
  },
  {
   "cell_type": "code",
   "execution_count": 38,
   "id": "05bc1948",
   "metadata": {},
   "outputs": [
    {
     "name": "stdout",
     "output_type": "stream",
     "text": [
      "Best Score:0.8066342970243255\n"
     ]
    }
   ],
   "source": [
    "print(\"Best Score:\" + str(knn_cv.best_score_))"
   ]
  },
  {
   "cell_type": "markdown",
   "id": "8a9293b4",
   "metadata": {},
   "source": [
    "Summary:\n",
    "    Scaling the features, generating new features with KNN model with hyperparameter tuning led to the most accurate predictions with the least missclassification. The result was a score of 82% accuracy.\n",
    "This model can be used as a guide when determining house price estimates for Seattle since it leads to reasonable predictions."
   ]
  },
  {
   "cell_type": "code",
   "execution_count": null,
   "id": "862dafca",
   "metadata": {},
   "outputs": [],
   "source": [
    "See link to: Housing Marketing Regression Model : "
   ]
  }
 ],
 "metadata": {
  "kernelspec": {
   "display_name": "Python 3",
   "language": "python",
   "name": "python3"
  },
  "language_info": {
   "codemirror_mode": {
    "name": "ipython",
    "version": 3
   },
   "file_extension": ".py",
   "mimetype": "text/x-python",
   "name": "python",
   "nbconvert_exporter": "python",
   "pygments_lexer": "ipython3",
   "version": "3.8.8"
  }
 },
 "nbformat": 4,
 "nbformat_minor": 5
}
