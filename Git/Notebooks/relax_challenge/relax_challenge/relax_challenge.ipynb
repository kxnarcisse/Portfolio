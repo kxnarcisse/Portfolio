{
 "cells": [
  {
   "cell_type": "markdown",
   "id": "cb53bb03",
   "metadata": {},
   "source": [
    "## Relax_Challenge Take Home"
   ]
  },
  {
   "cell_type": "markdown",
   "id": "c51f66ba",
   "metadata": {},
   "source": [
    "## 1. Data wrangling"
   ]
  },
  {
   "cell_type": "markdown",
   "id": "875f239c",
   "metadata": {},
   "source": [
    "### Loading Libraries"
   ]
  },
  {
   "cell_type": "code",
   "execution_count": 1,
   "id": "170c1d04",
   "metadata": {},
   "outputs": [],
   "source": [
    "import numpy as np\n",
    "import pandas as pd\n",
    "import matplotlib.pyplot as plt\n",
    "import statsmodels.api as sm\n",
    "import seaborn as sns\n",
    "sns.set()"
   ]
  },
  {
   "cell_type": "markdown",
   "id": "5840f3aa",
   "metadata": {},
   "source": [
    "#### Examine  - User DataSet"
   ]
  },
  {
   "cell_type": "code",
   "execution_count": 2,
   "id": "39c42625",
   "metadata": {},
   "outputs": [
    {
     "name": "stdout",
     "output_type": "stream",
     "text": [
      "(207917, 3)\n"
     ]
    },
    {
     "data": {
      "text/html": [
       "<div>\n",
       "<style scoped>\n",
       "    .dataframe tbody tr th:only-of-type {\n",
       "        vertical-align: middle;\n",
       "    }\n",
       "\n",
       "    .dataframe tbody tr th {\n",
       "        vertical-align: top;\n",
       "    }\n",
       "\n",
       "    .dataframe thead th {\n",
       "        text-align: right;\n",
       "    }\n",
       "</style>\n",
       "<table border=\"1\" class=\"dataframe\">\n",
       "  <thead>\n",
       "    <tr style=\"text-align: right;\">\n",
       "      <th></th>\n",
       "      <th>time_stamp</th>\n",
       "      <th>user_id</th>\n",
       "      <th>visited</th>\n",
       "    </tr>\n",
       "  </thead>\n",
       "  <tbody>\n",
       "    <tr>\n",
       "      <th>0</th>\n",
       "      <td>2014-04-22 03:53:30</td>\n",
       "      <td>1</td>\n",
       "      <td>1</td>\n",
       "    </tr>\n",
       "    <tr>\n",
       "      <th>1</th>\n",
       "      <td>2013-11-15 03:45:04</td>\n",
       "      <td>2</td>\n",
       "      <td>1</td>\n",
       "    </tr>\n",
       "    <tr>\n",
       "      <th>2</th>\n",
       "      <td>2013-11-29 03:45:04</td>\n",
       "      <td>2</td>\n",
       "      <td>1</td>\n",
       "    </tr>\n",
       "    <tr>\n",
       "      <th>3</th>\n",
       "      <td>2013-12-09 03:45:04</td>\n",
       "      <td>2</td>\n",
       "      <td>1</td>\n",
       "    </tr>\n",
       "    <tr>\n",
       "      <th>4</th>\n",
       "      <td>2013-12-25 03:45:04</td>\n",
       "      <td>2</td>\n",
       "      <td>1</td>\n",
       "    </tr>\n",
       "  </tbody>\n",
       "</table>\n",
       "</div>"
      ],
      "text/plain": [
       "            time_stamp  user_id  visited\n",
       "0  2014-04-22 03:53:30        1        1\n",
       "1  2013-11-15 03:45:04        2        1\n",
       "2  2013-11-29 03:45:04        2        1\n",
       "3  2013-12-09 03:45:04        2        1\n",
       "4  2013-12-25 03:45:04        2        1"
      ]
     },
     "execution_count": 2,
     "metadata": {},
     "output_type": "execute_result"
    }
   ],
   "source": [
    "#read the user engagement data\n",
    "df = pd.read_csv('takehome_user_engagement.csv')\n",
    "print(df.shape)\n",
    "df.head()"
   ]
  },
  {
   "cell_type": "code",
   "execution_count": 3,
   "id": "45b897ad",
   "metadata": {},
   "outputs": [
    {
     "name": "stdout",
     "output_type": "stream",
     "text": [
      "<class 'pandas.core.frame.DataFrame'>\n",
      "RangeIndex: 207917 entries, 0 to 207916\n",
      "Data columns (total 3 columns):\n",
      " #   Column      Non-Null Count   Dtype \n",
      "---  ------      --------------   ----- \n",
      " 0   time_stamp  207917 non-null  object\n",
      " 1   user_id     207917 non-null  int64 \n",
      " 2   visited     207917 non-null  int64 \n",
      "dtypes: int64(2), object(1)\n",
      "memory usage: 4.8+ MB\n"
     ]
    }
   ],
   "source": [
    "df.info()"
   ]
  },
  {
   "cell_type": "code",
   "execution_count": 4,
   "id": "53f99919",
   "metadata": {},
   "outputs": [
    {
     "data": {
      "text/html": [
       "<div>\n",
       "<style scoped>\n",
       "    .dataframe tbody tr th:only-of-type {\n",
       "        vertical-align: middle;\n",
       "    }\n",
       "\n",
       "    .dataframe tbody tr th {\n",
       "        vertical-align: top;\n",
       "    }\n",
       "\n",
       "    .dataframe thead th {\n",
       "        text-align: right;\n",
       "    }\n",
       "</style>\n",
       "<table border=\"1\" class=\"dataframe\">\n",
       "  <thead>\n",
       "    <tr style=\"text-align: right;\">\n",
       "      <th></th>\n",
       "      <th>user_id</th>\n",
       "      <th>visited</th>\n",
       "    </tr>\n",
       "  </thead>\n",
       "  <tbody>\n",
       "    <tr>\n",
       "      <th>count</th>\n",
       "      <td>207917.000000</td>\n",
       "      <td>207917.0</td>\n",
       "    </tr>\n",
       "    <tr>\n",
       "      <th>mean</th>\n",
       "      <td>5913.314197</td>\n",
       "      <td>1.0</td>\n",
       "    </tr>\n",
       "    <tr>\n",
       "      <th>std</th>\n",
       "      <td>3394.941674</td>\n",
       "      <td>0.0</td>\n",
       "    </tr>\n",
       "    <tr>\n",
       "      <th>min</th>\n",
       "      <td>1.000000</td>\n",
       "      <td>1.0</td>\n",
       "    </tr>\n",
       "    <tr>\n",
       "      <th>25%</th>\n",
       "      <td>3087.000000</td>\n",
       "      <td>1.0</td>\n",
       "    </tr>\n",
       "    <tr>\n",
       "      <th>50%</th>\n",
       "      <td>5682.000000</td>\n",
       "      <td>1.0</td>\n",
       "    </tr>\n",
       "    <tr>\n",
       "      <th>75%</th>\n",
       "      <td>8944.000000</td>\n",
       "      <td>1.0</td>\n",
       "    </tr>\n",
       "    <tr>\n",
       "      <th>max</th>\n",
       "      <td>12000.000000</td>\n",
       "      <td>1.0</td>\n",
       "    </tr>\n",
       "  </tbody>\n",
       "</table>\n",
       "</div>"
      ],
      "text/plain": [
       "             user_id   visited\n",
       "count  207917.000000  207917.0\n",
       "mean     5913.314197       1.0\n",
       "std      3394.941674       0.0\n",
       "min         1.000000       1.0\n",
       "25%      3087.000000       1.0\n",
       "50%      5682.000000       1.0\n",
       "75%      8944.000000       1.0\n",
       "max     12000.000000       1.0"
      ]
     },
     "execution_count": 4,
     "metadata": {},
     "output_type": "execute_result"
    }
   ],
   "source": [
    "df.describe()"
   ]
  },
  {
   "cell_type": "code",
   "execution_count": 5,
   "id": "583a8342",
   "metadata": {},
   "outputs": [
    {
     "name": "stdout",
     "output_type": "stream",
     "text": [
      "<class 'pandas.core.frame.DataFrame'>\n",
      "RangeIndex: 207917 entries, 0 to 207916\n",
      "Data columns (total 3 columns):\n",
      " #   Column      Non-Null Count   Dtype         \n",
      "---  ------      --------------   -----         \n",
      " 0   time_stamp  207917 non-null  datetime64[ns]\n",
      " 1   user_id     207917 non-null  int64         \n",
      " 2   visited     207917 non-null  int64         \n",
      "dtypes: datetime64[ns](1), int64(2)\n",
      "memory usage: 4.8 MB\n"
     ]
    }
   ],
   "source": [
    "# convert time_stamp into datetime format\n",
    "df['time_stamp'] = pd.to_datetime(df['time_stamp'], format='%Y-%m-%d %H:%M:%S')\n",
    "df.info()"
   ]
  },
  {
   "cell_type": "markdown",
   "id": "cb90eb31",
   "metadata": {},
   "source": [
    "#### Exploring Duplicates"
   ]
  },
  {
   "cell_type": "code",
   "execution_count": 6,
   "id": "f737e96d",
   "metadata": {},
   "outputs": [
    {
     "data": {
      "text/plain": [
       "2013-10-13 21:21:37    2\n",
       "2014-04-08 03:09:54    2\n",
       "2014-03-07 03:09:54    2\n",
       "2014-05-10 17:13:38    2\n",
       "2012-12-08 17:13:38    2\n",
       "Name: time_stamp, dtype: int64"
      ]
     },
     "execution_count": 6,
     "metadata": {},
     "output_type": "execute_result"
    }
   ],
   "source": [
    "#Use to find any duplicates\n",
    "df['time_stamp'].value_counts().head()"
   ]
  },
  {
   "cell_type": "markdown",
   "id": "716c563f",
   "metadata": {},
   "source": [
    "#### NOTE: \n",
    "Appears that some login twice per day"
   ]
  },
  {
   "cell_type": "code",
   "execution_count": 7,
   "id": "2dd3d8d2",
   "metadata": {},
   "outputs": [
    {
     "data": {
      "text/plain": [
       "1    207917\n",
       "Name: visited, dtype: int64"
      ]
     },
     "execution_count": 7,
     "metadata": {},
     "output_type": "execute_result"
    }
   ],
   "source": [
    "#Use to find any duplicates\n",
    "df['visited'].value_counts().head()"
   ]
  },
  {
   "cell_type": "markdown",
   "id": "9ca537a4",
   "metadata": {},
   "source": [
    "#### Examine Values By Column"
   ]
  },
  {
   "cell_type": "code",
   "execution_count": 8,
   "id": "5af5f075",
   "metadata": {},
   "outputs": [
    {
     "data": {
      "text/html": [
       "<div>\n",
       "<style scoped>\n",
       "    .dataframe tbody tr th:only-of-type {\n",
       "        vertical-align: middle;\n",
       "    }\n",
       "\n",
       "    .dataframe tbody tr th {\n",
       "        vertical-align: top;\n",
       "    }\n",
       "\n",
       "    .dataframe thead th {\n",
       "        text-align: right;\n",
       "    }\n",
       "</style>\n",
       "<table border=\"1\" class=\"dataframe\">\n",
       "  <thead>\n",
       "    <tr style=\"text-align: right;\">\n",
       "      <th></th>\n",
       "      <th>count</th>\n",
       "      <th>%</th>\n",
       "    </tr>\n",
       "  </thead>\n",
       "  <tbody>\n",
       "    <tr>\n",
       "      <th>time_stamp</th>\n",
       "      <td>0</td>\n",
       "      <td>0.0</td>\n",
       "    </tr>\n",
       "    <tr>\n",
       "      <th>user_id</th>\n",
       "      <td>0</td>\n",
       "      <td>0.0</td>\n",
       "    </tr>\n",
       "    <tr>\n",
       "      <th>visited</th>\n",
       "      <td>0</td>\n",
       "      <td>0.0</td>\n",
       "    </tr>\n",
       "  </tbody>\n",
       "</table>\n",
       "</div>"
      ],
      "text/plain": [
       "            count    %\n",
       "time_stamp      0  0.0\n",
       "user_id         0  0.0\n",
       "visited         0  0.0"
      ]
     },
     "execution_count": 8,
     "metadata": {},
     "output_type": "execute_result"
    }
   ],
   "source": [
    "missing = pd.concat([df.isnull().sum(), 100 * df.isnull().mean()], axis=1)\n",
    "missing.columns=['count', '%']\n",
    "missing.sort_values(by='count')"
   ]
  },
  {
   "cell_type": "markdown",
   "id": "2b7f5e55",
   "metadata": {},
   "source": [
    "#### NOTE:\n",
    "There are no missing data."
   ]
  },
  {
   "cell_type": "code",
   "execution_count": 9,
   "id": "1fde6b0f",
   "metadata": {},
   "outputs": [
    {
     "name": "stdout",
     "output_type": "stream",
     "text": [
      "There were 8823 users and 207917 total logins\n"
     ]
    }
   ],
   "source": [
    "#check how many users and how many logins\n",
    "print('There were {} users and {} total logins'.format(df['user_id'].nunique(), len(df)))"
   ]
  },
  {
   "cell_type": "markdown",
   "id": "e158a6a1",
   "metadata": {},
   "source": [
    "#### NOTE: \n",
    "\n",
    "Defining  an  \"adopted  user\"   as  a  user  who   has  logged  into  the  product  on  three  separate days  in  at  least  one  seven­day  period ,  identify  which  factors  predict  future  user adoption"
   ]
  },
  {
   "cell_type": "code",
   "execution_count": 10,
   "id": "8cadc70e",
   "metadata": {},
   "outputs": [],
   "source": [
    "# define a function to see if a user logged in on 3 seperate days in a 7-day period.\n",
    "\n",
    "def logins_in_days(df, days=7, logins=3):\n",
    "    from datetime import timedelta\n",
    "    \n",
    "    # first drop duplicate days and sort by day\n",
    "    \n",
    "    df['date'] = df['time_stamp'].dt.date\n",
    "    df = df.drop_duplicates(subset='date').sort_values('date')\n",
    "    \n",
    "    # calculate how many days has passed for every 3 logins\n",
    "    \n",
    "    passed_days = df['date'].diff(periods=logins-1)\n",
    "    \n",
    "    # check if any passed time is less than 7 days\n",
    "    \n",
    "    return any(passed_days <= timedelta(days=days))"
   ]
  },
  {
   "cell_type": "code",
   "execution_count": 11,
   "id": "961b09a5",
   "metadata": {},
   "outputs": [],
   "source": [
    "# run the function on all users\n",
    "\n",
    "adopted = df.groupby('user_id').apply(logins_in_days)\n",
    "adopted.name = 'adopted_user'"
   ]
  },
  {
   "cell_type": "code",
   "execution_count": 12,
   "id": "b2fd1f31",
   "metadata": {},
   "outputs": [
    {
     "name": "stdout",
     "output_type": "stream",
     "text": [
      "There were 1656 adopted_users out of 8823 users\n"
     ]
    }
   ],
   "source": [
    "print('There were {} adopted_users out of {} users'.format(sum(adopted), len(adopted)))"
   ]
  },
  {
   "cell_type": "markdown",
   "id": "a26a6667",
   "metadata": {},
   "source": [
    "### Examine - User data DataSet"
   ]
  },
  {
   "cell_type": "code",
   "execution_count": 13,
   "id": "92f0816d",
   "metadata": {},
   "outputs": [
    {
     "name": "stdout",
     "output_type": "stream",
     "text": [
      "(207917, 3)\n"
     ]
    },
    {
     "data": {
      "text/html": [
       "<div>\n",
       "<style scoped>\n",
       "    .dataframe tbody tr th:only-of-type {\n",
       "        vertical-align: middle;\n",
       "    }\n",
       "\n",
       "    .dataframe tbody tr th {\n",
       "        vertical-align: top;\n",
       "    }\n",
       "\n",
       "    .dataframe thead th {\n",
       "        text-align: right;\n",
       "    }\n",
       "</style>\n",
       "<table border=\"1\" class=\"dataframe\">\n",
       "  <thead>\n",
       "    <tr style=\"text-align: right;\">\n",
       "      <th></th>\n",
       "      <th>object_id</th>\n",
       "      <th>creation_time</th>\n",
       "      <th>name</th>\n",
       "      <th>email</th>\n",
       "      <th>creation_source</th>\n",
       "      <th>last_session_creation_time</th>\n",
       "      <th>opted_in_to_mailing_list</th>\n",
       "      <th>enabled_for_marketing_drip</th>\n",
       "      <th>org_id</th>\n",
       "      <th>invited_by_user_id</th>\n",
       "    </tr>\n",
       "  </thead>\n",
       "  <tbody>\n",
       "    <tr>\n",
       "      <th>0</th>\n",
       "      <td>1</td>\n",
       "      <td>2014-04-22 03:53:30</td>\n",
       "      <td>Clausen August</td>\n",
       "      <td>AugustCClausen@yahoo.com</td>\n",
       "      <td>GUEST_INVITE</td>\n",
       "      <td>1.398139e+09</td>\n",
       "      <td>1</td>\n",
       "      <td>0</td>\n",
       "      <td>11</td>\n",
       "      <td>10803.0</td>\n",
       "    </tr>\n",
       "    <tr>\n",
       "      <th>1</th>\n",
       "      <td>2</td>\n",
       "      <td>2013-11-15 03:45:04</td>\n",
       "      <td>Poole Matthew</td>\n",
       "      <td>MatthewPoole@gustr.com</td>\n",
       "      <td>ORG_INVITE</td>\n",
       "      <td>1.396238e+09</td>\n",
       "      <td>0</td>\n",
       "      <td>0</td>\n",
       "      <td>1</td>\n",
       "      <td>316.0</td>\n",
       "    </tr>\n",
       "    <tr>\n",
       "      <th>2</th>\n",
       "      <td>3</td>\n",
       "      <td>2013-03-19 23:14:52</td>\n",
       "      <td>Bottrill Mitchell</td>\n",
       "      <td>MitchellBottrill@gustr.com</td>\n",
       "      <td>ORG_INVITE</td>\n",
       "      <td>1.363735e+09</td>\n",
       "      <td>0</td>\n",
       "      <td>0</td>\n",
       "      <td>94</td>\n",
       "      <td>1525.0</td>\n",
       "    </tr>\n",
       "    <tr>\n",
       "      <th>3</th>\n",
       "      <td>4</td>\n",
       "      <td>2013-05-21 08:09:28</td>\n",
       "      <td>Clausen Nicklas</td>\n",
       "      <td>NicklasSClausen@yahoo.com</td>\n",
       "      <td>GUEST_INVITE</td>\n",
       "      <td>1.369210e+09</td>\n",
       "      <td>0</td>\n",
       "      <td>0</td>\n",
       "      <td>1</td>\n",
       "      <td>5151.0</td>\n",
       "    </tr>\n",
       "    <tr>\n",
       "      <th>4</th>\n",
       "      <td>5</td>\n",
       "      <td>2013-01-17 10:14:20</td>\n",
       "      <td>Raw Grace</td>\n",
       "      <td>GraceRaw@yahoo.com</td>\n",
       "      <td>GUEST_INVITE</td>\n",
       "      <td>1.358850e+09</td>\n",
       "      <td>0</td>\n",
       "      <td>0</td>\n",
       "      <td>193</td>\n",
       "      <td>5240.0</td>\n",
       "    </tr>\n",
       "  </tbody>\n",
       "</table>\n",
       "</div>"
      ],
      "text/plain": [
       "   object_id        creation_time               name  \\\n",
       "0          1  2014-04-22 03:53:30     Clausen August   \n",
       "1          2  2013-11-15 03:45:04      Poole Matthew   \n",
       "2          3  2013-03-19 23:14:52  Bottrill Mitchell   \n",
       "3          4  2013-05-21 08:09:28    Clausen Nicklas   \n",
       "4          5  2013-01-17 10:14:20          Raw Grace   \n",
       "\n",
       "                        email creation_source  last_session_creation_time  \\\n",
       "0    AugustCClausen@yahoo.com    GUEST_INVITE                1.398139e+09   \n",
       "1      MatthewPoole@gustr.com      ORG_INVITE                1.396238e+09   \n",
       "2  MitchellBottrill@gustr.com      ORG_INVITE                1.363735e+09   \n",
       "3   NicklasSClausen@yahoo.com    GUEST_INVITE                1.369210e+09   \n",
       "4          GraceRaw@yahoo.com    GUEST_INVITE                1.358850e+09   \n",
       "\n",
       "   opted_in_to_mailing_list  enabled_for_marketing_drip  org_id  \\\n",
       "0                         1                           0      11   \n",
       "1                         0                           0       1   \n",
       "2                         0                           0      94   \n",
       "3                         0                           0       1   \n",
       "4                         0                           0     193   \n",
       "\n",
       "   invited_by_user_id  \n",
       "0             10803.0  \n",
       "1               316.0  \n",
       "2              1525.0  \n",
       "3              5151.0  \n",
       "4              5240.0  "
      ]
     },
     "execution_count": 13,
     "metadata": {},
     "output_type": "execute_result"
    }
   ],
   "source": [
    "users = pd.read_csv('takehome_users.csv')\n",
    "print(df.shape)\n",
    "users.head()"
   ]
  },
  {
   "cell_type": "code",
   "execution_count": 14,
   "id": "e8abfcc7",
   "metadata": {},
   "outputs": [
    {
     "name": "stdout",
     "output_type": "stream",
     "text": [
      "<class 'pandas.core.frame.DataFrame'>\n",
      "RangeIndex: 12000 entries, 0 to 11999\n",
      "Data columns (total 10 columns):\n",
      " #   Column                      Non-Null Count  Dtype  \n",
      "---  ------                      --------------  -----  \n",
      " 0   object_id                   12000 non-null  int64  \n",
      " 1   creation_time               12000 non-null  object \n",
      " 2   name                        12000 non-null  object \n",
      " 3   email                       12000 non-null  object \n",
      " 4   creation_source             12000 non-null  object \n",
      " 5   last_session_creation_time  8823 non-null   float64\n",
      " 6   opted_in_to_mailing_list    12000 non-null  int64  \n",
      " 7   enabled_for_marketing_drip  12000 non-null  int64  \n",
      " 8   org_id                      12000 non-null  int64  \n",
      " 9   invited_by_user_id          6417 non-null   float64\n",
      "dtypes: float64(2), int64(4), object(4)\n",
      "memory usage: 937.6+ KB\n"
     ]
    }
   ],
   "source": [
    "users.info()"
   ]
  },
  {
   "cell_type": "markdown",
   "id": "7093a21f",
   "metadata": {},
   "source": [
    "#### NOTE:\n",
    "Found Missing data by column"
   ]
  },
  {
   "cell_type": "code",
   "execution_count": 15,
   "id": "5102da28",
   "metadata": {},
   "outputs": [
    {
     "data": {
      "text/html": [
       "<div>\n",
       "<style scoped>\n",
       "    .dataframe tbody tr th:only-of-type {\n",
       "        vertical-align: middle;\n",
       "    }\n",
       "\n",
       "    .dataframe tbody tr th {\n",
       "        vertical-align: top;\n",
       "    }\n",
       "\n",
       "    .dataframe thead th {\n",
       "        text-align: right;\n",
       "    }\n",
       "</style>\n",
       "<table border=\"1\" class=\"dataframe\">\n",
       "  <thead>\n",
       "    <tr style=\"text-align: right;\">\n",
       "      <th></th>\n",
       "      <th>count</th>\n",
       "      <th>%</th>\n",
       "    </tr>\n",
       "  </thead>\n",
       "  <tbody>\n",
       "    <tr>\n",
       "      <th>object_id</th>\n",
       "      <td>0</td>\n",
       "      <td>0.000</td>\n",
       "    </tr>\n",
       "    <tr>\n",
       "      <th>creation_time</th>\n",
       "      <td>0</td>\n",
       "      <td>0.000</td>\n",
       "    </tr>\n",
       "    <tr>\n",
       "      <th>name</th>\n",
       "      <td>0</td>\n",
       "      <td>0.000</td>\n",
       "    </tr>\n",
       "    <tr>\n",
       "      <th>email</th>\n",
       "      <td>0</td>\n",
       "      <td>0.000</td>\n",
       "    </tr>\n",
       "    <tr>\n",
       "      <th>creation_source</th>\n",
       "      <td>0</td>\n",
       "      <td>0.000</td>\n",
       "    </tr>\n",
       "    <tr>\n",
       "      <th>opted_in_to_mailing_list</th>\n",
       "      <td>0</td>\n",
       "      <td>0.000</td>\n",
       "    </tr>\n",
       "    <tr>\n",
       "      <th>enabled_for_marketing_drip</th>\n",
       "      <td>0</td>\n",
       "      <td>0.000</td>\n",
       "    </tr>\n",
       "    <tr>\n",
       "      <th>org_id</th>\n",
       "      <td>0</td>\n",
       "      <td>0.000</td>\n",
       "    </tr>\n",
       "    <tr>\n",
       "      <th>last_session_creation_time</th>\n",
       "      <td>3177</td>\n",
       "      <td>26.475</td>\n",
       "    </tr>\n",
       "    <tr>\n",
       "      <th>invited_by_user_id</th>\n",
       "      <td>5583</td>\n",
       "      <td>46.525</td>\n",
       "    </tr>\n",
       "  </tbody>\n",
       "</table>\n",
       "</div>"
      ],
      "text/plain": [
       "                            count       %\n",
       "object_id                       0   0.000\n",
       "creation_time                   0   0.000\n",
       "name                            0   0.000\n",
       "email                           0   0.000\n",
       "creation_source                 0   0.000\n",
       "opted_in_to_mailing_list        0   0.000\n",
       "enabled_for_marketing_drip      0   0.000\n",
       "org_id                          0   0.000\n",
       "last_session_creation_time   3177  26.475\n",
       "invited_by_user_id           5583  46.525"
      ]
     },
     "execution_count": 15,
     "metadata": {},
     "output_type": "execute_result"
    }
   ],
   "source": [
    "missing = pd.concat([users.isnull().sum(), 100 * users.isnull().mean()], axis=1)\n",
    "missing.columns=['count', '%']\n",
    "missing.sort_values(by='count')"
   ]
  },
  {
   "cell_type": "markdown",
   "id": "0c3a1698",
   "metadata": {},
   "source": [
    "#### NOTE:\n",
    "invited_by_user_id has 47% missing values while last_session_creation_time has 26% missing"
   ]
  },
  {
   "cell_type": "markdown",
   "id": "2852b332",
   "metadata": {},
   "source": [
    "### Remove Nulls"
   ]
  },
  {
   "cell_type": "markdown",
   "id": "162c8c43",
   "metadata": {},
   "source": [
    "#### NOTE:\n",
    "    Now we can assess each column in each dataset for nulls. Let's write a function this time to iterate through the columns to see how much nulls there are"
   ]
  },
  {
   "cell_type": "code",
   "execution_count": 16,
   "id": "3c819f64",
   "metadata": {},
   "outputs": [
    {
     "name": "stdout",
     "output_type": "stream",
     "text": [
      "object_id : 0\n",
      "creation_time : 0\n",
      "name : 0\n",
      "email : 0\n",
      "creation_source : 0\n",
      "last_session_creation_time : 3177\n",
      "opted_in_to_mailing_list : 0\n",
      "enabled_for_marketing_drip : 0\n",
      "org_id : 0\n",
      "invited_by_user_id : 5583\n"
     ]
    }
   ],
   "source": [
    "for column in users.columns:\n",
    "  null_count = len(users[users[column].isna()])\n",
    "  print(\"{} : {}\".format(column, null_count))"
   ]
  },
  {
   "cell_type": "markdown",
   "id": "99f310bb",
   "metadata": {},
   "source": [
    "#### Examine missing last_session_creation_time & invited_by_user_id"
   ]
  },
  {
   "cell_type": "code",
   "execution_count": 17,
   "id": "b7839bbc",
   "metadata": {},
   "outputs": [
    {
     "data": {
      "text/plain": [
       "1.401868e+09    2\n",
       "1.401917e+09    2\n",
       "1.345820e+09    1\n",
       "1.346390e+09    1\n",
       "1.396229e+09    1\n",
       "Name: last_session_creation_time, dtype: int64"
      ]
     },
     "execution_count": 17,
     "metadata": {},
     "output_type": "execute_result"
    }
   ],
   "source": [
    "users['last_session_creation_time'].value_counts().head()"
   ]
  },
  {
   "cell_type": "code",
   "execution_count": 18,
   "id": "eb7f5d48",
   "metadata": {},
   "outputs": [
    {
     "data": {
      "text/plain": [
       "10741.0    13\n",
       "2527.0     12\n",
       "11770.0    11\n",
       "1525.0     11\n",
       "2308.0     11\n",
       "Name: invited_by_user_id, dtype: int64"
      ]
     },
     "execution_count": 18,
     "metadata": {},
     "output_type": "execute_result"
    }
   ],
   "source": [
    "users['invited_by_user_id'].value_counts().head()"
   ]
  },
  {
   "cell_type": "markdown",
   "id": "48225fb8",
   "metadata": {},
   "source": [
    "#### Transform DataSet"
   ]
  },
  {
   "cell_type": "code",
   "execution_count": 19,
   "id": "bd5916d0",
   "metadata": {},
   "outputs": [],
   "source": [
    "# remove non-essential features before data merge\n",
    "users = users.drop(['name', 'email','org_id', 'invited_by_user_id'], axis=1)"
   ]
  },
  {
   "cell_type": "code",
   "execution_count": 20,
   "id": "6cc599e7",
   "metadata": {},
   "outputs": [
    {
     "data": {
      "text/html": [
       "<div>\n",
       "<style scoped>\n",
       "    .dataframe tbody tr th:only-of-type {\n",
       "        vertical-align: middle;\n",
       "    }\n",
       "\n",
       "    .dataframe tbody tr th {\n",
       "        vertical-align: top;\n",
       "    }\n",
       "\n",
       "    .dataframe thead th {\n",
       "        text-align: right;\n",
       "    }\n",
       "</style>\n",
       "<table border=\"1\" class=\"dataframe\">\n",
       "  <thead>\n",
       "    <tr style=\"text-align: right;\">\n",
       "      <th></th>\n",
       "      <th>object_id</th>\n",
       "      <th>creation_time</th>\n",
       "      <th>creation_source</th>\n",
       "      <th>last_session_creation_time</th>\n",
       "      <th>opted_in_to_mailing_list</th>\n",
       "      <th>enabled_for_marketing_drip</th>\n",
       "    </tr>\n",
       "  </thead>\n",
       "  <tbody>\n",
       "    <tr>\n",
       "      <th>0</th>\n",
       "      <td>1</td>\n",
       "      <td>2014-04-22 03:53:30</td>\n",
       "      <td>GUEST_INVITE</td>\n",
       "      <td>1.398139e+09</td>\n",
       "      <td>1</td>\n",
       "      <td>0</td>\n",
       "    </tr>\n",
       "    <tr>\n",
       "      <th>1</th>\n",
       "      <td>2</td>\n",
       "      <td>2013-11-15 03:45:04</td>\n",
       "      <td>ORG_INVITE</td>\n",
       "      <td>1.396238e+09</td>\n",
       "      <td>0</td>\n",
       "      <td>0</td>\n",
       "    </tr>\n",
       "    <tr>\n",
       "      <th>2</th>\n",
       "      <td>3</td>\n",
       "      <td>2013-03-19 23:14:52</td>\n",
       "      <td>ORG_INVITE</td>\n",
       "      <td>1.363735e+09</td>\n",
       "      <td>0</td>\n",
       "      <td>0</td>\n",
       "    </tr>\n",
       "    <tr>\n",
       "      <th>3</th>\n",
       "      <td>4</td>\n",
       "      <td>2013-05-21 08:09:28</td>\n",
       "      <td>GUEST_INVITE</td>\n",
       "      <td>1.369210e+09</td>\n",
       "      <td>0</td>\n",
       "      <td>0</td>\n",
       "    </tr>\n",
       "    <tr>\n",
       "      <th>4</th>\n",
       "      <td>5</td>\n",
       "      <td>2013-01-17 10:14:20</td>\n",
       "      <td>GUEST_INVITE</td>\n",
       "      <td>1.358850e+09</td>\n",
       "      <td>0</td>\n",
       "      <td>0</td>\n",
       "    </tr>\n",
       "  </tbody>\n",
       "</table>\n",
       "</div>"
      ],
      "text/plain": [
       "   object_id        creation_time creation_source  last_session_creation_time  \\\n",
       "0          1  2014-04-22 03:53:30    GUEST_INVITE                1.398139e+09   \n",
       "1          2  2013-11-15 03:45:04      ORG_INVITE                1.396238e+09   \n",
       "2          3  2013-03-19 23:14:52      ORG_INVITE                1.363735e+09   \n",
       "3          4  2013-05-21 08:09:28    GUEST_INVITE                1.369210e+09   \n",
       "4          5  2013-01-17 10:14:20    GUEST_INVITE                1.358850e+09   \n",
       "\n",
       "   opted_in_to_mailing_list  enabled_for_marketing_drip  \n",
       "0                         1                           0  \n",
       "1                         0                           0  \n",
       "2                         0                           0  \n",
       "3                         0                           0  \n",
       "4                         0                           0  "
      ]
     },
     "execution_count": 20,
     "metadata": {},
     "output_type": "execute_result"
    }
   ],
   "source": [
    "users.head()"
   ]
  },
  {
   "cell_type": "code",
   "execution_count": 21,
   "id": "6595020b",
   "metadata": {},
   "outputs": [],
   "source": [
    "# convert last_session_creation_time into datetime format\n",
    "users['last_session_creation_time'] = pd.to_datetime(users['last_session_creation_time'], format='%Y-%m-%d %H:%M:%S')"
   ]
  },
  {
   "cell_type": "code",
   "execution_count": 22,
   "id": "701a16e4",
   "metadata": {},
   "outputs": [
    {
     "name": "stdout",
     "output_type": "stream",
     "text": [
      "<class 'pandas.core.frame.DataFrame'>\n",
      "RangeIndex: 12000 entries, 0 to 11999\n",
      "Data columns (total 6 columns):\n",
      " #   Column                      Non-Null Count  Dtype         \n",
      "---  ------                      --------------  -----         \n",
      " 0   object_id                   12000 non-null  int64         \n",
      " 1   creation_time               12000 non-null  datetime64[ns]\n",
      " 2   creation_source             12000 non-null  object        \n",
      " 3   last_session_creation_time  8823 non-null   datetime64[ns]\n",
      " 4   opted_in_to_mailing_list    12000 non-null  int64         \n",
      " 5   enabled_for_marketing_drip  12000 non-null  int64         \n",
      "dtypes: datetime64[ns](2), int64(3), object(1)\n",
      "memory usage: 562.6+ KB\n"
     ]
    }
   ],
   "source": [
    "# convert creation_time into datetime format\n",
    "users['creation_time'] = pd.to_datetime(users['creation_time'], format='%Y-%m-%d %H:%M:%S')\n",
    "users.info()"
   ]
  },
  {
   "cell_type": "code",
   "execution_count": 23,
   "id": "9a603aed",
   "metadata": {},
   "outputs": [],
   "source": [
    "# calculate user history, defined as number of days between account creation and last use\n",
    "users['history'] = users['last_session_creation_time'] - users['creation_time']\n",
    "users['history'] = users['history'].dt.days"
   ]
  },
  {
   "cell_type": "code",
   "execution_count": 24,
   "id": "13f1c83b",
   "metadata": {},
   "outputs": [
    {
     "data": {
      "text/html": [
       "<div>\n",
       "<style scoped>\n",
       "    .dataframe tbody tr th:only-of-type {\n",
       "        vertical-align: middle;\n",
       "    }\n",
       "\n",
       "    .dataframe tbody tr th {\n",
       "        vertical-align: top;\n",
       "    }\n",
       "\n",
       "    .dataframe thead th {\n",
       "        text-align: right;\n",
       "    }\n",
       "</style>\n",
       "<table border=\"1\" class=\"dataframe\">\n",
       "  <thead>\n",
       "    <tr style=\"text-align: right;\">\n",
       "      <th></th>\n",
       "      <th>object_id</th>\n",
       "      <th>creation_time</th>\n",
       "      <th>creation_source</th>\n",
       "      <th>last_session_creation_time</th>\n",
       "      <th>opted_in_to_mailing_list</th>\n",
       "      <th>enabled_for_marketing_drip</th>\n",
       "      <th>history</th>\n",
       "    </tr>\n",
       "  </thead>\n",
       "  <tbody>\n",
       "    <tr>\n",
       "      <th>0</th>\n",
       "      <td>1</td>\n",
       "      <td>2014-04-22 03:53:30</td>\n",
       "      <td>GUEST_INVITE</td>\n",
       "      <td>1970-01-01 00:00:01.398138810</td>\n",
       "      <td>1</td>\n",
       "      <td>0</td>\n",
       "      <td>-16183.0</td>\n",
       "    </tr>\n",
       "    <tr>\n",
       "      <th>1</th>\n",
       "      <td>2</td>\n",
       "      <td>2013-11-15 03:45:04</td>\n",
       "      <td>ORG_INVITE</td>\n",
       "      <td>1970-01-01 00:00:01.396237504</td>\n",
       "      <td>0</td>\n",
       "      <td>0</td>\n",
       "      <td>-16025.0</td>\n",
       "    </tr>\n",
       "    <tr>\n",
       "      <th>2</th>\n",
       "      <td>3</td>\n",
       "      <td>2013-03-19 23:14:52</td>\n",
       "      <td>ORG_INVITE</td>\n",
       "      <td>1970-01-01 00:00:01.363734892</td>\n",
       "      <td>0</td>\n",
       "      <td>0</td>\n",
       "      <td>-15784.0</td>\n",
       "    </tr>\n",
       "    <tr>\n",
       "      <th>3</th>\n",
       "      <td>4</td>\n",
       "      <td>2013-05-21 08:09:28</td>\n",
       "      <td>GUEST_INVITE</td>\n",
       "      <td>1970-01-01 00:00:01.369210168</td>\n",
       "      <td>0</td>\n",
       "      <td>0</td>\n",
       "      <td>-15847.0</td>\n",
       "    </tr>\n",
       "    <tr>\n",
       "      <th>4</th>\n",
       "      <td>5</td>\n",
       "      <td>2013-01-17 10:14:20</td>\n",
       "      <td>GUEST_INVITE</td>\n",
       "      <td>1970-01-01 00:00:01.358849660</td>\n",
       "      <td>0</td>\n",
       "      <td>0</td>\n",
       "      <td>-15723.0</td>\n",
       "    </tr>\n",
       "  </tbody>\n",
       "</table>\n",
       "</div>"
      ],
      "text/plain": [
       "   object_id       creation_time creation_source  \\\n",
       "0          1 2014-04-22 03:53:30    GUEST_INVITE   \n",
       "1          2 2013-11-15 03:45:04      ORG_INVITE   \n",
       "2          3 2013-03-19 23:14:52      ORG_INVITE   \n",
       "3          4 2013-05-21 08:09:28    GUEST_INVITE   \n",
       "4          5 2013-01-17 10:14:20    GUEST_INVITE   \n",
       "\n",
       "     last_session_creation_time  opted_in_to_mailing_list  \\\n",
       "0 1970-01-01 00:00:01.398138810                         1   \n",
       "1 1970-01-01 00:00:01.396237504                         0   \n",
       "2 1970-01-01 00:00:01.363734892                         0   \n",
       "3 1970-01-01 00:00:01.369210168                         0   \n",
       "4 1970-01-01 00:00:01.358849660                         0   \n",
       "\n",
       "   enabled_for_marketing_drip  history  \n",
       "0                           0 -16183.0  \n",
       "1                           0 -16025.0  \n",
       "2                           0 -15784.0  \n",
       "3                           0 -15847.0  \n",
       "4                           0 -15723.0  "
      ]
     },
     "execution_count": 24,
     "metadata": {},
     "output_type": "execute_result"
    }
   ],
   "source": [
    "users.head()"
   ]
  },
  {
   "cell_type": "code",
   "execution_count": 25,
   "id": "f5d07d46",
   "metadata": {},
   "outputs": [],
   "source": [
    "# calculate latest Date, defined as number of days since account creation and now\n",
    "latest = max(users['creation_time'])\n",
    "users['latest_date'] = latest - users['creation_time']\n",
    "users['latest_date'] = users['latest_date'].dt.days"
   ]
  },
  {
   "cell_type": "code",
   "execution_count": 26,
   "id": "2e3bd74a",
   "metadata": {},
   "outputs": [
    {
     "data": {
      "text/html": [
       "<div>\n",
       "<style scoped>\n",
       "    .dataframe tbody tr th:only-of-type {\n",
       "        vertical-align: middle;\n",
       "    }\n",
       "\n",
       "    .dataframe tbody tr th {\n",
       "        vertical-align: top;\n",
       "    }\n",
       "\n",
       "    .dataframe thead th {\n",
       "        text-align: right;\n",
       "    }\n",
       "</style>\n",
       "<table border=\"1\" class=\"dataframe\">\n",
       "  <thead>\n",
       "    <tr style=\"text-align: right;\">\n",
       "      <th></th>\n",
       "      <th>object_id</th>\n",
       "      <th>creation_time</th>\n",
       "      <th>creation_source</th>\n",
       "      <th>last_session_creation_time</th>\n",
       "      <th>opted_in_to_mailing_list</th>\n",
       "      <th>enabled_for_marketing_drip</th>\n",
       "      <th>history</th>\n",
       "      <th>latest_date</th>\n",
       "    </tr>\n",
       "  </thead>\n",
       "  <tbody>\n",
       "    <tr>\n",
       "      <th>0</th>\n",
       "      <td>1</td>\n",
       "      <td>2014-04-22 03:53:30</td>\n",
       "      <td>GUEST_INVITE</td>\n",
       "      <td>1970-01-01 00:00:01.398138810</td>\n",
       "      <td>1</td>\n",
       "      <td>0</td>\n",
       "      <td>-16183.0</td>\n",
       "      <td>38</td>\n",
       "    </tr>\n",
       "    <tr>\n",
       "      <th>1</th>\n",
       "      <td>2</td>\n",
       "      <td>2013-11-15 03:45:04</td>\n",
       "      <td>ORG_INVITE</td>\n",
       "      <td>1970-01-01 00:00:01.396237504</td>\n",
       "      <td>0</td>\n",
       "      <td>0</td>\n",
       "      <td>-16025.0</td>\n",
       "      <td>196</td>\n",
       "    </tr>\n",
       "    <tr>\n",
       "      <th>2</th>\n",
       "      <td>3</td>\n",
       "      <td>2013-03-19 23:14:52</td>\n",
       "      <td>ORG_INVITE</td>\n",
       "      <td>1970-01-01 00:00:01.363734892</td>\n",
       "      <td>0</td>\n",
       "      <td>0</td>\n",
       "      <td>-15784.0</td>\n",
       "      <td>437</td>\n",
       "    </tr>\n",
       "    <tr>\n",
       "      <th>3</th>\n",
       "      <td>4</td>\n",
       "      <td>2013-05-21 08:09:28</td>\n",
       "      <td>GUEST_INVITE</td>\n",
       "      <td>1970-01-01 00:00:01.369210168</td>\n",
       "      <td>0</td>\n",
       "      <td>0</td>\n",
       "      <td>-15847.0</td>\n",
       "      <td>374</td>\n",
       "    </tr>\n",
       "    <tr>\n",
       "      <th>4</th>\n",
       "      <td>5</td>\n",
       "      <td>2013-01-17 10:14:20</td>\n",
       "      <td>GUEST_INVITE</td>\n",
       "      <td>1970-01-01 00:00:01.358849660</td>\n",
       "      <td>0</td>\n",
       "      <td>0</td>\n",
       "      <td>-15723.0</td>\n",
       "      <td>498</td>\n",
       "    </tr>\n",
       "  </tbody>\n",
       "</table>\n",
       "</div>"
      ],
      "text/plain": [
       "   object_id       creation_time creation_source  \\\n",
       "0          1 2014-04-22 03:53:30    GUEST_INVITE   \n",
       "1          2 2013-11-15 03:45:04      ORG_INVITE   \n",
       "2          3 2013-03-19 23:14:52      ORG_INVITE   \n",
       "3          4 2013-05-21 08:09:28    GUEST_INVITE   \n",
       "4          5 2013-01-17 10:14:20    GUEST_INVITE   \n",
       "\n",
       "     last_session_creation_time  opted_in_to_mailing_list  \\\n",
       "0 1970-01-01 00:00:01.398138810                         1   \n",
       "1 1970-01-01 00:00:01.396237504                         0   \n",
       "2 1970-01-01 00:00:01.363734892                         0   \n",
       "3 1970-01-01 00:00:01.369210168                         0   \n",
       "4 1970-01-01 00:00:01.358849660                         0   \n",
       "\n",
       "   enabled_for_marketing_drip  history  latest_date  \n",
       "0                           0 -16183.0           38  \n",
       "1                           0 -16025.0          196  \n",
       "2                           0 -15784.0          437  \n",
       "3                           0 -15847.0          374  \n",
       "4                           0 -15723.0          498  "
      ]
     },
     "execution_count": 26,
     "metadata": {},
     "output_type": "execute_result"
    }
   ],
   "source": [
    "users.head()"
   ]
  },
  {
   "cell_type": "code",
   "execution_count": 27,
   "id": "f822a4fb",
   "metadata": {},
   "outputs": [
    {
     "data": {
      "text/html": [
       "<div>\n",
       "<style scoped>\n",
       "    .dataframe tbody tr th:only-of-type {\n",
       "        vertical-align: middle;\n",
       "    }\n",
       "\n",
       "    .dataframe tbody tr th {\n",
       "        vertical-align: top;\n",
       "    }\n",
       "\n",
       "    .dataframe thead th {\n",
       "        text-align: right;\n",
       "    }\n",
       "</style>\n",
       "<table border=\"1\" class=\"dataframe\">\n",
       "  <thead>\n",
       "    <tr style=\"text-align: right;\">\n",
       "      <th></th>\n",
       "      <th>object_id</th>\n",
       "      <th>creation_source</th>\n",
       "      <th>opted_in_to_mailing_list</th>\n",
       "      <th>enabled_for_marketing_drip</th>\n",
       "      <th>history</th>\n",
       "      <th>latest_date</th>\n",
       "    </tr>\n",
       "  </thead>\n",
       "  <tbody>\n",
       "    <tr>\n",
       "      <th>0</th>\n",
       "      <td>1</td>\n",
       "      <td>GUEST_INVITE</td>\n",
       "      <td>1</td>\n",
       "      <td>0</td>\n",
       "      <td>-16183.0</td>\n",
       "      <td>38</td>\n",
       "    </tr>\n",
       "    <tr>\n",
       "      <th>1</th>\n",
       "      <td>2</td>\n",
       "      <td>ORG_INVITE</td>\n",
       "      <td>0</td>\n",
       "      <td>0</td>\n",
       "      <td>-16025.0</td>\n",
       "      <td>196</td>\n",
       "    </tr>\n",
       "    <tr>\n",
       "      <th>2</th>\n",
       "      <td>3</td>\n",
       "      <td>ORG_INVITE</td>\n",
       "      <td>0</td>\n",
       "      <td>0</td>\n",
       "      <td>-15784.0</td>\n",
       "      <td>437</td>\n",
       "    </tr>\n",
       "    <tr>\n",
       "      <th>3</th>\n",
       "      <td>4</td>\n",
       "      <td>GUEST_INVITE</td>\n",
       "      <td>0</td>\n",
       "      <td>0</td>\n",
       "      <td>-15847.0</td>\n",
       "      <td>374</td>\n",
       "    </tr>\n",
       "    <tr>\n",
       "      <th>4</th>\n",
       "      <td>5</td>\n",
       "      <td>GUEST_INVITE</td>\n",
       "      <td>0</td>\n",
       "      <td>0</td>\n",
       "      <td>-15723.0</td>\n",
       "      <td>498</td>\n",
       "    </tr>\n",
       "  </tbody>\n",
       "</table>\n",
       "</div>"
      ],
      "text/plain": [
       "   object_id creation_source  opted_in_to_mailing_list  \\\n",
       "0          1    GUEST_INVITE                         1   \n",
       "1          2      ORG_INVITE                         0   \n",
       "2          3      ORG_INVITE                         0   \n",
       "3          4    GUEST_INVITE                         0   \n",
       "4          5    GUEST_INVITE                         0   \n",
       "\n",
       "   enabled_for_marketing_drip  history  latest_date  \n",
       "0                           0 -16183.0           38  \n",
       "1                           0 -16025.0          196  \n",
       "2                           0 -15784.0          437  \n",
       "3                           0 -15847.0          374  \n",
       "4                           0 -15723.0          498  "
      ]
     },
     "execution_count": 27,
     "metadata": {},
     "output_type": "execute_result"
    }
   ],
   "source": [
    "# drop the two original columns\n",
    "users = users.drop(['creation_time', 'last_session_creation_time'], axis=1)\n",
    "users.head()"
   ]
  },
  {
   "cell_type": "code",
   "execution_count": 28,
   "id": "ae3b377e",
   "metadata": {},
   "outputs": [
    {
     "name": "stdout",
     "output_type": "stream",
     "text": [
      "<class 'pandas.core.frame.DataFrame'>\n",
      "RangeIndex: 12000 entries, 0 to 11999\n",
      "Data columns (total 6 columns):\n",
      " #   Column                      Non-Null Count  Dtype  \n",
      "---  ------                      --------------  -----  \n",
      " 0   object_id                   12000 non-null  int64  \n",
      " 1   creation_source             12000 non-null  object \n",
      " 2   opted_in_to_mailing_list    12000 non-null  int64  \n",
      " 3   enabled_for_marketing_drip  12000 non-null  int64  \n",
      " 4   history                     8823 non-null   float64\n",
      " 5   latest_date                 12000 non-null  int64  \n",
      "dtypes: float64(1), int64(4), object(1)\n",
      "memory usage: 562.6+ KB\n"
     ]
    }
   ],
   "source": [
    "users.info()"
   ]
  },
  {
   "cell_type": "markdown",
   "id": "c53eaf46",
   "metadata": {},
   "source": [
    "#### Investigate history column"
   ]
  },
  {
   "cell_type": "code",
   "execution_count": 29,
   "id": "348a0b27",
   "metadata": {},
   "outputs": [
    {
     "data": {
      "text/plain": [
       "count     8823.000000\n",
       "mean    -15905.155503\n",
       "std        215.986725\n",
       "min     -16221.000000\n",
       "25%     -16100.500000\n",
       "50%     -15927.000000\n",
       "75%     -15724.000000\n",
       "max     -15492.000000\n",
       "Name: history, dtype: float64"
      ]
     },
     "execution_count": 29,
     "metadata": {},
     "output_type": "execute_result"
    }
   ],
   "source": [
    "users['history'].describe()"
   ]
  },
  {
   "cell_type": "markdown",
   "id": "af59efc1",
   "metadata": {},
   "source": [
    "#### Fill missing value with 50% value"
   ]
  },
  {
   "cell_type": "code",
   "execution_count": 30,
   "id": "21b4965e",
   "metadata": {},
   "outputs": [
    {
     "name": "stdout",
     "output_type": "stream",
     "text": [
      "<class 'pandas.core.frame.DataFrame'>\n",
      "RangeIndex: 12000 entries, 0 to 11999\n",
      "Data columns (total 6 columns):\n",
      " #   Column                      Non-Null Count  Dtype  \n",
      "---  ------                      --------------  -----  \n",
      " 0   object_id                   12000 non-null  int64  \n",
      " 1   creation_source             12000 non-null  object \n",
      " 2   opted_in_to_mailing_list    12000 non-null  int64  \n",
      " 3   enabled_for_marketing_drip  12000 non-null  int64  \n",
      " 4   history                     12000 non-null  float64\n",
      " 5   latest_date                 12000 non-null  int64  \n",
      "dtypes: float64(1), int64(4), object(1)\n",
      "memory usage: 562.6+ KB\n"
     ]
    }
   ],
   "source": [
    "users['history'] = users['history'].fillna(value=-15927)\n",
    "users.info()"
   ]
  },
  {
   "cell_type": "markdown",
   "id": "530c4ff5",
   "metadata": {},
   "source": [
    "#### Merge user data and \"adopted user\" variable"
   ]
  },
  {
   "cell_type": "code",
   "execution_count": 31,
   "id": "67594c1a",
   "metadata": {},
   "outputs": [],
   "source": [
    "users = users.set_index('object_id')\n",
    "users.index.name = 'user_id'\n",
    "data = pd.concat([users, adopted], axis=1, join='inner')\n",
    "data['adopted_user'] = data['adopted_user'].astype(int)"
   ]
  },
  {
   "cell_type": "code",
   "execution_count": 32,
   "id": "4919e3c8",
   "metadata": {},
   "outputs": [
    {
     "data": {
      "text/html": [
       "<div>\n",
       "<style scoped>\n",
       "    .dataframe tbody tr th:only-of-type {\n",
       "        vertical-align: middle;\n",
       "    }\n",
       "\n",
       "    .dataframe tbody tr th {\n",
       "        vertical-align: top;\n",
       "    }\n",
       "\n",
       "    .dataframe thead th {\n",
       "        text-align: right;\n",
       "    }\n",
       "</style>\n",
       "<table border=\"1\" class=\"dataframe\">\n",
       "  <thead>\n",
       "    <tr style=\"text-align: right;\">\n",
       "      <th></th>\n",
       "      <th>creation_source</th>\n",
       "      <th>opted_in_to_mailing_list</th>\n",
       "      <th>enabled_for_marketing_drip</th>\n",
       "      <th>history</th>\n",
       "      <th>latest_date</th>\n",
       "      <th>adopted_user</th>\n",
       "    </tr>\n",
       "    <tr>\n",
       "      <th>user_id</th>\n",
       "      <th></th>\n",
       "      <th></th>\n",
       "      <th></th>\n",
       "      <th></th>\n",
       "      <th></th>\n",
       "      <th></th>\n",
       "    </tr>\n",
       "  </thead>\n",
       "  <tbody>\n",
       "    <tr>\n",
       "      <th>1</th>\n",
       "      <td>GUEST_INVITE</td>\n",
       "      <td>1</td>\n",
       "      <td>0</td>\n",
       "      <td>-16183.0</td>\n",
       "      <td>38</td>\n",
       "      <td>0</td>\n",
       "    </tr>\n",
       "    <tr>\n",
       "      <th>2</th>\n",
       "      <td>ORG_INVITE</td>\n",
       "      <td>0</td>\n",
       "      <td>0</td>\n",
       "      <td>-16025.0</td>\n",
       "      <td>196</td>\n",
       "      <td>1</td>\n",
       "    </tr>\n",
       "    <tr>\n",
       "      <th>3</th>\n",
       "      <td>ORG_INVITE</td>\n",
       "      <td>0</td>\n",
       "      <td>0</td>\n",
       "      <td>-15784.0</td>\n",
       "      <td>437</td>\n",
       "      <td>0</td>\n",
       "    </tr>\n",
       "    <tr>\n",
       "      <th>4</th>\n",
       "      <td>GUEST_INVITE</td>\n",
       "      <td>0</td>\n",
       "      <td>0</td>\n",
       "      <td>-15847.0</td>\n",
       "      <td>374</td>\n",
       "      <td>0</td>\n",
       "    </tr>\n",
       "    <tr>\n",
       "      <th>5</th>\n",
       "      <td>GUEST_INVITE</td>\n",
       "      <td>0</td>\n",
       "      <td>0</td>\n",
       "      <td>-15723.0</td>\n",
       "      <td>498</td>\n",
       "      <td>0</td>\n",
       "    </tr>\n",
       "  </tbody>\n",
       "</table>\n",
       "</div>"
      ],
      "text/plain": [
       "        creation_source  opted_in_to_mailing_list  enabled_for_marketing_drip  \\\n",
       "user_id                                                                         \n",
       "1          GUEST_INVITE                         1                           0   \n",
       "2            ORG_INVITE                         0                           0   \n",
       "3            ORG_INVITE                         0                           0   \n",
       "4          GUEST_INVITE                         0                           0   \n",
       "5          GUEST_INVITE                         0                           0   \n",
       "\n",
       "         history  latest_date  adopted_user  \n",
       "user_id                                      \n",
       "1       -16183.0           38             0  \n",
       "2       -16025.0          196             1  \n",
       "3       -15784.0          437             0  \n",
       "4       -15847.0          374             0  \n",
       "5       -15723.0          498             0  "
      ]
     },
     "execution_count": 32,
     "metadata": {},
     "output_type": "execute_result"
    }
   ],
   "source": [
    "data.head()"
   ]
  },
  {
   "cell_type": "markdown",
   "id": "0d3d637e",
   "metadata": {},
   "source": [
    "## 2. EDA"
   ]
  },
  {
   "cell_type": "code",
   "execution_count": 33,
   "id": "1c748a83",
   "metadata": {},
   "outputs": [
    {
     "data": {
      "text/html": [
       "<div>\n",
       "<style scoped>\n",
       "    .dataframe tbody tr th:only-of-type {\n",
       "        vertical-align: middle;\n",
       "    }\n",
       "\n",
       "    .dataframe tbody tr th {\n",
       "        vertical-align: top;\n",
       "    }\n",
       "\n",
       "    .dataframe thead th {\n",
       "        text-align: right;\n",
       "    }\n",
       "</style>\n",
       "<table border=\"1\" class=\"dataframe\">\n",
       "  <thead>\n",
       "    <tr style=\"text-align: right;\">\n",
       "      <th>adopted_user</th>\n",
       "      <th>0</th>\n",
       "      <th>1</th>\n",
       "    </tr>\n",
       "    <tr>\n",
       "      <th>creation_source</th>\n",
       "      <th></th>\n",
       "      <th></th>\n",
       "    </tr>\n",
       "  </thead>\n",
       "  <tbody>\n",
       "    <tr>\n",
       "      <th>GUEST_INVITE</th>\n",
       "      <td>1219</td>\n",
       "      <td>369</td>\n",
       "    </tr>\n",
       "    <tr>\n",
       "      <th>ORG_INVITE</th>\n",
       "      <td>2614</td>\n",
       "      <td>574</td>\n",
       "    </tr>\n",
       "    <tr>\n",
       "      <th>PERSONAL_PROJECTS</th>\n",
       "      <td>592</td>\n",
       "      <td>172</td>\n",
       "    </tr>\n",
       "    <tr>\n",
       "      <th>SIGNUP</th>\n",
       "      <td>1596</td>\n",
       "      <td>302</td>\n",
       "    </tr>\n",
       "    <tr>\n",
       "      <th>SIGNUP_GOOGLE_AUTH</th>\n",
       "      <td>1146</td>\n",
       "      <td>239</td>\n",
       "    </tr>\n",
       "  </tbody>\n",
       "</table>\n",
       "</div>"
      ],
      "text/plain": [
       "adopted_user           0    1\n",
       "creation_source              \n",
       "GUEST_INVITE        1219  369\n",
       "ORG_INVITE          2614  574\n",
       "PERSONAL_PROJECTS    592  172\n",
       "SIGNUP              1596  302\n",
       "SIGNUP_GOOGLE_AUTH  1146  239"
      ]
     },
     "execution_count": 33,
     "metadata": {},
     "output_type": "execute_result"
    }
   ],
   "source": [
    "source_rating = pd.crosstab(data[\"creation_source\"], data[\"adopted_user\"])\n",
    "source_rating"
   ]
  },
  {
   "cell_type": "markdown",
   "id": "ee26da52",
   "metadata": {},
   "source": [
    "#### NOTE:\n",
    "\n",
    "Significantly lower \"adopted user\" rate in guest_invite and Org_invite, that makes sense because users who got invite probably new the projects and organization which make them less involved."
   ]
  },
  {
   "cell_type": "code",
   "execution_count": 34,
   "id": "81b2cc92",
   "metadata": {},
   "outputs": [
    {
     "data": {
      "image/png": "[encoded data removed]",
      "text/plain": [
       "<Figure size 432x288 with 1 Axes>"
      ]
     },
     "metadata": {},
     "output_type": "display_data"
    }
   ],
   "source": [
    "ax = sns.countplot(y='creation_source', hue='adopted_user', data=data)"
   ]
  },
  {
   "cell_type": "code",
   "execution_count": 35,
   "id": "88500130",
   "metadata": {},
   "outputs": [
    {
     "data": {
      "image/png": "[encoded data removed]",
      "text/plain": [
       "<Figure size 1296x1080 with 3 Axes>"
      ]
     },
     "metadata": {},
     "output_type": "display_data"
    }
   ],
   "source": [
    "plt.figure(figsize=(18,15))\n",
    "\n",
    "variables = ['opted_in_to_mailing_list', 'adopted_user' , 'latest_date']\n",
    "\n",
    "for i in range(3):\n",
    "    plt.subplot(3, 3, i+1)\n",
    "    plt.hist(data[variables[i]])\n",
    "    plt.title(variables[i])"
   ]
  },
  {
   "cell_type": "code",
   "execution_count": 36,
   "id": "b2fd5cac",
   "metadata": {},
   "outputs": [
    {
     "data": {
      "image/png": "[encoded data removed]",
      "text/plain": [
       "<Figure size 432x288 with 1 Axes>"
      ]
     },
     "metadata": {},
     "output_type": "display_data"
    }
   ],
   "source": [
    "# history and adopted user\n",
    "def plot_hist_days(df, col, xlabel):\n",
    "    _ = plt.hist(df.loc[data['adopted_user']==1, col], \n",
    "                 bins=30, alpha=0.3, color='b', label='adopted user')\n",
    "    _ = plt.hist(df.loc[data['adopted_user']==0, col], \n",
    "                 bins=30, alpha=0.3, color='r', label='non adopted user')\n",
    "    _ = plt.yscale('log')\n",
    "    _ = plt.legend()\n",
    "    _ = plt.xlabel(xlabel)\n",
    "    _ = plt.ylabel('No. of users')\n",
    "    _ = plt.yticks([1, 10, 100, 1000], ['1', '10', '100', '1000'])\n",
    "plot_hist_days(data, 'history', 'user history(days)')"
   ]
  },
  {
   "cell_type": "markdown",
   "id": "0fb36d61",
   "metadata": {},
   "source": [
    "#### NOTE:\n",
    "The adoption rate is lower in very new accounts. Other than that, the adoption rate didn't change much over the past two years."
   ]
  },
  {
   "cell_type": "markdown",
   "id": "dba9ceb3",
   "metadata": {},
   "source": [
    "## 3. Modeling"
   ]
  },
  {
   "cell_type": "code",
   "execution_count": 37,
   "id": "93b8f01e",
   "metadata": {},
   "outputs": [
    {
     "data": {
      "text/html": [
       "<div>\n",
       "<style scoped>\n",
       "    .dataframe tbody tr th:only-of-type {\n",
       "        vertical-align: middle;\n",
       "    }\n",
       "\n",
       "    .dataframe tbody tr th {\n",
       "        vertical-align: top;\n",
       "    }\n",
       "\n",
       "    .dataframe thead th {\n",
       "        text-align: right;\n",
       "    }\n",
       "</style>\n",
       "<table border=\"1\" class=\"dataframe\">\n",
       "  <thead>\n",
       "    <tr style=\"text-align: right;\">\n",
       "      <th></th>\n",
       "      <th>opted_in_to_mailing_list</th>\n",
       "      <th>enabled_for_marketing_drip</th>\n",
       "      <th>history</th>\n",
       "      <th>latest_date</th>\n",
       "      <th>adopted_user</th>\n",
       "      <th>creation_source_GUEST_INVITE</th>\n",
       "      <th>creation_source_ORG_INVITE</th>\n",
       "      <th>creation_source_PERSONAL_PROJECTS</th>\n",
       "      <th>creation_source_SIGNUP</th>\n",
       "      <th>creation_source_SIGNUP_GOOGLE_AUTH</th>\n",
       "    </tr>\n",
       "    <tr>\n",
       "      <th>user_id</th>\n",
       "      <th></th>\n",
       "      <th></th>\n",
       "      <th></th>\n",
       "      <th></th>\n",
       "      <th></th>\n",
       "      <th></th>\n",
       "      <th></th>\n",
       "      <th></th>\n",
       "      <th></th>\n",
       "      <th></th>\n",
       "    </tr>\n",
       "  </thead>\n",
       "  <tbody>\n",
       "    <tr>\n",
       "      <th>1</th>\n",
       "      <td>1</td>\n",
       "      <td>0</td>\n",
       "      <td>-16183.0</td>\n",
       "      <td>38</td>\n",
       "      <td>0</td>\n",
       "      <td>1</td>\n",
       "      <td>0</td>\n",
       "      <td>0</td>\n",
       "      <td>0</td>\n",
       "      <td>0</td>\n",
       "    </tr>\n",
       "    <tr>\n",
       "      <th>2</th>\n",
       "      <td>0</td>\n",
       "      <td>0</td>\n",
       "      <td>-16025.0</td>\n",
       "      <td>196</td>\n",
       "      <td>1</td>\n",
       "      <td>0</td>\n",
       "      <td>1</td>\n",
       "      <td>0</td>\n",
       "      <td>0</td>\n",
       "      <td>0</td>\n",
       "    </tr>\n",
       "    <tr>\n",
       "      <th>3</th>\n",
       "      <td>0</td>\n",
       "      <td>0</td>\n",
       "      <td>-15784.0</td>\n",
       "      <td>437</td>\n",
       "      <td>0</td>\n",
       "      <td>0</td>\n",
       "      <td>1</td>\n",
       "      <td>0</td>\n",
       "      <td>0</td>\n",
       "      <td>0</td>\n",
       "    </tr>\n",
       "    <tr>\n",
       "      <th>4</th>\n",
       "      <td>0</td>\n",
       "      <td>0</td>\n",
       "      <td>-15847.0</td>\n",
       "      <td>374</td>\n",
       "      <td>0</td>\n",
       "      <td>1</td>\n",
       "      <td>0</td>\n",
       "      <td>0</td>\n",
       "      <td>0</td>\n",
       "      <td>0</td>\n",
       "    </tr>\n",
       "    <tr>\n",
       "      <th>5</th>\n",
       "      <td>0</td>\n",
       "      <td>0</td>\n",
       "      <td>-15723.0</td>\n",
       "      <td>498</td>\n",
       "      <td>0</td>\n",
       "      <td>1</td>\n",
       "      <td>0</td>\n",
       "      <td>0</td>\n",
       "      <td>0</td>\n",
       "      <td>0</td>\n",
       "    </tr>\n",
       "  </tbody>\n",
       "</table>\n",
       "</div>"
      ],
      "text/plain": [
       "         opted_in_to_mailing_list  enabled_for_marketing_drip  history  \\\n",
       "user_id                                                                  \n",
       "1                               1                           0 -16183.0   \n",
       "2                               0                           0 -16025.0   \n",
       "3                               0                           0 -15784.0   \n",
       "4                               0                           0 -15847.0   \n",
       "5                               0                           0 -15723.0   \n",
       "\n",
       "         latest_date  adopted_user  creation_source_GUEST_INVITE  \\\n",
       "user_id                                                            \n",
       "1                 38             0                             1   \n",
       "2                196             1                             0   \n",
       "3                437             0                             0   \n",
       "4                374             0                             1   \n",
       "5                498             0                             1   \n",
       "\n",
       "         creation_source_ORG_INVITE  creation_source_PERSONAL_PROJECTS  \\\n",
       "user_id                                                                  \n",
       "1                                 0                                  0   \n",
       "2                                 1                                  0   \n",
       "3                                 1                                  0   \n",
       "4                                 0                                  0   \n",
       "5                                 0                                  0   \n",
       "\n",
       "         creation_source_SIGNUP  creation_source_SIGNUP_GOOGLE_AUTH  \n",
       "user_id                                                              \n",
       "1                             0                                   0  \n",
       "2                             0                                   0  \n",
       "3                             0                                   0  \n",
       "4                             0                                   0  \n",
       "5                             0                                   0  "
      ]
     },
     "execution_count": 37,
     "metadata": {},
     "output_type": "execute_result"
    }
   ],
   "source": [
    "#create dummy variables for categorical features (X)\n",
    "df_features = pd.get_dummies(data,columns=['creation_source'])\n",
    "df_features.head()"
   ]
  },
  {
   "cell_type": "code",
   "execution_count": 38,
   "id": "0788af71",
   "metadata": {},
   "outputs": [],
   "source": [
    "#set target and drop unuseful columns\n",
    "y = df_features['adopted_user']\n",
    "df_features = pd.concat([data, df_features], axis=1).drop('creation_source', axis=1)\n",
    "X = df_features.drop('adopted_user', axis=1)"
   ]
  },
  {
   "cell_type": "markdown",
   "id": "c27bad02",
   "metadata": {},
   "source": [
    "### Predictive Models"
   ]
  },
  {
   "cell_type": "markdown",
   "id": "dd9e408d",
   "metadata": {},
   "source": [
    "#### NOTE:\n",
    "The predictive model of choose will be Random forest algorithm because it can first be used for both classifications and regression task and secondly, it usually provides higher accuracy through cross validation. This Model is also not affectd by the different scales "
   ]
  },
  {
   "cell_type": "code",
   "execution_count": 39,
   "id": "e2f288bd",
   "metadata": {},
   "outputs": [],
   "source": [
    "from sklearn.ensemble import RandomForestClassifier\n",
    "from sklearn.model_selection import train_test_split, cross_val_score, GridSearchCV\n",
    "from sklearn.metrics import classification_report, accuracy_score"
   ]
  },
  {
   "cell_type": "markdown",
   "id": "4fa4be02",
   "metadata": {},
   "source": [
    "#### Split the X and y into 75/25 training and testing data subsets"
   ]
  },
  {
   "cell_type": "code",
   "execution_count": 40,
   "id": "79e0999f",
   "metadata": {},
   "outputs": [],
   "source": [
    "#train test split\n",
    "Xtrain, Xtest, ytrain, ytest = train_test_split(X, y, stratify=y, test_size=0.25, random_state=42)"
   ]
  },
  {
   "cell_type": "code",
   "execution_count": 41,
   "id": "3b209716",
   "metadata": {},
   "outputs": [],
   "source": [
    "rf = RandomForestClassifier(random_state=42, class_weight='balanced', n_estimators=100)\n",
    "rf.fit(Xtrain,ytrain)\n",
    "y_pred = rf.predict(Xtest)"
   ]
  },
  {
   "cell_type": "code",
   "execution_count": 42,
   "id": "7f884e04",
   "metadata": {},
   "outputs": [
    {
     "name": "stdout",
     "output_type": "stream",
     "text": [
      "Random Forest Score:  0.685856754306437\n"
     ]
    }
   ],
   "source": [
    "print('Random Forest Score: ', rf.score(Xtest,ytest))"
   ]
  },
  {
   "cell_type": "markdown",
   "id": "511e891a",
   "metadata": {},
   "source": [
    "#### NOTE:\n",
    "69% accuracy with Random Forest"
   ]
  },
  {
   "cell_type": "markdown",
   "id": "e8bfd644",
   "metadata": {},
   "source": [
    "#### Random Forest with Cross_Validation"
   ]
  },
  {
   "cell_type": "code",
   "execution_count": 43,
   "id": "4e14d4e4",
   "metadata": {},
   "outputs": [
    {
     "name": "stdout",
     "output_type": "stream",
     "text": [
      "[0.71945701 0.72789116 0.72108844 0.70975057 0.70521542]\n",
      "Mean Cross Validated Score: 0.7166805183611907\n"
     ]
    }
   ],
   "source": [
    "print(cross_val_score(rf,Xtest,np.ravel(ytest),cv=5))\n",
    "print('Mean Cross Validated Score:',np.mean(cross_val_score(rf,Xtest,np.ravel(ytest),cv=5)))"
   ]
  },
  {
   "cell_type": "markdown",
   "id": "69911092",
   "metadata": {},
   "source": [
    "#### NOTE:\n",
    "72% with Cross Validation"
   ]
  },
  {
   "cell_type": "markdown",
   "id": "34305448",
   "metadata": {},
   "source": [
    "### Evaluate Model"
   ]
  },
  {
   "cell_type": "code",
   "execution_count": 44,
   "id": "93819980",
   "metadata": {},
   "outputs": [
    {
     "name": "stdout",
     "output_type": "stream",
     "text": [
      "Accuracy of test set was 0.685856754306437\n",
      "              precision    recall  f1-score   support\n",
      "\n",
      "           0       0.82      0.79      0.80      1792\n",
      "           1       0.20      0.22      0.21       414\n",
      "\n",
      "    accuracy                           0.69      2206\n",
      "   macro avg       0.51      0.51      0.51      2206\n",
      "weighted avg       0.70      0.69      0.69      2206\n",
      "\n"
     ]
    }
   ],
   "source": [
    "print('Accuracy of test set was', accuracy_score(ytest, y_pred))\n",
    "print(classification_report(ytest, y_pred))"
   ]
  },
  {
   "cell_type": "markdown",
   "id": "fdf63c09",
   "metadata": {},
   "source": [
    "#### GridSearchCV Parameter Optimization"
   ]
  },
  {
   "cell_type": "code",
   "execution_count": 45,
   "id": "a972ebd1",
   "metadata": {},
   "outputs": [
    {
     "name": "stdout",
     "output_type": "stream",
     "text": [
      "Best parameters were {'n_estimators': 10}\n",
      "Best average precision was 0.7187504138949974\n"
     ]
    }
   ],
   "source": [
    "clf = RandomForestClassifier(random_state=42, class_weight='balanced')\n",
    "params = {'n_estimators': [10, 50, 100, 200]}\n",
    "model = GridSearchCV(clf, params)\n",
    "model.fit(Xtrain, ytrain)\n",
    "print('Best parameters were', model.best_params_)\n",
    "print('Best average precision was', model.best_score_)"
   ]
  },
  {
   "cell_type": "code",
   "execution_count": 46,
   "id": "0e268fd8",
   "metadata": {},
   "outputs": [
    {
     "name": "stdout",
     "output_type": "stream",
     "text": [
      "Fitting 5 folds for each of 180 candidates, totalling 900 fits\n"
     ]
    },
    {
     "data": {
      "text/plain": [
       "GridSearchCV(estimator=RandomForestRegressor(), n_jobs=5,\n",
       "             param_grid={'max_depth': [10, 11, 12],\n",
       "                         'min_samples_leaf': [1, 2, 3],\n",
       "                         'min_samples_split': [2, 3, 4, 5, 6],\n",
       "                         'n_estimators': [250, 300, 350, 400]},\n",
       "             verbose=2)"
      ]
     },
     "execution_count": 46,
     "metadata": {},
     "output_type": "execute_result"
    }
   ],
   "source": [
    "#Running a RandomForestRegressor GridSearchCV to tune the model.\n",
    "from sklearn.ensemble import RandomForestRegressor\n",
    "from sklearn.model_selection import GridSearchCV\n",
    "\n",
    "parameter_candidates = {\n",
    "    'n_estimators' : [250, 300, 350, 400],\n",
    "    'min_samples_leaf' : [1, 2, 3],\n",
    "    'max_depth' : [10, 11, 12],\n",
    "    'min_samples_split' : [2, 3, 4, 5, 6]\n",
    "}\n",
    "\n",
    "RFR_regr = RandomForestRegressor()\n",
    "CV_RFR_regr = GridSearchCV(estimator=RFR_regr, param_grid=parameter_candidates, n_jobs=5, verbose=2)\n",
    "CV_RFR_regr.fit(Xtrain, ytrain)"
   ]
  },
  {
   "cell_type": "markdown",
   "id": "9a4719b0",
   "metadata": {},
   "source": [
    "#### Random Forrest - Feature Importance"
   ]
  },
  {
   "cell_type": "code",
   "execution_count": 47,
   "id": "9544d679",
   "metadata": {},
   "outputs": [],
   "source": [
    "#Predict with testing set\n",
    "y_pred = CV_RFR_regr.predict(Xtest)\n",
    "\n",
    "#Extract feature importances\n",
    "importances = CV_RFR_regr.best_estimator_.feature_importances_"
   ]
  },
  {
   "cell_type": "code",
   "execution_count": 48,
   "id": "7a40fc5d",
   "metadata": {},
   "outputs": [
    {
     "name": "stdout",
     "output_type": "stream",
     "text": [
      "[0.02739788 0.01611659 0.19524746 0.19123746 0.02562737 0.01678283\n",
      " 0.19854418 0.19844168 0.03437443 0.03202642 0.02025365 0.02244809\n",
      " 0.02150196]\n"
     ]
    }
   ],
   "source": [
    "print(importances)"
   ]
  },
  {
   "cell_type": "code",
   "execution_count": 49,
   "id": "fe1326e4",
   "metadata": {},
   "outputs": [
    {
     "data": {
      "image/png": "[encoded data removed]",
      "text/plain": [
       "<Figure size 864x432 with 1 Axes>"
      ]
     },
     "metadata": {},
     "output_type": "display_data"
    }
   ],
   "source": [
    "plt.figure(figsize = (12,6))\n",
    "feat_import = pd.Series(importances, index = X.columns)\n",
    "feat_import.nlargest(20).plot(kind='barh')\n",
    "plt.show()"
   ]
  },
  {
   "cell_type": "markdown",
   "id": "ec9b5957",
   "metadata": {},
   "source": [
    "#### CONCLUSION:"
   ]
  },
  {
   "cell_type": "markdown",
   "id": "9ce027c4",
   "metadata": {},
   "source": [
    "The user history is the essential feature. Based on this, I recommend that an effective way to grow adopted users might be to encourage existing users to log in and use the software after they have had accounts for a while.\n",
    "\n",
    "The following important feature is how the user signed up (if you add the four signup features above). Among the ways they sign up, guest invitations and personal projects are the two categories with the highest user adoption rate. It might be somewhat effective to encourage users to invite others and offer incentives to work on their projects using the software. "
   ]
  },
  {
   "cell_type": "code",
   "execution_count": null,
   "id": "f6fcf096",
   "metadata": {},
   "outputs": [],
   "source": []
  }
 ],
 "metadata": {
  "kernelspec": {
   "display_name": "Python 3",
   "language": "python",
   "name": "python3"
  },
  "language_info": {
   "codemirror_mode": {
    "name": "ipython",
    "version": 3
   },
   "file_extension": ".py",
   "mimetype": "text/x-python",
   "name": "python",
   "nbconvert_exporter": "python",
   "pygments_lexer": "ipython3",
   "version": "3.8.8"
  }
 },
 "nbformat": 4,
 "nbformat_minor": 5
}
