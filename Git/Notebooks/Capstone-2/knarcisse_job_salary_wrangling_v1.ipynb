{
 "cells": [
  {
   "cell_type": "markdown",
   "metadata": {},
   "source": [
    "# Data Wrangling "
   ]
  },
  {
   "cell_type": "markdown",
   "metadata": {},
   "source": [
    "### 2.1 Introduction"
   ]
  },
  {
   "cell_type": "markdown",
   "metadata": {},
   "source": [
    "This step focuses on collecting data, organizing it, and making sure it's well defined in the following 4 areas of Data Preparation:\n",
    "\n",
    "    #1 - Data Load\n",
    "    #2 - Data Organzation\n",
    "    #3 - Data Definition\n",
    "    #4 - Data Cleaning"
   ]
  },
  {
   "cell_type": "markdown",
   "metadata": {},
   "source": [
    "### 2.1.1 Recap Of Data Science Problem"
   ]
  },
  {
   "cell_type": "markdown",
   "metadata": {},
   "source": [
    "The purpose of this project is to select the top candidates with the most valuable skills. The low and out-of-range salaries for a job type have made it challenging to attract the best talents. This model will be used to provide guidance for a number of carrer sites to attract the best talents for future Job placement opportunities.\n",
    "\n"
   ]
  },
  {
   "cell_type": "markdown",
   "metadata": {},
   "source": [
    "### 2.1.2 Imports"
   ]
  },
  {
   "cell_type": "code",
   "execution_count": 46,
   "metadata": {},
   "outputs": [],
   "source": [
    "import pandas as pd\n",
    "import missingno as msno\n",
    "import matplotlib.pyplot as plt\n",
    "import statistics as st\n",
    "import seaborn as sns\n",
    "import os\n",
    "\n",
    "from library.sb_utils import save_file"
   ]
  },
  {
   "cell_type": "markdown",
   "metadata": {},
   "source": [
    "### 2.2 Objectives"
   ]
  },
  {
   "cell_type": "markdown",
   "metadata": {},
   "source": [
    "    Additional Comments:\n",
    "    Identified the required target value?\n",
    "    Do I have potentially useful features?\n",
    "    Do I have any fundamental issues with the data?"
   ]
  },
  {
   "cell_type": "code",
   "execution_count": 47,
   "metadata": {},
   "outputs": [
    {
     "data": {
      "text/plain": [
       "'C:\\\\Users\\\\narci\\\\DS-Plus\\\\Springboard-main\\\\Git\\\\Notebooks\\\\Capstone-2'"
      ]
     },
     "execution_count": 47,
     "metadata": {},
     "output_type": "execute_result"
    }
   ],
   "source": [
    "#Check the path to the directory where you are currently in\n",
    "%pwd"
   ]
  },
  {
   "cell_type": "markdown",
   "metadata": {},
   "source": [
    "### 2.2.1 Fetch Data & Basic Exploration"
   ]
  },
  {
   "cell_type": "code",
   "execution_count": 48,
   "metadata": {},
   "outputs": [],
   "source": [
    "my_path = 'C:\\\\Users\\\\narci\\\\DS-Plus\\\\Springboard-main\\\\Git\\\\Notebooks\\\\Capstone-2'"
   ]
  },
  {
   "cell_type": "code",
   "execution_count": 49,
   "metadata": {},
   "outputs": [
    {
     "name": "stdout",
     "output_type": "stream",
     "text": [
      "(244768, 12)\n"
     ]
    },
    {
     "data": {
      "text/html": [
       "<div>\n",
       "<style scoped>\n",
       "    .dataframe tbody tr th:only-of-type {\n",
       "        vertical-align: middle;\n",
       "    }\n",
       "\n",
       "    .dataframe tbody tr th {\n",
       "        vertical-align: top;\n",
       "    }\n",
       "\n",
       "    .dataframe thead th {\n",
       "        text-align: right;\n",
       "    }\n",
       "</style>\n",
       "<table border=\"1\" class=\"dataframe\">\n",
       "  <thead>\n",
       "    <tr style=\"text-align: right;\">\n",
       "      <th></th>\n",
       "      <th>Id</th>\n",
       "      <th>Title</th>\n",
       "      <th>FullDescription</th>\n",
       "      <th>LocationRaw</th>\n",
       "      <th>LocationNormalized</th>\n",
       "      <th>ContractType</th>\n",
       "      <th>ContractTime</th>\n",
       "      <th>Company</th>\n",
       "      <th>Category</th>\n",
       "      <th>SalaryRaw</th>\n",
       "      <th>SalaryNormalized</th>\n",
       "      <th>SourceName</th>\n",
       "    </tr>\n",
       "  </thead>\n",
       "  <tbody>\n",
       "    <tr>\n",
       "      <th>0</th>\n",
       "      <td>12612628</td>\n",
       "      <td>Engineering Systems Analyst</td>\n",
       "      <td>Engineering Systems Analyst Dorking Surrey Sal...</td>\n",
       "      <td>Dorking, Surrey, Surrey</td>\n",
       "      <td>Dorking</td>\n",
       "      <td>NaN</td>\n",
       "      <td>permanent</td>\n",
       "      <td>Gregory Martin International</td>\n",
       "      <td>Engineering Jobs</td>\n",
       "      <td>20000 - 30000/annum 20-30K</td>\n",
       "      <td>25000</td>\n",
       "      <td>cv-library.co.uk</td>\n",
       "    </tr>\n",
       "    <tr>\n",
       "      <th>1</th>\n",
       "      <td>12612830</td>\n",
       "      <td>Stress Engineer Glasgow</td>\n",
       "      <td>Stress Engineer Glasgow Salary **** to **** We...</td>\n",
       "      <td>Glasgow, Scotland, Scotland</td>\n",
       "      <td>Glasgow</td>\n",
       "      <td>NaN</td>\n",
       "      <td>permanent</td>\n",
       "      <td>Gregory Martin International</td>\n",
       "      <td>Engineering Jobs</td>\n",
       "      <td>25000 - 35000/annum 25-35K</td>\n",
       "      <td>30000</td>\n",
       "      <td>cv-library.co.uk</td>\n",
       "    </tr>\n",
       "    <tr>\n",
       "      <th>2</th>\n",
       "      <td>12612844</td>\n",
       "      <td>Modelling and simulation analyst</td>\n",
       "      <td>Mathematical Modeller / Simulation Analyst / O...</td>\n",
       "      <td>Hampshire, South East, South East</td>\n",
       "      <td>Hampshire</td>\n",
       "      <td>NaN</td>\n",
       "      <td>permanent</td>\n",
       "      <td>Gregory Martin International</td>\n",
       "      <td>Engineering Jobs</td>\n",
       "      <td>20000 - 40000/annum 20-40K</td>\n",
       "      <td>30000</td>\n",
       "      <td>cv-library.co.uk</td>\n",
       "    </tr>\n",
       "    <tr>\n",
       "      <th>3</th>\n",
       "      <td>12613049</td>\n",
       "      <td>Engineering Systems Analyst / Mathematical Mod...</td>\n",
       "      <td>Engineering Systems Analyst / Mathematical Mod...</td>\n",
       "      <td>Surrey, South East, South East</td>\n",
       "      <td>Surrey</td>\n",
       "      <td>NaN</td>\n",
       "      <td>permanent</td>\n",
       "      <td>Gregory Martin International</td>\n",
       "      <td>Engineering Jobs</td>\n",
       "      <td>25000 - 30000/annum 25K-30K negotiable</td>\n",
       "      <td>27500</td>\n",
       "      <td>cv-library.co.uk</td>\n",
       "    </tr>\n",
       "  </tbody>\n",
       "</table>\n",
       "</div>"
      ],
      "text/plain": [
       "         Id                                              Title  \\\n",
       "0  12612628                        Engineering Systems Analyst   \n",
       "1  12612830                            Stress Engineer Glasgow   \n",
       "2  12612844                   Modelling and simulation analyst   \n",
       "3  12613049  Engineering Systems Analyst / Mathematical Mod...   \n",
       "\n",
       "                                     FullDescription  \\\n",
       "0  Engineering Systems Analyst Dorking Surrey Sal...   \n",
       "1  Stress Engineer Glasgow Salary **** to **** We...   \n",
       "2  Mathematical Modeller / Simulation Analyst / O...   \n",
       "3  Engineering Systems Analyst / Mathematical Mod...   \n",
       "\n",
       "                         LocationRaw LocationNormalized ContractType  \\\n",
       "0            Dorking, Surrey, Surrey            Dorking          NaN   \n",
       "1        Glasgow, Scotland, Scotland            Glasgow          NaN   \n",
       "2  Hampshire, South East, South East          Hampshire          NaN   \n",
       "3     Surrey, South East, South East             Surrey          NaN   \n",
       "\n",
       "  ContractTime                       Company          Category  \\\n",
       "0    permanent  Gregory Martin International  Engineering Jobs   \n",
       "1    permanent  Gregory Martin International  Engineering Jobs   \n",
       "2    permanent  Gregory Martin International  Engineering Jobs   \n",
       "3    permanent  Gregory Martin International  Engineering Jobs   \n",
       "\n",
       "                                SalaryRaw  SalaryNormalized        SourceName  \n",
       "0              20000 - 30000/annum 20-30K             25000  cv-library.co.uk  \n",
       "1              25000 - 35000/annum 25-35K             30000  cv-library.co.uk  \n",
       "2              20000 - 40000/annum 20-40K             30000  cv-library.co.uk  \n",
       "3  25000 - 30000/annum 25K-30K negotiable             27500  cv-library.co.uk  "
      ]
     },
     "execution_count": 49,
     "metadata": {},
     "output_type": "execute_result"
    }
   ],
   "source": [
    "train_data = pd.read_csv(f'{my_path}/Train_rev1.csv')\n",
    "print(train_data.shape)\n",
    "train_data.head(4)"
   ]
  },
  {
   "cell_type": "code",
   "execution_count": 50,
   "metadata": {},
   "outputs": [
    {
     "name": "stdout",
     "output_type": "stream",
     "text": [
      "<class 'pandas.core.frame.DataFrame'>\n",
      "RangeIndex: 244768 entries, 0 to 244767\n",
      "Data columns (total 12 columns):\n",
      " #   Column              Non-Null Count   Dtype \n",
      "---  ------              --------------   ----- \n",
      " 0   Id                  244768 non-null  int64 \n",
      " 1   Title               244767 non-null  object\n",
      " 2   FullDescription     244768 non-null  object\n",
      " 3   LocationRaw         244768 non-null  object\n",
      " 4   LocationNormalized  244768 non-null  object\n",
      " 5   ContractType        65442 non-null   object\n",
      " 6   ContractTime        180863 non-null  object\n",
      " 7   Company             212338 non-null  object\n",
      " 8   Category            244768 non-null  object\n",
      " 9   SalaryRaw           244768 non-null  object\n",
      " 10  SalaryNormalized    244768 non-null  int64 \n",
      " 11  SourceName          244767 non-null  object\n",
      "dtypes: int64(2), object(10)\n",
      "memory usage: 22.4+ MB\n"
     ]
    }
   ],
   "source": [
    "train_data.info()"
   ]
  },
  {
   "cell_type": "code",
   "execution_count": 51,
   "metadata": {},
   "outputs": [
    {
     "data": {
      "text/html": [
       "<div>\n",
       "<style scoped>\n",
       "    .dataframe tbody tr th:only-of-type {\n",
       "        vertical-align: middle;\n",
       "    }\n",
       "\n",
       "    .dataframe tbody tr th {\n",
       "        vertical-align: top;\n",
       "    }\n",
       "\n",
       "    .dataframe thead th {\n",
       "        text-align: right;\n",
       "    }\n",
       "</style>\n",
       "<table border=\"1\" class=\"dataframe\">\n",
       "  <thead>\n",
       "    <tr style=\"text-align: right;\">\n",
       "      <th></th>\n",
       "      <th>Id</th>\n",
       "      <th>SalaryNormalized</th>\n",
       "    </tr>\n",
       "  </thead>\n",
       "  <tbody>\n",
       "    <tr>\n",
       "      <th>count</th>\n",
       "      <td>2.447680e+05</td>\n",
       "      <td>244768.000000</td>\n",
       "    </tr>\n",
       "    <tr>\n",
       "      <th>mean</th>\n",
       "      <td>6.970142e+07</td>\n",
       "      <td>34122.577576</td>\n",
       "    </tr>\n",
       "    <tr>\n",
       "      <th>std</th>\n",
       "      <td>3.129813e+06</td>\n",
       "      <td>17640.543124</td>\n",
       "    </tr>\n",
       "    <tr>\n",
       "      <th>min</th>\n",
       "      <td>1.261263e+07</td>\n",
       "      <td>5000.000000</td>\n",
       "    </tr>\n",
       "    <tr>\n",
       "      <th>25%</th>\n",
       "      <td>6.869550e+07</td>\n",
       "      <td>21500.000000</td>\n",
       "    </tr>\n",
       "    <tr>\n",
       "      <th>50%</th>\n",
       "      <td>6.993700e+07</td>\n",
       "      <td>30000.000000</td>\n",
       "    </tr>\n",
       "    <tr>\n",
       "      <th>75%</th>\n",
       "      <td>7.162606e+07</td>\n",
       "      <td>42500.000000</td>\n",
       "    </tr>\n",
       "    <tr>\n",
       "      <th>max</th>\n",
       "      <td>7.270524e+07</td>\n",
       "      <td>200000.000000</td>\n",
       "    </tr>\n",
       "  </tbody>\n",
       "</table>\n",
       "</div>"
      ],
      "text/plain": [
       "                 Id  SalaryNormalized\n",
       "count  2.447680e+05     244768.000000\n",
       "mean   6.970142e+07      34122.577576\n",
       "std    3.129813e+06      17640.543124\n",
       "min    1.261263e+07       5000.000000\n",
       "25%    6.869550e+07      21500.000000\n",
       "50%    6.993700e+07      30000.000000\n",
       "75%    7.162606e+07      42500.000000\n",
       "max    7.270524e+07     200000.000000"
      ]
     },
     "execution_count": 51,
     "metadata": {},
     "output_type": "execute_result"
    }
   ],
   "source": [
    "train_data.describe()"
   ]
  },
  {
   "cell_type": "markdown",
   "metadata": {},
   "source": [
    "### 2.3  Data Organzation"
   ]
  },
  {
   "cell_type": "code",
   "execution_count": 52,
   "metadata": {},
   "outputs": [
    {
     "name": "stdout",
     "output_type": "stream",
     "text": [
      "(1100, 12) (243668, 12)\n"
     ]
    }
   ],
   "source": [
    "#Using a 15% split \n",
    "#for the test set may change, if the actual test set size is predefined. \n",
    "#In any case we will make sure the test set we choose from our dataset \n",
    "#is as similar as it can get to the actual data that it will see in \n",
    "#production'''\n",
    "\n",
    "\n",
    "def mydf_splitter(train_data,num_rows):\n",
    "    return train_data[:num_rows].copy(),train_data[num_rows:]\n",
    "\n",
    "\n",
    "mydf_train_valid,mydf_test = mydf_splitter(train_data,1100)\n",
    "\n",
    "print(mydf_train_valid.shape,mydf_test.shape)"
   ]
  },
  {
   "cell_type": "code",
   "execution_count": 53,
   "metadata": {},
   "outputs": [
    {
     "data": {
      "text/html": [
       "<div>\n",
       "<style scoped>\n",
       "    .dataframe tbody tr th:only-of-type {\n",
       "        vertical-align: middle;\n",
       "    }\n",
       "\n",
       "    .dataframe tbody tr th {\n",
       "        vertical-align: top;\n",
       "    }\n",
       "\n",
       "    .dataframe thead th {\n",
       "        text-align: right;\n",
       "    }\n",
       "</style>\n",
       "<table border=\"1\" class=\"dataframe\">\n",
       "  <thead>\n",
       "    <tr style=\"text-align: right;\">\n",
       "      <th></th>\n",
       "      <th>2</th>\n",
       "    </tr>\n",
       "  </thead>\n",
       "  <tbody>\n",
       "    <tr>\n",
       "      <th>Id</th>\n",
       "      <td>12612844</td>\n",
       "    </tr>\n",
       "    <tr>\n",
       "      <th>Title</th>\n",
       "      <td>Modelling and simulation analyst</td>\n",
       "    </tr>\n",
       "    <tr>\n",
       "      <th>FullDescription</th>\n",
       "      <td>Mathematical Modeller / Simulation Analyst / O...</td>\n",
       "    </tr>\n",
       "    <tr>\n",
       "      <th>LocationRaw</th>\n",
       "      <td>Hampshire, South East, South East</td>\n",
       "    </tr>\n",
       "    <tr>\n",
       "      <th>LocationNormalized</th>\n",
       "      <td>Hampshire</td>\n",
       "    </tr>\n",
       "    <tr>\n",
       "      <th>ContractType</th>\n",
       "      <td>NaN</td>\n",
       "    </tr>\n",
       "    <tr>\n",
       "      <th>ContractTime</th>\n",
       "      <td>permanent</td>\n",
       "    </tr>\n",
       "    <tr>\n",
       "      <th>Company</th>\n",
       "      <td>Gregory Martin International</td>\n",
       "    </tr>\n",
       "    <tr>\n",
       "      <th>Category</th>\n",
       "      <td>Engineering Jobs</td>\n",
       "    </tr>\n",
       "    <tr>\n",
       "      <th>SalaryRaw</th>\n",
       "      <td>20000 - 40000/annum 20-40K</td>\n",
       "    </tr>\n",
       "    <tr>\n",
       "      <th>SalaryNormalized</th>\n",
       "      <td>30000</td>\n",
       "    </tr>\n",
       "    <tr>\n",
       "      <th>SourceName</th>\n",
       "      <td>cv-library.co.uk</td>\n",
       "    </tr>\n",
       "  </tbody>\n",
       "</table>\n",
       "</div>"
      ],
      "text/plain": [
       "                                                                    2\n",
       "Id                                                           12612844\n",
       "Title                                Modelling and simulation analyst\n",
       "FullDescription     Mathematical Modeller / Simulation Analyst / O...\n",
       "LocationRaw                         Hampshire, South East, South East\n",
       "LocationNormalized                                          Hampshire\n",
       "ContractType                                                      NaN\n",
       "ContractTime                                                permanent\n",
       "Company                                  Gregory Martin International\n",
       "Category                                             Engineering Jobs\n",
       "SalaryRaw                                  20000 - 40000/annum 20-40K\n",
       "SalaryNormalized                                                30000\n",
       "SourceName                                           cv-library.co.uk"
      ]
     },
     "execution_count": 53,
     "metadata": {},
     "output_type": "execute_result"
    }
   ],
   "source": [
    "#dataframe filter to display just a row  with the title\n",
    "\n",
    "train_data[train_data.Title == 'Modelling and simulation analyst'].T"
   ]
  },
  {
   "cell_type": "markdown",
   "metadata": {},
   "source": [
    "### Comments"
   ]
  },
  {
   "cell_type": "markdown",
   "metadata": {},
   "source": [
    "The output above suggests the data organized. Plausible column headings. And I can already see a missing value in the 6th column - Contract Type."
   ]
  },
  {
   "cell_type": "markdown",
   "metadata": {},
   "source": [
    "### 2.3.1 Number of Missing Values By Column"
   ]
  },
  {
   "cell_type": "markdown",
   "metadata": {},
   "source": [
    "Count the number of missing values in each column and sort them."
   ]
  },
  {
   "cell_type": "code",
   "execution_count": 54,
   "metadata": {},
   "outputs": [
    {
     "data": {
      "text/html": [
       "<div>\n",
       "<style scoped>\n",
       "    .dataframe tbody tr th:only-of-type {\n",
       "        vertical-align: middle;\n",
       "    }\n",
       "\n",
       "    .dataframe tbody tr th {\n",
       "        vertical-align: top;\n",
       "    }\n",
       "\n",
       "    .dataframe thead th {\n",
       "        text-align: right;\n",
       "    }\n",
       "</style>\n",
       "<table border=\"1\" class=\"dataframe\">\n",
       "  <thead>\n",
       "    <tr style=\"text-align: right;\">\n",
       "      <th></th>\n",
       "      <th>count</th>\n",
       "      <th>%</th>\n",
       "    </tr>\n",
       "  </thead>\n",
       "  <tbody>\n",
       "    <tr>\n",
       "      <th>Id</th>\n",
       "      <td>0</td>\n",
       "      <td>0.000000</td>\n",
       "    </tr>\n",
       "    <tr>\n",
       "      <th>FullDescription</th>\n",
       "      <td>0</td>\n",
       "      <td>0.000000</td>\n",
       "    </tr>\n",
       "    <tr>\n",
       "      <th>LocationRaw</th>\n",
       "      <td>0</td>\n",
       "      <td>0.000000</td>\n",
       "    </tr>\n",
       "    <tr>\n",
       "      <th>LocationNormalized</th>\n",
       "      <td>0</td>\n",
       "      <td>0.000000</td>\n",
       "    </tr>\n",
       "    <tr>\n",
       "      <th>Category</th>\n",
       "      <td>0</td>\n",
       "      <td>0.000000</td>\n",
       "    </tr>\n",
       "    <tr>\n",
       "      <th>SalaryRaw</th>\n",
       "      <td>0</td>\n",
       "      <td>0.000000</td>\n",
       "    </tr>\n",
       "    <tr>\n",
       "      <th>SalaryNormalized</th>\n",
       "      <td>0</td>\n",
       "      <td>0.000000</td>\n",
       "    </tr>\n",
       "    <tr>\n",
       "      <th>Title</th>\n",
       "      <td>1</td>\n",
       "      <td>0.000409</td>\n",
       "    </tr>\n",
       "    <tr>\n",
       "      <th>SourceName</th>\n",
       "      <td>1</td>\n",
       "      <td>0.000409</td>\n",
       "    </tr>\n",
       "    <tr>\n",
       "      <th>Company</th>\n",
       "      <td>32430</td>\n",
       "      <td>13.249281</td>\n",
       "    </tr>\n",
       "    <tr>\n",
       "      <th>ContractTime</th>\n",
       "      <td>63905</td>\n",
       "      <td>26.108397</td>\n",
       "    </tr>\n",
       "    <tr>\n",
       "      <th>ContractType</th>\n",
       "      <td>179326</td>\n",
       "      <td>73.263662</td>\n",
       "    </tr>\n",
       "  </tbody>\n",
       "</table>\n",
       "</div>"
      ],
      "text/plain": [
       "                     count          %\n",
       "Id                       0   0.000000\n",
       "FullDescription          0   0.000000\n",
       "LocationRaw              0   0.000000\n",
       "LocationNormalized       0   0.000000\n",
       "Category                 0   0.000000\n",
       "SalaryRaw                0   0.000000\n",
       "SalaryNormalized         0   0.000000\n",
       "Title                    1   0.000409\n",
       "SourceName               1   0.000409\n",
       "Company              32430  13.249281\n",
       "ContractTime         63905  26.108397\n",
       "ContractType        179326  73.263662"
      ]
     },
     "execution_count": 54,
     "metadata": {},
     "output_type": "execute_result"
    }
   ],
   "source": [
    "#Count (using `.sum()`) the number of missing values (`.isnull()`) in each column of \n",
    "#Train_data as well as the percentages (using `.mean()` instead of `.sum()`).\n",
    "#Order them (increasing or decreasing) using sort_values\n",
    "#Call `pd.concat` to present these in a single table (DataFrame) with the helpful column names 'count' and '%'\n",
    "\n",
    "missing = pd.concat([train_data.isnull().sum(), 100 * train_data.isnull().mean()], axis=1)\n",
    "missing.columns=['count', '%']\n",
    "missing.sort_values(by='count')"
   ]
  },
  {
   "cell_type": "markdown",
   "metadata": {},
   "source": [
    "### Comments"
   ]
  },
  {
   "cell_type": "markdown",
   "metadata": {},
   "source": [
    "   ContractType has the most missing values, at just over 73%. Company and ContractTime is missing values from 13% and 26%."
   ]
  },
  {
   "cell_type": "markdown",
   "metadata": {},
   "source": [
    "### 2.4.  Exploring Duplicates"
   ]
  },
  {
   "cell_type": "code",
   "execution_count": 55,
   "metadata": {},
   "outputs": [
    {
     "data": {
      "text/plain": [
       "Business Development Manager    921\n",
       "Project Manager                 749\n",
       "Management Accountant           661\n",
       "Sales Executive                 603\n",
       "Account Manager                 540\n",
       "Name: Title, dtype: int64"
      ]
     },
     "execution_count": 55,
     "metadata": {},
     "output_type": "execute_result"
    }
   ],
   "source": [
    "#Use to find any duplicates\n",
    "train_data['Title'].value_counts().head()"
   ]
  },
  {
   "cell_type": "markdown",
   "metadata": {},
   "source": [
    "### Comments"
   ]
  },
  {
   "cell_type": "markdown",
   "metadata": {},
   "source": [
    "Found duplicates in JoB Title however more exploring is required to see if removing is necessary."
   ]
  },
  {
   "cell_type": "markdown",
   "metadata": {},
   "source": [
    "First, we want to be aware which columns (or combination of column) uniquely identify a row. It will make our cleaning much easier if we can identify these things, especially when it comes to duplicates. Afterwards, we can remove these duplicates."
   ]
  },
  {
   "cell_type": "code",
   "execution_count": 56,
   "metadata": {},
   "outputs": [
    {
     "data": {
      "text/html": [
       "<div>\n",
       "<style scoped>\n",
       "    .dataframe tbody tr th:only-of-type {\n",
       "        vertical-align: middle;\n",
       "    }\n",
       "\n",
       "    .dataframe tbody tr th {\n",
       "        vertical-align: top;\n",
       "    }\n",
       "\n",
       "    .dataframe thead th {\n",
       "        text-align: right;\n",
       "    }\n",
       "</style>\n",
       "<table border=\"1\" class=\"dataframe\">\n",
       "  <thead>\n",
       "    <tr style=\"text-align: right;\">\n",
       "      <th></th>\n",
       "      <th>Id</th>\n",
       "      <th>Title</th>\n",
       "      <th>FullDescription</th>\n",
       "      <th>LocationRaw</th>\n",
       "      <th>LocationNormalized</th>\n",
       "      <th>ContractType</th>\n",
       "      <th>ContractTime</th>\n",
       "      <th>Company</th>\n",
       "      <th>Category</th>\n",
       "      <th>SalaryRaw</th>\n",
       "      <th>SalaryNormalized</th>\n",
       "      <th>SourceName</th>\n",
       "    </tr>\n",
       "  </thead>\n",
       "  <tbody>\n",
       "  </tbody>\n",
       "</table>\n",
       "</div>"
      ],
      "text/plain": [
       "Empty DataFrame\n",
       "Columns: [Id, Title, FullDescription, LocationRaw, LocationNormalized, ContractType, ContractTime, Company, Category, SalaryRaw, SalaryNormalized, SourceName]\n",
       "Index: []"
      ]
     },
     "execution_count": 56,
     "metadata": {},
     "output_type": "execute_result"
    }
   ],
   "source": [
    "train_data[train_data.duplicated(['Id', 'Title'])]"
   ]
  },
  {
   "cell_type": "markdown",
   "metadata": {},
   "source": [
    "### 2.4.1. Remove Nulls"
   ]
  },
  {
   "cell_type": "markdown",
   "metadata": {},
   "source": [
    "Now we can assess each column in each dataset for nulls. Let's write a function this time to iterate through the columns to see how much nulls there are."
   ]
  },
  {
   "cell_type": "code",
   "execution_count": 57,
   "metadata": {},
   "outputs": [
    {
     "name": "stdout",
     "output_type": "stream",
     "text": [
      "Id : 0\n",
      "Title : 1\n",
      "FullDescription : 0\n",
      "LocationRaw : 0\n",
      "LocationNormalized : 0\n",
      "ContractType : 179326\n",
      "ContractTime : 63905\n",
      "Company : 32430\n",
      "Category : 0\n",
      "SalaryRaw : 0\n",
      "SalaryNormalized : 0\n",
      "SourceName : 1\n"
     ]
    }
   ],
   "source": [
    "for column in train_data.columns:\n",
    "  null_count = len(train_data[train_data[column].isna()])\n",
    "  print(\"{} : {}\".format(column, null_count))"
   ]
  },
  {
   "cell_type": "markdown",
   "metadata": {},
   "source": [
    "### 2.4.2 Examine and inspect categorical features"
   ]
  },
  {
   "cell_type": "code",
   "execution_count": 58,
   "metadata": {},
   "outputs": [
    {
     "data": {
      "text/plain": [
       "Id                     int64\n",
       "Title                 object\n",
       "FullDescription       object\n",
       "LocationRaw           object\n",
       "LocationNormalized    object\n",
       "ContractType          object\n",
       "ContractTime          object\n",
       "Company               object\n",
       "Category              object\n",
       "SalaryRaw             object\n",
       "SalaryNormalized       int64\n",
       "SourceName            object\n",
       "dtype: object"
      ]
     },
     "execution_count": 58,
     "metadata": {},
     "output_type": "execute_result"
    }
   ],
   "source": [
    "#Examine datatype to mark which data type will play a role in model\n",
    "train_data.dtypes"
   ]
  },
  {
   "cell_type": "markdown",
   "metadata": {},
   "source": [
    "### 2.4.3 Use IQR rule to identify potential outliers"
   ]
  },
  {
   "cell_type": "code",
   "execution_count": 59,
   "metadata": {},
   "outputs": [
    {
     "name": "stdout",
     "output_type": "stream",
     "text": [
      "count    244768.000000\n",
      "mean      34122.577576\n",
      "std       17640.543124\n",
      "min        5000.000000\n",
      "25%       21500.000000\n",
      "50%       30000.000000\n",
      "75%       42500.000000\n",
      "max      200000.000000\n",
      "Name: SalaryNormalized, dtype: float64\n",
      "The upper an lower bounds for suspected outliers are 74000.0 and -10000.0.\n"
     ]
    }
   ],
   "source": [
    "stat = train_data.SalaryNormalized.describe()\n",
    "print(stat)\n",
    "IQR = stat['75%']-stat['25%']\n",
    "upper = stat['75%'] + 1.5 * IQR\n",
    "lower = stat['25%'] - 1.5 * IQR\n",
    "print('The upper an lower bounds for suspected outliers are {} and {}.'.format(upper, lower))\n"
   ]
  },
  {
   "cell_type": "markdown",
   "metadata": {},
   "source": [
    "### 2.4.4. Examine potential outlier below lower bound"
   ]
  },
  {
   "cell_type": "code",
   "execution_count": 60,
   "metadata": {},
   "outputs": [
    {
     "data": {
      "text/html": [
       "<div>\n",
       "<style scoped>\n",
       "    .dataframe tbody tr th:only-of-type {\n",
       "        vertical-align: middle;\n",
       "    }\n",
       "\n",
       "    .dataframe tbody tr th {\n",
       "        vertical-align: top;\n",
       "    }\n",
       "\n",
       "    .dataframe thead th {\n",
       "        text-align: right;\n",
       "    }\n",
       "</style>\n",
       "<table border=\"1\" class=\"dataframe\">\n",
       "  <thead>\n",
       "    <tr style=\"text-align: right;\">\n",
       "      <th></th>\n",
       "      <th>Id</th>\n",
       "      <th>Title</th>\n",
       "      <th>FullDescription</th>\n",
       "      <th>LocationRaw</th>\n",
       "      <th>LocationNormalized</th>\n",
       "      <th>ContractType</th>\n",
       "      <th>ContractTime</th>\n",
       "      <th>Company</th>\n",
       "      <th>Category</th>\n",
       "      <th>SalaryRaw</th>\n",
       "      <th>SalaryNormalized</th>\n",
       "      <th>SourceName</th>\n",
       "    </tr>\n",
       "  </thead>\n",
       "  <tbody>\n",
       "  </tbody>\n",
       "</table>\n",
       "</div>"
      ],
      "text/plain": [
       "Empty DataFrame\n",
       "Columns: [Id, Title, FullDescription, LocationRaw, LocationNormalized, ContractType, ContractTime, Company, Category, SalaryRaw, SalaryNormalized, SourceName]\n",
       "Index: []"
      ]
     },
     "execution_count": 60,
     "metadata": {},
     "output_type": "execute_result"
    }
   ],
   "source": [
    "#check potential outlier below lower bound\n",
    "train_data[train_data.SalaryNormalized < 8.5]"
   ]
  },
  {
   "cell_type": "code",
   "execution_count": 61,
   "metadata": {},
   "outputs": [
    {
     "data": {
      "text/plain": [
       "IT Jobs                             38483\n",
       "Engineering Jobs                    25174\n",
       "Accounting & Finance Jobs           21846\n",
       "Healthcare & Nursing Jobs           21076\n",
       "Sales Jobs                          17272\n",
       "Other/General Jobs                  17055\n",
       "Teaching Jobs                       12637\n",
       "Hospitality & Catering Jobs         11351\n",
       "PR, Advertising & Marketing Jobs     8854\n",
       "Trade & Construction Jobs            8837\n",
       "HR & Recruitment Jobs                7713\n",
       "Admin Jobs                           7614\n",
       "Retail Jobs                          6584\n",
       "Customer Services Jobs               6063\n",
       "Legal Jobs                           3939\n",
       "Manufacturing Jobs                   3765\n",
       "Logistics & Warehouse Jobs           3633\n",
       "Social work Jobs                     3455\n",
       "Consultancy Jobs                     3263\n",
       "Travel Jobs                          3126\n",
       "Scientific & QA Jobs                 2489\n",
       "Charity & Voluntary Jobs             2332\n",
       "Energy, Oil & Gas Jobs               2255\n",
       "Creative & Design Jobs               1605\n",
       "Maintenance Jobs                     1542\n",
       "Graduate Jobs                        1331\n",
       "Property Jobs                        1038\n",
       "Domestic help & Cleaning Jobs         291\n",
       "Part time Jobs                        145\n",
       "Name: Category, dtype: int64"
      ]
     },
     "execution_count": 61,
     "metadata": {},
     "output_type": "execute_result"
    }
   ],
   "source": [
    "#check potential outlier above upper bound\n",
    "train_data.loc[train_data.SalaryNormalized > 222.5, 'Category'].value_counts()"
   ]
  },
  {
   "cell_type": "code",
   "execution_count": 62,
   "metadata": {},
   "outputs": [
    {
     "data": {
      "text/html": [
       "<div>\n",
       "<style scoped>\n",
       "    .dataframe tbody tr th:only-of-type {\n",
       "        vertical-align: middle;\n",
       "    }\n",
       "\n",
       "    .dataframe tbody tr th {\n",
       "        vertical-align: top;\n",
       "    }\n",
       "\n",
       "    .dataframe thead th {\n",
       "        text-align: right;\n",
       "    }\n",
       "</style>\n",
       "<table border=\"1\" class=\"dataframe\">\n",
       "  <thead>\n",
       "    <tr style=\"text-align: right;\">\n",
       "      <th></th>\n",
       "      <th>Id</th>\n",
       "      <th>Title</th>\n",
       "      <th>FullDescription</th>\n",
       "      <th>LocationRaw</th>\n",
       "      <th>LocationNormalized</th>\n",
       "      <th>ContractType</th>\n",
       "      <th>ContractTime</th>\n",
       "      <th>Company</th>\n",
       "      <th>Category</th>\n",
       "      <th>SalaryRaw</th>\n",
       "      <th>SalaryNormalized</th>\n",
       "      <th>SourceName</th>\n",
       "    </tr>\n",
       "  </thead>\n",
       "  <tbody>\n",
       "    <tr>\n",
       "      <th>31</th>\n",
       "      <td>27527047</td>\n",
       "      <td>C/C++ Developer</td>\n",
       "      <td>A leading company that provides stock market a...</td>\n",
       "      <td>London</td>\n",
       "      <td>London</td>\n",
       "      <td>NaN</td>\n",
       "      <td>permanent</td>\n",
       "      <td>Indigo 21 Ltd</td>\n",
       "      <td>IT Jobs</td>\n",
       "      <td>25000 - 40000/annum</td>\n",
       "      <td>32500</td>\n",
       "      <td>cv-library.co.uk</td>\n",
       "    </tr>\n",
       "    <tr>\n",
       "      <th>32</th>\n",
       "      <td>27527050</td>\n",
       "      <td>Senior PHP Developer</td>\n",
       "      <td>A skilled Senior PHP Developer is required by ...</td>\n",
       "      <td>Central London, London</td>\n",
       "      <td>Central London</td>\n",
       "      <td>NaN</td>\n",
       "      <td>permanent</td>\n",
       "      <td>Indigo 21 Ltd</td>\n",
       "      <td>IT Jobs</td>\n",
       "      <td>40000 - 50000/annum</td>\n",
       "      <td>45000</td>\n",
       "      <td>cv-library.co.uk</td>\n",
       "    </tr>\n",
       "    <tr>\n",
       "      <th>33</th>\n",
       "      <td>27527063</td>\n",
       "      <td>Senior Website Designer</td>\n",
       "      <td>SENIOR WEBSITE DESIGNER Location: York, East Y...</td>\n",
       "      <td>York, North Yorkshire</td>\n",
       "      <td>York</td>\n",
       "      <td>NaN</td>\n",
       "      <td>permanent</td>\n",
       "      <td>Indigo 21 Ltd</td>\n",
       "      <td>IT Jobs</td>\n",
       "      <td>20000 - 30000/annum</td>\n",
       "      <td>25000</td>\n",
       "      <td>cv-library.co.uk</td>\n",
       "    </tr>\n",
       "    <tr>\n",
       "      <th>34</th>\n",
       "      <td>27527077</td>\n",
       "      <td>Business Development Manager</td>\n",
       "      <td>The Company: Our client are a full service, cr...</td>\n",
       "      <td>Tyne Wear, North East</td>\n",
       "      <td>Newcastle Upon Tyne</td>\n",
       "      <td>NaN</td>\n",
       "      <td>permanent</td>\n",
       "      <td>Asset Appointments</td>\n",
       "      <td>IT Jobs</td>\n",
       "      <td>18000 - 24000/annum plus commission OTE 50-60k</td>\n",
       "      <td>21000</td>\n",
       "      <td>cv-library.co.uk</td>\n",
       "    </tr>\n",
       "    <tr>\n",
       "      <th>38</th>\n",
       "      <td>27754996</td>\n",
       "      <td>QA Engineer</td>\n",
       "      <td>An expanding software and consultancy services...</td>\n",
       "      <td>Cambridge, Cambridgeshire</td>\n",
       "      <td>Cambridge</td>\n",
       "      <td>NaN</td>\n",
       "      <td>permanent</td>\n",
       "      <td>Indigo 21 Ltd</td>\n",
       "      <td>IT Jobs</td>\n",
       "      <td>20000 - 40000/annum</td>\n",
       "      <td>30000</td>\n",
       "      <td>cv-library.co.uk</td>\n",
       "    </tr>\n",
       "    <tr>\n",
       "      <th>...</th>\n",
       "      <td>...</td>\n",
       "      <td>...</td>\n",
       "      <td>...</td>\n",
       "      <td>...</td>\n",
       "      <td>...</td>\n",
       "      <td>...</td>\n",
       "      <td>...</td>\n",
       "      <td>...</td>\n",
       "      <td>...</td>\n",
       "      <td>...</td>\n",
       "      <td>...</td>\n",
       "      <td>...</td>\n",
       "    </tr>\n",
       "    <tr>\n",
       "      <th>244322</th>\n",
       "      <td>72695854</td>\n",
       "      <td>Mid / Senior Software Developer Shropshire ****k</td>\n",
       "      <td>Mid/Senior Software Developer Shropshire ****k...</td>\n",
       "      <td>Shropshire</td>\n",
       "      <td>Shropshire</td>\n",
       "      <td>NaN</td>\n",
       "      <td>permanent</td>\n",
       "      <td>Exposed Solutions Ltd</td>\n",
       "      <td>IT Jobs</td>\n",
       "      <td>30k - 35k pa</td>\n",
       "      <td>32500</td>\n",
       "      <td>jobsite.co.uk</td>\n",
       "    </tr>\n",
       "    <tr>\n",
       "      <th>244325</th>\n",
       "      <td>72695864</td>\n",
       "      <td>Junior Trainer</td>\n",
       "      <td>Junior IT Trainer  Top 20 UK Law Firm  Central...</td>\n",
       "      <td>City of London</td>\n",
       "      <td>The City</td>\n",
       "      <td>NaN</td>\n",
       "      <td>permanent</td>\n",
       "      <td>Venturi Ltd</td>\n",
       "      <td>IT Jobs</td>\n",
       "      <td>32000.00 - 33k pa + FULL BEN EFITS</td>\n",
       "      <td>32500</td>\n",
       "      <td>jobsite.co.uk</td>\n",
       "    </tr>\n",
       "    <tr>\n",
       "      <th>244334</th>\n",
       "      <td>72695898</td>\n",
       "      <td>PHP Software Developer</td>\n",
       "      <td>PHP Software Developer Glasgow Eden Scott s cl...</td>\n",
       "      <td>Glasgow</td>\n",
       "      <td>Glasgow</td>\n",
       "      <td>NaN</td>\n",
       "      <td>permanent</td>\n",
       "      <td>Eden Scott Ltd</td>\n",
       "      <td>IT Jobs</td>\n",
       "      <td>25k - 30k pa + benefits</td>\n",
       "      <td>27500</td>\n",
       "      <td>jobsite.co.uk</td>\n",
       "    </tr>\n",
       "    <tr>\n",
       "      <th>244336</th>\n",
       "      <td>72695902</td>\n",
       "      <td>MI Analyst (Reporting Analyst)  Trainee</td>\n",
       "      <td>MI Analyst (Reporting Analyst)  Trainee. Excel...</td>\n",
       "      <td>Surrey</td>\n",
       "      <td>Surrey</td>\n",
       "      <td>NaN</td>\n",
       "      <td>permanent</td>\n",
       "      <td>Randstad Technologies Limited</td>\n",
       "      <td>IT Jobs</td>\n",
       "      <td>25000.00 - 30000.00 pa</td>\n",
       "      <td>27500</td>\n",
       "      <td>jobsite.co.uk</td>\n",
       "    </tr>\n",
       "    <tr>\n",
       "      <th>244348</th>\n",
       "      <td>72695949</td>\n",
       "      <td>Web Designer / Developer</td>\n",
       "      <td>Job Role: Web Designer/Developer Location: Che...</td>\n",
       "      <td>Cheltenham</td>\n",
       "      <td>Cheltenham</td>\n",
       "      <td>NaN</td>\n",
       "      <td>permanent</td>\n",
       "      <td>Rise Technical Recruitment Limited</td>\n",
       "      <td>IT Jobs</td>\n",
       "      <td>18k - 23k pa + package</td>\n",
       "      <td>20500</td>\n",
       "      <td>jobsite.co.uk</td>\n",
       "    </tr>\n",
       "  </tbody>\n",
       "</table>\n",
       "<p>38483 rows × 12 columns</p>\n",
       "</div>"
      ],
      "text/plain": [
       "              Id                                             Title  \\\n",
       "31      27527047                                   C/C++ Developer   \n",
       "32      27527050                              Senior PHP Developer   \n",
       "33      27527063                           Senior Website Designer   \n",
       "34      27527077                      Business Development Manager   \n",
       "38      27754996                                       QA Engineer   \n",
       "...          ...                                               ...   \n",
       "244322  72695854  Mid / Senior Software Developer Shropshire ****k   \n",
       "244325  72695864                                    Junior Trainer   \n",
       "244334  72695898                            PHP Software Developer   \n",
       "244336  72695902           MI Analyst (Reporting Analyst)  Trainee   \n",
       "244348  72695949                          Web Designer / Developer   \n",
       "\n",
       "                                          FullDescription  \\\n",
       "31      A leading company that provides stock market a...   \n",
       "32      A skilled Senior PHP Developer is required by ...   \n",
       "33      SENIOR WEBSITE DESIGNER Location: York, East Y...   \n",
       "34      The Company: Our client are a full service, cr...   \n",
       "38      An expanding software and consultancy services...   \n",
       "...                                                   ...   \n",
       "244322  Mid/Senior Software Developer Shropshire ****k...   \n",
       "244325  Junior IT Trainer  Top 20 UK Law Firm  Central...   \n",
       "244334  PHP Software Developer Glasgow Eden Scott s cl...   \n",
       "244336  MI Analyst (Reporting Analyst)  Trainee. Excel...   \n",
       "244348  Job Role: Web Designer/Developer Location: Che...   \n",
       "\n",
       "                      LocationRaw   LocationNormalized ContractType  \\\n",
       "31                         London               London          NaN   \n",
       "32         Central London, London       Central London          NaN   \n",
       "33          York, North Yorkshire                 York          NaN   \n",
       "34          Tyne Wear, North East  Newcastle Upon Tyne          NaN   \n",
       "38      Cambridge, Cambridgeshire            Cambridge          NaN   \n",
       "...                           ...                  ...          ...   \n",
       "244322                 Shropshire           Shropshire          NaN   \n",
       "244325             City of London             The City          NaN   \n",
       "244334                    Glasgow              Glasgow          NaN   \n",
       "244336                     Surrey               Surrey          NaN   \n",
       "244348                 Cheltenham           Cheltenham          NaN   \n",
       "\n",
       "       ContractTime                             Company Category  \\\n",
       "31        permanent                       Indigo 21 Ltd  IT Jobs   \n",
       "32        permanent                       Indigo 21 Ltd  IT Jobs   \n",
       "33        permanent                       Indigo 21 Ltd  IT Jobs   \n",
       "34        permanent                  Asset Appointments  IT Jobs   \n",
       "38        permanent                       Indigo 21 Ltd  IT Jobs   \n",
       "...             ...                                 ...      ...   \n",
       "244322    permanent               Exposed Solutions Ltd  IT Jobs   \n",
       "244325    permanent                         Venturi Ltd  IT Jobs   \n",
       "244334    permanent                      Eden Scott Ltd  IT Jobs   \n",
       "244336    permanent       Randstad Technologies Limited  IT Jobs   \n",
       "244348    permanent  Rise Technical Recruitment Limited  IT Jobs   \n",
       "\n",
       "                                             SalaryRaw  SalaryNormalized  \\\n",
       "31                                 25000 - 40000/annum             32500   \n",
       "32                                 40000 - 50000/annum             45000   \n",
       "33                                 20000 - 30000/annum             25000   \n",
       "34      18000 - 24000/annum plus commission OTE 50-60k             21000   \n",
       "38                                 20000 - 40000/annum             30000   \n",
       "...                                                ...               ...   \n",
       "244322                                    30k - 35k pa             32500   \n",
       "244325              32000.00 - 33k pa + FULL BEN EFITS             32500   \n",
       "244334                         25k - 30k pa + benefits             27500   \n",
       "244336                          25000.00 - 30000.00 pa             27500   \n",
       "244348                          18k - 23k pa + package             20500   \n",
       "\n",
       "              SourceName  \n",
       "31      cv-library.co.uk  \n",
       "32      cv-library.co.uk  \n",
       "33      cv-library.co.uk  \n",
       "34      cv-library.co.uk  \n",
       "38      cv-library.co.uk  \n",
       "...                  ...  \n",
       "244322     jobsite.co.uk  \n",
       "244325     jobsite.co.uk  \n",
       "244334     jobsite.co.uk  \n",
       "244336     jobsite.co.uk  \n",
       "244348     jobsite.co.uk  \n",
       "\n",
       "[38483 rows x 12 columns]"
      ]
     },
     "execution_count": 62,
     "metadata": {},
     "output_type": "execute_result"
    }
   ],
   "source": [
    "#check most suspicious potential outliers above upper bound\n",
    "train_data[(train_data.SalaryNormalized > 222.5) & (train_data.Category == 'IT Jobs')]"
   ]
  },
  {
   "cell_type": "markdown",
   "metadata": {},
   "source": [
    "### Comments"
   ]
  },
  {
   "cell_type": "markdown",
   "metadata": {},
   "source": [
    "Examine missing Contract Time"
   ]
  },
  {
   "cell_type": "code",
   "execution_count": 63,
   "metadata": {},
   "outputs": [
    {
     "data": {
      "text/plain": [
       "permanent    151521\n",
       "contract      29342\n",
       "Name: ContractTime, dtype: int64"
      ]
     },
     "execution_count": 63,
     "metadata": {},
     "output_type": "execute_result"
    }
   ],
   "source": [
    "train_data.ContractTime.value_counts()\n"
   ]
  },
  {
   "cell_type": "markdown",
   "metadata": {},
   "source": [
    "### Comments"
   ]
  },
  {
   "cell_type": "markdown",
   "metadata": {},
   "source": [
    "Crosstab Contract Type and Contract time columns via percentage "
   ]
  },
  {
   "cell_type": "code",
   "execution_count": 64,
   "metadata": {},
   "outputs": [
    {
     "data": {
      "text/html": [
       "<div>\n",
       "<style scoped>\n",
       "    .dataframe tbody tr th:only-of-type {\n",
       "        vertical-align: middle;\n",
       "    }\n",
       "\n",
       "    .dataframe tbody tr th {\n",
       "        vertical-align: top;\n",
       "    }\n",
       "\n",
       "    .dataframe thead th {\n",
       "        text-align: right;\n",
       "    }\n",
       "</style>\n",
       "<table border=\"1\" class=\"dataframe\">\n",
       "  <thead>\n",
       "    <tr style=\"text-align: right;\">\n",
       "      <th>ContractType</th>\n",
       "      <th>Unk</th>\n",
       "      <th>full_time</th>\n",
       "      <th>part_time</th>\n",
       "    </tr>\n",
       "    <tr>\n",
       "      <th>ContractTime</th>\n",
       "      <th></th>\n",
       "      <th></th>\n",
       "      <th></th>\n",
       "    </tr>\n",
       "  </thead>\n",
       "  <tbody>\n",
       "    <tr>\n",
       "      <th>Unk</th>\n",
       "      <td>0.147090</td>\n",
       "      <td>0.087287</td>\n",
       "      <td>0.026707</td>\n",
       "    </tr>\n",
       "    <tr>\n",
       "      <th>contract</th>\n",
       "      <td>0.097782</td>\n",
       "      <td>0.019664</td>\n",
       "      <td>0.002431</td>\n",
       "    </tr>\n",
       "    <tr>\n",
       "      <th>permanent</th>\n",
       "      <td>0.487764</td>\n",
       "      <td>0.128121</td>\n",
       "      <td>0.003154</td>\n",
       "    </tr>\n",
       "  </tbody>\n",
       "</table>\n",
       "</div>"
      ],
      "text/plain": [
       "ContractType       Unk  full_time  part_time\n",
       "ContractTime                                \n",
       "Unk           0.147090   0.087287   0.026707\n",
       "contract      0.097782   0.019664   0.002431\n",
       "permanent     0.487764   0.128121   0.003154"
      ]
     },
     "execution_count": 64,
     "metadata": {},
     "output_type": "execute_result"
    }
   ],
   "source": [
    "pd.crosstab(train_data.ContractTime.fillna(\"Unk\"), train_data.ContractType.fillna(\"Unk\"))/len(train_data)"
   ]
  },
  {
   "cell_type": "markdown",
   "metadata": {},
   "source": [
    "### Comments"
   ]
  },
  {
   "cell_type": "markdown",
   "metadata": {},
   "source": [
    "Cannot infer the contract type and contract time from each other.\n",
    "\n",
    "The high-salary potential outliers all appear to be legitmate data. The majority of the roles are Top I.T. roles in the industries known for high salaries. I am determining that these entries are to be legimate."
   ]
  },
  {
   "cell_type": "markdown",
   "metadata": {},
   "source": [
    "### 2.4.5 Number Of Missing Values by bar Chart"
   ]
  },
  {
   "cell_type": "code",
   "execution_count": 65,
   "metadata": {},
   "outputs": [
    {
     "data": {
      "text/plain": [
       "<AxesSubplot:xlabel='cv-library.co.uk', ylabel='Percent missing'>"
      ]
     },
     "execution_count": 65,
     "metadata": {},
     "output_type": "execute_result"
    },
    {
     "data": {
      "image/png": "[encoded data removed]",
      "text/plain": [
       "<Figure size 648x504 with 1 Axes>"
      ]
     },
     "metadata": {
      "needs_background": "light"
     },
     "output_type": "display_data"
    }
   ],
   "source": [
    "null_vals = train_data.isnull().sum()/len(train_data)*100\n",
    "null_vals = pd.DataFrame(null_vals)\n",
    "null_vals.reset_index(inplace = True)\n",
    "null_vals.columns = [\"cv-library.co.uk\",\"Percent missing\"]\n",
    "plt.figure(figsize = (9,7))\n",
    "plt.xticks(rotation=85)\n",
    "sns.barplot(x =\"cv-library.co.uk\",y =\"Percent missing\",data = null_vals)"
   ]
  },
  {
   "cell_type": "markdown",
   "metadata": {},
   "source": [
    "### Visualize Missing Values by Column"
   ]
  },
  {
   "cell_type": "code",
   "execution_count": 66,
   "metadata": {},
   "outputs": [
    {
     "data": {
      "text/plain": [
       "<AxesSubplot:>"
      ]
     },
     "execution_count": 66,
     "metadata": {},
     "output_type": "execute_result"
    },
    {
     "data": {
      "image/png": "[encoded data removed]",
      "text/plain": [
       "<Figure size 1800x720 with 2 Axes>"
      ]
     },
     "metadata": {
      "needs_background": "light"
     },
     "output_type": "display_data"
    }
   ],
   "source": [
    "msno.matrix(train_data)"
   ]
  },
  {
   "cell_type": "markdown",
   "metadata": {},
   "source": [
    "### 2.4.6 Data Definition - (Take a deeper look at the data)"
   ]
  },
  {
   "cell_type": "code",
   "execution_count": 67,
   "metadata": {},
   "outputs": [
    {
     "name": "stdout",
     "output_type": "stream",
     "text": [
      "<class 'pandas.core.frame.DataFrame'>\n",
      "RangeIndex: 244768 entries, 0 to 244767\n",
      "Data columns (total 12 columns):\n",
      " #   Column              Non-Null Count   Dtype \n",
      "---  ------              --------------   ----- \n",
      " 0   Id                  244768 non-null  int64 \n",
      " 1   Title               244767 non-null  object\n",
      " 2   FullDescription     244768 non-null  object\n",
      " 3   LocationRaw         244768 non-null  object\n",
      " 4   LocationNormalized  244768 non-null  object\n",
      " 5   ContractType        65442 non-null   object\n",
      " 6   ContractTime        180863 non-null  object\n",
      " 7   Company             212338 non-null  object\n",
      " 8   Category            244768 non-null  object\n",
      " 9   SalaryRaw           244768 non-null  object\n",
      " 10  SalaryNormalized    244768 non-null  int64 \n",
      " 11  SourceName          244767 non-null  object\n",
      "dtypes: int64(2), object(10)\n",
      "memory usage: 22.4+ MB\n"
     ]
    }
   ],
   "source": [
    "#Call the info method on train_data to see a summary of the data.info \n",
    "train_data.info()"
   ]
  },
  {
   "cell_type": "code",
   "execution_count": 68,
   "metadata": {},
   "outputs": [
    {
     "data": {
      "text/html": [
       "<div>\n",
       "<style scoped>\n",
       "    .dataframe tbody tr th:only-of-type {\n",
       "        vertical-align: middle;\n",
       "    }\n",
       "\n",
       "    .dataframe tbody tr th {\n",
       "        vertical-align: top;\n",
       "    }\n",
       "\n",
       "    .dataframe thead th {\n",
       "        text-align: right;\n",
       "    }\n",
       "</style>\n",
       "<table border=\"1\" class=\"dataframe\">\n",
       "  <thead>\n",
       "    <tr style=\"text-align: right;\">\n",
       "      <th></th>\n",
       "      <th>Title</th>\n",
       "      <th>FullDescription</th>\n",
       "      <th>LocationRaw</th>\n",
       "      <th>LocationNormalized</th>\n",
       "      <th>ContractType</th>\n",
       "      <th>ContractTime</th>\n",
       "      <th>Company</th>\n",
       "      <th>Category</th>\n",
       "      <th>SalaryRaw</th>\n",
       "      <th>SourceName</th>\n",
       "    </tr>\n",
       "  </thead>\n",
       "  <tbody>\n",
       "    <tr>\n",
       "      <th>0</th>\n",
       "      <td>Engineering Systems Analyst</td>\n",
       "      <td>Engineering Systems Analyst Dorking Surrey Sal...</td>\n",
       "      <td>Dorking, Surrey, Surrey</td>\n",
       "      <td>Dorking</td>\n",
       "      <td>NaN</td>\n",
       "      <td>permanent</td>\n",
       "      <td>Gregory Martin International</td>\n",
       "      <td>Engineering Jobs</td>\n",
       "      <td>20000 - 30000/annum 20-30K</td>\n",
       "      <td>cv-library.co.uk</td>\n",
       "    </tr>\n",
       "    <tr>\n",
       "      <th>1</th>\n",
       "      <td>Stress Engineer Glasgow</td>\n",
       "      <td>Stress Engineer Glasgow Salary **** to **** We...</td>\n",
       "      <td>Glasgow, Scotland, Scotland</td>\n",
       "      <td>Glasgow</td>\n",
       "      <td>NaN</td>\n",
       "      <td>permanent</td>\n",
       "      <td>Gregory Martin International</td>\n",
       "      <td>Engineering Jobs</td>\n",
       "      <td>25000 - 35000/annum 25-35K</td>\n",
       "      <td>cv-library.co.uk</td>\n",
       "    </tr>\n",
       "    <tr>\n",
       "      <th>2</th>\n",
       "      <td>Modelling and simulation analyst</td>\n",
       "      <td>Mathematical Modeller / Simulation Analyst / O...</td>\n",
       "      <td>Hampshire, South East, South East</td>\n",
       "      <td>Hampshire</td>\n",
       "      <td>NaN</td>\n",
       "      <td>permanent</td>\n",
       "      <td>Gregory Martin International</td>\n",
       "      <td>Engineering Jobs</td>\n",
       "      <td>20000 - 40000/annum 20-40K</td>\n",
       "      <td>cv-library.co.uk</td>\n",
       "    </tr>\n",
       "    <tr>\n",
       "      <th>3</th>\n",
       "      <td>Engineering Systems Analyst / Mathematical Mod...</td>\n",
       "      <td>Engineering Systems Analyst / Mathematical Mod...</td>\n",
       "      <td>Surrey, South East, South East</td>\n",
       "      <td>Surrey</td>\n",
       "      <td>NaN</td>\n",
       "      <td>permanent</td>\n",
       "      <td>Gregory Martin International</td>\n",
       "      <td>Engineering Jobs</td>\n",
       "      <td>25000 - 30000/annum 25K-30K negotiable</td>\n",
       "      <td>cv-library.co.uk</td>\n",
       "    </tr>\n",
       "    <tr>\n",
       "      <th>4</th>\n",
       "      <td>Pioneer, Miser Engineering Systems Analyst</td>\n",
       "      <td>Pioneer, Miser  Engineering Systems Analyst Do...</td>\n",
       "      <td>Surrey, South East, South East</td>\n",
       "      <td>Surrey</td>\n",
       "      <td>NaN</td>\n",
       "      <td>permanent</td>\n",
       "      <td>Gregory Martin International</td>\n",
       "      <td>Engineering Jobs</td>\n",
       "      <td>20000 - 30000/annum 20-30K</td>\n",
       "      <td>cv-library.co.uk</td>\n",
       "    </tr>\n",
       "    <tr>\n",
       "      <th>...</th>\n",
       "      <td>...</td>\n",
       "      <td>...</td>\n",
       "      <td>...</td>\n",
       "      <td>...</td>\n",
       "      <td>...</td>\n",
       "      <td>...</td>\n",
       "      <td>...</td>\n",
       "      <td>...</td>\n",
       "      <td>...</td>\n",
       "      <td>...</td>\n",
       "    </tr>\n",
       "    <tr>\n",
       "      <th>244763</th>\n",
       "      <td>TEACHER OF SCIENCE</td>\n",
       "      <td>Position: Qualified Teacher Subject/Specialism...</td>\n",
       "      <td>Swindon</td>\n",
       "      <td>Swindon</td>\n",
       "      <td>NaN</td>\n",
       "      <td>contract</td>\n",
       "      <td>NaN</td>\n",
       "      <td>Teaching Jobs</td>\n",
       "      <td>450 - 500 per week</td>\n",
       "      <td>hays.co.uk</td>\n",
       "    </tr>\n",
       "    <tr>\n",
       "      <th>244764</th>\n",
       "      <td>TEACHER OF BUSINESS STUDIES AND ICT</td>\n",
       "      <td>Position: Qualified Teacher or NQT Subject/Spe...</td>\n",
       "      <td>Swindon</td>\n",
       "      <td>Swindon</td>\n",
       "      <td>NaN</td>\n",
       "      <td>contract</td>\n",
       "      <td>NaN</td>\n",
       "      <td>Teaching Jobs</td>\n",
       "      <td>450 - 500 per week</td>\n",
       "      <td>hays.co.uk</td>\n",
       "    </tr>\n",
       "    <tr>\n",
       "      <th>244765</th>\n",
       "      <td>ENGLISH TEACHER</td>\n",
       "      <td>Position: Qualified Teacher Subject/Specialism...</td>\n",
       "      <td>Swindon</td>\n",
       "      <td>Swindon</td>\n",
       "      <td>NaN</td>\n",
       "      <td>contract</td>\n",
       "      <td>NaN</td>\n",
       "      <td>Teaching Jobs</td>\n",
       "      <td>450 - 500 per week</td>\n",
       "      <td>hays.co.uk</td>\n",
       "    </tr>\n",
       "    <tr>\n",
       "      <th>244766</th>\n",
       "      <td>SUPPLY TEACHERS</td>\n",
       "      <td>Position: Qualified Teacher Subject/Specialism...</td>\n",
       "      <td>Wiltshire</td>\n",
       "      <td>Wiltshire</td>\n",
       "      <td>NaN</td>\n",
       "      <td>contract</td>\n",
       "      <td>NaN</td>\n",
       "      <td>Teaching Jobs</td>\n",
       "      <td>450 to 500 per week</td>\n",
       "      <td>hays.co.uk</td>\n",
       "    </tr>\n",
       "    <tr>\n",
       "      <th>244767</th>\n",
       "      <td>Accountant</td>\n",
       "      <td>This entrepreneurial and growing private equit...</td>\n",
       "      <td>Hitchin</td>\n",
       "      <td>Hitchin</td>\n",
       "      <td>NaN</td>\n",
       "      <td>permanent</td>\n",
       "      <td>NaN</td>\n",
       "      <td>Teaching Jobs</td>\n",
       "      <td>40-45,000</td>\n",
       "      <td>hays.co.uk</td>\n",
       "    </tr>\n",
       "  </tbody>\n",
       "</table>\n",
       "<p>244768 rows × 10 columns</p>\n",
       "</div>"
      ],
      "text/plain": [
       "                                                    Title  \\\n",
       "0                             Engineering Systems Analyst   \n",
       "1                                 Stress Engineer Glasgow   \n",
       "2                        Modelling and simulation analyst   \n",
       "3       Engineering Systems Analyst / Mathematical Mod...   \n",
       "4              Pioneer, Miser Engineering Systems Analyst   \n",
       "...                                                   ...   \n",
       "244763                                 TEACHER OF SCIENCE   \n",
       "244764                TEACHER OF BUSINESS STUDIES AND ICT   \n",
       "244765                                    ENGLISH TEACHER   \n",
       "244766                                    SUPPLY TEACHERS   \n",
       "244767                                         Accountant   \n",
       "\n",
       "                                          FullDescription  \\\n",
       "0       Engineering Systems Analyst Dorking Surrey Sal...   \n",
       "1       Stress Engineer Glasgow Salary **** to **** We...   \n",
       "2       Mathematical Modeller / Simulation Analyst / O...   \n",
       "3       Engineering Systems Analyst / Mathematical Mod...   \n",
       "4       Pioneer, Miser  Engineering Systems Analyst Do...   \n",
       "...                                                   ...   \n",
       "244763  Position: Qualified Teacher Subject/Specialism...   \n",
       "244764  Position: Qualified Teacher or NQT Subject/Spe...   \n",
       "244765  Position: Qualified Teacher Subject/Specialism...   \n",
       "244766  Position: Qualified Teacher Subject/Specialism...   \n",
       "244767  This entrepreneurial and growing private equit...   \n",
       "\n",
       "                              LocationRaw LocationNormalized ContractType  \\\n",
       "0                 Dorking, Surrey, Surrey            Dorking          NaN   \n",
       "1             Glasgow, Scotland, Scotland            Glasgow          NaN   \n",
       "2       Hampshire, South East, South East          Hampshire          NaN   \n",
       "3          Surrey, South East, South East             Surrey          NaN   \n",
       "4          Surrey, South East, South East             Surrey          NaN   \n",
       "...                                   ...                ...          ...   \n",
       "244763                            Swindon            Swindon          NaN   \n",
       "244764                            Swindon            Swindon          NaN   \n",
       "244765                            Swindon            Swindon          NaN   \n",
       "244766                          Wiltshire          Wiltshire          NaN   \n",
       "244767                            Hitchin            Hitchin          NaN   \n",
       "\n",
       "       ContractTime                       Company          Category  \\\n",
       "0         permanent  Gregory Martin International  Engineering Jobs   \n",
       "1         permanent  Gregory Martin International  Engineering Jobs   \n",
       "2         permanent  Gregory Martin International  Engineering Jobs   \n",
       "3         permanent  Gregory Martin International  Engineering Jobs   \n",
       "4         permanent  Gregory Martin International  Engineering Jobs   \n",
       "...             ...                           ...               ...   \n",
       "244763     contract                           NaN     Teaching Jobs   \n",
       "244764     contract                           NaN     Teaching Jobs   \n",
       "244765     contract                           NaN     Teaching Jobs   \n",
       "244766     contract                           NaN     Teaching Jobs   \n",
       "244767    permanent                           NaN     Teaching Jobs   \n",
       "\n",
       "                                     SalaryRaw        SourceName  \n",
       "0                   20000 - 30000/annum 20-30K  cv-library.co.uk  \n",
       "1                   25000 - 35000/annum 25-35K  cv-library.co.uk  \n",
       "2                   20000 - 40000/annum 20-40K  cv-library.co.uk  \n",
       "3       25000 - 30000/annum 25K-30K negotiable  cv-library.co.uk  \n",
       "4                   20000 - 30000/annum 20-30K  cv-library.co.uk  \n",
       "...                                        ...               ...  \n",
       "244763                      450 - 500 per week        hays.co.uk  \n",
       "244764                      450 - 500 per week        hays.co.uk  \n",
       "244765                      450 - 500 per week        hays.co.uk  \n",
       "244766                     450 to 500 per week        hays.co.uk  \n",
       "244767                               40-45,000        hays.co.uk  \n",
       "\n",
       "[244768 rows x 10 columns]"
      ]
     },
     "execution_count": 68,
     "metadata": {},
     "output_type": "execute_result"
    }
   ],
   "source": [
    "train_data.select_dtypes('object')"
   ]
  },
  {
   "cell_type": "markdown",
   "metadata": {},
   "source": [
    "### 2.5. Data Cleaning: Scrubbing Data "
   ]
  },
  {
   "cell_type": "code",
   "execution_count": 69,
   "metadata": {},
   "outputs": [],
   "source": [
    "def Scrub_Data(data, columns, axis, vals, names):\n",
    "    #drop useless columns\n",
    "    data = data.drop(columns, axis = 1)\n",
    "    #detect the missing data\n",
    "    missingcounts = data.isnull().sum()\n",
    "    missingcols = [col for col in missingcounts.keys() if missingcounts[col] != 0]\n",
    "    #fill the missing data with specific values\n",
    "    values = dict(zip(missingcols, vals))\n",
    "    data = data.fillna(value = values)\n",
    "    #rename the columns\n",
    "    data.columns = names\n",
    "    return data\n"
   ]
  },
  {
   "cell_type": "code",
   "execution_count": 70,
   "metadata": {},
   "outputs": [],
   "source": [
    "#fill missing data for \"ContractType\", \"ContractTime\", \"Company\" with Unknown\n",
    "train_data = train_data.fillna(\"Unknown\")\n",
    "\n",
    "\n",
    "#rename the columns\n",
    "names = [\"Job Code\", \"Title\", \"Job Description\", \"Region\", \"Location\", \"ContractType\", \"ContractTime\", \"Company\", \"Category\", \"Salary_Range\", \"Actual_Salary\",\"Source_Name\"]\n",
    "train_data.columns = names\n"
   ]
  },
  {
   "cell_type": "code",
   "execution_count": 71,
   "metadata": {},
   "outputs": [
    {
     "data": {
      "text/html": [
       "<div>\n",
       "<style scoped>\n",
       "    .dataframe tbody tr th:only-of-type {\n",
       "        vertical-align: middle;\n",
       "    }\n",
       "\n",
       "    .dataframe tbody tr th {\n",
       "        vertical-align: top;\n",
       "    }\n",
       "\n",
       "    .dataframe thead th {\n",
       "        text-align: right;\n",
       "    }\n",
       "</style>\n",
       "<table border=\"1\" class=\"dataframe\">\n",
       "  <thead>\n",
       "    <tr style=\"text-align: right;\">\n",
       "      <th></th>\n",
       "      <th>Job Code</th>\n",
       "      <th>Title</th>\n",
       "      <th>Job Description</th>\n",
       "      <th>Region</th>\n",
       "      <th>Location</th>\n",
       "      <th>ContractType</th>\n",
       "      <th>ContractTime</th>\n",
       "      <th>Company</th>\n",
       "      <th>Category</th>\n",
       "      <th>Salary_Range</th>\n",
       "      <th>Actual_Salary</th>\n",
       "      <th>Source_Name</th>\n",
       "    </tr>\n",
       "  </thead>\n",
       "  <tbody>\n",
       "    <tr>\n",
       "      <th>0</th>\n",
       "      <td>12612628</td>\n",
       "      <td>Engineering Systems Analyst</td>\n",
       "      <td>Engineering Systems Analyst Dorking Surrey Sal...</td>\n",
       "      <td>Dorking, Surrey, Surrey</td>\n",
       "      <td>Dorking</td>\n",
       "      <td>Unknown</td>\n",
       "      <td>permanent</td>\n",
       "      <td>Gregory Martin International</td>\n",
       "      <td>Engineering Jobs</td>\n",
       "      <td>20000 - 30000/annum 20-30K</td>\n",
       "      <td>25000</td>\n",
       "      <td>cv-library.co.uk</td>\n",
       "    </tr>\n",
       "    <tr>\n",
       "      <th>1</th>\n",
       "      <td>12612830</td>\n",
       "      <td>Stress Engineer Glasgow</td>\n",
       "      <td>Stress Engineer Glasgow Salary **** to **** We...</td>\n",
       "      <td>Glasgow, Scotland, Scotland</td>\n",
       "      <td>Glasgow</td>\n",
       "      <td>Unknown</td>\n",
       "      <td>permanent</td>\n",
       "      <td>Gregory Martin International</td>\n",
       "      <td>Engineering Jobs</td>\n",
       "      <td>25000 - 35000/annum 25-35K</td>\n",
       "      <td>30000</td>\n",
       "      <td>cv-library.co.uk</td>\n",
       "    </tr>\n",
       "    <tr>\n",
       "      <th>2</th>\n",
       "      <td>12612844</td>\n",
       "      <td>Modelling and simulation analyst</td>\n",
       "      <td>Mathematical Modeller / Simulation Analyst / O...</td>\n",
       "      <td>Hampshire, South East, South East</td>\n",
       "      <td>Hampshire</td>\n",
       "      <td>Unknown</td>\n",
       "      <td>permanent</td>\n",
       "      <td>Gregory Martin International</td>\n",
       "      <td>Engineering Jobs</td>\n",
       "      <td>20000 - 40000/annum 20-40K</td>\n",
       "      <td>30000</td>\n",
       "      <td>cv-library.co.uk</td>\n",
       "    </tr>\n",
       "    <tr>\n",
       "      <th>3</th>\n",
       "      <td>12613049</td>\n",
       "      <td>Engineering Systems Analyst / Mathematical Mod...</td>\n",
       "      <td>Engineering Systems Analyst / Mathematical Mod...</td>\n",
       "      <td>Surrey, South East, South East</td>\n",
       "      <td>Surrey</td>\n",
       "      <td>Unknown</td>\n",
       "      <td>permanent</td>\n",
       "      <td>Gregory Martin International</td>\n",
       "      <td>Engineering Jobs</td>\n",
       "      <td>25000 - 30000/annum 25K-30K negotiable</td>\n",
       "      <td>27500</td>\n",
       "      <td>cv-library.co.uk</td>\n",
       "    </tr>\n",
       "    <tr>\n",
       "      <th>4</th>\n",
       "      <td>12613647</td>\n",
       "      <td>Pioneer, Miser Engineering Systems Analyst</td>\n",
       "      <td>Pioneer, Miser  Engineering Systems Analyst Do...</td>\n",
       "      <td>Surrey, South East, South East</td>\n",
       "      <td>Surrey</td>\n",
       "      <td>Unknown</td>\n",
       "      <td>permanent</td>\n",
       "      <td>Gregory Martin International</td>\n",
       "      <td>Engineering Jobs</td>\n",
       "      <td>20000 - 30000/annum 20-30K</td>\n",
       "      <td>25000</td>\n",
       "      <td>cv-library.co.uk</td>\n",
       "    </tr>\n",
       "  </tbody>\n",
       "</table>\n",
       "</div>"
      ],
      "text/plain": [
       "   Job Code                                              Title  \\\n",
       "0  12612628                        Engineering Systems Analyst   \n",
       "1  12612830                            Stress Engineer Glasgow   \n",
       "2  12612844                   Modelling and simulation analyst   \n",
       "3  12613049  Engineering Systems Analyst / Mathematical Mod...   \n",
       "4  12613647         Pioneer, Miser Engineering Systems Analyst   \n",
       "\n",
       "                                     Job Description  \\\n",
       "0  Engineering Systems Analyst Dorking Surrey Sal...   \n",
       "1  Stress Engineer Glasgow Salary **** to **** We...   \n",
       "2  Mathematical Modeller / Simulation Analyst / O...   \n",
       "3  Engineering Systems Analyst / Mathematical Mod...   \n",
       "4  Pioneer, Miser  Engineering Systems Analyst Do...   \n",
       "\n",
       "                              Region   Location ContractType ContractTime  \\\n",
       "0            Dorking, Surrey, Surrey    Dorking      Unknown    permanent   \n",
       "1        Glasgow, Scotland, Scotland    Glasgow      Unknown    permanent   \n",
       "2  Hampshire, South East, South East  Hampshire      Unknown    permanent   \n",
       "3     Surrey, South East, South East     Surrey      Unknown    permanent   \n",
       "4     Surrey, South East, South East     Surrey      Unknown    permanent   \n",
       "\n",
       "                        Company          Category  \\\n",
       "0  Gregory Martin International  Engineering Jobs   \n",
       "1  Gregory Martin International  Engineering Jobs   \n",
       "2  Gregory Martin International  Engineering Jobs   \n",
       "3  Gregory Martin International  Engineering Jobs   \n",
       "4  Gregory Martin International  Engineering Jobs   \n",
       "\n",
       "                             Salary_Range  Actual_Salary       Source_Name  \n",
       "0              20000 - 30000/annum 20-30K          25000  cv-library.co.uk  \n",
       "1              25000 - 35000/annum 25-35K          30000  cv-library.co.uk  \n",
       "2              20000 - 40000/annum 20-40K          30000  cv-library.co.uk  \n",
       "3  25000 - 30000/annum 25K-30K negotiable          27500  cv-library.co.uk  \n",
       "4              20000 - 30000/annum 20-30K          25000  cv-library.co.uk  "
      ]
     },
     "execution_count": 71,
     "metadata": {},
     "output_type": "execute_result"
    }
   ],
   "source": [
    "train_data.head()"
   ]
  },
  {
   "cell_type": "code",
   "execution_count": 72,
   "metadata": {},
   "outputs": [
    {
     "data": {
      "text/plain": [
       "Job Code           0\n",
       "Title              0\n",
       "Job Description    0\n",
       "Region             0\n",
       "Location           0\n",
       "ContractType       0\n",
       "ContractTime       0\n",
       "Company            0\n",
       "Category           0\n",
       "Salary_Range       0\n",
       "Actual_Salary      0\n",
       "Source_Name        0\n",
       "dtype: int64"
      ]
     },
     "execution_count": 72,
     "metadata": {},
     "output_type": "execute_result"
    }
   ],
   "source": [
    "train_data.isnull().sum()"
   ]
  },
  {
   "cell_type": "markdown",
   "metadata": {},
   "source": [
    "### 2.6 Examine Top Job Markets "
   ]
  },
  {
   "cell_type": "markdown",
   "metadata": {},
   "source": [
    "###          2.6.1   I.T. Job Market"
   ]
  },
  {
   "cell_type": "code",
   "execution_count": 73,
   "metadata": {},
   "outputs": [],
   "source": [
    "itjobs_data = train_data[(train_data.Actual_Salary) & (train_data.Category == 'IT Jobs')]"
   ]
  },
  {
   "cell_type": "code",
   "execution_count": 74,
   "metadata": {},
   "outputs": [
    {
     "data": {
      "text/html": [
       "<div>\n",
       "<style scoped>\n",
       "    .dataframe tbody tr th:only-of-type {\n",
       "        vertical-align: middle;\n",
       "    }\n",
       "\n",
       "    .dataframe tbody tr th {\n",
       "        vertical-align: top;\n",
       "    }\n",
       "\n",
       "    .dataframe thead th {\n",
       "        text-align: right;\n",
       "    }\n",
       "</style>\n",
       "<table border=\"1\" class=\"dataframe\">\n",
       "  <thead>\n",
       "    <tr style=\"text-align: right;\">\n",
       "      <th></th>\n",
       "      <th>Job Code</th>\n",
       "      <th>Title</th>\n",
       "      <th>Job Description</th>\n",
       "      <th>Region</th>\n",
       "      <th>Location</th>\n",
       "      <th>ContractType</th>\n",
       "      <th>ContractTime</th>\n",
       "      <th>Company</th>\n",
       "      <th>Category</th>\n",
       "      <th>Salary_Range</th>\n",
       "      <th>Actual_Salary</th>\n",
       "      <th>Source_Name</th>\n",
       "    </tr>\n",
       "  </thead>\n",
       "  <tbody>\n",
       "    <tr>\n",
       "      <th>2487</th>\n",
       "      <td>55408230</td>\n",
       "      <td>Configuration Analyst</td>\n",
       "      <td>Configuration Analyst, London, ****k DOE Confi...</td>\n",
       "      <td>London</td>\n",
       "      <td>London</td>\n",
       "      <td>full_time</td>\n",
       "      <td>permanent</td>\n",
       "      <td>Migration</td>\n",
       "      <td>IT Jobs</td>\n",
       "      <td>From 40,000 to 49,999 per year + ( 40,000 - 49...</td>\n",
       "      <td>44999</td>\n",
       "      <td>planetrecruit.com</td>\n",
       "    </tr>\n",
       "    <tr>\n",
       "      <th>2503</th>\n",
       "      <td>55408436</td>\n",
       "      <td>Data Centre Shift Lead, West London, up to ***...</td>\n",
       "      <td>Data Centre Shift Lead, West London, up to ***...</td>\n",
       "      <td>London</td>\n",
       "      <td>London</td>\n",
       "      <td>full_time</td>\n",
       "      <td>permanent</td>\n",
       "      <td>JOBG8</td>\n",
       "      <td>IT Jobs</td>\n",
       "      <td>From 40,000 to 49,999 per year + ( 40,000 - 49...</td>\n",
       "      <td>44999</td>\n",
       "      <td>planetrecruit.com</td>\n",
       "    </tr>\n",
       "    <tr>\n",
       "      <th>2506</th>\n",
       "      <td>55408452</td>\n",
       "      <td>Website/Portal Systems Development Manager (Ja...</td>\n",
       "      <td>Website/Portal Systems Development ManagerLond...</td>\n",
       "      <td>London</td>\n",
       "      <td>London</td>\n",
       "      <td>full_time</td>\n",
       "      <td>permanent</td>\n",
       "      <td>JOBG8</td>\n",
       "      <td>IT Jobs</td>\n",
       "      <td>From 70,000 to 79,999 per year + ( 70,000 - 79...</td>\n",
       "      <td>74999</td>\n",
       "      <td>planetrecruit.com</td>\n",
       "    </tr>\n",
       "    <tr>\n",
       "      <th>2508</th>\n",
       "      <td>55408456</td>\n",
       "      <td>B2B Telesales Executive</td>\n",
       "      <td>Are you an experienced Telesales Executive? If...</td>\n",
       "      <td>Gloucestershire</td>\n",
       "      <td>Gloucestershire</td>\n",
       "      <td>full_time</td>\n",
       "      <td>permanent</td>\n",
       "      <td>JOBG8</td>\n",
       "      <td>IT Jobs</td>\n",
       "      <td>From 20,000 to 29,999 per year + ( 20,000 - 29...</td>\n",
       "      <td>24999</td>\n",
       "      <td>planetrecruit.com</td>\n",
       "    </tr>\n",
       "    <tr>\n",
       "      <th>2581</th>\n",
       "      <td>55409435</td>\n",
       "      <td>Application Team Leader</td>\n",
       "      <td>Essex County Fire &amp; Rescue have a vacancy for ...</td>\n",
       "      <td>Essex</td>\n",
       "      <td>Essex</td>\n",
       "      <td>full_time</td>\n",
       "      <td>permanent</td>\n",
       "      <td>JOBG8</td>\n",
       "      <td>IT Jobs</td>\n",
       "      <td>Up to 36,313 per year + 34549.00-36313.00</td>\n",
       "      <td>36313</td>\n",
       "      <td>planetrecruit.com</td>\n",
       "    </tr>\n",
       "    <tr>\n",
       "      <th>2627</th>\n",
       "      <td>55409778</td>\n",
       "      <td>Online Infrastructure Analyst</td>\n",
       "      <td>Job Title: Online Infrastructure Analyst Refer...</td>\n",
       "      <td>Buckinghamshire</td>\n",
       "      <td>Buckinghamshire</td>\n",
       "      <td>full_time</td>\n",
       "      <td>permanent</td>\n",
       "      <td>JOBG8</td>\n",
       "      <td>IT Jobs</td>\n",
       "      <td>From 30,000 to 39,999 per year + ( 30,000 - 39...</td>\n",
       "      <td>34999</td>\n",
       "      <td>planetrecruit.com</td>\n",
       "    </tr>\n",
       "  </tbody>\n",
       "</table>\n",
       "</div>"
      ],
      "text/plain": [
       "      Job Code                                              Title  \\\n",
       "2487  55408230                              Configuration Analyst   \n",
       "2503  55408436  Data Centre Shift Lead, West London, up to ***...   \n",
       "2506  55408452  Website/Portal Systems Development Manager (Ja...   \n",
       "2508  55408456                            B2B Telesales Executive   \n",
       "2581  55409435                            Application Team Leader   \n",
       "2627  55409778                      Online Infrastructure Analyst   \n",
       "\n",
       "                                        Job Description           Region  \\\n",
       "2487  Configuration Analyst, London, ****k DOE Confi...           London   \n",
       "2503  Data Centre Shift Lead, West London, up to ***...           London   \n",
       "2506  Website/Portal Systems Development ManagerLond...           London   \n",
       "2508  Are you an experienced Telesales Executive? If...  Gloucestershire   \n",
       "2581  Essex County Fire & Rescue have a vacancy for ...            Essex   \n",
       "2627  Job Title: Online Infrastructure Analyst Refer...  Buckinghamshire   \n",
       "\n",
       "             Location ContractType ContractTime    Company Category  \\\n",
       "2487           London    full_time    permanent  Migration  IT Jobs   \n",
       "2503           London    full_time    permanent      JOBG8  IT Jobs   \n",
       "2506           London    full_time    permanent      JOBG8  IT Jobs   \n",
       "2508  Gloucestershire    full_time    permanent      JOBG8  IT Jobs   \n",
       "2581            Essex    full_time    permanent      JOBG8  IT Jobs   \n",
       "2627  Buckinghamshire    full_time    permanent      JOBG8  IT Jobs   \n",
       "\n",
       "                                           Salary_Range  Actual_Salary  \\\n",
       "2487  From 40,000 to 49,999 per year + ( 40,000 - 49...          44999   \n",
       "2503  From 40,000 to 49,999 per year + ( 40,000 - 49...          44999   \n",
       "2506  From 70,000 to 79,999 per year + ( 70,000 - 79...          74999   \n",
       "2508  From 20,000 to 29,999 per year + ( 20,000 - 29...          24999   \n",
       "2581          Up to 36,313 per year + 34549.00-36313.00          36313   \n",
       "2627  From 30,000 to 39,999 per year + ( 30,000 - 39...          34999   \n",
       "\n",
       "            Source_Name  \n",
       "2487  planetrecruit.com  \n",
       "2503  planetrecruit.com  \n",
       "2506  planetrecruit.com  \n",
       "2508  planetrecruit.com  \n",
       "2581  planetrecruit.com  \n",
       "2627  planetrecruit.com  "
      ]
     },
     "execution_count": 74,
     "metadata": {},
     "output_type": "execute_result"
    }
   ],
   "source": [
    "itjobs_data .head(6)"
   ]
  },
  {
   "cell_type": "code",
   "execution_count": 75,
   "metadata": {},
   "outputs": [
    {
     "data": {
      "text/plain": [
       "Business Development Manager       7\n",
       "Oracle Technical Team Leader       5\n",
       "Test Analyst                       5\n",
       "IT Support Engineer                5\n",
       "Business Intelligence Developer    4\n",
       "Name: Title, dtype: int64"
      ]
     },
     "execution_count": 75,
     "metadata": {},
     "output_type": "execute_result"
    }
   ],
   "source": [
    "# find any IT Title duplicates\n",
    "itjobs_data['Title'].value_counts().head()"
   ]
  },
  {
   "cell_type": "markdown",
   "metadata": {},
   "source": [
    "### Comments"
   ]
  },
  {
   "cell_type": "markdown",
   "metadata": {},
   "source": [
    "Duplicates found in IT Job Titles all have unique Job descriptions - No need to consolidate "
   ]
  },
  {
   "cell_type": "markdown",
   "metadata": {},
   "source": [
    "### 2.6.2 Engineering Job Market"
   ]
  },
  {
   "cell_type": "code",
   "execution_count": 76,
   "metadata": {},
   "outputs": [],
   "source": [
    "engjbs_data = train_data[(train_data.Actual_Salary) & (train_data.Category == 'Engineering Jobs')]"
   ]
  },
  {
   "cell_type": "code",
   "execution_count": 77,
   "metadata": {},
   "outputs": [
    {
     "data": {
      "text/html": [
       "<div>\n",
       "<style scoped>\n",
       "    .dataframe tbody tr th:only-of-type {\n",
       "        vertical-align: middle;\n",
       "    }\n",
       "\n",
       "    .dataframe tbody tr th {\n",
       "        vertical-align: top;\n",
       "    }\n",
       "\n",
       "    .dataframe thead th {\n",
       "        text-align: right;\n",
       "    }\n",
       "</style>\n",
       "<table border=\"1\" class=\"dataframe\">\n",
       "  <thead>\n",
       "    <tr style=\"text-align: right;\">\n",
       "      <th></th>\n",
       "      <th>Job Code</th>\n",
       "      <th>Title</th>\n",
       "      <th>Job Description</th>\n",
       "      <th>Region</th>\n",
       "      <th>Location</th>\n",
       "      <th>ContractType</th>\n",
       "      <th>ContractTime</th>\n",
       "      <th>Company</th>\n",
       "      <th>Category</th>\n",
       "      <th>Salary_Range</th>\n",
       "      <th>Actual_Salary</th>\n",
       "      <th>Source_Name</th>\n",
       "    </tr>\n",
       "  </thead>\n",
       "  <tbody>\n",
       "    <tr>\n",
       "      <th>174</th>\n",
       "      <td>46172940</td>\n",
       "      <td>CNC Turner</td>\n",
       "      <td>Ideally you will be apprentice trained having ...</td>\n",
       "      <td>Bradford, West Yorkshire</td>\n",
       "      <td>Bradford</td>\n",
       "      <td>Unknown</td>\n",
       "      <td>permanent</td>\n",
       "      <td>The Works Uk Ltd</td>\n",
       "      <td>Engineering Jobs</td>\n",
       "      <td>11.78/hour 11.78 p.hr + overtime</td>\n",
       "      <td>22617</td>\n",
       "      <td>cv-library.co.uk</td>\n",
       "    </tr>\n",
       "    <tr>\n",
       "      <th>1601</th>\n",
       "      <td>48300471</td>\n",
       "      <td>Horizontal Borer</td>\n",
       "      <td>We are looking to appoint experienced CNC Prog...</td>\n",
       "      <td>newcastle, Tyne and Wear</td>\n",
       "      <td>Newcastle Upon Tyne</td>\n",
       "      <td>Unknown</td>\n",
       "      <td>permanent</td>\n",
       "      <td>Asset Appointments</td>\n",
       "      <td>Engineering Jobs</td>\n",
       "      <td>20.81/hour</td>\n",
       "      <td>39955</td>\n",
       "      <td>cv-library.co.uk</td>\n",
       "    </tr>\n",
       "    <tr>\n",
       "      <th>2309</th>\n",
       "      <td>54460861</td>\n",
       "      <td>Machine Tool Fitter</td>\n",
       "      <td>Machine tool fitters to work shifts on the ass...</td>\n",
       "      <td>Keighley, West Yorkshire</td>\n",
       "      <td>Keighley</td>\n",
       "      <td>Unknown</td>\n",
       "      <td>permanent</td>\n",
       "      <td>The Works Uk Ltd</td>\n",
       "      <td>Engineering Jobs</td>\n",
       "      <td>11.37 - 15.15/hour</td>\n",
       "      <td>25459</td>\n",
       "      <td>cv-library.co.uk</td>\n",
       "    </tr>\n",
       "    <tr>\n",
       "      <th>3344</th>\n",
       "      <td>57844747</td>\n",
       "      <td>CNC Horizontal Borer</td>\n",
       "      <td>Our client has an immediate requirement for a ...</td>\n",
       "      <td>Bradford, West Yorkshire</td>\n",
       "      <td>Bradford</td>\n",
       "      <td>Unknown</td>\n",
       "      <td>contract</td>\n",
       "      <td>Network Employment Consultancy</td>\n",
       "      <td>Engineering Jobs</td>\n",
       "      <td>11.37 - 13.50/hour Depending on Experience</td>\n",
       "      <td>23875</td>\n",
       "      <td>cv-library.co.uk</td>\n",
       "    </tr>\n",
       "    <tr>\n",
       "      <th>3345</th>\n",
       "      <td>57845951</td>\n",
       "      <td>Quality Engineer</td>\n",
       "      <td>Quality Engineer with view to progress to Qual...</td>\n",
       "      <td>Bradford, West Yorkshire</td>\n",
       "      <td>Bradford</td>\n",
       "      <td>Unknown</td>\n",
       "      <td>contract</td>\n",
       "      <td>Network Employment Consultancy</td>\n",
       "      <td>Engineering Jobs</td>\n",
       "      <td>11.37 - 13.50/hour Depending on Experience</td>\n",
       "      <td>23875</td>\n",
       "      <td>cv-library.co.uk</td>\n",
       "    </tr>\n",
       "    <tr>\n",
       "      <th>3400</th>\n",
       "      <td>58373449</td>\n",
       "      <td>Field Service Engineer</td>\n",
       "      <td>The Company Our client is a growing organisati...</td>\n",
       "      <td>Slough, Berkshire Berkshire South East</td>\n",
       "      <td>Slough</td>\n",
       "      <td>Unknown</td>\n",
       "      <td>permanent</td>\n",
       "      <td>MTrec</td>\n",
       "      <td>Engineering Jobs</td>\n",
       "      <td>13.01 per hour</td>\n",
       "      <td>24979</td>\n",
       "      <td>totaljobs.com</td>\n",
       "    </tr>\n",
       "  </tbody>\n",
       "</table>\n",
       "</div>"
      ],
      "text/plain": [
       "      Job Code                   Title  \\\n",
       "174   46172940              CNC Turner   \n",
       "1601  48300471        Horizontal Borer   \n",
       "2309  54460861     Machine Tool Fitter   \n",
       "3344  57844747    CNC Horizontal Borer   \n",
       "3345  57845951        Quality Engineer   \n",
       "3400  58373449  Field Service Engineer   \n",
       "\n",
       "                                        Job Description  \\\n",
       "174   Ideally you will be apprentice trained having ...   \n",
       "1601  We are looking to appoint experienced CNC Prog...   \n",
       "2309  Machine tool fitters to work shifts on the ass...   \n",
       "3344  Our client has an immediate requirement for a ...   \n",
       "3345  Quality Engineer with view to progress to Qual...   \n",
       "3400  The Company Our client is a growing organisati...   \n",
       "\n",
       "                                      Region             Location  \\\n",
       "174                 Bradford, West Yorkshire             Bradford   \n",
       "1601                newcastle, Tyne and Wear  Newcastle Upon Tyne   \n",
       "2309                Keighley, West Yorkshire             Keighley   \n",
       "3344                Bradford, West Yorkshire             Bradford   \n",
       "3345                Bradford, West Yorkshire             Bradford   \n",
       "3400  Slough, Berkshire Berkshire South East               Slough   \n",
       "\n",
       "     ContractType ContractTime                         Company  \\\n",
       "174       Unknown    permanent                The Works Uk Ltd   \n",
       "1601      Unknown    permanent              Asset Appointments   \n",
       "2309      Unknown    permanent                The Works Uk Ltd   \n",
       "3344      Unknown     contract  Network Employment Consultancy   \n",
       "3345      Unknown     contract  Network Employment Consultancy   \n",
       "3400      Unknown    permanent                           MTrec   \n",
       "\n",
       "              Category                                Salary_Range  \\\n",
       "174   Engineering Jobs            11.78/hour 11.78 p.hr + overtime   \n",
       "1601  Engineering Jobs                                  20.81/hour   \n",
       "2309  Engineering Jobs                          11.37 - 15.15/hour   \n",
       "3344  Engineering Jobs  11.37 - 13.50/hour Depending on Experience   \n",
       "3345  Engineering Jobs  11.37 - 13.50/hour Depending on Experience   \n",
       "3400  Engineering Jobs                              13.01 per hour   \n",
       "\n",
       "      Actual_Salary       Source_Name  \n",
       "174           22617  cv-library.co.uk  \n",
       "1601          39955  cv-library.co.uk  \n",
       "2309          25459  cv-library.co.uk  \n",
       "3344          23875  cv-library.co.uk  \n",
       "3345          23875  cv-library.co.uk  \n",
       "3400          24979     totaljobs.com  "
      ]
     },
     "execution_count": 77,
     "metadata": {},
     "output_type": "execute_result"
    }
   ],
   "source": [
    "engjbs_data.head(6)"
   ]
  },
  {
   "cell_type": "markdown",
   "metadata": {},
   "source": [
    "### 2.6.3 Accounting & Finance Job Market"
   ]
  },
  {
   "cell_type": "code",
   "execution_count": 78,
   "metadata": {},
   "outputs": [],
   "source": [
    "accts_data = train_data[(train_data.Actual_Salary) & (train_data.Category == 'Accounting & Finance Jobs')]"
   ]
  },
  {
   "cell_type": "code",
   "execution_count": 79,
   "metadata": {},
   "outputs": [
    {
     "data": {
      "text/html": [
       "<div>\n",
       "<style scoped>\n",
       "    .dataframe tbody tr th:only-of-type {\n",
       "        vertical-align: middle;\n",
       "    }\n",
       "\n",
       "    .dataframe tbody tr th {\n",
       "        vertical-align: top;\n",
       "    }\n",
       "\n",
       "    .dataframe thead th {\n",
       "        text-align: right;\n",
       "    }\n",
       "</style>\n",
       "<table border=\"1\" class=\"dataframe\">\n",
       "  <thead>\n",
       "    <tr style=\"text-align: right;\">\n",
       "      <th></th>\n",
       "      <th>Job Code</th>\n",
       "      <th>Title</th>\n",
       "      <th>Job Description</th>\n",
       "      <th>Region</th>\n",
       "      <th>Location</th>\n",
       "      <th>ContractType</th>\n",
       "      <th>ContractTime</th>\n",
       "      <th>Company</th>\n",
       "      <th>Category</th>\n",
       "      <th>Salary_Range</th>\n",
       "      <th>Actual_Salary</th>\n",
       "      <th>Source_Name</th>\n",
       "    </tr>\n",
       "  </thead>\n",
       "  <tbody>\n",
       "    <tr>\n",
       "      <th>5335</th>\n",
       "      <td>62009032</td>\n",
       "      <td>Intelligence Researcher  Insurance Fraud Enfor...</td>\n",
       "      <td>Intelligence Researcher  Insurance Fraud Enfor...</td>\n",
       "      <td>London Ec</td>\n",
       "      <td>London</td>\n",
       "      <td>Unknown</td>\n",
       "      <td>Unknown</td>\n",
       "      <td>Triumph Consultants</td>\n",
       "      <td>Accounting &amp; Finance Jobs</td>\n",
       "      <td>13.93 ph PAYE, noting that Ltd/Umbrella compan...</td>\n",
       "      <td>26745</td>\n",
       "      <td>MyUkJobs</td>\n",
       "    </tr>\n",
       "    <tr>\n",
       "      <th>7875</th>\n",
       "      <td>65055810</td>\n",
       "      <td>Customer Service Associates  Collections</td>\n",
       "      <td>Collections Officers are responsible for deali...</td>\n",
       "      <td>Rotherham</td>\n",
       "      <td>Rotherham</td>\n",
       "      <td>Unknown</td>\n",
       "      <td>Unknown</td>\n",
       "      <td>RBS</td>\n",
       "      <td>Accounting &amp; Finance Jobs</td>\n",
       "      <td>17,937 (including benefits package)</td>\n",
       "      <td>17937</td>\n",
       "      <td>MyUkJobs</td>\n",
       "    </tr>\n",
       "    <tr>\n",
       "      <th>7886</th>\n",
       "      <td>65056381</td>\n",
       "      <td>Customer Adviser – Retail Telephony</td>\n",
       "      <td>At RBS, the vision of UK Retail (including the...</td>\n",
       "      <td>Manchester</td>\n",
       "      <td>Manchester</td>\n",
       "      <td>Unknown</td>\n",
       "      <td>Unknown</td>\n",
       "      <td>RBS</td>\n",
       "      <td>Accounting &amp; Finance Jobs</td>\n",
       "      <td>18,485 including benefits package</td>\n",
       "      <td>18485</td>\n",
       "      <td>MyUkJobs</td>\n",
       "    </tr>\n",
       "    <tr>\n",
       "      <th>8481</th>\n",
       "      <td>65198949</td>\n",
       "      <td>Senior Intermediary Support Advisor</td>\n",
       "      <td>Do you have excellent Customer Service skills?...</td>\n",
       "      <td>Coventry, West Midlands</td>\n",
       "      <td>Coventry</td>\n",
       "      <td>Unknown</td>\n",
       "      <td>permanent</td>\n",
       "      <td>Brite Recruitment</td>\n",
       "      <td>Accounting &amp; Finance Jobs</td>\n",
       "      <td>18374 - 25265/annum</td>\n",
       "      <td>21819</td>\n",
       "      <td>cv-library.co.uk</td>\n",
       "    </tr>\n",
       "    <tr>\n",
       "      <th>9161</th>\n",
       "      <td>65763976</td>\n",
       "      <td>Appeals Submissions Officer with iWorld experi...</td>\n",
       "      <td>Appeals Submissions Officer with iWorld experi...</td>\n",
       "      <td>London N</td>\n",
       "      <td>North London</td>\n",
       "      <td>Unknown</td>\n",
       "      <td>Unknown</td>\n",
       "      <td>Triumph Consultants</td>\n",
       "      <td>Accounting &amp; Finance Jobs</td>\n",
       "      <td>22.68 ph PAYE, noting that Ltd/Umbrella compan...</td>\n",
       "      <td>43545</td>\n",
       "      <td>MyUkJobs</td>\n",
       "    </tr>\n",
       "    <tr>\n",
       "      <th>9464</th>\n",
       "      <td>65900486</td>\n",
       "      <td>Local Business Manager  Morecambe</td>\n",
       "      <td>Local Business Manager Our impressive growth p...</td>\n",
       "      <td>Morecambe, Lancashire</td>\n",
       "      <td>Morecambe</td>\n",
       "      <td>Unknown</td>\n",
       "      <td>permanent</td>\n",
       "      <td>Santander</td>\n",
       "      <td>Accounting &amp; Finance Jobs</td>\n",
       "      <td>25999 - 29999/annum competitive bonus scheme</td>\n",
       "      <td>27999</td>\n",
       "      <td>cv-library.co.uk</td>\n",
       "    </tr>\n",
       "  </tbody>\n",
       "</table>\n",
       "</div>"
      ],
      "text/plain": [
       "      Job Code                                              Title  \\\n",
       "5335  62009032  Intelligence Researcher  Insurance Fraud Enfor...   \n",
       "7875  65055810           Customer Service Associates  Collections   \n",
       "7886  65056381                Customer Adviser – Retail Telephony   \n",
       "8481  65198949                Senior Intermediary Support Advisor   \n",
       "9161  65763976  Appeals Submissions Officer with iWorld experi...   \n",
       "9464  65900486                  Local Business Manager  Morecambe   \n",
       "\n",
       "                                        Job Description  \\\n",
       "5335  Intelligence Researcher  Insurance Fraud Enfor...   \n",
       "7875  Collections Officers are responsible for deali...   \n",
       "7886  At RBS, the vision of UK Retail (including the...   \n",
       "8481  Do you have excellent Customer Service skills?...   \n",
       "9161  Appeals Submissions Officer with iWorld experi...   \n",
       "9464  Local Business Manager Our impressive growth p...   \n",
       "\n",
       "                       Region      Location ContractType ContractTime  \\\n",
       "5335                London Ec        London      Unknown      Unknown   \n",
       "7875                Rotherham     Rotherham      Unknown      Unknown   \n",
       "7886               Manchester    Manchester      Unknown      Unknown   \n",
       "8481  Coventry, West Midlands      Coventry      Unknown    permanent   \n",
       "9161                 London N  North London      Unknown      Unknown   \n",
       "9464    Morecambe, Lancashire     Morecambe      Unknown    permanent   \n",
       "\n",
       "                  Company                   Category  \\\n",
       "5335  Triumph Consultants  Accounting & Finance Jobs   \n",
       "7875                  RBS  Accounting & Finance Jobs   \n",
       "7886                  RBS  Accounting & Finance Jobs   \n",
       "8481    Brite Recruitment  Accounting & Finance Jobs   \n",
       "9161  Triumph Consultants  Accounting & Finance Jobs   \n",
       "9464            Santander  Accounting & Finance Jobs   \n",
       "\n",
       "                                           Salary_Range  Actual_Salary  \\\n",
       "5335  13.93 ph PAYE, noting that Ltd/Umbrella compan...          26745   \n",
       "7875                17,937 (including benefits package)          17937   \n",
       "7886                  18,485 including benefits package          18485   \n",
       "8481                                18374 - 25265/annum          21819   \n",
       "9161  22.68 ph PAYE, noting that Ltd/Umbrella compan...          43545   \n",
       "9464       25999 - 29999/annum competitive bonus scheme          27999   \n",
       "\n",
       "           Source_Name  \n",
       "5335          MyUkJobs  \n",
       "7875          MyUkJobs  \n",
       "7886          MyUkJobs  \n",
       "8481  cv-library.co.uk  \n",
       "9161          MyUkJobs  \n",
       "9464  cv-library.co.uk  "
      ]
     },
     "execution_count": 79,
     "metadata": {},
     "output_type": "execute_result"
    }
   ],
   "source": [
    "accts_data.head(6)"
   ]
  },
  {
   "cell_type": "markdown",
   "metadata": {},
   "source": [
    "### 2.7 Histogram of all Job Salaries"
   ]
  },
  {
   "cell_type": "code",
   "execution_count": 80,
   "metadata": {},
   "outputs": [
    {
     "data": {
      "text/plain": [
       "<AxesSubplot:>"
      ]
     },
     "execution_count": 80,
     "metadata": {},
     "output_type": "execute_result"
    },
    {
     "data": {
      "image/png": "[encoded data removed]",
      "text/plain": [
       "<Figure size 432x288 with 1 Axes>"
      ]
     },
     "metadata": {
      "needs_background": "light"
     },
     "output_type": "display_data"
    }
   ],
   "source": [
    "%matplotlib inline\n",
    "train_data.Actual_Salary.hist()"
   ]
  },
  {
   "cell_type": "markdown",
   "metadata": {},
   "source": [
    "### 2.8 Histogram of IT Salaries"
   ]
  },
  {
   "cell_type": "code",
   "execution_count": 81,
   "metadata": {},
   "outputs": [
    {
     "data": {
      "text/plain": [
       "<AxesSubplot:>"
      ]
     },
     "execution_count": 81,
     "metadata": {},
     "output_type": "execute_result"
    },
    {
     "data": {
      "image/png": "[encoded data removed]",
      "text/plain": [
       "<Figure size 432x288 with 1 Axes>"
      ]
     },
     "metadata": {
      "needs_background": "light"
     },
     "output_type": "display_data"
    }
   ],
   "source": [
    "itjobs_data.Actual_Salary.hist()"
   ]
  },
  {
   "cell_type": "markdown",
   "metadata": {},
   "source": [
    "### 2.9 Histogram of Engineering Salaries"
   ]
  },
  {
   "cell_type": "code",
   "execution_count": 82,
   "metadata": {},
   "outputs": [
    {
     "data": {
      "text/plain": [
       "<AxesSubplot:>"
      ]
     },
     "execution_count": 82,
     "metadata": {},
     "output_type": "execute_result"
    },
    {
     "data": {
      "image/png": "[encoded data removed]",
      "text/plain": [
       "<Figure size 432x288 with 1 Axes>"
      ]
     },
     "metadata": {
      "needs_background": "light"
     },
     "output_type": "display_data"
    }
   ],
   "source": [
    "engjbs_data.Actual_Salary.hist()"
   ]
  },
  {
   "cell_type": "markdown",
   "metadata": {},
   "source": [
    "### 3.0 Histogram of Accounting & Finance Salaries"
   ]
  },
  {
   "cell_type": "code",
   "execution_count": 83,
   "metadata": {},
   "outputs": [
    {
     "data": {
      "text/plain": [
       "<AxesSubplot:>"
      ]
     },
     "execution_count": 83,
     "metadata": {},
     "output_type": "execute_result"
    },
    {
     "data": {
      "image/png": "[encoded data removed]",
      "text/plain": [
       "<Figure size 432x288 with 1 Axes>"
      ]
     },
     "metadata": {
      "needs_background": "light"
     },
     "output_type": "display_data"
    }
   ],
   "source": [
    "accts_data.Actual_Salary.hist()"
   ]
  },
  {
   "cell_type": "markdown",
   "metadata": {},
   "source": [
    "### Job / Salaries in Descending Order "
   ]
  },
  {
   "cell_type": "code",
   "execution_count": 84,
   "metadata": {},
   "outputs": [],
   "source": [
    "sort_order = train_data[[\"Category\",\"Actual_Salary\"]].groupby(\"Category\").mean().sort_values(by = \"Actual_Salary\", ascending=False).reset_index().Category.values"
   ]
  },
  {
   "cell_type": "code",
   "execution_count": 85,
   "metadata": {},
   "outputs": [
    {
     "data": {
      "image/png": "[encoded data removed]",
      "text/plain": [
       "<Figure size 1008x720 with 1 Axes>"
      ]
     },
     "metadata": {
      "needs_background": "light"
     },
     "output_type": "display_data"
    }
   ],
   "source": [
    "plt.subplots(figsize=(14, 10))\n",
    "sns.boxplot(x='Category', y='Actual_Salary', data=train_data, order=sort_order, showfliers=False)\n",
    "plt.xticks(rotation='vertical')\n",
    "plt.ylabel('Actual_Salary ($)')\n",
    "plt.xlabel('Category');\n"
   ]
  },
  {
   "cell_type": "code",
   "execution_count": null,
   "metadata": {},
   "outputs": [],
   "source": []
  }
 ],
 "metadata": {
  "kernelspec": {
   "display_name": "Python 3",
   "language": "python",
   "name": "python3"
  },
  "language_info": {
   "codemirror_mode": {
    "name": "ipython",
    "version": 3
   },
   "file_extension": ".py",
   "mimetype": "text/x-python",
   "name": "python",
   "nbconvert_exporter": "python",
   "pygments_lexer": "ipython3",
   "version": "3.8.8"
  }
 },
 "nbformat": 4,
 "nbformat_minor": 4
}
