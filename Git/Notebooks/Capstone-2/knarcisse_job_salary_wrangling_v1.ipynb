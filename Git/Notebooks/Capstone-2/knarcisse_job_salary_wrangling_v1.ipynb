{
 "cells": [
  {
   "cell_type": "markdown",
   "metadata": {},
   "source": [
    "# Data Wrangling "
   ]
  },
  {
   "cell_type": "markdown",
   "metadata": {},
   "source": [
    "### 2.1 Introduction"
   ]
  },
  {
   "cell_type": "markdown",
   "metadata": {},
   "source": [
    "This step focuses on collecting data, organizing it, and making sure it's well defined in the following 4 areas of Data Preparation:\n",
    "\n",
    "    #1 - Data Load\n",
    "    #2 - Data Organzation\n",
    "    #3 - Data Definition\n",
    "    #4 - Data Cleaning"
   ]
  },
  {
   "cell_type": "markdown",
   "metadata": {},
   "source": [
    "### 2.1.1 Recap Of Data Science Problem"
   ]
  },
  {
   "cell_type": "markdown",
   "metadata": {},
   "source": [
    "The purpose of this project is to select the top candidates with the most valuable skills. The low and out-of-range salaries for a job type have made it challenging to attract the best talents. This model will be used to provide guidance for It-Talent.com HR Department to attract the best talents for future Job placement opportunities.\n",
    "\n"
   ]
  },
  {
   "cell_type": "markdown",
   "metadata": {},
   "source": [
    "### 2.1.2 Imports"
   ]
  },
  {
   "cell_type": "code",
   "execution_count": 135,
   "metadata": {},
   "outputs": [],
   "source": [
    "import pandas as pd\n",
    "import matplotlib.pyplot as plt\n",
    "import statistics as st\n",
    "import seaborn as sns\n",
    "import os\n",
    "\n",
    "from library.sb_utils import save_file"
   ]
  },
  {
   "cell_type": "markdown",
   "metadata": {},
   "source": [
    "### 2.2 Objectives"
   ]
  },
  {
   "cell_type": "markdown",
   "metadata": {},
   "source": [
    "    Additional Comments:\n",
    "    Identified the required target value?\n",
    "    Do I have potentially useful features?\n",
    "    Do I have any fundamental issues with the data?"
   ]
  },
  {
   "cell_type": "code",
   "execution_count": 136,
   "metadata": {},
   "outputs": [
    {
     "data": {
      "text/plain": [
       "'C:\\\\Users\\\\narci\\\\DS-Plus\\\\Springboard-main\\\\Git\\\\Notebooks\\\\Capstone-2'"
      ]
     },
     "execution_count": 136,
     "metadata": {},
     "output_type": "execute_result"
    }
   ],
   "source": [
    "#Check the path to the directory where you are currently in\n",
    "%pwd"
   ]
  },
  {
   "cell_type": "markdown",
   "metadata": {},
   "source": [
    "### 2.2.1 Data Load"
   ]
  },
  {
   "cell_type": "code",
   "execution_count": 137,
   "metadata": {},
   "outputs": [],
   "source": [
    "my_path = 'C:\\\\Users\\\\narci\\\\DS-Plus\\\\Springboard-main\\\\Git\\\\Notebooks\\\\Capstone-2'"
   ]
  },
  {
   "cell_type": "code",
   "execution_count": 138,
   "metadata": {},
   "outputs": [
    {
     "name": "stdout",
     "output_type": "stream",
     "text": [
      "(244768, 12)\n"
     ]
    },
    {
     "data": {
      "text/html": [
       "<div>\n",
       "<style scoped>\n",
       "    .dataframe tbody tr th:only-of-type {\n",
       "        vertical-align: middle;\n",
       "    }\n",
       "\n",
       "    .dataframe tbody tr th {\n",
       "        vertical-align: top;\n",
       "    }\n",
       "\n",
       "    .dataframe thead th {\n",
       "        text-align: right;\n",
       "    }\n",
       "</style>\n",
       "<table border=\"1\" class=\"dataframe\">\n",
       "  <thead>\n",
       "    <tr style=\"text-align: right;\">\n",
       "      <th></th>\n",
       "      <th>Id</th>\n",
       "      <th>Title</th>\n",
       "      <th>FullDescription</th>\n",
       "      <th>LocationRaw</th>\n",
       "      <th>LocationNormalized</th>\n",
       "      <th>ContractType</th>\n",
       "      <th>ContractTime</th>\n",
       "      <th>Company</th>\n",
       "      <th>Category</th>\n",
       "      <th>SalaryRaw</th>\n",
       "      <th>SalaryNormalized</th>\n",
       "      <th>SourceName</th>\n",
       "    </tr>\n",
       "  </thead>\n",
       "  <tbody>\n",
       "    <tr>\n",
       "      <th>0</th>\n",
       "      <td>12612628</td>\n",
       "      <td>Engineering Systems Analyst</td>\n",
       "      <td>Engineering Systems Analyst Dorking Surrey Sal...</td>\n",
       "      <td>Dorking, Surrey, Surrey</td>\n",
       "      <td>Dorking</td>\n",
       "      <td>NaN</td>\n",
       "      <td>permanent</td>\n",
       "      <td>Gregory Martin International</td>\n",
       "      <td>Engineering Jobs</td>\n",
       "      <td>20000 - 30000/annum 20-30K</td>\n",
       "      <td>25000</td>\n",
       "      <td>cv-library.co.uk</td>\n",
       "    </tr>\n",
       "    <tr>\n",
       "      <th>1</th>\n",
       "      <td>12612830</td>\n",
       "      <td>Stress Engineer Glasgow</td>\n",
       "      <td>Stress Engineer Glasgow Salary **** to **** We...</td>\n",
       "      <td>Glasgow, Scotland, Scotland</td>\n",
       "      <td>Glasgow</td>\n",
       "      <td>NaN</td>\n",
       "      <td>permanent</td>\n",
       "      <td>Gregory Martin International</td>\n",
       "      <td>Engineering Jobs</td>\n",
       "      <td>25000 - 35000/annum 25-35K</td>\n",
       "      <td>30000</td>\n",
       "      <td>cv-library.co.uk</td>\n",
       "    </tr>\n",
       "    <tr>\n",
       "      <th>2</th>\n",
       "      <td>12612844</td>\n",
       "      <td>Modelling and simulation analyst</td>\n",
       "      <td>Mathematical Modeller / Simulation Analyst / O...</td>\n",
       "      <td>Hampshire, South East, South East</td>\n",
       "      <td>Hampshire</td>\n",
       "      <td>NaN</td>\n",
       "      <td>permanent</td>\n",
       "      <td>Gregory Martin International</td>\n",
       "      <td>Engineering Jobs</td>\n",
       "      <td>20000 - 40000/annum 20-40K</td>\n",
       "      <td>30000</td>\n",
       "      <td>cv-library.co.uk</td>\n",
       "    </tr>\n",
       "    <tr>\n",
       "      <th>3</th>\n",
       "      <td>12613049</td>\n",
       "      <td>Engineering Systems Analyst / Mathematical Mod...</td>\n",
       "      <td>Engineering Systems Analyst / Mathematical Mod...</td>\n",
       "      <td>Surrey, South East, South East</td>\n",
       "      <td>Surrey</td>\n",
       "      <td>NaN</td>\n",
       "      <td>permanent</td>\n",
       "      <td>Gregory Martin International</td>\n",
       "      <td>Engineering Jobs</td>\n",
       "      <td>25000 - 30000/annum 25K-30K negotiable</td>\n",
       "      <td>27500</td>\n",
       "      <td>cv-library.co.uk</td>\n",
       "    </tr>\n",
       "  </tbody>\n",
       "</table>\n",
       "</div>"
      ],
      "text/plain": [
       "         Id                                              Title  \\\n",
       "0  12612628                        Engineering Systems Analyst   \n",
       "1  12612830                            Stress Engineer Glasgow   \n",
       "2  12612844                   Modelling and simulation analyst   \n",
       "3  12613049  Engineering Systems Analyst / Mathematical Mod...   \n",
       "\n",
       "                                     FullDescription  \\\n",
       "0  Engineering Systems Analyst Dorking Surrey Sal...   \n",
       "1  Stress Engineer Glasgow Salary **** to **** We...   \n",
       "2  Mathematical Modeller / Simulation Analyst / O...   \n",
       "3  Engineering Systems Analyst / Mathematical Mod...   \n",
       "\n",
       "                         LocationRaw LocationNormalized ContractType  \\\n",
       "0            Dorking, Surrey, Surrey            Dorking          NaN   \n",
       "1        Glasgow, Scotland, Scotland            Glasgow          NaN   \n",
       "2  Hampshire, South East, South East          Hampshire          NaN   \n",
       "3     Surrey, South East, South East             Surrey          NaN   \n",
       "\n",
       "  ContractTime                       Company          Category  \\\n",
       "0    permanent  Gregory Martin International  Engineering Jobs   \n",
       "1    permanent  Gregory Martin International  Engineering Jobs   \n",
       "2    permanent  Gregory Martin International  Engineering Jobs   \n",
       "3    permanent  Gregory Martin International  Engineering Jobs   \n",
       "\n",
       "                                SalaryRaw  SalaryNormalized        SourceName  \n",
       "0              20000 - 30000/annum 20-30K             25000  cv-library.co.uk  \n",
       "1              25000 - 35000/annum 25-35K             30000  cv-library.co.uk  \n",
       "2              20000 - 40000/annum 20-40K             30000  cv-library.co.uk  \n",
       "3  25000 - 30000/annum 25K-30K negotiable             27500  cv-library.co.uk  "
      ]
     },
     "execution_count": 138,
     "metadata": {},
     "output_type": "execute_result"
    }
   ],
   "source": [
    "Train_data = pd.read_csv(f'{my_path}/Train_rev1.csv')\n",
    "print(Train_data.shape)\n",
    "Train_data.head(4)"
   ]
  },
  {
   "cell_type": "code",
   "execution_count": 139,
   "metadata": {},
   "outputs": [
    {
     "name": "stdout",
     "output_type": "stream",
     "text": [
      "<class 'pandas.core.frame.DataFrame'>\n",
      "RangeIndex: 244768 entries, 0 to 244767\n",
      "Data columns (total 12 columns):\n",
      " #   Column              Non-Null Count   Dtype \n",
      "---  ------              --------------   ----- \n",
      " 0   Id                  244768 non-null  int64 \n",
      " 1   Title               244767 non-null  object\n",
      " 2   FullDescription     244768 non-null  object\n",
      " 3   LocationRaw         244768 non-null  object\n",
      " 4   LocationNormalized  244768 non-null  object\n",
      " 5   ContractType        65442 non-null   object\n",
      " 6   ContractTime        180863 non-null  object\n",
      " 7   Company             212338 non-null  object\n",
      " 8   Category            244768 non-null  object\n",
      " 9   SalaryRaw           244768 non-null  object\n",
      " 10  SalaryNormalized    244768 non-null  int64 \n",
      " 11  SourceName          244767 non-null  object\n",
      "dtypes: int64(2), object(10)\n",
      "memory usage: 22.4+ MB\n"
     ]
    }
   ],
   "source": [
    "Train_data.info()"
   ]
  },
  {
   "cell_type": "markdown",
   "metadata": {},
   "source": [
    "### 2.3  Data Organzation"
   ]
  },
  {
   "cell_type": "code",
   "execution_count": 140,
   "metadata": {},
   "outputs": [
    {
     "name": "stdout",
     "output_type": "stream",
     "text": [
      "(1100, 12) (243668, 12)\n"
     ]
    }
   ],
   "source": [
    "#Using a 15% split \n",
    "#for the test set may change, if the actual test set size is predefined. \n",
    "#In any case we will make sure the test set we choose from our dataset \n",
    "#is as similar as it can get to the actual data that it will see in \n",
    "#production'''\n",
    "\n",
    "\n",
    "def mydf_splitter(Train_data,num_rows):\n",
    "    return Train_data[:num_rows].copy(),Train_data[num_rows:]\n",
    "\n",
    "\n",
    "mydf_train_valid,mydf_test = mydf_splitter(Train_data,1100)\n",
    "\n",
    "print(mydf_train_valid.shape,mydf_test.shape)"
   ]
  },
  {
   "cell_type": "code",
   "execution_count": 141,
   "metadata": {},
   "outputs": [
    {
     "data": {
      "text/html": [
       "<div>\n",
       "<style scoped>\n",
       "    .dataframe tbody tr th:only-of-type {\n",
       "        vertical-align: middle;\n",
       "    }\n",
       "\n",
       "    .dataframe tbody tr th {\n",
       "        vertical-align: top;\n",
       "    }\n",
       "\n",
       "    .dataframe thead th {\n",
       "        text-align: right;\n",
       "    }\n",
       "</style>\n",
       "<table border=\"1\" class=\"dataframe\">\n",
       "  <thead>\n",
       "    <tr style=\"text-align: right;\">\n",
       "      <th></th>\n",
       "      <th>2</th>\n",
       "    </tr>\n",
       "  </thead>\n",
       "  <tbody>\n",
       "    <tr>\n",
       "      <th>Id</th>\n",
       "      <td>12612844</td>\n",
       "    </tr>\n",
       "    <tr>\n",
       "      <th>Title</th>\n",
       "      <td>Modelling and simulation analyst</td>\n",
       "    </tr>\n",
       "    <tr>\n",
       "      <th>FullDescription</th>\n",
       "      <td>Mathematical Modeller / Simulation Analyst / O...</td>\n",
       "    </tr>\n",
       "    <tr>\n",
       "      <th>LocationRaw</th>\n",
       "      <td>Hampshire, South East, South East</td>\n",
       "    </tr>\n",
       "    <tr>\n",
       "      <th>LocationNormalized</th>\n",
       "      <td>Hampshire</td>\n",
       "    </tr>\n",
       "    <tr>\n",
       "      <th>ContractType</th>\n",
       "      <td>NaN</td>\n",
       "    </tr>\n",
       "    <tr>\n",
       "      <th>ContractTime</th>\n",
       "      <td>permanent</td>\n",
       "    </tr>\n",
       "    <tr>\n",
       "      <th>Company</th>\n",
       "      <td>Gregory Martin International</td>\n",
       "    </tr>\n",
       "    <tr>\n",
       "      <th>Category</th>\n",
       "      <td>Engineering Jobs</td>\n",
       "    </tr>\n",
       "    <tr>\n",
       "      <th>SalaryRaw</th>\n",
       "      <td>20000 - 40000/annum 20-40K</td>\n",
       "    </tr>\n",
       "    <tr>\n",
       "      <th>SalaryNormalized</th>\n",
       "      <td>30000</td>\n",
       "    </tr>\n",
       "    <tr>\n",
       "      <th>SourceName</th>\n",
       "      <td>cv-library.co.uk</td>\n",
       "    </tr>\n",
       "  </tbody>\n",
       "</table>\n",
       "</div>"
      ],
      "text/plain": [
       "                                                                    2\n",
       "Id                                                           12612844\n",
       "Title                                Modelling and simulation analyst\n",
       "FullDescription     Mathematical Modeller / Simulation Analyst / O...\n",
       "LocationRaw                         Hampshire, South East, South East\n",
       "LocationNormalized                                          Hampshire\n",
       "ContractType                                                      NaN\n",
       "ContractTime                                                permanent\n",
       "Company                                  Gregory Martin International\n",
       "Category                                             Engineering Jobs\n",
       "SalaryRaw                                  20000 - 40000/annum 20-40K\n",
       "SalaryNormalized                                                30000\n",
       "SourceName                                           cv-library.co.uk"
      ]
     },
     "execution_count": 141,
     "metadata": {},
     "output_type": "execute_result"
    }
   ],
   "source": [
    "#dataframe filter to display just a row  with the title\n",
    "\n",
    "Train_data[Train_data.Title == 'Modelling and simulation analyst'].T"
   ]
  },
  {
   "cell_type": "markdown",
   "metadata": {},
   "source": [
    "### Comments"
   ]
  },
  {
   "cell_type": "markdown",
   "metadata": {},
   "source": [
    "The output above suggests the data organized. Plausible column headings. And I can already see a missing value in the 6th column - Contract Type."
   ]
  },
  {
   "cell_type": "markdown",
   "metadata": {},
   "source": [
    "### 2.3.1 Number of Missing Values By Column"
   ]
  },
  {
   "cell_type": "markdown",
   "metadata": {},
   "source": [
    "Count the number of missing values in each column and sort them."
   ]
  },
  {
   "cell_type": "code",
   "execution_count": 142,
   "metadata": {},
   "outputs": [
    {
     "data": {
      "text/html": [
       "<div>\n",
       "<style scoped>\n",
       "    .dataframe tbody tr th:only-of-type {\n",
       "        vertical-align: middle;\n",
       "    }\n",
       "\n",
       "    .dataframe tbody tr th {\n",
       "        vertical-align: top;\n",
       "    }\n",
       "\n",
       "    .dataframe thead th {\n",
       "        text-align: right;\n",
       "    }\n",
       "</style>\n",
       "<table border=\"1\" class=\"dataframe\">\n",
       "  <thead>\n",
       "    <tr style=\"text-align: right;\">\n",
       "      <th></th>\n",
       "      <th>count</th>\n",
       "      <th>%</th>\n",
       "    </tr>\n",
       "  </thead>\n",
       "  <tbody>\n",
       "    <tr>\n",
       "      <th>Id</th>\n",
       "      <td>0</td>\n",
       "      <td>0.000000</td>\n",
       "    </tr>\n",
       "    <tr>\n",
       "      <th>FullDescription</th>\n",
       "      <td>0</td>\n",
       "      <td>0.000000</td>\n",
       "    </tr>\n",
       "    <tr>\n",
       "      <th>LocationRaw</th>\n",
       "      <td>0</td>\n",
       "      <td>0.000000</td>\n",
       "    </tr>\n",
       "    <tr>\n",
       "      <th>LocationNormalized</th>\n",
       "      <td>0</td>\n",
       "      <td>0.000000</td>\n",
       "    </tr>\n",
       "    <tr>\n",
       "      <th>Category</th>\n",
       "      <td>0</td>\n",
       "      <td>0.000000</td>\n",
       "    </tr>\n",
       "    <tr>\n",
       "      <th>SalaryRaw</th>\n",
       "      <td>0</td>\n",
       "      <td>0.000000</td>\n",
       "    </tr>\n",
       "    <tr>\n",
       "      <th>SalaryNormalized</th>\n",
       "      <td>0</td>\n",
       "      <td>0.000000</td>\n",
       "    </tr>\n",
       "    <tr>\n",
       "      <th>Title</th>\n",
       "      <td>1</td>\n",
       "      <td>0.000409</td>\n",
       "    </tr>\n",
       "    <tr>\n",
       "      <th>SourceName</th>\n",
       "      <td>1</td>\n",
       "      <td>0.000409</td>\n",
       "    </tr>\n",
       "    <tr>\n",
       "      <th>Company</th>\n",
       "      <td>32430</td>\n",
       "      <td>13.249281</td>\n",
       "    </tr>\n",
       "    <tr>\n",
       "      <th>ContractTime</th>\n",
       "      <td>63905</td>\n",
       "      <td>26.108397</td>\n",
       "    </tr>\n",
       "    <tr>\n",
       "      <th>ContractType</th>\n",
       "      <td>179326</td>\n",
       "      <td>73.263662</td>\n",
       "    </tr>\n",
       "  </tbody>\n",
       "</table>\n",
       "</div>"
      ],
      "text/plain": [
       "                     count          %\n",
       "Id                       0   0.000000\n",
       "FullDescription          0   0.000000\n",
       "LocationRaw              0   0.000000\n",
       "LocationNormalized       0   0.000000\n",
       "Category                 0   0.000000\n",
       "SalaryRaw                0   0.000000\n",
       "SalaryNormalized         0   0.000000\n",
       "Title                    1   0.000409\n",
       "SourceName               1   0.000409\n",
       "Company              32430  13.249281\n",
       "ContractTime         63905  26.108397\n",
       "ContractType        179326  73.263662"
      ]
     },
     "execution_count": 142,
     "metadata": {},
     "output_type": "execute_result"
    }
   ],
   "source": [
    "#Count (using `.sum()`) the number of missing values (`.isnull()`) in each column of \n",
    "#Train_data as well as the percentages (using `.mean()` instead of `.sum()`).\n",
    "#Order them (increasing or decreasing) using sort_values\n",
    "#Call `pd.concat` to present these in a single table (DataFrame) with the helpful column names 'count' and '%'\n",
    "\n",
    "missing = pd.concat([Train_data.isnull().sum(), 100 * Train_data.isnull().mean()], axis=1)\n",
    "missing.columns=['count', '%']\n",
    "missing.sort_values(by='count')"
   ]
  },
  {
   "cell_type": "markdown",
   "metadata": {},
   "source": [
    "### Comments"
   ]
  },
  {
   "cell_type": "markdown",
   "metadata": {},
   "source": [
    "   ContractType has the most missing values, at just over 73%. Company and ContractTime is missing values from 13% and 26%."
   ]
  },
  {
   "cell_type": "markdown",
   "metadata": {},
   "source": [
    "### 2.4.  Finding Duplicates"
   ]
  },
  {
   "cell_type": "code",
   "execution_count": 143,
   "metadata": {},
   "outputs": [
    {
     "data": {
      "text/plain": [
       "Business Development Manager    921\n",
       "Project Manager                 749\n",
       "Management Accountant           661\n",
       "Sales Executive                 603\n",
       "Account Manager                 540\n",
       "Name: Title, dtype: int64"
      ]
     },
     "execution_count": 143,
     "metadata": {},
     "output_type": "execute_result"
    }
   ],
   "source": [
    "#Use to find any duplicates\n",
    "Train_data['Title'].value_counts().head()"
   ]
  },
  {
   "cell_type": "markdown",
   "metadata": {},
   "source": [
    "### Comments"
   ]
  },
  {
   "cell_type": "markdown",
   "metadata": {},
   "source": [
    "The duplicates found in JoB Title does not require removing nor cleaning."
   ]
  },
  {
   "cell_type": "markdown",
   "metadata": {},
   "source": [
    "### 2.4.1 Examine and inspect categorical features"
   ]
  },
  {
   "cell_type": "code",
   "execution_count": 144,
   "metadata": {},
   "outputs": [
    {
     "data": {
      "text/plain": [
       "Id                     int64\n",
       "Title                 object\n",
       "FullDescription       object\n",
       "LocationRaw           object\n",
       "LocationNormalized    object\n",
       "ContractType          object\n",
       "ContractTime          object\n",
       "Company               object\n",
       "Category              object\n",
       "SalaryRaw             object\n",
       "SalaryNormalized       int64\n",
       "SourceName            object\n",
       "dtype: object"
      ]
     },
     "execution_count": 144,
     "metadata": {},
     "output_type": "execute_result"
    }
   ],
   "source": [
    "#Examine datatype to mark which data type will play a role in model\n",
    "Train_data.dtypes"
   ]
  },
  {
   "cell_type": "markdown",
   "metadata": {},
   "source": [
    "### 2.4.2 Use IQR rule to identify potential outliers"
   ]
  },
  {
   "cell_type": "code",
   "execution_count": 145,
   "metadata": {},
   "outputs": [
    {
     "name": "stdout",
     "output_type": "stream",
     "text": [
      "count    244768.000000\n",
      "mean      34122.577576\n",
      "std       17640.543124\n",
      "min        5000.000000\n",
      "25%       21500.000000\n",
      "50%       30000.000000\n",
      "75%       42500.000000\n",
      "max      200000.000000\n",
      "Name: SalaryNormalized, dtype: float64\n",
      "The upper an lower bounds for suspected outliers are 74000.0 and -10000.0.\n"
     ]
    }
   ],
   "source": [
    "stat = Train_data.SalaryNormalized.describe()\n",
    "print(stat)\n",
    "IQR = stat['75%']-stat['25%']\n",
    "upper = stat['75%'] + 1.5 * IQR\n",
    "lower = stat['25%'] - 1.5 * IQR\n",
    "print('The upper an lower bounds for suspected outliers are {} and {}.'.format(upper, lower))\n"
   ]
  },
  {
   "cell_type": "markdown",
   "metadata": {},
   "source": [
    "### 2.4.3. Examine potential outlier below lower bound"
   ]
  },
  {
   "cell_type": "code",
   "execution_count": 146,
   "metadata": {},
   "outputs": [
    {
     "data": {
      "text/html": [
       "<div>\n",
       "<style scoped>\n",
       "    .dataframe tbody tr th:only-of-type {\n",
       "        vertical-align: middle;\n",
       "    }\n",
       "\n",
       "    .dataframe tbody tr th {\n",
       "        vertical-align: top;\n",
       "    }\n",
       "\n",
       "    .dataframe thead th {\n",
       "        text-align: right;\n",
       "    }\n",
       "</style>\n",
       "<table border=\"1\" class=\"dataframe\">\n",
       "  <thead>\n",
       "    <tr style=\"text-align: right;\">\n",
       "      <th></th>\n",
       "      <th>Id</th>\n",
       "      <th>Title</th>\n",
       "      <th>FullDescription</th>\n",
       "      <th>LocationRaw</th>\n",
       "      <th>LocationNormalized</th>\n",
       "      <th>ContractType</th>\n",
       "      <th>ContractTime</th>\n",
       "      <th>Company</th>\n",
       "      <th>Category</th>\n",
       "      <th>SalaryRaw</th>\n",
       "      <th>SalaryNormalized</th>\n",
       "      <th>SourceName</th>\n",
       "    </tr>\n",
       "  </thead>\n",
       "  <tbody>\n",
       "  </tbody>\n",
       "</table>\n",
       "</div>"
      ],
      "text/plain": [
       "Empty DataFrame\n",
       "Columns: [Id, Title, FullDescription, LocationRaw, LocationNormalized, ContractType, ContractTime, Company, Category, SalaryRaw, SalaryNormalized, SourceName]\n",
       "Index: []"
      ]
     },
     "execution_count": 146,
     "metadata": {},
     "output_type": "execute_result"
    }
   ],
   "source": [
    "#check potential outlier below lower bound\n",
    "Train_data[Train_data.SalaryNormalized < 8.5]"
   ]
  },
  {
   "cell_type": "code",
   "execution_count": 147,
   "metadata": {},
   "outputs": [
    {
     "data": {
      "text/plain": [
       "IT Jobs                             38483\n",
       "Engineering Jobs                    25174\n",
       "Accounting & Finance Jobs           21846\n",
       "Healthcare & Nursing Jobs           21076\n",
       "Sales Jobs                          17272\n",
       "Other/General Jobs                  17055\n",
       "Teaching Jobs                       12637\n",
       "Hospitality & Catering Jobs         11351\n",
       "PR, Advertising & Marketing Jobs     8854\n",
       "Trade & Construction Jobs            8837\n",
       "HR & Recruitment Jobs                7713\n",
       "Admin Jobs                           7614\n",
       "Retail Jobs                          6584\n",
       "Customer Services Jobs               6063\n",
       "Legal Jobs                           3939\n",
       "Manufacturing Jobs                   3765\n",
       "Logistics & Warehouse Jobs           3633\n",
       "Social work Jobs                     3455\n",
       "Consultancy Jobs                     3263\n",
       "Travel Jobs                          3126\n",
       "Scientific & QA Jobs                 2489\n",
       "Charity & Voluntary Jobs             2332\n",
       "Energy, Oil & Gas Jobs               2255\n",
       "Creative & Design Jobs               1605\n",
       "Maintenance Jobs                     1542\n",
       "Graduate Jobs                        1331\n",
       "Property Jobs                        1038\n",
       "Domestic help & Cleaning Jobs         291\n",
       "Part time Jobs                        145\n",
       "Name: Category, dtype: int64"
      ]
     },
     "execution_count": 147,
     "metadata": {},
     "output_type": "execute_result"
    }
   ],
   "source": [
    "#check potential outlier above upper bound\n",
    "Train_data.loc[Train_data.SalaryNormalized > 222.5, 'Category'].value_counts()"
   ]
  },
  {
   "cell_type": "code",
   "execution_count": 148,
   "metadata": {},
   "outputs": [
    {
     "data": {
      "text/html": [
       "<div>\n",
       "<style scoped>\n",
       "    .dataframe tbody tr th:only-of-type {\n",
       "        vertical-align: middle;\n",
       "    }\n",
       "\n",
       "    .dataframe tbody tr th {\n",
       "        vertical-align: top;\n",
       "    }\n",
       "\n",
       "    .dataframe thead th {\n",
       "        text-align: right;\n",
       "    }\n",
       "</style>\n",
       "<table border=\"1\" class=\"dataframe\">\n",
       "  <thead>\n",
       "    <tr style=\"text-align: right;\">\n",
       "      <th></th>\n",
       "      <th>Id</th>\n",
       "      <th>Title</th>\n",
       "      <th>FullDescription</th>\n",
       "      <th>LocationRaw</th>\n",
       "      <th>LocationNormalized</th>\n",
       "      <th>ContractType</th>\n",
       "      <th>ContractTime</th>\n",
       "      <th>Company</th>\n",
       "      <th>Category</th>\n",
       "      <th>SalaryRaw</th>\n",
       "      <th>SalaryNormalized</th>\n",
       "      <th>SourceName</th>\n",
       "    </tr>\n",
       "  </thead>\n",
       "  <tbody>\n",
       "    <tr>\n",
       "      <th>31</th>\n",
       "      <td>27527047</td>\n",
       "      <td>C/C++ Developer</td>\n",
       "      <td>A leading company that provides stock market a...</td>\n",
       "      <td>London</td>\n",
       "      <td>London</td>\n",
       "      <td>NaN</td>\n",
       "      <td>permanent</td>\n",
       "      <td>Indigo 21 Ltd</td>\n",
       "      <td>IT Jobs</td>\n",
       "      <td>25000 - 40000/annum</td>\n",
       "      <td>32500</td>\n",
       "      <td>cv-library.co.uk</td>\n",
       "    </tr>\n",
       "    <tr>\n",
       "      <th>32</th>\n",
       "      <td>27527050</td>\n",
       "      <td>Senior PHP Developer</td>\n",
       "      <td>A skilled Senior PHP Developer is required by ...</td>\n",
       "      <td>Central London, London</td>\n",
       "      <td>Central London</td>\n",
       "      <td>NaN</td>\n",
       "      <td>permanent</td>\n",
       "      <td>Indigo 21 Ltd</td>\n",
       "      <td>IT Jobs</td>\n",
       "      <td>40000 - 50000/annum</td>\n",
       "      <td>45000</td>\n",
       "      <td>cv-library.co.uk</td>\n",
       "    </tr>\n",
       "    <tr>\n",
       "      <th>33</th>\n",
       "      <td>27527063</td>\n",
       "      <td>Senior Website Designer</td>\n",
       "      <td>SENIOR WEBSITE DESIGNER Location: York, East Y...</td>\n",
       "      <td>York, North Yorkshire</td>\n",
       "      <td>York</td>\n",
       "      <td>NaN</td>\n",
       "      <td>permanent</td>\n",
       "      <td>Indigo 21 Ltd</td>\n",
       "      <td>IT Jobs</td>\n",
       "      <td>20000 - 30000/annum</td>\n",
       "      <td>25000</td>\n",
       "      <td>cv-library.co.uk</td>\n",
       "    </tr>\n",
       "    <tr>\n",
       "      <th>34</th>\n",
       "      <td>27527077</td>\n",
       "      <td>Business Development Manager</td>\n",
       "      <td>The Company: Our client are a full service, cr...</td>\n",
       "      <td>Tyne Wear, North East</td>\n",
       "      <td>Newcastle Upon Tyne</td>\n",
       "      <td>NaN</td>\n",
       "      <td>permanent</td>\n",
       "      <td>Asset Appointments</td>\n",
       "      <td>IT Jobs</td>\n",
       "      <td>18000 - 24000/annum plus commission OTE 50-60k</td>\n",
       "      <td>21000</td>\n",
       "      <td>cv-library.co.uk</td>\n",
       "    </tr>\n",
       "    <tr>\n",
       "      <th>38</th>\n",
       "      <td>27754996</td>\n",
       "      <td>QA Engineer</td>\n",
       "      <td>An expanding software and consultancy services...</td>\n",
       "      <td>Cambridge, Cambridgeshire</td>\n",
       "      <td>Cambridge</td>\n",
       "      <td>NaN</td>\n",
       "      <td>permanent</td>\n",
       "      <td>Indigo 21 Ltd</td>\n",
       "      <td>IT Jobs</td>\n",
       "      <td>20000 - 40000/annum</td>\n",
       "      <td>30000</td>\n",
       "      <td>cv-library.co.uk</td>\n",
       "    </tr>\n",
       "    <tr>\n",
       "      <th>...</th>\n",
       "      <td>...</td>\n",
       "      <td>...</td>\n",
       "      <td>...</td>\n",
       "      <td>...</td>\n",
       "      <td>...</td>\n",
       "      <td>...</td>\n",
       "      <td>...</td>\n",
       "      <td>...</td>\n",
       "      <td>...</td>\n",
       "      <td>...</td>\n",
       "      <td>...</td>\n",
       "      <td>...</td>\n",
       "    </tr>\n",
       "    <tr>\n",
       "      <th>244322</th>\n",
       "      <td>72695854</td>\n",
       "      <td>Mid / Senior Software Developer Shropshire ****k</td>\n",
       "      <td>Mid/Senior Software Developer Shropshire ****k...</td>\n",
       "      <td>Shropshire</td>\n",
       "      <td>Shropshire</td>\n",
       "      <td>NaN</td>\n",
       "      <td>permanent</td>\n",
       "      <td>Exposed Solutions Ltd</td>\n",
       "      <td>IT Jobs</td>\n",
       "      <td>30k - 35k pa</td>\n",
       "      <td>32500</td>\n",
       "      <td>jobsite.co.uk</td>\n",
       "    </tr>\n",
       "    <tr>\n",
       "      <th>244325</th>\n",
       "      <td>72695864</td>\n",
       "      <td>Junior Trainer</td>\n",
       "      <td>Junior IT Trainer  Top 20 UK Law Firm  Central...</td>\n",
       "      <td>City of London</td>\n",
       "      <td>The City</td>\n",
       "      <td>NaN</td>\n",
       "      <td>permanent</td>\n",
       "      <td>Venturi Ltd</td>\n",
       "      <td>IT Jobs</td>\n",
       "      <td>32000.00 - 33k pa + FULL BEN EFITS</td>\n",
       "      <td>32500</td>\n",
       "      <td>jobsite.co.uk</td>\n",
       "    </tr>\n",
       "    <tr>\n",
       "      <th>244334</th>\n",
       "      <td>72695898</td>\n",
       "      <td>PHP Software Developer</td>\n",
       "      <td>PHP Software Developer Glasgow Eden Scott s cl...</td>\n",
       "      <td>Glasgow</td>\n",
       "      <td>Glasgow</td>\n",
       "      <td>NaN</td>\n",
       "      <td>permanent</td>\n",
       "      <td>Eden Scott Ltd</td>\n",
       "      <td>IT Jobs</td>\n",
       "      <td>25k - 30k pa + benefits</td>\n",
       "      <td>27500</td>\n",
       "      <td>jobsite.co.uk</td>\n",
       "    </tr>\n",
       "    <tr>\n",
       "      <th>244336</th>\n",
       "      <td>72695902</td>\n",
       "      <td>MI Analyst (Reporting Analyst)  Trainee</td>\n",
       "      <td>MI Analyst (Reporting Analyst)  Trainee. Excel...</td>\n",
       "      <td>Surrey</td>\n",
       "      <td>Surrey</td>\n",
       "      <td>NaN</td>\n",
       "      <td>permanent</td>\n",
       "      <td>Randstad Technologies Limited</td>\n",
       "      <td>IT Jobs</td>\n",
       "      <td>25000.00 - 30000.00 pa</td>\n",
       "      <td>27500</td>\n",
       "      <td>jobsite.co.uk</td>\n",
       "    </tr>\n",
       "    <tr>\n",
       "      <th>244348</th>\n",
       "      <td>72695949</td>\n",
       "      <td>Web Designer / Developer</td>\n",
       "      <td>Job Role: Web Designer/Developer Location: Che...</td>\n",
       "      <td>Cheltenham</td>\n",
       "      <td>Cheltenham</td>\n",
       "      <td>NaN</td>\n",
       "      <td>permanent</td>\n",
       "      <td>Rise Technical Recruitment Limited</td>\n",
       "      <td>IT Jobs</td>\n",
       "      <td>18k - 23k pa + package</td>\n",
       "      <td>20500</td>\n",
       "      <td>jobsite.co.uk</td>\n",
       "    </tr>\n",
       "  </tbody>\n",
       "</table>\n",
       "<p>38483 rows × 12 columns</p>\n",
       "</div>"
      ],
      "text/plain": [
       "              Id                                             Title  \\\n",
       "31      27527047                                   C/C++ Developer   \n",
       "32      27527050                              Senior PHP Developer   \n",
       "33      27527063                           Senior Website Designer   \n",
       "34      27527077                      Business Development Manager   \n",
       "38      27754996                                       QA Engineer   \n",
       "...          ...                                               ...   \n",
       "244322  72695854  Mid / Senior Software Developer Shropshire ****k   \n",
       "244325  72695864                                    Junior Trainer   \n",
       "244334  72695898                            PHP Software Developer   \n",
       "244336  72695902           MI Analyst (Reporting Analyst)  Trainee   \n",
       "244348  72695949                          Web Designer / Developer   \n",
       "\n",
       "                                          FullDescription  \\\n",
       "31      A leading company that provides stock market a...   \n",
       "32      A skilled Senior PHP Developer is required by ...   \n",
       "33      SENIOR WEBSITE DESIGNER Location: York, East Y...   \n",
       "34      The Company: Our client are a full service, cr...   \n",
       "38      An expanding software and consultancy services...   \n",
       "...                                                   ...   \n",
       "244322  Mid/Senior Software Developer Shropshire ****k...   \n",
       "244325  Junior IT Trainer  Top 20 UK Law Firm  Central...   \n",
       "244334  PHP Software Developer Glasgow Eden Scott s cl...   \n",
       "244336  MI Analyst (Reporting Analyst)  Trainee. Excel...   \n",
       "244348  Job Role: Web Designer/Developer Location: Che...   \n",
       "\n",
       "                      LocationRaw   LocationNormalized ContractType  \\\n",
       "31                         London               London          NaN   \n",
       "32         Central London, London       Central London          NaN   \n",
       "33          York, North Yorkshire                 York          NaN   \n",
       "34          Tyne Wear, North East  Newcastle Upon Tyne          NaN   \n",
       "38      Cambridge, Cambridgeshire            Cambridge          NaN   \n",
       "...                           ...                  ...          ...   \n",
       "244322                 Shropshire           Shropshire          NaN   \n",
       "244325             City of London             The City          NaN   \n",
       "244334                    Glasgow              Glasgow          NaN   \n",
       "244336                     Surrey               Surrey          NaN   \n",
       "244348                 Cheltenham           Cheltenham          NaN   \n",
       "\n",
       "       ContractTime                             Company Category  \\\n",
       "31        permanent                       Indigo 21 Ltd  IT Jobs   \n",
       "32        permanent                       Indigo 21 Ltd  IT Jobs   \n",
       "33        permanent                       Indigo 21 Ltd  IT Jobs   \n",
       "34        permanent                  Asset Appointments  IT Jobs   \n",
       "38        permanent                       Indigo 21 Ltd  IT Jobs   \n",
       "...             ...                                 ...      ...   \n",
       "244322    permanent               Exposed Solutions Ltd  IT Jobs   \n",
       "244325    permanent                         Venturi Ltd  IT Jobs   \n",
       "244334    permanent                      Eden Scott Ltd  IT Jobs   \n",
       "244336    permanent       Randstad Technologies Limited  IT Jobs   \n",
       "244348    permanent  Rise Technical Recruitment Limited  IT Jobs   \n",
       "\n",
       "                                             SalaryRaw  SalaryNormalized  \\\n",
       "31                                 25000 - 40000/annum             32500   \n",
       "32                                 40000 - 50000/annum             45000   \n",
       "33                                 20000 - 30000/annum             25000   \n",
       "34      18000 - 24000/annum plus commission OTE 50-60k             21000   \n",
       "38                                 20000 - 40000/annum             30000   \n",
       "...                                                ...               ...   \n",
       "244322                                    30k - 35k pa             32500   \n",
       "244325              32000.00 - 33k pa + FULL BEN EFITS             32500   \n",
       "244334                         25k - 30k pa + benefits             27500   \n",
       "244336                          25000.00 - 30000.00 pa             27500   \n",
       "244348                          18k - 23k pa + package             20500   \n",
       "\n",
       "              SourceName  \n",
       "31      cv-library.co.uk  \n",
       "32      cv-library.co.uk  \n",
       "33      cv-library.co.uk  \n",
       "34      cv-library.co.uk  \n",
       "38      cv-library.co.uk  \n",
       "...                  ...  \n",
       "244322     jobsite.co.uk  \n",
       "244325     jobsite.co.uk  \n",
       "244334     jobsite.co.uk  \n",
       "244336     jobsite.co.uk  \n",
       "244348     jobsite.co.uk  \n",
       "\n",
       "[38483 rows x 12 columns]"
      ]
     },
     "execution_count": 148,
     "metadata": {},
     "output_type": "execute_result"
    }
   ],
   "source": [
    "#check most suspicious potential outliers above upper bound\n",
    "Train_data[(Train_data.SalaryNormalized > 222.5) & (Train_data.Category == 'IT Jobs')]"
   ]
  },
  {
   "cell_type": "markdown",
   "metadata": {},
   "source": [
    "### Comments"
   ]
  },
  {
   "cell_type": "markdown",
   "metadata": {},
   "source": [
    "These missing enteries in Contract type do not appear to affect the dataset. I am confident that the missing data and should be removed from the training set.\n",
    "\n",
    "\n",
    "The high-salary potential outliers all appear to be legitmate data. Most roles are Top I.T. roles in the industries are well known for high salaries. I am determining that these entries are to be legimate and will not remove them."
   ]
  },
  {
   "cell_type": "markdown",
   "metadata": {},
   "source": [
    "### 2.4.4 Number Of Missing Values by bar Chart"
   ]
  },
  {
   "cell_type": "code",
   "execution_count": 149,
   "metadata": {},
   "outputs": [
    {
     "data": {
      "text/plain": [
       "<AxesSubplot:xlabel='IT-Talent.com', ylabel='Percent missing'>"
      ]
     },
     "execution_count": 149,
     "metadata": {},
     "output_type": "execute_result"
    },
    {
     "data": {
      "image/png": "[encoded data removed]",
      "text/plain": [
       "<Figure size 648x504 with 1 Axes>"
      ]
     },
     "metadata": {
      "needs_background": "light"
     },
     "output_type": "display_data"
    }
   ],
   "source": [
    "null_vals = Train_data.isnull().sum()/len(Train_data)*100\n",
    "null_vals = pd.DataFrame(null_vals)\n",
    "null_vals.reset_index(inplace = True)\n",
    "null_vals.columns = [\"IT-Talent.com\",\"Percent missing\"]\n",
    "plt.figure(figsize = (9,7))\n",
    "plt.xticks(rotation=85)\n",
    "sns.barplot(x =\"IT-Talent.com\",y =\"Percent missing\",data = null_vals)"
   ]
  },
  {
   "cell_type": "markdown",
   "metadata": {},
   "source": [
    "### 2.4.5 Data Definition - (Take a deeper look at the data)"
   ]
  },
  {
   "cell_type": "code",
   "execution_count": 150,
   "metadata": {},
   "outputs": [
    {
     "name": "stdout",
     "output_type": "stream",
     "text": [
      "<class 'pandas.core.frame.DataFrame'>\n",
      "RangeIndex: 244768 entries, 0 to 244767\n",
      "Data columns (total 12 columns):\n",
      " #   Column              Non-Null Count   Dtype \n",
      "---  ------              --------------   ----- \n",
      " 0   Id                  244768 non-null  int64 \n",
      " 1   Title               244767 non-null  object\n",
      " 2   FullDescription     244768 non-null  object\n",
      " 3   LocationRaw         244768 non-null  object\n",
      " 4   LocationNormalized  244768 non-null  object\n",
      " 5   ContractType        65442 non-null   object\n",
      " 6   ContractTime        180863 non-null  object\n",
      " 7   Company             212338 non-null  object\n",
      " 8   Category            244768 non-null  object\n",
      " 9   SalaryRaw           244768 non-null  object\n",
      " 10  SalaryNormalized    244768 non-null  int64 \n",
      " 11  SourceName          244767 non-null  object\n",
      "dtypes: int64(2), object(10)\n",
      "memory usage: 22.4+ MB\n"
     ]
    }
   ],
   "source": [
    "#Call the info method on train_data to see a summary of the data.info \n",
    "Train_data.info()"
   ]
  },
  {
   "cell_type": "code",
   "execution_count": 151,
   "metadata": {},
   "outputs": [
    {
     "data": {
      "text/html": [
       "<div>\n",
       "<style scoped>\n",
       "    .dataframe tbody tr th:only-of-type {\n",
       "        vertical-align: middle;\n",
       "    }\n",
       "\n",
       "    .dataframe tbody tr th {\n",
       "        vertical-align: top;\n",
       "    }\n",
       "\n",
       "    .dataframe thead th {\n",
       "        text-align: right;\n",
       "    }\n",
       "</style>\n",
       "<table border=\"1\" class=\"dataframe\">\n",
       "  <thead>\n",
       "    <tr style=\"text-align: right;\">\n",
       "      <th></th>\n",
       "      <th>Title</th>\n",
       "      <th>FullDescription</th>\n",
       "      <th>LocationRaw</th>\n",
       "      <th>LocationNormalized</th>\n",
       "      <th>ContractType</th>\n",
       "      <th>ContractTime</th>\n",
       "      <th>Company</th>\n",
       "      <th>Category</th>\n",
       "      <th>SalaryRaw</th>\n",
       "      <th>SourceName</th>\n",
       "    </tr>\n",
       "  </thead>\n",
       "  <tbody>\n",
       "    <tr>\n",
       "      <th>0</th>\n",
       "      <td>Engineering Systems Analyst</td>\n",
       "      <td>Engineering Systems Analyst Dorking Surrey Sal...</td>\n",
       "      <td>Dorking, Surrey, Surrey</td>\n",
       "      <td>Dorking</td>\n",
       "      <td>NaN</td>\n",
       "      <td>permanent</td>\n",
       "      <td>Gregory Martin International</td>\n",
       "      <td>Engineering Jobs</td>\n",
       "      <td>20000 - 30000/annum 20-30K</td>\n",
       "      <td>cv-library.co.uk</td>\n",
       "    </tr>\n",
       "    <tr>\n",
       "      <th>1</th>\n",
       "      <td>Stress Engineer Glasgow</td>\n",
       "      <td>Stress Engineer Glasgow Salary **** to **** We...</td>\n",
       "      <td>Glasgow, Scotland, Scotland</td>\n",
       "      <td>Glasgow</td>\n",
       "      <td>NaN</td>\n",
       "      <td>permanent</td>\n",
       "      <td>Gregory Martin International</td>\n",
       "      <td>Engineering Jobs</td>\n",
       "      <td>25000 - 35000/annum 25-35K</td>\n",
       "      <td>cv-library.co.uk</td>\n",
       "    </tr>\n",
       "    <tr>\n",
       "      <th>2</th>\n",
       "      <td>Modelling and simulation analyst</td>\n",
       "      <td>Mathematical Modeller / Simulation Analyst / O...</td>\n",
       "      <td>Hampshire, South East, South East</td>\n",
       "      <td>Hampshire</td>\n",
       "      <td>NaN</td>\n",
       "      <td>permanent</td>\n",
       "      <td>Gregory Martin International</td>\n",
       "      <td>Engineering Jobs</td>\n",
       "      <td>20000 - 40000/annum 20-40K</td>\n",
       "      <td>cv-library.co.uk</td>\n",
       "    </tr>\n",
       "    <tr>\n",
       "      <th>3</th>\n",
       "      <td>Engineering Systems Analyst / Mathematical Mod...</td>\n",
       "      <td>Engineering Systems Analyst / Mathematical Mod...</td>\n",
       "      <td>Surrey, South East, South East</td>\n",
       "      <td>Surrey</td>\n",
       "      <td>NaN</td>\n",
       "      <td>permanent</td>\n",
       "      <td>Gregory Martin International</td>\n",
       "      <td>Engineering Jobs</td>\n",
       "      <td>25000 - 30000/annum 25K-30K negotiable</td>\n",
       "      <td>cv-library.co.uk</td>\n",
       "    </tr>\n",
       "    <tr>\n",
       "      <th>4</th>\n",
       "      <td>Pioneer, Miser Engineering Systems Analyst</td>\n",
       "      <td>Pioneer, Miser  Engineering Systems Analyst Do...</td>\n",
       "      <td>Surrey, South East, South East</td>\n",
       "      <td>Surrey</td>\n",
       "      <td>NaN</td>\n",
       "      <td>permanent</td>\n",
       "      <td>Gregory Martin International</td>\n",
       "      <td>Engineering Jobs</td>\n",
       "      <td>20000 - 30000/annum 20-30K</td>\n",
       "      <td>cv-library.co.uk</td>\n",
       "    </tr>\n",
       "    <tr>\n",
       "      <th>...</th>\n",
       "      <td>...</td>\n",
       "      <td>...</td>\n",
       "      <td>...</td>\n",
       "      <td>...</td>\n",
       "      <td>...</td>\n",
       "      <td>...</td>\n",
       "      <td>...</td>\n",
       "      <td>...</td>\n",
       "      <td>...</td>\n",
       "      <td>...</td>\n",
       "    </tr>\n",
       "    <tr>\n",
       "      <th>244763</th>\n",
       "      <td>TEACHER OF SCIENCE</td>\n",
       "      <td>Position: Qualified Teacher Subject/Specialism...</td>\n",
       "      <td>Swindon</td>\n",
       "      <td>Swindon</td>\n",
       "      <td>NaN</td>\n",
       "      <td>contract</td>\n",
       "      <td>NaN</td>\n",
       "      <td>Teaching Jobs</td>\n",
       "      <td>450 - 500 per week</td>\n",
       "      <td>hays.co.uk</td>\n",
       "    </tr>\n",
       "    <tr>\n",
       "      <th>244764</th>\n",
       "      <td>TEACHER OF BUSINESS STUDIES AND ICT</td>\n",
       "      <td>Position: Qualified Teacher or NQT Subject/Spe...</td>\n",
       "      <td>Swindon</td>\n",
       "      <td>Swindon</td>\n",
       "      <td>NaN</td>\n",
       "      <td>contract</td>\n",
       "      <td>NaN</td>\n",
       "      <td>Teaching Jobs</td>\n",
       "      <td>450 - 500 per week</td>\n",
       "      <td>hays.co.uk</td>\n",
       "    </tr>\n",
       "    <tr>\n",
       "      <th>244765</th>\n",
       "      <td>ENGLISH TEACHER</td>\n",
       "      <td>Position: Qualified Teacher Subject/Specialism...</td>\n",
       "      <td>Swindon</td>\n",
       "      <td>Swindon</td>\n",
       "      <td>NaN</td>\n",
       "      <td>contract</td>\n",
       "      <td>NaN</td>\n",
       "      <td>Teaching Jobs</td>\n",
       "      <td>450 - 500 per week</td>\n",
       "      <td>hays.co.uk</td>\n",
       "    </tr>\n",
       "    <tr>\n",
       "      <th>244766</th>\n",
       "      <td>SUPPLY TEACHERS</td>\n",
       "      <td>Position: Qualified Teacher Subject/Specialism...</td>\n",
       "      <td>Wiltshire</td>\n",
       "      <td>Wiltshire</td>\n",
       "      <td>NaN</td>\n",
       "      <td>contract</td>\n",
       "      <td>NaN</td>\n",
       "      <td>Teaching Jobs</td>\n",
       "      <td>450 to 500 per week</td>\n",
       "      <td>hays.co.uk</td>\n",
       "    </tr>\n",
       "    <tr>\n",
       "      <th>244767</th>\n",
       "      <td>Accountant</td>\n",
       "      <td>This entrepreneurial and growing private equit...</td>\n",
       "      <td>Hitchin</td>\n",
       "      <td>Hitchin</td>\n",
       "      <td>NaN</td>\n",
       "      <td>permanent</td>\n",
       "      <td>NaN</td>\n",
       "      <td>Teaching Jobs</td>\n",
       "      <td>40-45,000</td>\n",
       "      <td>hays.co.uk</td>\n",
       "    </tr>\n",
       "  </tbody>\n",
       "</table>\n",
       "<p>244768 rows × 10 columns</p>\n",
       "</div>"
      ],
      "text/plain": [
       "                                                    Title  \\\n",
       "0                             Engineering Systems Analyst   \n",
       "1                                 Stress Engineer Glasgow   \n",
       "2                        Modelling and simulation analyst   \n",
       "3       Engineering Systems Analyst / Mathematical Mod...   \n",
       "4              Pioneer, Miser Engineering Systems Analyst   \n",
       "...                                                   ...   \n",
       "244763                                 TEACHER OF SCIENCE   \n",
       "244764                TEACHER OF BUSINESS STUDIES AND ICT   \n",
       "244765                                    ENGLISH TEACHER   \n",
       "244766                                    SUPPLY TEACHERS   \n",
       "244767                                         Accountant   \n",
       "\n",
       "                                          FullDescription  \\\n",
       "0       Engineering Systems Analyst Dorking Surrey Sal...   \n",
       "1       Stress Engineer Glasgow Salary **** to **** We...   \n",
       "2       Mathematical Modeller / Simulation Analyst / O...   \n",
       "3       Engineering Systems Analyst / Mathematical Mod...   \n",
       "4       Pioneer, Miser  Engineering Systems Analyst Do...   \n",
       "...                                                   ...   \n",
       "244763  Position: Qualified Teacher Subject/Specialism...   \n",
       "244764  Position: Qualified Teacher or NQT Subject/Spe...   \n",
       "244765  Position: Qualified Teacher Subject/Specialism...   \n",
       "244766  Position: Qualified Teacher Subject/Specialism...   \n",
       "244767  This entrepreneurial and growing private equit...   \n",
       "\n",
       "                              LocationRaw LocationNormalized ContractType  \\\n",
       "0                 Dorking, Surrey, Surrey            Dorking          NaN   \n",
       "1             Glasgow, Scotland, Scotland            Glasgow          NaN   \n",
       "2       Hampshire, South East, South East          Hampshire          NaN   \n",
       "3          Surrey, South East, South East             Surrey          NaN   \n",
       "4          Surrey, South East, South East             Surrey          NaN   \n",
       "...                                   ...                ...          ...   \n",
       "244763                            Swindon            Swindon          NaN   \n",
       "244764                            Swindon            Swindon          NaN   \n",
       "244765                            Swindon            Swindon          NaN   \n",
       "244766                          Wiltshire          Wiltshire          NaN   \n",
       "244767                            Hitchin            Hitchin          NaN   \n",
       "\n",
       "       ContractTime                       Company          Category  \\\n",
       "0         permanent  Gregory Martin International  Engineering Jobs   \n",
       "1         permanent  Gregory Martin International  Engineering Jobs   \n",
       "2         permanent  Gregory Martin International  Engineering Jobs   \n",
       "3         permanent  Gregory Martin International  Engineering Jobs   \n",
       "4         permanent  Gregory Martin International  Engineering Jobs   \n",
       "...             ...                           ...               ...   \n",
       "244763     contract                           NaN     Teaching Jobs   \n",
       "244764     contract                           NaN     Teaching Jobs   \n",
       "244765     contract                           NaN     Teaching Jobs   \n",
       "244766     contract                           NaN     Teaching Jobs   \n",
       "244767    permanent                           NaN     Teaching Jobs   \n",
       "\n",
       "                                     SalaryRaw        SourceName  \n",
       "0                   20000 - 30000/annum 20-30K  cv-library.co.uk  \n",
       "1                   25000 - 35000/annum 25-35K  cv-library.co.uk  \n",
       "2                   20000 - 40000/annum 20-40K  cv-library.co.uk  \n",
       "3       25000 - 30000/annum 25K-30K negotiable  cv-library.co.uk  \n",
       "4                   20000 - 30000/annum 20-30K  cv-library.co.uk  \n",
       "...                                        ...               ...  \n",
       "244763                      450 - 500 per week        hays.co.uk  \n",
       "244764                      450 - 500 per week        hays.co.uk  \n",
       "244765                      450 - 500 per week        hays.co.uk  \n",
       "244766                     450 to 500 per week        hays.co.uk  \n",
       "244767                               40-45,000        hays.co.uk  \n",
       "\n",
       "[244768 rows x 10 columns]"
      ]
     },
     "execution_count": 151,
     "metadata": {},
     "output_type": "execute_result"
    }
   ],
   "source": [
    "Train_data.select_dtypes('object')"
   ]
  },
  {
   "cell_type": "markdown",
   "metadata": {},
   "source": [
    "### 2.5. Data Cleaning: Scrubbing Data "
   ]
  },
  {
   "cell_type": "code",
   "execution_count": 152,
   "metadata": {},
   "outputs": [],
   "source": [
    "def Scrub_Data(data, columns, axis, vals, names):\n",
    "    #drop useless columns\n",
    "    data = data.drop(columns, axis = 1)\n",
    "    #detect the missing data\n",
    "    missingcounts = data.isnull().sum()\n",
    "    missingcols = [col for col in missingcounts.keys() if missingcounts[col] != 0]\n",
    "    #fill the missing data with specific values\n",
    "    values = dict(zip(missingcols, vals))\n",
    "    data = data.fillna(value = values)\n",
    "    #rename the columns\n",
    "    data.columns = names\n",
    "    return data\n"
   ]
  },
  {
   "cell_type": "code",
   "execution_count": 153,
   "metadata": {},
   "outputs": [],
   "source": [
    "#drop useless columns\n",
    "Train_data = Train_data.drop([\"ContractType\", \"ContractTime\",\"Company\"], axis = 1)\n",
    "#rename the columns\n",
    "names = [\"Job Code\", \"Title\", \"Job Description\", \"Region\", \"Location\", \"Category\", \"Salary_Range\", \"Actual_Salary\",\"Source_Name\"]\n",
    "Train_data.columns = names\n"
   ]
  },
  {
   "cell_type": "code",
   "execution_count": 154,
   "metadata": {},
   "outputs": [
    {
     "data": {
      "text/html": [
       "<div>\n",
       "<style scoped>\n",
       "    .dataframe tbody tr th:only-of-type {\n",
       "        vertical-align: middle;\n",
       "    }\n",
       "\n",
       "    .dataframe tbody tr th {\n",
       "        vertical-align: top;\n",
       "    }\n",
       "\n",
       "    .dataframe thead th {\n",
       "        text-align: right;\n",
       "    }\n",
       "</style>\n",
       "<table border=\"1\" class=\"dataframe\">\n",
       "  <thead>\n",
       "    <tr style=\"text-align: right;\">\n",
       "      <th></th>\n",
       "      <th>Job Code</th>\n",
       "      <th>Title</th>\n",
       "      <th>Job Description</th>\n",
       "      <th>Region</th>\n",
       "      <th>Location</th>\n",
       "      <th>Category</th>\n",
       "      <th>Salary_Range</th>\n",
       "      <th>Actual_Salary</th>\n",
       "      <th>Source_Name</th>\n",
       "    </tr>\n",
       "  </thead>\n",
       "  <tbody>\n",
       "    <tr>\n",
       "      <th>0</th>\n",
       "      <td>12612628</td>\n",
       "      <td>Engineering Systems Analyst</td>\n",
       "      <td>Engineering Systems Analyst Dorking Surrey Sal...</td>\n",
       "      <td>Dorking, Surrey, Surrey</td>\n",
       "      <td>Dorking</td>\n",
       "      <td>Engineering Jobs</td>\n",
       "      <td>20000 - 30000/annum 20-30K</td>\n",
       "      <td>25000</td>\n",
       "      <td>cv-library.co.uk</td>\n",
       "    </tr>\n",
       "    <tr>\n",
       "      <th>1</th>\n",
       "      <td>12612830</td>\n",
       "      <td>Stress Engineer Glasgow</td>\n",
       "      <td>Stress Engineer Glasgow Salary **** to **** We...</td>\n",
       "      <td>Glasgow, Scotland, Scotland</td>\n",
       "      <td>Glasgow</td>\n",
       "      <td>Engineering Jobs</td>\n",
       "      <td>25000 - 35000/annum 25-35K</td>\n",
       "      <td>30000</td>\n",
       "      <td>cv-library.co.uk</td>\n",
       "    </tr>\n",
       "    <tr>\n",
       "      <th>2</th>\n",
       "      <td>12612844</td>\n",
       "      <td>Modelling and simulation analyst</td>\n",
       "      <td>Mathematical Modeller / Simulation Analyst / O...</td>\n",
       "      <td>Hampshire, South East, South East</td>\n",
       "      <td>Hampshire</td>\n",
       "      <td>Engineering Jobs</td>\n",
       "      <td>20000 - 40000/annum 20-40K</td>\n",
       "      <td>30000</td>\n",
       "      <td>cv-library.co.uk</td>\n",
       "    </tr>\n",
       "    <tr>\n",
       "      <th>3</th>\n",
       "      <td>12613049</td>\n",
       "      <td>Engineering Systems Analyst / Mathematical Mod...</td>\n",
       "      <td>Engineering Systems Analyst / Mathematical Mod...</td>\n",
       "      <td>Surrey, South East, South East</td>\n",
       "      <td>Surrey</td>\n",
       "      <td>Engineering Jobs</td>\n",
       "      <td>25000 - 30000/annum 25K-30K negotiable</td>\n",
       "      <td>27500</td>\n",
       "      <td>cv-library.co.uk</td>\n",
       "    </tr>\n",
       "    <tr>\n",
       "      <th>4</th>\n",
       "      <td>12613647</td>\n",
       "      <td>Pioneer, Miser Engineering Systems Analyst</td>\n",
       "      <td>Pioneer, Miser  Engineering Systems Analyst Do...</td>\n",
       "      <td>Surrey, South East, South East</td>\n",
       "      <td>Surrey</td>\n",
       "      <td>Engineering Jobs</td>\n",
       "      <td>20000 - 30000/annum 20-30K</td>\n",
       "      <td>25000</td>\n",
       "      <td>cv-library.co.uk</td>\n",
       "    </tr>\n",
       "  </tbody>\n",
       "</table>\n",
       "</div>"
      ],
      "text/plain": [
       "   Job Code                                              Title  \\\n",
       "0  12612628                        Engineering Systems Analyst   \n",
       "1  12612830                            Stress Engineer Glasgow   \n",
       "2  12612844                   Modelling and simulation analyst   \n",
       "3  12613049  Engineering Systems Analyst / Mathematical Mod...   \n",
       "4  12613647         Pioneer, Miser Engineering Systems Analyst   \n",
       "\n",
       "                                     Job Description  \\\n",
       "0  Engineering Systems Analyst Dorking Surrey Sal...   \n",
       "1  Stress Engineer Glasgow Salary **** to **** We...   \n",
       "2  Mathematical Modeller / Simulation Analyst / O...   \n",
       "3  Engineering Systems Analyst / Mathematical Mod...   \n",
       "4  Pioneer, Miser  Engineering Systems Analyst Do...   \n",
       "\n",
       "                              Region   Location          Category  \\\n",
       "0            Dorking, Surrey, Surrey    Dorking  Engineering Jobs   \n",
       "1        Glasgow, Scotland, Scotland    Glasgow  Engineering Jobs   \n",
       "2  Hampshire, South East, South East  Hampshire  Engineering Jobs   \n",
       "3     Surrey, South East, South East     Surrey  Engineering Jobs   \n",
       "4     Surrey, South East, South East     Surrey  Engineering Jobs   \n",
       "\n",
       "                             Salary_Range  Actual_Salary       Source_Name  \n",
       "0              20000 - 30000/annum 20-30K          25000  cv-library.co.uk  \n",
       "1              25000 - 35000/annum 25-35K          30000  cv-library.co.uk  \n",
       "2              20000 - 40000/annum 20-40K          30000  cv-library.co.uk  \n",
       "3  25000 - 30000/annum 25K-30K negotiable          27500  cv-library.co.uk  \n",
       "4              20000 - 30000/annum 20-30K          25000  cv-library.co.uk  "
      ]
     },
     "execution_count": 154,
     "metadata": {},
     "output_type": "execute_result"
    }
   ],
   "source": [
    "Train_data.head()"
   ]
  },
  {
   "cell_type": "code",
   "execution_count": 155,
   "metadata": {},
   "outputs": [
    {
     "data": {
      "text/plain": [
       "Job Code           0\n",
       "Title              1\n",
       "Job Description    0\n",
       "Region             0\n",
       "Location           0\n",
       "Category           0\n",
       "Salary_Range       0\n",
       "Actual_Salary      0\n",
       "Source_Name        1\n",
       "dtype: int64"
      ]
     },
     "execution_count": 155,
     "metadata": {},
     "output_type": "execute_result"
    }
   ],
   "source": [
    "Train_data.isnull().sum()"
   ]
  },
  {
   "cell_type": "markdown",
   "metadata": {},
   "source": [
    "### 2.6 Examine IT Job Market"
   ]
  },
  {
   "cell_type": "code",
   "execution_count": 156,
   "metadata": {},
   "outputs": [],
   "source": [
    "ITJobs_Data = Train_data[(Train_data.Actual_Salary) & (Train_data.Category == 'IT Jobs')]"
   ]
  },
  {
   "cell_type": "code",
   "execution_count": 157,
   "metadata": {},
   "outputs": [
    {
     "data": {
      "text/html": [
       "<div>\n",
       "<style scoped>\n",
       "    .dataframe tbody tr th:only-of-type {\n",
       "        vertical-align: middle;\n",
       "    }\n",
       "\n",
       "    .dataframe tbody tr th {\n",
       "        vertical-align: top;\n",
       "    }\n",
       "\n",
       "    .dataframe thead th {\n",
       "        text-align: right;\n",
       "    }\n",
       "</style>\n",
       "<table border=\"1\" class=\"dataframe\">\n",
       "  <thead>\n",
       "    <tr style=\"text-align: right;\">\n",
       "      <th></th>\n",
       "      <th>Job Code</th>\n",
       "      <th>Title</th>\n",
       "      <th>Job Description</th>\n",
       "      <th>Region</th>\n",
       "      <th>Location</th>\n",
       "      <th>Category</th>\n",
       "      <th>Salary_Range</th>\n",
       "      <th>Actual_Salary</th>\n",
       "      <th>Source_Name</th>\n",
       "    </tr>\n",
       "  </thead>\n",
       "  <tbody>\n",
       "    <tr>\n",
       "      <th>2487</th>\n",
       "      <td>55408230</td>\n",
       "      <td>Configuration Analyst</td>\n",
       "      <td>Configuration Analyst, London, ****k DOE Confi...</td>\n",
       "      <td>London</td>\n",
       "      <td>London</td>\n",
       "      <td>IT Jobs</td>\n",
       "      <td>From 40,000 to 49,999 per year + ( 40,000 - 49...</td>\n",
       "      <td>44999</td>\n",
       "      <td>planetrecruit.com</td>\n",
       "    </tr>\n",
       "    <tr>\n",
       "      <th>2503</th>\n",
       "      <td>55408436</td>\n",
       "      <td>Data Centre Shift Lead, West London, up to ***...</td>\n",
       "      <td>Data Centre Shift Lead, West London, up to ***...</td>\n",
       "      <td>London</td>\n",
       "      <td>London</td>\n",
       "      <td>IT Jobs</td>\n",
       "      <td>From 40,000 to 49,999 per year + ( 40,000 - 49...</td>\n",
       "      <td>44999</td>\n",
       "      <td>planetrecruit.com</td>\n",
       "    </tr>\n",
       "    <tr>\n",
       "      <th>2506</th>\n",
       "      <td>55408452</td>\n",
       "      <td>Website/Portal Systems Development Manager (Ja...</td>\n",
       "      <td>Website/Portal Systems Development ManagerLond...</td>\n",
       "      <td>London</td>\n",
       "      <td>London</td>\n",
       "      <td>IT Jobs</td>\n",
       "      <td>From 70,000 to 79,999 per year + ( 70,000 - 79...</td>\n",
       "      <td>74999</td>\n",
       "      <td>planetrecruit.com</td>\n",
       "    </tr>\n",
       "    <tr>\n",
       "      <th>2508</th>\n",
       "      <td>55408456</td>\n",
       "      <td>B2B Telesales Executive</td>\n",
       "      <td>Are you an experienced Telesales Executive? If...</td>\n",
       "      <td>Gloucestershire</td>\n",
       "      <td>Gloucestershire</td>\n",
       "      <td>IT Jobs</td>\n",
       "      <td>From 20,000 to 29,999 per year + ( 20,000 - 29...</td>\n",
       "      <td>24999</td>\n",
       "      <td>planetrecruit.com</td>\n",
       "    </tr>\n",
       "    <tr>\n",
       "      <th>2581</th>\n",
       "      <td>55409435</td>\n",
       "      <td>Application Team Leader</td>\n",
       "      <td>Essex County Fire &amp; Rescue have a vacancy for ...</td>\n",
       "      <td>Essex</td>\n",
       "      <td>Essex</td>\n",
       "      <td>IT Jobs</td>\n",
       "      <td>Up to 36,313 per year + 34549.00-36313.00</td>\n",
       "      <td>36313</td>\n",
       "      <td>planetrecruit.com</td>\n",
       "    </tr>\n",
       "    <tr>\n",
       "      <th>2627</th>\n",
       "      <td>55409778</td>\n",
       "      <td>Online Infrastructure Analyst</td>\n",
       "      <td>Job Title: Online Infrastructure Analyst Refer...</td>\n",
       "      <td>Buckinghamshire</td>\n",
       "      <td>Buckinghamshire</td>\n",
       "      <td>IT Jobs</td>\n",
       "      <td>From 30,000 to 39,999 per year + ( 30,000 - 39...</td>\n",
       "      <td>34999</td>\n",
       "      <td>planetrecruit.com</td>\n",
       "    </tr>\n",
       "  </tbody>\n",
       "</table>\n",
       "</div>"
      ],
      "text/plain": [
       "      Job Code                                              Title  \\\n",
       "2487  55408230                              Configuration Analyst   \n",
       "2503  55408436  Data Centre Shift Lead, West London, up to ***...   \n",
       "2506  55408452  Website/Portal Systems Development Manager (Ja...   \n",
       "2508  55408456                            B2B Telesales Executive   \n",
       "2581  55409435                            Application Team Leader   \n",
       "2627  55409778                      Online Infrastructure Analyst   \n",
       "\n",
       "                                        Job Description           Region  \\\n",
       "2487  Configuration Analyst, London, ****k DOE Confi...           London   \n",
       "2503  Data Centre Shift Lead, West London, up to ***...           London   \n",
       "2506  Website/Portal Systems Development ManagerLond...           London   \n",
       "2508  Are you an experienced Telesales Executive? If...  Gloucestershire   \n",
       "2581  Essex County Fire & Rescue have a vacancy for ...            Essex   \n",
       "2627  Job Title: Online Infrastructure Analyst Refer...  Buckinghamshire   \n",
       "\n",
       "             Location Category  \\\n",
       "2487           London  IT Jobs   \n",
       "2503           London  IT Jobs   \n",
       "2506           London  IT Jobs   \n",
       "2508  Gloucestershire  IT Jobs   \n",
       "2581            Essex  IT Jobs   \n",
       "2627  Buckinghamshire  IT Jobs   \n",
       "\n",
       "                                           Salary_Range  Actual_Salary  \\\n",
       "2487  From 40,000 to 49,999 per year + ( 40,000 - 49...          44999   \n",
       "2503  From 40,000 to 49,999 per year + ( 40,000 - 49...          44999   \n",
       "2506  From 70,000 to 79,999 per year + ( 70,000 - 79...          74999   \n",
       "2508  From 20,000 to 29,999 per year + ( 20,000 - 29...          24999   \n",
       "2581          Up to 36,313 per year + 34549.00-36313.00          36313   \n",
       "2627  From 30,000 to 39,999 per year + ( 30,000 - 39...          34999   \n",
       "\n",
       "            Source_Name  \n",
       "2487  planetrecruit.com  \n",
       "2503  planetrecruit.com  \n",
       "2506  planetrecruit.com  \n",
       "2508  planetrecruit.com  \n",
       "2581  planetrecruit.com  \n",
       "2627  planetrecruit.com  "
      ]
     },
     "execution_count": 157,
     "metadata": {},
     "output_type": "execute_result"
    }
   ],
   "source": [
    "ITJobs_Data.head(6)"
   ]
  },
  {
   "cell_type": "code",
   "execution_count": 158,
   "metadata": {},
   "outputs": [
    {
     "data": {
      "text/plain": [
       "Business Development Manager            7\n",
       "Test Analyst                            5\n",
       "Oracle Technical Team Leader            5\n",
       "IT Support Engineer                     5\n",
       "Project Support Officer/Data Analyst    4\n",
       "Name: Title, dtype: int64"
      ]
     },
     "execution_count": 158,
     "metadata": {},
     "output_type": "execute_result"
    }
   ],
   "source": [
    "# find any IT Title duplicates\n",
    "ITJobs_Data['Title'].value_counts().head()"
   ]
  },
  {
   "cell_type": "markdown",
   "metadata": {},
   "source": [
    "### Comments"
   ]
  },
  {
   "cell_type": "markdown",
   "metadata": {},
   "source": [
    "Duplicates found in IT Job Titles all have unique Job descriptions - No need to consolidate "
   ]
  },
  {
   "cell_type": "markdown",
   "metadata": {},
   "source": [
    "### 2.7 Histogram of all Job Salaries"
   ]
  },
  {
   "cell_type": "code",
   "execution_count": 159,
   "metadata": {},
   "outputs": [
    {
     "data": {
      "text/plain": [
       "<AxesSubplot:>"
      ]
     },
     "execution_count": 159,
     "metadata": {},
     "output_type": "execute_result"
    },
    {
     "data": {
      "image/png": "[encoded data removed]",
      "text/plain": [
       "<Figure size 432x288 with 1 Axes>"
      ]
     },
     "metadata": {
      "needs_background": "light"
     },
     "output_type": "display_data"
    }
   ],
   "source": [
    "%matplotlib inline\n",
    "Train_data.Actual_Salary.hist()"
   ]
  },
  {
   "cell_type": "markdown",
   "metadata": {},
   "source": [
    "### 2.8 Histogram of IT Salaries"
   ]
  },
  {
   "cell_type": "code",
   "execution_count": 160,
   "metadata": {},
   "outputs": [
    {
     "data": {
      "text/plain": [
       "<AxesSubplot:>"
      ]
     },
     "execution_count": 160,
     "metadata": {},
     "output_type": "execute_result"
    },
    {
     "data": {
      "image/png": "[encoded data removed]",
      "text/plain": [
       "<Figure size 432x288 with 1 Axes>"
      ]
     },
     "metadata": {
      "needs_background": "light"
     },
     "output_type": "display_data"
    }
   ],
   "source": [
    "ITJobs_Data.Actual_Salary.hist()"
   ]
  },
  {
   "cell_type": "code",
   "execution_count": 161,
   "metadata": {},
   "outputs": [
    {
     "data": {
      "image/png": "[encoded data removed]",
      "text/plain": [
       "<Figure size 1008x720 with 1 Axes>"
      ]
     },
     "metadata": {
      "needs_background": "light"
     },
     "output_type": "display_data"
    }
   ],
   "source": [
    "plt.subplots(figsize=(14, 10))\n",
    "sns.boxplot(x='Category', y='Actual_Salary', data=Train_data)\n",
    "plt.xticks(rotation='vertical')\n",
    "plt.ylabel('Actual_Salary ($)')\n",
    "plt.xlabel('Category');"
   ]
  },
  {
   "cell_type": "code",
   "execution_count": null,
   "metadata": {},
   "outputs": [],
   "source": []
  }
 ],
 "metadata": {
  "kernelspec": {
   "display_name": "Python 3",
   "language": "python",
   "name": "python3"
  },
  "language_info": {
   "codemirror_mode": {
    "name": "ipython",
    "version": 3
   },
   "file_extension": ".py",
   "mimetype": "text/x-python",
   "name": "python",
   "nbconvert_exporter": "python",
   "pygments_lexer": "ipython3",
   "version": "3.8.5"
  }
 },
 "nbformat": 4,
 "nbformat_minor": 4
}
