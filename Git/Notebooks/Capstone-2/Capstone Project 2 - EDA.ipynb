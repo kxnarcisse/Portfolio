{
 "cells": [
  {
   "cell_type": "markdown",
   "metadata": {},
   "source": [
    "# Salaries - Exploratory Data Analysis (EDA)"
   ]
  },
  {
   "cell_type": "markdown",
   "metadata": {},
   "source": [
    "Conduct EDA on Job Salaries to examine relationships between variables and other patterns in the data\n",
    "\n"
   ]
  },
  {
   "cell_type": "markdown",
   "metadata": {},
   "source": [
    "* Import relevant libraries\n",
    "* Load the data\n",
    "* Exploring the data\n",
    "* Choosing a dependent variable"
   ]
  },
  {
   "cell_type": "markdown",
   "metadata": {},
   "source": [
    "### Imports"
   ]
  },
  {
   "cell_type": "code",
   "execution_count": 1,
   "metadata": {},
   "outputs": [],
   "source": [
    "import pandas as pd\n",
    "import numpy as np\n",
    "import missingno as msno\n",
    "import matplotlib.pyplot as plt\n",
    "import statistics as st\n",
    "import seaborn as sns\n",
    "import os\n",
    "import statsmodels.api as sm\n",
    "import scipy.stats as ss\n",
    "import itertools\n",
    "\n",
    "from library.sb_utils import save_file"
   ]
  },
  {
   "cell_type": "code",
   "execution_count": 2,
   "metadata": {},
   "outputs": [],
   "source": [
    "train_data = pd.read_csv('Train_rev1.csv')"
   ]
  },
  {
   "cell_type": "markdown",
   "metadata": {},
   "source": [
    "### Cleanup"
   ]
  },
  {
   "cell_type": "code",
   "execution_count": 3,
   "metadata": {},
   "outputs": [],
   "source": [
    "def scrub_data(data, columns, axis, vals, names):\n",
    "    #drop useless columns\n",
    "    data = data.drop(columns, axis = 1)\n",
    "    #detect the missing data\n",
    "    missingcounts = data.isnull().sum()\n",
    "    missingcols = [col for col in missingcounts.keys() if missingcounts[col] != 0]\n",
    "    #fill the missing data with specific values\n",
    "    values = dict(zip(missingcols, vals))\n",
    "    data = data.fillna(value = values)\n",
    "    #rename the columns\n",
    "    data.columns = names\n",
    "    return data"
   ]
  },
  {
   "cell_type": "code",
   "execution_count": 4,
   "metadata": {},
   "outputs": [],
   "source": [
    "#fill missing data for \"ContractType\", \"ContractTime\", \"Company\" with Unknown\n",
    "train_data = train_data.fillna(\"Unknown\")\n",
    "\n",
    "#rename the columns\n",
    "names = [\"Job Code\", \"Title\", \"Job Description\", \"Region\", \"Location\", \"ContractType\", \"ContractTime\", \"Company\", \"Category\", \"Salary_Range\", \"Salary\",\"Source_Name\"]\n",
    "train_data.columns = names\n"
   ]
  },
  {
   "cell_type": "markdown",
   "metadata": {},
   "source": [
    "### Examine the Data"
   ]
  },
  {
   "cell_type": "code",
   "execution_count": 5,
   "metadata": {},
   "outputs": [
    {
     "name": "stdout",
     "output_type": "stream",
     "text": [
      "(244768, 12)\n"
     ]
    },
    {
     "data": {
      "text/html": [
       "<div>\n",
       "<style scoped>\n",
       "    .dataframe tbody tr th:only-of-type {\n",
       "        vertical-align: middle;\n",
       "    }\n",
       "\n",
       "    .dataframe tbody tr th {\n",
       "        vertical-align: top;\n",
       "    }\n",
       "\n",
       "    .dataframe thead th {\n",
       "        text-align: right;\n",
       "    }\n",
       "</style>\n",
       "<table border=\"1\" class=\"dataframe\">\n",
       "  <thead>\n",
       "    <tr style=\"text-align: right;\">\n",
       "      <th></th>\n",
       "      <th>Job Code</th>\n",
       "      <th>Title</th>\n",
       "      <th>Job Description</th>\n",
       "      <th>Region</th>\n",
       "      <th>Location</th>\n",
       "      <th>ContractType</th>\n",
       "      <th>ContractTime</th>\n",
       "      <th>Company</th>\n",
       "      <th>Category</th>\n",
       "      <th>Salary_Range</th>\n",
       "      <th>Salary</th>\n",
       "      <th>Source_Name</th>\n",
       "    </tr>\n",
       "  </thead>\n",
       "  <tbody>\n",
       "    <tr>\n",
       "      <th>0</th>\n",
       "      <td>12612628</td>\n",
       "      <td>Engineering Systems Analyst</td>\n",
       "      <td>Engineering Systems Analyst Dorking Surrey Sal...</td>\n",
       "      <td>Dorking, Surrey, Surrey</td>\n",
       "      <td>Dorking</td>\n",
       "      <td>Unknown</td>\n",
       "      <td>permanent</td>\n",
       "      <td>Gregory Martin International</td>\n",
       "      <td>Engineering Jobs</td>\n",
       "      <td>20000 - 30000/annum 20-30K</td>\n",
       "      <td>25000</td>\n",
       "      <td>cv-library.co.uk</td>\n",
       "    </tr>\n",
       "    <tr>\n",
       "      <th>1</th>\n",
       "      <td>12612830</td>\n",
       "      <td>Stress Engineer Glasgow</td>\n",
       "      <td>Stress Engineer Glasgow Salary **** to **** We...</td>\n",
       "      <td>Glasgow, Scotland, Scotland</td>\n",
       "      <td>Glasgow</td>\n",
       "      <td>Unknown</td>\n",
       "      <td>permanent</td>\n",
       "      <td>Gregory Martin International</td>\n",
       "      <td>Engineering Jobs</td>\n",
       "      <td>25000 - 35000/annum 25-35K</td>\n",
       "      <td>30000</td>\n",
       "      <td>cv-library.co.uk</td>\n",
       "    </tr>\n",
       "    <tr>\n",
       "      <th>2</th>\n",
       "      <td>12612844</td>\n",
       "      <td>Modelling and simulation analyst</td>\n",
       "      <td>Mathematical Modeller / Simulation Analyst / O...</td>\n",
       "      <td>Hampshire, South East, South East</td>\n",
       "      <td>Hampshire</td>\n",
       "      <td>Unknown</td>\n",
       "      <td>permanent</td>\n",
       "      <td>Gregory Martin International</td>\n",
       "      <td>Engineering Jobs</td>\n",
       "      <td>20000 - 40000/annum 20-40K</td>\n",
       "      <td>30000</td>\n",
       "      <td>cv-library.co.uk</td>\n",
       "    </tr>\n",
       "    <tr>\n",
       "      <th>3</th>\n",
       "      <td>12613049</td>\n",
       "      <td>Engineering Systems Analyst / Mathematical Mod...</td>\n",
       "      <td>Engineering Systems Analyst / Mathematical Mod...</td>\n",
       "      <td>Surrey, South East, South East</td>\n",
       "      <td>Surrey</td>\n",
       "      <td>Unknown</td>\n",
       "      <td>permanent</td>\n",
       "      <td>Gregory Martin International</td>\n",
       "      <td>Engineering Jobs</td>\n",
       "      <td>25000 - 30000/annum 25K-30K negotiable</td>\n",
       "      <td>27500</td>\n",
       "      <td>cv-library.co.uk</td>\n",
       "    </tr>\n",
       "    <tr>\n",
       "      <th>4</th>\n",
       "      <td>12613647</td>\n",
       "      <td>Pioneer, Miser Engineering Systems Analyst</td>\n",
       "      <td>Pioneer, Miser  Engineering Systems Analyst Do...</td>\n",
       "      <td>Surrey, South East, South East</td>\n",
       "      <td>Surrey</td>\n",
       "      <td>Unknown</td>\n",
       "      <td>permanent</td>\n",
       "      <td>Gregory Martin International</td>\n",
       "      <td>Engineering Jobs</td>\n",
       "      <td>20000 - 30000/annum 20-30K</td>\n",
       "      <td>25000</td>\n",
       "      <td>cv-library.co.uk</td>\n",
       "    </tr>\n",
       "    <tr>\n",
       "      <th>5</th>\n",
       "      <td>13179816</td>\n",
       "      <td>Engineering Systems Analyst Water Industry</td>\n",
       "      <td>Engineering Systems Analyst Water Industry Loc...</td>\n",
       "      <td>Dorking, Surrey, Surrey, Surrey</td>\n",
       "      <td>Dorking</td>\n",
       "      <td>Unknown</td>\n",
       "      <td>permanent</td>\n",
       "      <td>Gregory Martin International</td>\n",
       "      <td>Engineering Jobs</td>\n",
       "      <td>20000 - 30000/annum 20K to 30K</td>\n",
       "      <td>25000</td>\n",
       "      <td>cv-library.co.uk</td>\n",
       "    </tr>\n",
       "    <tr>\n",
       "      <th>6</th>\n",
       "      <td>14131336</td>\n",
       "      <td>Senior Subsea Pipeline Integrity Engineer</td>\n",
       "      <td>A globally renowned engineering and training c...</td>\n",
       "      <td>Aberdeen, Borders</td>\n",
       "      <td>UK</td>\n",
       "      <td>Unknown</td>\n",
       "      <td>permanent</td>\n",
       "      <td>Indigo 21 Ltd</td>\n",
       "      <td>Engineering Jobs</td>\n",
       "      <td>50000 - 100000/annum</td>\n",
       "      <td>75000</td>\n",
       "      <td>cv-library.co.uk</td>\n",
       "    </tr>\n",
       "    <tr>\n",
       "      <th>7</th>\n",
       "      <td>14663196</td>\n",
       "      <td>RECRUITMENT CONSULTANT  INDUSTRIAL / COMMERCIA...</td>\n",
       "      <td>THIS IS A LIVE VACANCY NOT A GENERIC ADVERTISE...</td>\n",
       "      <td>MANCHESTER, Greater Manchester</td>\n",
       "      <td>Manchester</td>\n",
       "      <td>Unknown</td>\n",
       "      <td>permanent</td>\n",
       "      <td>Code Blue Recruitment</td>\n",
       "      <td>HR &amp; Recruitment Jobs</td>\n",
       "      <td>18000 - 26000/annum TO 26K BASIC + COMM + BENS</td>\n",
       "      <td>22000</td>\n",
       "      <td>cv-library.co.uk</td>\n",
       "    </tr>\n",
       "    <tr>\n",
       "      <th>8</th>\n",
       "      <td>14663197</td>\n",
       "      <td>RECRUITMENT CONSULTANT  CONSTRUCTION / TECHNIC...</td>\n",
       "      <td>This is an exceptional opportunity to join a c...</td>\n",
       "      <td>LEEDS, West Yorkshire</td>\n",
       "      <td>Leeds</td>\n",
       "      <td>Unknown</td>\n",
       "      <td>permanent</td>\n",
       "      <td>Code Blue Recruitment</td>\n",
       "      <td>HR &amp; Recruitment Jobs</td>\n",
       "      <td>18000 - 28000/annum 18 - 28K BASIC + COMM + BENS</td>\n",
       "      <td>23000</td>\n",
       "      <td>cv-library.co.uk</td>\n",
       "    </tr>\n",
       "    <tr>\n",
       "      <th>9</th>\n",
       "      <td>15395797</td>\n",
       "      <td>Subsea Cables Engineer</td>\n",
       "      <td>A subsea engineering company is looking for an...</td>\n",
       "      <td>Aberdeen, UK</td>\n",
       "      <td>Aberdeen</td>\n",
       "      <td>Unknown</td>\n",
       "      <td>permanent</td>\n",
       "      <td>Indigo 21 Ltd</td>\n",
       "      <td>Engineering Jobs</td>\n",
       "      <td>70000 - 100000/annum</td>\n",
       "      <td>85000</td>\n",
       "      <td>cv-library.co.uk</td>\n",
       "    </tr>\n",
       "  </tbody>\n",
       "</table>\n",
       "</div>"
      ],
      "text/plain": [
       "   Job Code                                              Title  \\\n",
       "0  12612628                        Engineering Systems Analyst   \n",
       "1  12612830                            Stress Engineer Glasgow   \n",
       "2  12612844                   Modelling and simulation analyst   \n",
       "3  12613049  Engineering Systems Analyst / Mathematical Mod...   \n",
       "4  12613647         Pioneer, Miser Engineering Systems Analyst   \n",
       "5  13179816         Engineering Systems Analyst Water Industry   \n",
       "6  14131336          Senior Subsea Pipeline Integrity Engineer   \n",
       "7  14663196  RECRUITMENT CONSULTANT  INDUSTRIAL / COMMERCIA...   \n",
       "8  14663197  RECRUITMENT CONSULTANT  CONSTRUCTION / TECHNIC...   \n",
       "9  15395797                             Subsea Cables Engineer   \n",
       "\n",
       "                                     Job Description  \\\n",
       "0  Engineering Systems Analyst Dorking Surrey Sal...   \n",
       "1  Stress Engineer Glasgow Salary **** to **** We...   \n",
       "2  Mathematical Modeller / Simulation Analyst / O...   \n",
       "3  Engineering Systems Analyst / Mathematical Mod...   \n",
       "4  Pioneer, Miser  Engineering Systems Analyst Do...   \n",
       "5  Engineering Systems Analyst Water Industry Loc...   \n",
       "6  A globally renowned engineering and training c...   \n",
       "7  THIS IS A LIVE VACANCY NOT A GENERIC ADVERTISE...   \n",
       "8  This is an exceptional opportunity to join a c...   \n",
       "9  A subsea engineering company is looking for an...   \n",
       "\n",
       "                              Region    Location ContractType ContractTime  \\\n",
       "0            Dorking, Surrey, Surrey     Dorking      Unknown    permanent   \n",
       "1        Glasgow, Scotland, Scotland     Glasgow      Unknown    permanent   \n",
       "2  Hampshire, South East, South East   Hampshire      Unknown    permanent   \n",
       "3     Surrey, South East, South East      Surrey      Unknown    permanent   \n",
       "4     Surrey, South East, South East      Surrey      Unknown    permanent   \n",
       "5    Dorking, Surrey, Surrey, Surrey     Dorking      Unknown    permanent   \n",
       "6                  Aberdeen, Borders          UK      Unknown    permanent   \n",
       "7     MANCHESTER, Greater Manchester  Manchester      Unknown    permanent   \n",
       "8              LEEDS, West Yorkshire       Leeds      Unknown    permanent   \n",
       "9                       Aberdeen, UK    Aberdeen      Unknown    permanent   \n",
       "\n",
       "                        Company               Category  \\\n",
       "0  Gregory Martin International       Engineering Jobs   \n",
       "1  Gregory Martin International       Engineering Jobs   \n",
       "2  Gregory Martin International       Engineering Jobs   \n",
       "3  Gregory Martin International       Engineering Jobs   \n",
       "4  Gregory Martin International       Engineering Jobs   \n",
       "5  Gregory Martin International       Engineering Jobs   \n",
       "6                 Indigo 21 Ltd       Engineering Jobs   \n",
       "7         Code Blue Recruitment  HR & Recruitment Jobs   \n",
       "8         Code Blue Recruitment  HR & Recruitment Jobs   \n",
       "9                 Indigo 21 Ltd       Engineering Jobs   \n",
       "\n",
       "                                       Salary_Range  Salary       Source_Name  \n",
       "0                        20000 - 30000/annum 20-30K   25000  cv-library.co.uk  \n",
       "1                        25000 - 35000/annum 25-35K   30000  cv-library.co.uk  \n",
       "2                        20000 - 40000/annum 20-40K   30000  cv-library.co.uk  \n",
       "3            25000 - 30000/annum 25K-30K negotiable   27500  cv-library.co.uk  \n",
       "4                        20000 - 30000/annum 20-30K   25000  cv-library.co.uk  \n",
       "5                    20000 - 30000/annum 20K to 30K   25000  cv-library.co.uk  \n",
       "6                              50000 - 100000/annum   75000  cv-library.co.uk  \n",
       "7    18000 - 26000/annum TO 26K BASIC + COMM + BENS   22000  cv-library.co.uk  \n",
       "8  18000 - 28000/annum 18 - 28K BASIC + COMM + BENS   23000  cv-library.co.uk  \n",
       "9                              70000 - 100000/annum   85000  cv-library.co.uk  "
      ]
     },
     "execution_count": 5,
     "metadata": {},
     "output_type": "execute_result"
    }
   ],
   "source": [
    "print(train_data.shape)\n",
    "train_data.head(10)"
   ]
  },
  {
   "cell_type": "markdown",
   "metadata": {},
   "source": [
    "### Use .info() to see length and dtypes"
   ]
  },
  {
   "cell_type": "code",
   "execution_count": 6,
   "metadata": {},
   "outputs": [
    {
     "name": "stdout",
     "output_type": "stream",
     "text": [
      "<class 'pandas.core.frame.DataFrame'>\n",
      "RangeIndex: 244768 entries, 0 to 244767\n",
      "Data columns (total 12 columns):\n",
      " #   Column           Non-Null Count   Dtype \n",
      "---  ------           --------------   ----- \n",
      " 0   Job Code         244768 non-null  int64 \n",
      " 1   Title            244768 non-null  object\n",
      " 2   Job Description  244768 non-null  object\n",
      " 3   Region           244768 non-null  object\n",
      " 4   Location         244768 non-null  object\n",
      " 5   ContractType     244768 non-null  object\n",
      " 6   ContractTime     244768 non-null  object\n",
      " 7   Company          244768 non-null  object\n",
      " 8   Category         244768 non-null  object\n",
      " 9   Salary_Range     244768 non-null  object\n",
      " 10  Salary           244768 non-null  int64 \n",
      " 11  Source_Name      244768 non-null  object\n",
      "dtypes: int64(2), object(10)\n",
      "memory usage: 22.4+ MB\n"
     ]
    }
   ],
   "source": [
    "train_data.info()"
   ]
  },
  {
   "cell_type": "markdown",
   "metadata": {},
   "source": [
    "### Check for duplicates"
   ]
  },
  {
   "cell_type": "code",
   "execution_count": 7,
   "metadata": {},
   "outputs": [
    {
     "data": {
      "text/plain": [
       "0"
      ]
     },
     "execution_count": 7,
     "metadata": {},
     "output_type": "execute_result"
    }
   ],
   "source": [
    "train_data.duplicated().sum()"
   ]
  },
  {
   "cell_type": "markdown",
   "metadata": {},
   "source": [
    "### Check for missing values"
   ]
  },
  {
   "cell_type": "code",
   "execution_count": 8,
   "metadata": {},
   "outputs": [],
   "source": [
    "#Function that calculates percentage of missing data per column\n",
    "def missingData(dataframe):\n",
    "    missing = False\n",
    "    for item in (dataframe.isnull().sum()).iteritems():\n",
    "        if item[1] > 0:\n",
    "            print('Missing Data percentage for '+item[0]+' is {:2.2%}'.format((item[1]/dataframe.shape[0])) )\n",
    "            missing = True\n",
    "    if not missing:\n",
    "        print('Found no missing values.')"
   ]
  },
  {
   "cell_type": "code",
   "execution_count": 9,
   "metadata": {},
   "outputs": [
    {
     "name": "stdout",
     "output_type": "stream",
     "text": [
      "Found no missing values.\n"
     ]
    }
   ],
   "source": [
    "missingData(train_data)"
   ]
  },
  {
   "cell_type": "markdown",
   "metadata": {},
   "source": [
    "### Identify numerical and categorical variables"
   ]
  },
  {
   "cell_type": "code",
   "execution_count": 10,
   "metadata": {},
   "outputs": [
    {
     "data": {
      "text/plain": [
       "Index(['Job Code', 'Title', 'Job Description', 'Region', 'Location',\n",
       "       'ContractType', 'ContractTime', 'Company', 'Category', 'Salary_Range',\n",
       "       'Salary', 'Source_Name'],\n",
       "      dtype='object')"
      ]
     },
     "execution_count": 10,
     "metadata": {},
     "output_type": "execute_result"
    }
   ],
   "source": [
    "train_data.columns"
   ]
  },
  {
   "cell_type": "code",
   "execution_count": 11,
   "metadata": {},
   "outputs": [],
   "source": [
    "numeric_cols = ['Job Code','Salary']"
   ]
  },
  {
   "cell_type": "code",
   "execution_count": 12,
   "metadata": {},
   "outputs": [],
   "source": [
    "categorical_cols = ['Title', 'Job Description', 'Region', 'Location',\n",
    "       'ContractType', 'ContractTime', 'Company', 'Category', 'Salary_Range', 'Source_Name']"
   ]
  },
  {
   "cell_type": "markdown",
   "metadata": {},
   "source": [
    "### Summarize numerical and categorical variables separately"
   ]
  },
  {
   "cell_type": "code",
   "execution_count": 13,
   "metadata": {},
   "outputs": [
    {
     "data": {
      "text/html": [
       "<div>\n",
       "<style scoped>\n",
       "    .dataframe tbody tr th:only-of-type {\n",
       "        vertical-align: middle;\n",
       "    }\n",
       "\n",
       "    .dataframe tbody tr th {\n",
       "        vertical-align: top;\n",
       "    }\n",
       "\n",
       "    .dataframe thead th {\n",
       "        text-align: right;\n",
       "    }\n",
       "</style>\n",
       "<table border=\"1\" class=\"dataframe\">\n",
       "  <thead>\n",
       "    <tr style=\"text-align: right;\">\n",
       "      <th></th>\n",
       "      <th>Job Code</th>\n",
       "      <th>Salary</th>\n",
       "    </tr>\n",
       "  </thead>\n",
       "  <tbody>\n",
       "    <tr>\n",
       "      <th>count</th>\n",
       "      <td>2.447680e+05</td>\n",
       "      <td>244768.000000</td>\n",
       "    </tr>\n",
       "    <tr>\n",
       "      <th>mean</th>\n",
       "      <td>6.970142e+07</td>\n",
       "      <td>34122.577576</td>\n",
       "    </tr>\n",
       "    <tr>\n",
       "      <th>std</th>\n",
       "      <td>3.129813e+06</td>\n",
       "      <td>17640.543124</td>\n",
       "    </tr>\n",
       "    <tr>\n",
       "      <th>min</th>\n",
       "      <td>1.261263e+07</td>\n",
       "      <td>5000.000000</td>\n",
       "    </tr>\n",
       "    <tr>\n",
       "      <th>25%</th>\n",
       "      <td>6.869550e+07</td>\n",
       "      <td>21500.000000</td>\n",
       "    </tr>\n",
       "    <tr>\n",
       "      <th>50%</th>\n",
       "      <td>6.993700e+07</td>\n",
       "      <td>30000.000000</td>\n",
       "    </tr>\n",
       "    <tr>\n",
       "      <th>75%</th>\n",
       "      <td>7.162606e+07</td>\n",
       "      <td>42500.000000</td>\n",
       "    </tr>\n",
       "    <tr>\n",
       "      <th>max</th>\n",
       "      <td>7.270524e+07</td>\n",
       "      <td>200000.000000</td>\n",
       "    </tr>\n",
       "  </tbody>\n",
       "</table>\n",
       "</div>"
      ],
      "text/plain": [
       "           Job Code         Salary\n",
       "count  2.447680e+05  244768.000000\n",
       "mean   6.970142e+07   34122.577576\n",
       "std    3.129813e+06   17640.543124\n",
       "min    1.261263e+07    5000.000000\n",
       "25%    6.869550e+07   21500.000000\n",
       "50%    6.993700e+07   30000.000000\n",
       "75%    7.162606e+07   42500.000000\n",
       "max    7.270524e+07  200000.000000"
      ]
     },
     "execution_count": 13,
     "metadata": {},
     "output_type": "execute_result"
    }
   ],
   "source": [
    "train_data.describe(include=[np.number])"
   ]
  },
  {
   "cell_type": "code",
   "execution_count": 14,
   "metadata": {
    "scrolled": true
   },
   "outputs": [
    {
     "data": {
      "text/html": [
       "<div>\n",
       "<style scoped>\n",
       "    .dataframe tbody tr th:only-of-type {\n",
       "        vertical-align: middle;\n",
       "    }\n",
       "\n",
       "    .dataframe tbody tr th {\n",
       "        vertical-align: top;\n",
       "    }\n",
       "\n",
       "    .dataframe thead th {\n",
       "        text-align: right;\n",
       "    }\n",
       "</style>\n",
       "<table border=\"1\" class=\"dataframe\">\n",
       "  <thead>\n",
       "    <tr style=\"text-align: right;\">\n",
       "      <th></th>\n",
       "      <th>Title</th>\n",
       "      <th>Job Description</th>\n",
       "      <th>Region</th>\n",
       "      <th>Location</th>\n",
       "      <th>ContractType</th>\n",
       "      <th>ContractTime</th>\n",
       "      <th>Company</th>\n",
       "      <th>Category</th>\n",
       "      <th>Salary_Range</th>\n",
       "      <th>Source_Name</th>\n",
       "    </tr>\n",
       "  </thead>\n",
       "  <tbody>\n",
       "    <tr>\n",
       "      <th>count</th>\n",
       "      <td>244768</td>\n",
       "      <td>244768</td>\n",
       "      <td>244768</td>\n",
       "      <td>244768</td>\n",
       "      <td>244768</td>\n",
       "      <td>244768</td>\n",
       "      <td>244768</td>\n",
       "      <td>244768</td>\n",
       "      <td>244768</td>\n",
       "      <td>244768</td>\n",
       "    </tr>\n",
       "    <tr>\n",
       "      <th>unique</th>\n",
       "      <td>135436</td>\n",
       "      <td>242138</td>\n",
       "      <td>20986</td>\n",
       "      <td>2732</td>\n",
       "      <td>3</td>\n",
       "      <td>3</td>\n",
       "      <td>20812</td>\n",
       "      <td>29</td>\n",
       "      <td>97286</td>\n",
       "      <td>168</td>\n",
       "    </tr>\n",
       "    <tr>\n",
       "      <th>top</th>\n",
       "      <td>Business Development Manager</td>\n",
       "      <td>What is expected of you as a Registered Nurse ...</td>\n",
       "      <td>London</td>\n",
       "      <td>UK</td>\n",
       "      <td>Unknown</td>\n",
       "      <td>permanent</td>\n",
       "      <td>Unknown</td>\n",
       "      <td>IT Jobs</td>\n",
       "      <td>50,000-74,999 yearly</td>\n",
       "      <td>totaljobs.com</td>\n",
       "    </tr>\n",
       "    <tr>\n",
       "      <th>freq</th>\n",
       "      <td>921</td>\n",
       "      <td>18</td>\n",
       "      <td>15605</td>\n",
       "      <td>41093</td>\n",
       "      <td>179326</td>\n",
       "      <td>151521</td>\n",
       "      <td>32434</td>\n",
       "      <td>38483</td>\n",
       "      <td>1923</td>\n",
       "      <td>48149</td>\n",
       "    </tr>\n",
       "  </tbody>\n",
       "</table>\n",
       "</div>"
      ],
      "text/plain": [
       "                               Title  \\\n",
       "count                         244768   \n",
       "unique                        135436   \n",
       "top     Business Development Manager   \n",
       "freq                             921   \n",
       "\n",
       "                                          Job Description  Region Location  \\\n",
       "count                                              244768  244768   244768   \n",
       "unique                                             242138   20986     2732   \n",
       "top     What is expected of you as a Registered Nurse ...  London       UK   \n",
       "freq                                                   18   15605    41093   \n",
       "\n",
       "       ContractType ContractTime  Company Category          Salary_Range  \\\n",
       "count        244768       244768   244768   244768                244768   \n",
       "unique            3            3    20812       29                 97286   \n",
       "top         Unknown    permanent  Unknown  IT Jobs  50,000-74,999 yearly   \n",
       "freq         179326       151521    32434    38483                  1923   \n",
       "\n",
       "          Source_Name  \n",
       "count          244768  \n",
       "unique            168  \n",
       "top     totaljobs.com  \n",
       "freq            48149  "
      ]
     },
     "execution_count": 14,
     "metadata": {},
     "output_type": "execute_result"
    }
   ],
   "source": [
    "train_data.describe(include = ['O'])"
   ]
  },
  {
   "cell_type": "markdown",
   "metadata": {},
   "source": [
    "### Visualize target variable (salary) - Check for outliers "
   ]
  },
  {
   "cell_type": "code",
   "execution_count": 15,
   "metadata": {},
   "outputs": [
    {
     "name": "stderr",
     "output_type": "stream",
     "text": [
      "C:\\ProgramData\\Anaconda3\\lib\\site-packages\\seaborn\\_decorators.py:36: FutureWarning: Pass the following variable as a keyword arg: x. From version 0.12, the only valid positional argument will be `data`, and passing other arguments without an explicit keyword will result in an error or misinterpretation.\n",
      "  warnings.warn(\n",
      "C:\\ProgramData\\Anaconda3\\lib\\site-packages\\seaborn\\distributions.py:2557: FutureWarning: `distplot` is a deprecated function and will be removed in a future version. Please adapt your code to use either `displot` (a figure-level function with similar flexibility) or `histplot` (an axes-level function for histograms).\n",
      "  warnings.warn(msg, FutureWarning)\n"
     ]
    },
    {
     "data": {
      "image/png": "[encoded data removed]",
      "text/plain": [
       "<Figure size 1008x432 with 2 Axes>"
      ]
     },
     "metadata": {
      "needs_background": "light"
     },
     "output_type": "display_data"
    }
   ],
   "source": [
    "plt.figure(figsize = (14, 6))\n",
    "plt.subplot(1,2,1)\n",
    "sns.boxplot(train_data.Salary)\n",
    "plt.title(\"Distribution of salary with outliers\")\n",
    "plt.subplot(1,2,2)\n",
    "sns.distplot(train_data['Salary'], bins=20, color = \"Green\")\n",
    "plt.title(\"Distribution of salary- target variable\")\n",
    "plt.show()"
   ]
  },
  {
   "cell_type": "markdown",
   "metadata": {},
   "source": [
    "### Use IQR rule to identify potential outliers"
   ]
  },
  {
   "cell_type": "code",
   "execution_count": 16,
   "metadata": {},
   "outputs": [
    {
     "name": "stdout",
     "output_type": "stream",
     "text": [
      "The upper and lower salary are 74000.0 and -10000.0 :\n"
     ]
    }
   ],
   "source": [
    "# Verification on outliers\n",
    "\n",
    "def cal_upper_lower(col):\n",
    "    sorted(col)\n",
    "    q1,q3 = col.quantile([0.25, 0.75])\n",
    "    IQR = q3-q1\n",
    "    upper = q3 + (1.5 * IQR)\n",
    "    lower = q1 - (1.5 * IQR)\n",
    "    return upper, lower\n",
    "\n",
    "highsal, lowsal = cal_upper_lower(train_data['Salary'])\n",
    "print(\"The upper and lower salary are {} and {} :\" .format(highsal, lowsal))"
   ]
  },
  {
   "cell_type": "code",
   "execution_count": 17,
   "metadata": {},
   "outputs": [
    {
     "name": "stdout",
     "output_type": "stream",
     "text": [
      "count    244768.000000\n",
      "mean      34122.577576\n",
      "std       17640.543124\n",
      "min        5000.000000\n",
      "25%       21500.000000\n",
      "50%       30000.000000\n",
      "75%       42500.000000\n",
      "max      200000.000000\n",
      "Name: Salary, dtype: float64\n"
     ]
    }
   ],
   "source": [
    "stat = train_data.Salary.describe()\n",
    "print(stat)"
   ]
  },
  {
   "cell_type": "code",
   "execution_count": 18,
   "metadata": {},
   "outputs": [
    {
     "data": {
      "text/html": [
       "<div>\n",
       "<style scoped>\n",
       "    .dataframe tbody tr th:only-of-type {\n",
       "        vertical-align: middle;\n",
       "    }\n",
       "\n",
       "    .dataframe tbody tr th {\n",
       "        vertical-align: top;\n",
       "    }\n",
       "\n",
       "    .dataframe thead th {\n",
       "        text-align: right;\n",
       "    }\n",
       "</style>\n",
       "<table border=\"1\" class=\"dataframe\">\n",
       "  <thead>\n",
       "    <tr style=\"text-align: right;\">\n",
       "      <th></th>\n",
       "      <th>Job Code</th>\n",
       "      <th>Title</th>\n",
       "      <th>Job Description</th>\n",
       "      <th>Region</th>\n",
       "      <th>Location</th>\n",
       "      <th>ContractType</th>\n",
       "      <th>ContractTime</th>\n",
       "      <th>Company</th>\n",
       "      <th>Category</th>\n",
       "      <th>Salary_Range</th>\n",
       "      <th>Salary</th>\n",
       "      <th>Source_Name</th>\n",
       "    </tr>\n",
       "  </thead>\n",
       "  <tbody>\n",
       "    <tr>\n",
       "      <th>228</th>\n",
       "      <td>46626980</td>\n",
       "      <td>OOH GP Job Ipswich</td>\n",
       "      <td>OOH GP Job Ipswich “MedCo (Europe) Ltd are cur...</td>\n",
       "      <td>Ipswich, Suffolk</td>\n",
       "      <td>Ipswich</td>\n",
       "      <td>Unknown</td>\n",
       "      <td>Unknown</td>\n",
       "      <td>Unknown</td>\n",
       "      <td>Healthcare &amp; Nursing Jobs</td>\n",
       "      <td>75.00 to 75.00 per hour</td>\n",
       "      <td>144000</td>\n",
       "      <td>careworx.co.uk</td>\n",
       "    </tr>\n",
       "    <tr>\n",
       "      <th>229</th>\n",
       "      <td>46626981</td>\n",
       "      <td>OOH GP Job Clevedon</td>\n",
       "      <td>OOH GP Job Clevedon “MedCo (Europe) Ltd are cu...</td>\n",
       "      <td>Clevedon, Somerset</td>\n",
       "      <td>Clevedon</td>\n",
       "      <td>Unknown</td>\n",
       "      <td>Unknown</td>\n",
       "      <td>Unknown</td>\n",
       "      <td>Healthcare &amp; Nursing Jobs</td>\n",
       "      <td>75.00 to 75.00 per hour</td>\n",
       "      <td>144000</td>\n",
       "      <td>careworx.co.uk</td>\n",
       "    </tr>\n",
       "    <tr>\n",
       "      <th>2390</th>\n",
       "      <td>55048296</td>\n",
       "      <td>Quant Modeller  Credit</td>\n",
       "      <td>The primary focus of the position is on risk n...</td>\n",
       "      <td>London</td>\n",
       "      <td>London</td>\n",
       "      <td>Unknown</td>\n",
       "      <td>Unknown</td>\n",
       "      <td>The Emerald Group</td>\n",
       "      <td>Accounting &amp; Finance Jobs</td>\n",
       "      <td>Up to 150,000 basic + excellent bonus</td>\n",
       "      <td>150000</td>\n",
       "      <td>eFinancialCareers</td>\n",
       "    </tr>\n",
       "    <tr>\n",
       "      <th>3466</th>\n",
       "      <td>58501895</td>\n",
       "      <td>LOCUM GP’s WANTED IN HIGH WYCOME, BUCKINGHAMSH...</td>\n",
       "      <td>Location: High Wycombe, Buckinghamshire Start:...</td>\n",
       "      <td>High Wycombe, Buckinghamshire</td>\n",
       "      <td>High Wycombe</td>\n",
       "      <td>part_time</td>\n",
       "      <td>Unknown</td>\n",
       "      <td>Unknown</td>\n",
       "      <td>Healthcare &amp; Nursing Jobs</td>\n",
       "      <td>70 to 70 per hour</td>\n",
       "      <td>134400</td>\n",
       "      <td>careworx.co.uk</td>\n",
       "    </tr>\n",
       "    <tr>\n",
       "      <th>4395</th>\n",
       "      <td>61728786</td>\n",
       "      <td>Locum GP’s required, Ongoing, ****/Day, Readin...</td>\n",
       "      <td>Location: Reading, Berkshire Start: Asap End: ...</td>\n",
       "      <td>Reading, Berkshire</td>\n",
       "      <td>Reading</td>\n",
       "      <td>Unknown</td>\n",
       "      <td>Unknown</td>\n",
       "      <td>Unknown</td>\n",
       "      <td>Healthcare &amp; Nursing Jobs</td>\n",
       "      <td>70 to 70 per hour</td>\n",
       "      <td>134400</td>\n",
       "      <td>careworx.co.uk</td>\n",
       "    </tr>\n",
       "    <tr>\n",
       "      <th>...</th>\n",
       "      <td>...</td>\n",
       "      <td>...</td>\n",
       "      <td>...</td>\n",
       "      <td>...</td>\n",
       "      <td>...</td>\n",
       "      <td>...</td>\n",
       "      <td>...</td>\n",
       "      <td>...</td>\n",
       "      <td>...</td>\n",
       "      <td>...</td>\n",
       "      <td>...</td>\n",
       "      <td>...</td>\n",
       "    </tr>\n",
       "    <tr>\n",
       "      <th>240361</th>\n",
       "      <td>72650075</td>\n",
       "      <td>Project Manager  Operations  Tier **** Investm...</td>\n",
       "      <td>To be successful in this position, you will de...</td>\n",
       "      <td>London</td>\n",
       "      <td>London</td>\n",
       "      <td>Unknown</td>\n",
       "      <td>Unknown</td>\n",
       "      <td>Not disclosed</td>\n",
       "      <td>Accounting &amp; Finance Jobs</td>\n",
       "      <td>Up to 110,000 Base Salary</td>\n",
       "      <td>110000</td>\n",
       "      <td>eFinancialCareers</td>\n",
       "    </tr>\n",
       "    <tr>\n",
       "      <th>240535</th>\n",
       "      <td>72661652</td>\n",
       "      <td>Head of Accounts  Security Cleared</td>\n",
       "      <td>A Central Government Department are looking to...</td>\n",
       "      <td>London</td>\n",
       "      <td>London</td>\n",
       "      <td>full_time</td>\n",
       "      <td>contract</td>\n",
       "      <td>PSD Group</td>\n",
       "      <td>Accounting &amp; Finance Jobs</td>\n",
       "      <td>From 550 to 550 per day + 550 per day</td>\n",
       "      <td>132000</td>\n",
       "      <td>GAAPweb</td>\n",
       "    </tr>\n",
       "    <tr>\n",
       "      <th>242376</th>\n",
       "      <td>72688311</td>\n",
       "      <td>Digital Lead Engineer</td>\n",
       "      <td>Digital Lead Engineer Market leading opportuni...</td>\n",
       "      <td>Edinburgh</td>\n",
       "      <td>Edinburgh</td>\n",
       "      <td>Unknown</td>\n",
       "      <td>permanent</td>\n",
       "      <td>Carlyle Associates Limited</td>\n",
       "      <td>IT Jobs</td>\n",
       "      <td>Up to 150,000 package</td>\n",
       "      <td>150000</td>\n",
       "      <td>jobsite.co.uk</td>\n",
       "    </tr>\n",
       "    <tr>\n",
       "      <th>242379</th>\n",
       "      <td>72688372</td>\n",
       "      <td>Development Manager  Market Risk</td>\n",
       "      <td>Market Risk, Technical Architect, Development ...</td>\n",
       "      <td>London</td>\n",
       "      <td>London</td>\n",
       "      <td>Unknown</td>\n",
       "      <td>permanent</td>\n",
       "      <td>McGregor Boyall Associates Ltd</td>\n",
       "      <td>IT Jobs</td>\n",
       "      <td>110k+ excellent benefits</td>\n",
       "      <td>110000</td>\n",
       "      <td>jobsite.co.uk</td>\n",
       "    </tr>\n",
       "    <tr>\n",
       "      <th>244726</th>\n",
       "      <td>72703353</td>\n",
       "      <td>Senior Resevoir Engineer</td>\n",
       "      <td>A World leading Operator is looking for a Seni...</td>\n",
       "      <td>Ireland</td>\n",
       "      <td>Ireland</td>\n",
       "      <td>Unknown</td>\n",
       "      <td>permanent</td>\n",
       "      <td>Unknown</td>\n",
       "      <td>Energy, Oil &amp; Gas Jobs</td>\n",
       "      <td>Up to 110,000</td>\n",
       "      <td>110000</td>\n",
       "      <td>hays.co.uk</td>\n",
       "    </tr>\n",
       "  </tbody>\n",
       "</table>\n",
       "<p>297 rows × 12 columns</p>\n",
       "</div>"
      ],
      "text/plain": [
       "        Job Code                                              Title  \\\n",
       "228     46626980                                 OOH GP Job Ipswich   \n",
       "229     46626981                                OOH GP Job Clevedon   \n",
       "2390    55048296                             Quant Modeller  Credit   \n",
       "3466    58501895  LOCUM GP’s WANTED IN HIGH WYCOME, BUCKINGHAMSH...   \n",
       "4395    61728786  Locum GP’s required, Ongoing, ****/Day, Readin...   \n",
       "...          ...                                                ...   \n",
       "240361  72650075  Project Manager  Operations  Tier **** Investm...   \n",
       "240535  72661652                 Head of Accounts  Security Cleared   \n",
       "242376  72688311                              Digital Lead Engineer   \n",
       "242379  72688372                   Development Manager  Market Risk   \n",
       "244726  72703353                           Senior Resevoir Engineer   \n",
       "\n",
       "                                          Job Description  \\\n",
       "228     OOH GP Job Ipswich “MedCo (Europe) Ltd are cur...   \n",
       "229     OOH GP Job Clevedon “MedCo (Europe) Ltd are cu...   \n",
       "2390    The primary focus of the position is on risk n...   \n",
       "3466    Location: High Wycombe, Buckinghamshire Start:...   \n",
       "4395    Location: Reading, Berkshire Start: Asap End: ...   \n",
       "...                                                   ...   \n",
       "240361  To be successful in this position, you will de...   \n",
       "240535  A Central Government Department are looking to...   \n",
       "242376  Digital Lead Engineer Market leading opportuni...   \n",
       "242379  Market Risk, Technical Architect, Development ...   \n",
       "244726  A World leading Operator is looking for a Seni...   \n",
       "\n",
       "                               Region      Location ContractType ContractTime  \\\n",
       "228                  Ipswich, Suffolk       Ipswich      Unknown      Unknown   \n",
       "229                Clevedon, Somerset      Clevedon      Unknown      Unknown   \n",
       "2390                           London        London      Unknown      Unknown   \n",
       "3466    High Wycombe, Buckinghamshire  High Wycombe    part_time      Unknown   \n",
       "4395               Reading, Berkshire       Reading      Unknown      Unknown   \n",
       "...                               ...           ...          ...          ...   \n",
       "240361                         London        London      Unknown      Unknown   \n",
       "240535                         London        London    full_time     contract   \n",
       "242376                      Edinburgh     Edinburgh      Unknown    permanent   \n",
       "242379                         London        London      Unknown    permanent   \n",
       "244726                        Ireland       Ireland      Unknown    permanent   \n",
       "\n",
       "                                Company                   Category  \\\n",
       "228                             Unknown  Healthcare & Nursing Jobs   \n",
       "229                             Unknown  Healthcare & Nursing Jobs   \n",
       "2390                  The Emerald Group  Accounting & Finance Jobs   \n",
       "3466                            Unknown  Healthcare & Nursing Jobs   \n",
       "4395                            Unknown  Healthcare & Nursing Jobs   \n",
       "...                                 ...                        ...   \n",
       "240361                    Not disclosed  Accounting & Finance Jobs   \n",
       "240535                        PSD Group  Accounting & Finance Jobs   \n",
       "242376       Carlyle Associates Limited                    IT Jobs   \n",
       "242379  McGregor Boyall Associates Ltd                     IT Jobs   \n",
       "244726                          Unknown     Energy, Oil & Gas Jobs   \n",
       "\n",
       "                                 Salary_Range  Salary        Source_Name  \n",
       "228                   75.00 to 75.00 per hour  144000     careworx.co.uk  \n",
       "229                   75.00 to 75.00 per hour  144000     careworx.co.uk  \n",
       "2390    Up to 150,000 basic + excellent bonus  150000  eFinancialCareers  \n",
       "3466                        70 to 70 per hour  134400     careworx.co.uk  \n",
       "4395                        70 to 70 per hour  134400     careworx.co.uk  \n",
       "...                                       ...     ...                ...  \n",
       "240361              Up to 110,000 Base Salary  110000  eFinancialCareers  \n",
       "240535  From 550 to 550 per day + 550 per day  132000            GAAPweb  \n",
       "242376                  Up to 150,000 package  150000      jobsite.co.uk  \n",
       "242379               110k+ excellent benefits  110000      jobsite.co.uk  \n",
       "244726                          Up to 110,000  110000         hays.co.uk  \n",
       "\n",
       "[297 rows x 12 columns]"
      ]
     },
     "execution_count": 18,
     "metadata": {},
     "output_type": "execute_result"
    }
   ],
   "source": [
    "train_data[train_data['Salary'] > 100005.5 ]"
   ]
  },
  {
   "cell_type": "markdown",
   "metadata": {},
   "source": [
    "### Examine potential outliers"
   ]
  },
  {
   "cell_type": "code",
   "execution_count": 19,
   "metadata": {},
   "outputs": [
    {
     "data": {
      "text/plain": [
       "Healthcare & Nursing Jobs           105\n",
       "Accounting & Finance Jobs            75\n",
       "Legal Jobs                           32\n",
       "IT Jobs                              26\n",
       "Engineering Jobs                     14\n",
       "Energy, Oil & Gas Jobs                8\n",
       "Trade & Construction Jobs             8\n",
       "Other/General Jobs                    5\n",
       "Teaching Jobs                         4\n",
       "Consultancy Jobs                      3\n",
       "PR, Advertising & Marketing Jobs      3\n",
       "Hospitality & Catering Jobs           3\n",
       "Admin Jobs                            2\n",
       "Retail Jobs                           2\n",
       "Sales Jobs                            2\n",
       "Manufacturing Jobs                    2\n",
       "Scientific & QA Jobs                  1\n",
       "Travel Jobs                           1\n",
       "Graduate Jobs                         1\n",
       "Name: Category, dtype: int64"
      ]
     },
     "execution_count": 19,
     "metadata": {},
     "output_type": "execute_result"
    }
   ],
   "source": [
    "train_data.loc[train_data['Salary'] > 100005.5, 'Category' ].value_counts()"
   ]
  },
  {
   "cell_type": "code",
   "execution_count": 20,
   "metadata": {},
   "outputs": [
    {
     "data": {
      "text/plain": [
       "contract    1\n",
       "Name: ContractTime, dtype: int64"
      ]
     },
     "execution_count": 20,
     "metadata": {},
     "output_type": "execute_result"
    }
   ],
   "source": [
    "train_data.loc[(train_data['Salary'] > 100005.5) & (train_data['Category'] == 'Scientific & QA Jobs'), 'ContractTime'] .value_counts()"
   ]
  },
  {
   "cell_type": "code",
   "execution_count": 21,
   "metadata": {},
   "outputs": [
    {
     "data": {
      "text/plain": [
       "72 - 72 UK Pounds/hour    1\n",
       "Name: Salary_Range, dtype: int64"
      ]
     },
     "execution_count": 21,
     "metadata": {},
     "output_type": "execute_result"
    }
   ],
   "source": [
    "train_data.loc[(train_data['Salary'] > 100005.5) & (train_data['Category'] == 'Scientific & QA Jobs'), 'Salary_Range'] .value_counts()"
   ]
  },
  {
   "cell_type": "code",
   "execution_count": 22,
   "metadata": {},
   "outputs": [
    {
     "data": {
      "text/html": [
       "<div>\n",
       "<style scoped>\n",
       "    .dataframe tbody tr th:only-of-type {\n",
       "        vertical-align: middle;\n",
       "    }\n",
       "\n",
       "    .dataframe tbody tr th {\n",
       "        vertical-align: top;\n",
       "    }\n",
       "\n",
       "    .dataframe thead th {\n",
       "        text-align: right;\n",
       "    }\n",
       "</style>\n",
       "<table border=\"1\" class=\"dataframe\">\n",
       "  <thead>\n",
       "    <tr style=\"text-align: right;\">\n",
       "      <th></th>\n",
       "      <th>Job Code</th>\n",
       "      <th>Title</th>\n",
       "      <th>Job Description</th>\n",
       "      <th>Region</th>\n",
       "      <th>Location</th>\n",
       "      <th>ContractType</th>\n",
       "      <th>ContractTime</th>\n",
       "      <th>Company</th>\n",
       "      <th>Category</th>\n",
       "      <th>Salary_Range</th>\n",
       "      <th>Salary</th>\n",
       "      <th>Source_Name</th>\n",
       "    </tr>\n",
       "  </thead>\n",
       "  <tbody>\n",
       "    <tr>\n",
       "      <th>214389</th>\n",
       "      <td>72239547</td>\n",
       "      <td>IT Apprentice/Trainee Photocopy Engineer</td>\n",
       "      <td>The ideal candidate will have completed their ...</td>\n",
       "      <td>Heckmondwike West Yorkshire Yorkshire</td>\n",
       "      <td>Heckmondwike</td>\n",
       "      <td>Unknown</td>\n",
       "      <td>permanent</td>\n",
       "      <td>Baltic Training Services</td>\n",
       "      <td>IT Jobs</td>\n",
       "      <td>99.38 - 99.38 per hour</td>\n",
       "      <td>190809</td>\n",
       "      <td>totaljobs.com</td>\n",
       "    </tr>\n",
       "  </tbody>\n",
       "</table>\n",
       "</div>"
      ],
      "text/plain": [
       "        Job Code                                     Title  \\\n",
       "214389  72239547  IT Apprentice/Trainee Photocopy Engineer   \n",
       "\n",
       "                                          Job Description  \\\n",
       "214389  The ideal candidate will have completed their ...   \n",
       "\n",
       "                                       Region      Location ContractType  \\\n",
       "214389  Heckmondwike West Yorkshire Yorkshire  Heckmondwike      Unknown   \n",
       "\n",
       "       ContractTime                   Company Category  \\\n",
       "214389    permanent  Baltic Training Services  IT Jobs   \n",
       "\n",
       "                  Salary_Range  Salary    Source_Name  \n",
       "214389  99.38 - 99.38 per hour  190809  totaljobs.com  "
      ]
     },
     "execution_count": 22,
     "metadata": {},
     "output_type": "execute_result"
    }
   ],
   "source": [
    "# Check most suspicious potential outliers above upper bound\n",
    "train_data[(train_data.Salary > 180005.5) & (train_data.Category == 'IT Jobs')]"
   ]
  },
  {
   "cell_type": "code",
   "execution_count": 23,
   "metadata": {},
   "outputs": [
    {
     "data": {
      "text/html": [
       "<div>\n",
       "<style scoped>\n",
       "    .dataframe tbody tr th:only-of-type {\n",
       "        vertical-align: middle;\n",
       "    }\n",
       "\n",
       "    .dataframe tbody tr th {\n",
       "        vertical-align: top;\n",
       "    }\n",
       "\n",
       "    .dataframe thead th {\n",
       "        text-align: right;\n",
       "    }\n",
       "</style>\n",
       "<table border=\"1\" class=\"dataframe\">\n",
       "  <thead>\n",
       "    <tr style=\"text-align: right;\">\n",
       "      <th></th>\n",
       "      <th>Job Code</th>\n",
       "      <th>Title</th>\n",
       "      <th>Job Description</th>\n",
       "      <th>Region</th>\n",
       "      <th>Location</th>\n",
       "      <th>ContractType</th>\n",
       "      <th>ContractTime</th>\n",
       "      <th>Company</th>\n",
       "      <th>Category</th>\n",
       "      <th>Salary_Range</th>\n",
       "      <th>Salary</th>\n",
       "      <th>Source_Name</th>\n",
       "    </tr>\n",
       "  </thead>\n",
       "  <tbody>\n",
       "    <tr>\n",
       "      <th>128076</th>\n",
       "      <td>70084222</td>\n",
       "      <td>Programme Manager  Payments Jobs In Scotland</td>\n",
       "      <td>Our client, a large financial services client,...</td>\n",
       "      <td>Edinburgh and Lothians</td>\n",
       "      <td>UK</td>\n",
       "      <td>Unknown</td>\n",
       "      <td>contract</td>\n",
       "      <td>Head Resourcing Ltd</td>\n",
       "      <td>Healthcare &amp; Nursing Jobs</td>\n",
       "      <td>Up to 800 Per Day</td>\n",
       "      <td>192000</td>\n",
       "      <td>jobsinscotland.com</td>\n",
       "    </tr>\n",
       "    <tr>\n",
       "      <th>145862</th>\n",
       "      <td>70699061</td>\n",
       "      <td>Are you a Locum GP looking for work in Walk in...</td>\n",
       "      <td>At Medco Services we pride ourselves on the ex...</td>\n",
       "      <td>National</td>\n",
       "      <td>UK</td>\n",
       "      <td>part_time</td>\n",
       "      <td>Unknown</td>\n",
       "      <td>Medco Services</td>\n",
       "      <td>Healthcare &amp; Nursing Jobs</td>\n",
       "      <td>Upto 100 p/h</td>\n",
       "      <td>192000</td>\n",
       "      <td>jobs.gponline.com</td>\n",
       "    </tr>\n",
       "    <tr>\n",
       "      <th>234479</th>\n",
       "      <td>72492052</td>\n",
       "      <td>Locum GPs Needed Nationwide  Calling All Newly...</td>\n",
       "      <td>Locum Select provides a comprehensive service ...</td>\n",
       "      <td>Nationwide</td>\n",
       "      <td>UK</td>\n",
       "      <td>Unknown</td>\n",
       "      <td>Unknown</td>\n",
       "      <td>Locum Select</td>\n",
       "      <td>Healthcare &amp; Nursing Jobs</td>\n",
       "      <td>Up to 100 per hr</td>\n",
       "      <td>192000</td>\n",
       "      <td>jobs.gponline.com</td>\n",
       "    </tr>\n",
       "  </tbody>\n",
       "</table>\n",
       "</div>"
      ],
      "text/plain": [
       "        Job Code                                              Title  \\\n",
       "128076  70084222       Programme Manager  Payments Jobs In Scotland   \n",
       "145862  70699061  Are you a Locum GP looking for work in Walk in...   \n",
       "234479  72492052  Locum GPs Needed Nationwide  Calling All Newly...   \n",
       "\n",
       "                                          Job Description  \\\n",
       "128076  Our client, a large financial services client,...   \n",
       "145862  At Medco Services we pride ourselves on the ex...   \n",
       "234479  Locum Select provides a comprehensive service ...   \n",
       "\n",
       "                        Region Location ContractType ContractTime  \\\n",
       "128076  Edinburgh and Lothians       UK      Unknown     contract   \n",
       "145862                National       UK    part_time      Unknown   \n",
       "234479              Nationwide       UK      Unknown      Unknown   \n",
       "\n",
       "                    Company                   Category       Salary_Range  \\\n",
       "128076  Head Resourcing Ltd  Healthcare & Nursing Jobs  Up to 800 Per Day   \n",
       "145862       Medco Services  Healthcare & Nursing Jobs       Upto 100 p/h   \n",
       "234479         Locum Select  Healthcare & Nursing Jobs   Up to 100 per hr   \n",
       "\n",
       "        Salary         Source_Name  \n",
       "128076  192000  jobsinscotland.com  \n",
       "145862  192000   jobs.gponline.com  \n",
       "234479  192000   jobs.gponline.com  "
      ]
     },
     "execution_count": 23,
     "metadata": {},
     "output_type": "execute_result"
    }
   ],
   "source": [
    "# Check most suspicious potential outliers above upper bound\n",
    "train_data[(train_data.Salary > 190005.5) & (train_data.Category == 'Healthcare & Nursing Jobs')]"
   ]
  },
  {
   "cell_type": "markdown",
   "metadata": {},
   "source": [
    "The high-salary potential outliers all appear to be legitimate data. Most roles are I.T, engineering and executive roles  in industries that are well known for high salaries. We determine these entries to be legitimate and will not remove them."
   ]
  },
  {
   "cell_type": "code",
   "execution_count": 24,
   "metadata": {},
   "outputs": [],
   "source": [
    "def plot_feature(df, col):\n",
    "    '''\n",
    "    Make plot for each features\n",
    "    left, the distribution of samples on the feature\n",
    "    right, the dependance of salary on the feature\n",
    "    '''\n",
    "    plt.figure(figsize = (14, 6))\n",
    "    plt.subplot(1, 2, 1)\n",
    "    if df[col].dtype == 'int64':\n",
    "        df[col].value_counts().sort_index().plot()\n",
    "    else:\n",
    "        #change the categorical variable to category type and order their level by the mean salary\n",
    "        #in each category\n",
    "        mean = df.groupby(col)['Salary'].mean()\n",
    "        df[col] = df[col].astype('category')\n",
    "        levels = mean.sort_values().index.tolist()\n",
    "        df[col].cat.reorder_categories(levels, inplace=True)\n",
    "        df[col].value_counts().plot()\n",
    "    plt.xticks(rotation=90)\n",
    "    plt.xlabel(col)\n",
    "    plt.ylabel('Counts')\n",
    "    plt.subplot(1, 2, 2)\n",
    "\n",
    "    if df[col].dtype == 'int64' or col == 'companyId':\n",
    "        #plot the mean salary for each category and fill between the (mean - std, mean + std)\n",
    "        mean = df.groupby(col)['Salary'].mean()\n",
    "        std = df.groupby(col)['Salary'].std()\n",
    "        mean.plot()\n",
    "        plt.fill_between(range(len(std.index)), mean.values-std.values, mean.values + std.values, \\\n",
    "                         alpha = 0.1)\n",
    "    else:\n",
    "        sns.boxplot(x = col, y = 'Salary', data=df)\n",
    "    \n",
    "    plt.xticks(rotation=90)\n",
    "    plt.ylabel('Salary')\n",
    "    plt.show()"
   ]
  },
  {
   "cell_type": "code",
   "execution_count": 25,
   "metadata": {},
   "outputs": [
    {
     "data": {
      "image/png": "[encoded data removed]",
      "text/plain": [
       "<Figure size 1008x432 with 2 Axes>"
      ]
     },
     "metadata": {
      "needs_background": "light"
     },
     "output_type": "display_data"
    }
   ],
   "source": [
    "plot_feature(train_data, 'Category')"
   ]
  },
  {
   "cell_type": "markdown",
   "metadata": {},
   "source": [
    "There is a clear positive correlation between job category and salary"
   ]
  },
  {
   "cell_type": "markdown",
   "metadata": {},
   "source": [
    "### Visually exploring the relationship between the feature variables and the target"
   ]
  },
  {
   "cell_type": "code",
   "execution_count": 26,
   "metadata": {},
   "outputs": [],
   "source": [
    "#this function is used to get correlation between categorical features\n",
    "\n",
    "def cramers_corrected_stat(confusion_matrix):\n",
    "    \"\"\" calculate Cramers V statistic for categorical-categorical association.\n",
    "        uses correction from Bergsma and Wicher, \n",
    "        Journal of the Korean Statistical Society 42 (2013): 323-328\n",
    "    \"\"\"\n",
    "    chi2 = ss.chi2_contingency(confusion_matrix)[0]\n",
    "    n = confusion_matrix.sum().sum()\n",
    "    phi2 = chi2/n\n",
    "    r,k = confusion_matrix.shape\n",
    "    phi2corr = max(0, phi2 - ((k-1)*(r-1))/(n-1))    \n",
    "    rcorr = r - ((r-1)**2)/(n-1)\n",
    "    kcorr = k - ((k-1)**2)/(n-1)\n",
    "    return np.sqrt(phi2corr / min( (kcorr-1), (rcorr-1)))\n"
   ]
  },
  {
   "cell_type": "code",
   "execution_count": 27,
   "metadata": {},
   "outputs": [],
   "source": [
    "cols = ['Category','ContractTime', 'Salary_Range']\n",
    "corrM = np.zeros((len(cols),len(cols)))\n",
    "# there's probably a nice pandas way to do this\n",
    "for col1, col2 in itertools.combinations(cols, 2):\n",
    "    idx1, idx2 = cols.index(col1), cols.index(col2)\n",
    "    corrM[idx1, idx2] = cramers_corrected_stat(pd.crosstab(train_data[col1], train_data[col2]))\n",
    "    corrM[idx2, idx1] = corrM[idx1, idx2]"
   ]
  },
  {
   "cell_type": "code",
   "execution_count": 28,
   "metadata": {},
   "outputs": [
    {
     "data": {
      "image/png": "[encoded data removed]",
      "text/plain": [
       "<Figure size 504x432 with 2 Axes>"
      ]
     },
     "metadata": {
      "needs_background": "light"
     },
     "output_type": "display_data"
    }
   ],
   "source": [
    "corr = pd.DataFrame(corrM, index=cols, columns=cols)\n",
    "fig, ax = plt.subplots(figsize=(7, 6))\n",
    "ax = sns.heatmap(corr, annot=True, ax=ax); ax.set_title(\"Cramer V Correlation between Variables\");"
   ]
  },
  {
   "cell_type": "markdown",
   "metadata": {},
   "source": [
    "We see that job Category has a moderate relationship with both Contract-time and Salary_range. "
   ]
  },
  {
   "cell_type": "code",
   "execution_count": null,
   "metadata": {},
   "outputs": [],
   "source": []
  }
 ],
 "metadata": {
  "kernelspec": {
   "display_name": "Python 3",
   "language": "python",
   "name": "python3"
  },
  "language_info": {
   "codemirror_mode": {
    "name": "ipython",
    "version": 3
   },
   "file_extension": ".py",
   "mimetype": "text/x-python",
   "name": "python",
   "nbconvert_exporter": "python",
   "pygments_lexer": "ipython3",
   "version": "3.8.8"
  }
 },
 "nbformat": 4,
 "nbformat_minor": 4
}
