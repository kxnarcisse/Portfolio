{
 "cells": [
  {
   "cell_type": "markdown",
   "metadata": {},
   "source": [
    "# Exploratory Data Analysis (EDA)"
   ]
  },
  {
   "cell_type": "markdown",
   "metadata": {},
   "source": [
    "Conduct EDA on Job Salaries to examine relationships between variables and other patterns in the data\n",
    "\n"
   ]
  },
  {
   "cell_type": "markdown",
   "metadata": {},
   "source": [
    "* Import relevant libraries\n",
    "* Load the data\n",
    "* Exploring the data\n",
    "* Choosing a dependent variable"
   ]
  },
  {
   "cell_type": "markdown",
   "metadata": {},
   "source": [
    "### Imports"
   ]
  },
  {
   "cell_type": "code",
   "execution_count": 23,
   "metadata": {},
   "outputs": [],
   "source": [
    "import pandas as pd\n",
    "import numpy as np\n",
    "import missingno as msno\n",
    "import matplotlib.pyplot as plt\n",
    "import statistics as st\n",
    "import seaborn as sns\n",
    "import os\n",
    "\n",
    "from library.sb_utils import save_file"
   ]
  },
  {
   "cell_type": "code",
   "execution_count": 24,
   "metadata": {},
   "outputs": [],
   "source": [
    "train_data = pd.read_csv('Train_rev1.csv')"
   ]
  },
  {
   "cell_type": "markdown",
   "metadata": {},
   "source": [
    "### Cleanup"
   ]
  },
  {
   "cell_type": "code",
   "execution_count": 25,
   "metadata": {},
   "outputs": [],
   "source": [
    "def scrub_data(data, columns, axis, vals, names):\n",
    "    #drop useless columns\n",
    "    data = data.drop(columns, axis = 1)\n",
    "    #detect the missing data\n",
    "    missingcounts = data.isnull().sum()\n",
    "    missingcols = [col for col in missingcounts.keys() if missingcounts[col] != 0]\n",
    "    #fill the missing data with specific values\n",
    "    values = dict(zip(missingcols, vals))\n",
    "    data = data.fillna(value = values)\n",
    "    #rename the columns\n",
    "    data.columns = names\n",
    "    return data"
   ]
  },
  {
   "cell_type": "code",
   "execution_count": 26,
   "metadata": {},
   "outputs": [],
   "source": [
    "#fill missing data for \"ContractType\", \"ContractTime\", \"Company\" with Unknown\n",
    "train_data = train_data.fillna(\"Unknown\")\n",
    "\n",
    "#rename the columns\n",
    "names = [\"Job Code\", \"Title\", \"Job Description\", \"Region\", \"Location\", \"ContractType\", \"ContractTime\", \"Company\", \"Category\", \"Salary_Range\", \"Salary\",\"Source_Name\"]\n",
    "train_data.columns = names\n"
   ]
  },
  {
   "cell_type": "code",
   "execution_count": 27,
   "metadata": {},
   "outputs": [
    {
     "name": "stdout",
     "output_type": "stream",
     "text": [
      "(244768, 12)\n"
     ]
    },
    {
     "data": {
      "text/html": [
       "<div>\n",
       "<style scoped>\n",
       "    .dataframe tbody tr th:only-of-type {\n",
       "        vertical-align: middle;\n",
       "    }\n",
       "\n",
       "    .dataframe tbody tr th {\n",
       "        vertical-align: top;\n",
       "    }\n",
       "\n",
       "    .dataframe thead th {\n",
       "        text-align: right;\n",
       "    }\n",
       "</style>\n",
       "<table border=\"1\" class=\"dataframe\">\n",
       "  <thead>\n",
       "    <tr style=\"text-align: right;\">\n",
       "      <th></th>\n",
       "      <th>Job Code</th>\n",
       "      <th>Title</th>\n",
       "      <th>Job Description</th>\n",
       "      <th>Region</th>\n",
       "      <th>Location</th>\n",
       "      <th>ContractType</th>\n",
       "      <th>ContractTime</th>\n",
       "      <th>Company</th>\n",
       "      <th>Category</th>\n",
       "      <th>Salary_Range</th>\n",
       "      <th>Salary</th>\n",
       "      <th>Source_Name</th>\n",
       "    </tr>\n",
       "  </thead>\n",
       "  <tbody>\n",
       "    <tr>\n",
       "      <th>0</th>\n",
       "      <td>12612628</td>\n",
       "      <td>Engineering Systems Analyst</td>\n",
       "      <td>Engineering Systems Analyst Dorking Surrey Sal...</td>\n",
       "      <td>Dorking, Surrey, Surrey</td>\n",
       "      <td>Dorking</td>\n",
       "      <td>Unknown</td>\n",
       "      <td>permanent</td>\n",
       "      <td>Gregory Martin International</td>\n",
       "      <td>Engineering Jobs</td>\n",
       "      <td>20000 - 30000/annum 20-30K</td>\n",
       "      <td>25000</td>\n",
       "      <td>cv-library.co.uk</td>\n",
       "    </tr>\n",
       "    <tr>\n",
       "      <th>1</th>\n",
       "      <td>12612830</td>\n",
       "      <td>Stress Engineer Glasgow</td>\n",
       "      <td>Stress Engineer Glasgow Salary **** to **** We...</td>\n",
       "      <td>Glasgow, Scotland, Scotland</td>\n",
       "      <td>Glasgow</td>\n",
       "      <td>Unknown</td>\n",
       "      <td>permanent</td>\n",
       "      <td>Gregory Martin International</td>\n",
       "      <td>Engineering Jobs</td>\n",
       "      <td>25000 - 35000/annum 25-35K</td>\n",
       "      <td>30000</td>\n",
       "      <td>cv-library.co.uk</td>\n",
       "    </tr>\n",
       "    <tr>\n",
       "      <th>2</th>\n",
       "      <td>12612844</td>\n",
       "      <td>Modelling and simulation analyst</td>\n",
       "      <td>Mathematical Modeller / Simulation Analyst / O...</td>\n",
       "      <td>Hampshire, South East, South East</td>\n",
       "      <td>Hampshire</td>\n",
       "      <td>Unknown</td>\n",
       "      <td>permanent</td>\n",
       "      <td>Gregory Martin International</td>\n",
       "      <td>Engineering Jobs</td>\n",
       "      <td>20000 - 40000/annum 20-40K</td>\n",
       "      <td>30000</td>\n",
       "      <td>cv-library.co.uk</td>\n",
       "    </tr>\n",
       "    <tr>\n",
       "      <th>3</th>\n",
       "      <td>12613049</td>\n",
       "      <td>Engineering Systems Analyst / Mathematical Mod...</td>\n",
       "      <td>Engineering Systems Analyst / Mathematical Mod...</td>\n",
       "      <td>Surrey, South East, South East</td>\n",
       "      <td>Surrey</td>\n",
       "      <td>Unknown</td>\n",
       "      <td>permanent</td>\n",
       "      <td>Gregory Martin International</td>\n",
       "      <td>Engineering Jobs</td>\n",
       "      <td>25000 - 30000/annum 25K-30K negotiable</td>\n",
       "      <td>27500</td>\n",
       "      <td>cv-library.co.uk</td>\n",
       "    </tr>\n",
       "  </tbody>\n",
       "</table>\n",
       "</div>"
      ],
      "text/plain": [
       "   Job Code                                              Title  \\\n",
       "0  12612628                        Engineering Systems Analyst   \n",
       "1  12612830                            Stress Engineer Glasgow   \n",
       "2  12612844                   Modelling and simulation analyst   \n",
       "3  12613049  Engineering Systems Analyst / Mathematical Mod...   \n",
       "\n",
       "                                     Job Description  \\\n",
       "0  Engineering Systems Analyst Dorking Surrey Sal...   \n",
       "1  Stress Engineer Glasgow Salary **** to **** We...   \n",
       "2  Mathematical Modeller / Simulation Analyst / O...   \n",
       "3  Engineering Systems Analyst / Mathematical Mod...   \n",
       "\n",
       "                              Region   Location ContractType ContractTime  \\\n",
       "0            Dorking, Surrey, Surrey    Dorking      Unknown    permanent   \n",
       "1        Glasgow, Scotland, Scotland    Glasgow      Unknown    permanent   \n",
       "2  Hampshire, South East, South East  Hampshire      Unknown    permanent   \n",
       "3     Surrey, South East, South East     Surrey      Unknown    permanent   \n",
       "\n",
       "                        Company          Category  \\\n",
       "0  Gregory Martin International  Engineering Jobs   \n",
       "1  Gregory Martin International  Engineering Jobs   \n",
       "2  Gregory Martin International  Engineering Jobs   \n",
       "3  Gregory Martin International  Engineering Jobs   \n",
       "\n",
       "                             Salary_Range  Salary       Source_Name  \n",
       "0              20000 - 30000/annum 20-30K   25000  cv-library.co.uk  \n",
       "1              25000 - 35000/annum 25-35K   30000  cv-library.co.uk  \n",
       "2              20000 - 40000/annum 20-40K   30000  cv-library.co.uk  \n",
       "3  25000 - 30000/annum 25K-30K negotiable   27500  cv-library.co.uk  "
      ]
     },
     "execution_count": 27,
     "metadata": {},
     "output_type": "execute_result"
    }
   ],
   "source": [
    "print(train_data.shape)\n",
    "train_data.head(4)"
   ]
  },
  {
   "cell_type": "markdown",
   "metadata": {},
   "source": [
    "### Use .info() to see length and dtypes"
   ]
  },
  {
   "cell_type": "code",
   "execution_count": 28,
   "metadata": {},
   "outputs": [
    {
     "name": "stdout",
     "output_type": "stream",
     "text": [
      "<class 'pandas.core.frame.DataFrame'>\n",
      "RangeIndex: 244768 entries, 0 to 244767\n",
      "Data columns (total 12 columns):\n",
      " #   Column           Non-Null Count   Dtype \n",
      "---  ------           --------------   ----- \n",
      " 0   Job Code         244768 non-null  int64 \n",
      " 1   Title            244768 non-null  object\n",
      " 2   Job Description  244768 non-null  object\n",
      " 3   Region           244768 non-null  object\n",
      " 4   Location         244768 non-null  object\n",
      " 5   ContractType     244768 non-null  object\n",
      " 6   ContractTime     244768 non-null  object\n",
      " 7   Company          244768 non-null  object\n",
      " 8   Category         244768 non-null  object\n",
      " 9   Salary_Range     244768 non-null  object\n",
      " 10  Salary           244768 non-null  int64 \n",
      " 11  Source_Name      244768 non-null  object\n",
      "dtypes: int64(2), object(10)\n",
      "memory usage: 22.4+ MB\n"
     ]
    }
   ],
   "source": [
    "train_data.info()"
   ]
  },
  {
   "cell_type": "markdown",
   "metadata": {},
   "source": [
    "### Check for duplicates"
   ]
  },
  {
   "cell_type": "code",
   "execution_count": 29,
   "metadata": {},
   "outputs": [
    {
     "data": {
      "text/plain": [
       "0"
      ]
     },
     "execution_count": 29,
     "metadata": {},
     "output_type": "execute_result"
    }
   ],
   "source": [
    "train_data.duplicated().sum()"
   ]
  },
  {
   "cell_type": "markdown",
   "metadata": {},
   "source": [
    "### Identify numerical and categorical variables"
   ]
  },
  {
   "cell_type": "code",
   "execution_count": 30,
   "metadata": {},
   "outputs": [
    {
     "data": {
      "text/plain": [
       "Index(['Job Code', 'Title', 'Job Description', 'Region', 'Location',\n",
       "       'ContractType', 'ContractTime', 'Company', 'Category', 'Salary_Range',\n",
       "       'Salary', 'Source_Name'],\n",
       "      dtype='object')"
      ]
     },
     "execution_count": 30,
     "metadata": {},
     "output_type": "execute_result"
    }
   ],
   "source": [
    "train_data.columns"
   ]
  },
  {
   "cell_type": "code",
   "execution_count": 45,
   "metadata": {},
   "outputs": [],
   "source": [
    "numeric_cols = ['Job Code','Salary']"
   ]
  },
  {
   "cell_type": "code",
   "execution_count": 32,
   "metadata": {},
   "outputs": [],
   "source": [
    "categorical_cols = ['Job Code', 'Title', 'Job Description', 'Region', 'Location',\n",
    "       'ContractType', 'ContractTime', 'Company', 'Category', 'Salary_Range',\n",
    "       'Salary', 'Source_Name']"
   ]
  },
  {
   "cell_type": "markdown",
   "metadata": {},
   "source": [
    "### Summarize numerical and categorical variables separately"
   ]
  },
  {
   "cell_type": "code",
   "execution_count": 33,
   "metadata": {},
   "outputs": [
    {
     "data": {
      "text/html": [
       "<div>\n",
       "<style scoped>\n",
       "    .dataframe tbody tr th:only-of-type {\n",
       "        vertical-align: middle;\n",
       "    }\n",
       "\n",
       "    .dataframe tbody tr th {\n",
       "        vertical-align: top;\n",
       "    }\n",
       "\n",
       "    .dataframe thead th {\n",
       "        text-align: right;\n",
       "    }\n",
       "</style>\n",
       "<table border=\"1\" class=\"dataframe\">\n",
       "  <thead>\n",
       "    <tr style=\"text-align: right;\">\n",
       "      <th></th>\n",
       "      <th>Job Code</th>\n",
       "      <th>Salary</th>\n",
       "    </tr>\n",
       "  </thead>\n",
       "  <tbody>\n",
       "    <tr>\n",
       "      <th>count</th>\n",
       "      <td>2.447680e+05</td>\n",
       "      <td>244768.000000</td>\n",
       "    </tr>\n",
       "    <tr>\n",
       "      <th>mean</th>\n",
       "      <td>6.970142e+07</td>\n",
       "      <td>34122.577576</td>\n",
       "    </tr>\n",
       "    <tr>\n",
       "      <th>std</th>\n",
       "      <td>3.129813e+06</td>\n",
       "      <td>17640.543124</td>\n",
       "    </tr>\n",
       "    <tr>\n",
       "      <th>min</th>\n",
       "      <td>1.261263e+07</td>\n",
       "      <td>5000.000000</td>\n",
       "    </tr>\n",
       "    <tr>\n",
       "      <th>25%</th>\n",
       "      <td>6.869550e+07</td>\n",
       "      <td>21500.000000</td>\n",
       "    </tr>\n",
       "    <tr>\n",
       "      <th>50%</th>\n",
       "      <td>6.993700e+07</td>\n",
       "      <td>30000.000000</td>\n",
       "    </tr>\n",
       "    <tr>\n",
       "      <th>75%</th>\n",
       "      <td>7.162606e+07</td>\n",
       "      <td>42500.000000</td>\n",
       "    </tr>\n",
       "    <tr>\n",
       "      <th>max</th>\n",
       "      <td>7.270524e+07</td>\n",
       "      <td>200000.000000</td>\n",
       "    </tr>\n",
       "  </tbody>\n",
       "</table>\n",
       "</div>"
      ],
      "text/plain": [
       "           Job Code         Salary\n",
       "count  2.447680e+05  244768.000000\n",
       "mean   6.970142e+07   34122.577576\n",
       "std    3.129813e+06   17640.543124\n",
       "min    1.261263e+07    5000.000000\n",
       "25%    6.869550e+07   21500.000000\n",
       "50%    6.993700e+07   30000.000000\n",
       "75%    7.162606e+07   42500.000000\n",
       "max    7.270524e+07  200000.000000"
      ]
     },
     "execution_count": 33,
     "metadata": {},
     "output_type": "execute_result"
    }
   ],
   "source": [
    "train_data.describe(include=[np.number])"
   ]
  },
  {
   "cell_type": "code",
   "execution_count": 34,
   "metadata": {},
   "outputs": [
    {
     "data": {
      "text/html": [
       "<div>\n",
       "<style scoped>\n",
       "    .dataframe tbody tr th:only-of-type {\n",
       "        vertical-align: middle;\n",
       "    }\n",
       "\n",
       "    .dataframe tbody tr th {\n",
       "        vertical-align: top;\n",
       "    }\n",
       "\n",
       "    .dataframe thead th {\n",
       "        text-align: right;\n",
       "    }\n",
       "</style>\n",
       "<table border=\"1\" class=\"dataframe\">\n",
       "  <thead>\n",
       "    <tr style=\"text-align: right;\">\n",
       "      <th></th>\n",
       "      <th>Title</th>\n",
       "      <th>Job Description</th>\n",
       "      <th>Region</th>\n",
       "      <th>Location</th>\n",
       "      <th>ContractType</th>\n",
       "      <th>ContractTime</th>\n",
       "      <th>Company</th>\n",
       "      <th>Category</th>\n",
       "      <th>Salary_Range</th>\n",
       "      <th>Source_Name</th>\n",
       "    </tr>\n",
       "  </thead>\n",
       "  <tbody>\n",
       "    <tr>\n",
       "      <th>count</th>\n",
       "      <td>244768</td>\n",
       "      <td>244768</td>\n",
       "      <td>244768</td>\n",
       "      <td>244768</td>\n",
       "      <td>244768</td>\n",
       "      <td>244768</td>\n",
       "      <td>244768</td>\n",
       "      <td>244768</td>\n",
       "      <td>244768</td>\n",
       "      <td>244768</td>\n",
       "    </tr>\n",
       "    <tr>\n",
       "      <th>unique</th>\n",
       "      <td>135436</td>\n",
       "      <td>242138</td>\n",
       "      <td>20986</td>\n",
       "      <td>2732</td>\n",
       "      <td>3</td>\n",
       "      <td>3</td>\n",
       "      <td>20812</td>\n",
       "      <td>29</td>\n",
       "      <td>97286</td>\n",
       "      <td>168</td>\n",
       "    </tr>\n",
       "    <tr>\n",
       "      <th>top</th>\n",
       "      <td>Business Development Manager</td>\n",
       "      <td>What is expected of you as a Registered Nurse ...</td>\n",
       "      <td>London</td>\n",
       "      <td>UK</td>\n",
       "      <td>Unknown</td>\n",
       "      <td>permanent</td>\n",
       "      <td>Unknown</td>\n",
       "      <td>IT Jobs</td>\n",
       "      <td>50,000-74,999 yearly</td>\n",
       "      <td>totaljobs.com</td>\n",
       "    </tr>\n",
       "    <tr>\n",
       "      <th>freq</th>\n",
       "      <td>921</td>\n",
       "      <td>18</td>\n",
       "      <td>15605</td>\n",
       "      <td>41093</td>\n",
       "      <td>179326</td>\n",
       "      <td>151521</td>\n",
       "      <td>32434</td>\n",
       "      <td>38483</td>\n",
       "      <td>1923</td>\n",
       "      <td>48149</td>\n",
       "    </tr>\n",
       "  </tbody>\n",
       "</table>\n",
       "</div>"
      ],
      "text/plain": [
       "                               Title  \\\n",
       "count                         244768   \n",
       "unique                        135436   \n",
       "top     Business Development Manager   \n",
       "freq                             921   \n",
       "\n",
       "                                          Job Description  Region Location  \\\n",
       "count                                              244768  244768   244768   \n",
       "unique                                             242138   20986     2732   \n",
       "top     What is expected of you as a Registered Nurse ...  London       UK   \n",
       "freq                                                   18   15605    41093   \n",
       "\n",
       "       ContractType ContractTime  Company Category          Salary_Range  \\\n",
       "count        244768       244768   244768   244768                244768   \n",
       "unique            3            3    20812       29                 97286   \n",
       "top         Unknown    permanent  Unknown  IT Jobs  50,000-74,999 yearly   \n",
       "freq         179326       151521    32434    38483                  1923   \n",
       "\n",
       "          Source_Name  \n",
       "count          244768  \n",
       "unique            168  \n",
       "top     totaljobs.com  \n",
       "freq            48149  "
      ]
     },
     "execution_count": 34,
     "metadata": {},
     "output_type": "execute_result"
    }
   ],
   "source": [
    "train_data.describe(include = ['O'])"
   ]
  },
  {
   "cell_type": "markdown",
   "metadata": {},
   "source": [
    "### Visualize target variable (salary)"
   ]
  },
  {
   "cell_type": "code",
   "execution_count": 35,
   "metadata": {},
   "outputs": [
    {
     "name": "stderr",
     "output_type": "stream",
     "text": [
      "C:\\Users\\narci\\anaconda3\\lib\\site-packages\\seaborn\\_decorators.py:36: FutureWarning: Pass the following variable as a keyword arg: x. From version 0.12, the only valid positional argument will be `data`, and passing other arguments without an explicit keyword will result in an error or misinterpretation.\n",
      "  warnings.warn(\n",
      "C:\\Users\\narci\\anaconda3\\lib\\site-packages\\seaborn\\distributions.py:2557: FutureWarning: `distplot` is a deprecated function and will be removed in a future version. Please adapt your code to use either `displot` (a figure-level function with similar flexibility) or `histplot` (an axes-level function for histograms).\n",
      "  warnings.warn(msg, FutureWarning)\n"
     ]
    },
    {
     "data": {
      "image/png": "[encoded data removed]",
      "text/plain": [
       "<Figure size 1008x432 with 2 Axes>"
      ]
     },
     "metadata": {
      "needs_background": "light"
     },
     "output_type": "display_data"
    }
   ],
   "source": [
    "plt.figure(figsize = (14, 6))\n",
    "plt.subplot(1,2,1)\n",
    "sns.boxplot(train_data.Salary)\n",
    "plt.subplot(1,2,2)\n",
    "sns.distplot(train_data.Salary, bins=20)\n",
    "plt.show()"
   ]
  },
  {
   "cell_type": "markdown",
   "metadata": {},
   "source": [
    "### Use IQR rule to identify potential outliers"
   ]
  },
  {
   "cell_type": "code",
   "execution_count": 36,
   "metadata": {},
   "outputs": [
    {
     "name": "stdout",
     "output_type": "stream",
     "text": [
      "count    244768.000000\n",
      "mean      34122.577576\n",
      "std       17640.543124\n",
      "min        5000.000000\n",
      "25%       21500.000000\n",
      "50%       30000.000000\n",
      "75%       42500.000000\n",
      "max      200000.000000\n",
      "Name: Salary, dtype: float64\n",
      "The upper and lower bounds for suspected outliers are 74000.0 and -10000.0.\n"
     ]
    }
   ],
   "source": [
    "stat = train_data.Salary.describe()\n",
    "print(stat)\n",
    "IQR = stat['75%'] - stat['25%']\n",
    "upper = stat['75%'] + 1.5 * IQR\n",
    "lower = stat['25%'] - 1.5 * IQR\n",
    "print('The upper and lower bounds for suspected outliers are {} and {}.'.format(upper, lower))"
   ]
  },
  {
   "cell_type": "markdown",
   "metadata": {},
   "source": [
    "### Examine potential outliers"
   ]
  },
  {
   "cell_type": "code",
   "execution_count": 37,
   "metadata": {},
   "outputs": [
    {
     "data": {
      "text/html": [
       "<div>\n",
       "<style scoped>\n",
       "    .dataframe tbody tr th:only-of-type {\n",
       "        vertical-align: middle;\n",
       "    }\n",
       "\n",
       "    .dataframe tbody tr th {\n",
       "        vertical-align: top;\n",
       "    }\n",
       "\n",
       "    .dataframe thead th {\n",
       "        text-align: right;\n",
       "    }\n",
       "</style>\n",
       "<table border=\"1\" class=\"dataframe\">\n",
       "  <thead>\n",
       "    <tr style=\"text-align: right;\">\n",
       "      <th></th>\n",
       "      <th>Job Code</th>\n",
       "      <th>Title</th>\n",
       "      <th>Job Description</th>\n",
       "      <th>Region</th>\n",
       "      <th>Location</th>\n",
       "      <th>ContractType</th>\n",
       "      <th>ContractTime</th>\n",
       "      <th>Company</th>\n",
       "      <th>Category</th>\n",
       "      <th>Salary_Range</th>\n",
       "      <th>Salary</th>\n",
       "      <th>Source_Name</th>\n",
       "    </tr>\n",
       "  </thead>\n",
       "  <tbody>\n",
       "  </tbody>\n",
       "</table>\n",
       "</div>"
      ],
      "text/plain": [
       "Empty DataFrame\n",
       "Columns: [Job Code, Title, Job Description, Region, Location, ContractType, ContractTime, Company, Category, Salary_Range, Salary, Source_Name]\n",
       "Index: []"
      ]
     },
     "execution_count": 37,
     "metadata": {},
     "output_type": "execute_result"
    }
   ],
   "source": [
    "#check potential outlier below lower bound\n",
    "train_data[train_data.Salary < 8.5]"
   ]
  },
  {
   "cell_type": "code",
   "execution_count": 38,
   "metadata": {},
   "outputs": [
    {
     "data": {
      "text/plain": [
       "IT Jobs                             38483\n",
       "Engineering Jobs                    25174\n",
       "Accounting & Finance Jobs           21846\n",
       "Healthcare & Nursing Jobs           21076\n",
       "Sales Jobs                          17272\n",
       "Other/General Jobs                  17055\n",
       "Teaching Jobs                       12637\n",
       "Hospitality & Catering Jobs         11351\n",
       "PR, Advertising & Marketing Jobs     8854\n",
       "Trade & Construction Jobs            8837\n",
       "HR & Recruitment Jobs                7713\n",
       "Admin Jobs                           7614\n",
       "Retail Jobs                          6584\n",
       "Customer Services Jobs               6063\n",
       "Legal Jobs                           3939\n",
       "Manufacturing Jobs                   3765\n",
       "Logistics & Warehouse Jobs           3633\n",
       "Social work Jobs                     3455\n",
       "Consultancy Jobs                     3263\n",
       "Travel Jobs                          3126\n",
       "Scientific & QA Jobs                 2489\n",
       "Charity & Voluntary Jobs             2332\n",
       "Energy, Oil & Gas Jobs               2255\n",
       "Creative & Design Jobs               1605\n",
       "Maintenance Jobs                     1542\n",
       "Graduate Jobs                        1331\n",
       "Property Jobs                        1038\n",
       "Domestic help & Cleaning Jobs         291\n",
       "Part time Jobs                        145\n",
       "Name: Category, dtype: int64"
      ]
     },
     "execution_count": 38,
     "metadata": {},
     "output_type": "execute_result"
    }
   ],
   "source": [
    "#check potential outlier above upper bound\n",
    "train_data.loc[train_data.Salary > 222.5, 'Category'].value_counts()"
   ]
  },
  {
   "cell_type": "code",
   "execution_count": 39,
   "metadata": {},
   "outputs": [
    {
     "data": {
      "text/html": [
       "<div>\n",
       "<style scoped>\n",
       "    .dataframe tbody tr th:only-of-type {\n",
       "        vertical-align: middle;\n",
       "    }\n",
       "\n",
       "    .dataframe tbody tr th {\n",
       "        vertical-align: top;\n",
       "    }\n",
       "\n",
       "    .dataframe thead th {\n",
       "        text-align: right;\n",
       "    }\n",
       "</style>\n",
       "<table border=\"1\" class=\"dataframe\">\n",
       "  <thead>\n",
       "    <tr style=\"text-align: right;\">\n",
       "      <th></th>\n",
       "      <th>Job Code</th>\n",
       "      <th>Title</th>\n",
       "      <th>Job Description</th>\n",
       "      <th>Region</th>\n",
       "      <th>Location</th>\n",
       "      <th>ContractType</th>\n",
       "      <th>ContractTime</th>\n",
       "      <th>Company</th>\n",
       "      <th>Category</th>\n",
       "      <th>Salary_Range</th>\n",
       "      <th>Salary</th>\n",
       "      <th>Source_Name</th>\n",
       "    </tr>\n",
       "  </thead>\n",
       "  <tbody>\n",
       "    <tr>\n",
       "      <th>97003</th>\n",
       "      <td>69252147</td>\n",
       "      <td>Administrator  Admin Assistant</td>\n",
       "      <td>looking for Logistics/inventory/distribution/r...</td>\n",
       "      <td>UK</td>\n",
       "      <td>UK</td>\n",
       "      <td>Unknown</td>\n",
       "      <td>Unknown</td>\n",
       "      <td>Unknown</td>\n",
       "      <td>Part time Jobs</td>\n",
       "      <td>More than $10,000</td>\n",
       "      <td>10000</td>\n",
       "      <td>Elance</td>\n",
       "    </tr>\n",
       "    <tr>\n",
       "      <th>110718</th>\n",
       "      <td>69671323</td>\n",
       "      <td>Oilfield Services Management Trainees  Project...</td>\n",
       "      <td>If you are a recent College Graduate and would...</td>\n",
       "      <td>UK</td>\n",
       "      <td>UK</td>\n",
       "      <td>Unknown</td>\n",
       "      <td>Unknown</td>\n",
       "      <td>Unknown</td>\n",
       "      <td>Part time Jobs</td>\n",
       "      <td>About $48,000</td>\n",
       "      <td>48000</td>\n",
       "      <td>Elance</td>\n",
       "    </tr>\n",
       "    <tr>\n",
       "      <th>110724</th>\n",
       "      <td>69671702</td>\n",
       "      <td>Project Manager / Lead Visual Studio C Develop...</td>\n",
       "      <td>OVERVIEW: You will be responsible for analyzin...</td>\n",
       "      <td>UK</td>\n",
       "      <td>UK</td>\n",
       "      <td>Unknown</td>\n",
       "      <td>Unknown</td>\n",
       "      <td>Unknown</td>\n",
       "      <td>Part time Jobs</td>\n",
       "      <td>More than $10,000</td>\n",
       "      <td>10000</td>\n",
       "      <td>Elance</td>\n",
       "    </tr>\n",
       "    <tr>\n",
       "      <th>128065</th>\n",
       "      <td>70080343</td>\n",
       "      <td>Search Engine Optimizer Needed  Google AdWords...</td>\n",
       "      <td>I am looking for a professional to work on ong...</td>\n",
       "      <td>UK</td>\n",
       "      <td>UK</td>\n",
       "      <td>Unknown</td>\n",
       "      <td>Unknown</td>\n",
       "      <td>Unknown</td>\n",
       "      <td>Part time Jobs</td>\n",
       "      <td>More than $10,000</td>\n",
       "      <td>10000</td>\n",
       "      <td>Elance</td>\n",
       "    </tr>\n",
       "    <tr>\n",
       "      <th>136382</th>\n",
       "      <td>70323356</td>\n",
       "      <td>Salesforcecom Administrator and Business Analy...</td>\n",
       "      <td>Technology company is building out and support...</td>\n",
       "      <td>UK</td>\n",
       "      <td>UK</td>\n",
       "      <td>Unknown</td>\n",
       "      <td>Unknown</td>\n",
       "      <td>Unknown</td>\n",
       "      <td>Part time Jobs</td>\n",
       "      <td>More than $10,000</td>\n",
       "      <td>10000</td>\n",
       "      <td>Elance</td>\n",
       "    </tr>\n",
       "    <tr>\n",
       "      <th>...</th>\n",
       "      <td>...</td>\n",
       "      <td>...</td>\n",
       "      <td>...</td>\n",
       "      <td>...</td>\n",
       "      <td>...</td>\n",
       "      <td>...</td>\n",
       "      <td>...</td>\n",
       "      <td>...</td>\n",
       "      <td>...</td>\n",
       "      <td>...</td>\n",
       "      <td>...</td>\n",
       "      <td>...</td>\n",
       "    </tr>\n",
       "    <tr>\n",
       "      <th>242088</th>\n",
       "      <td>72681744</td>\n",
       "      <td>development of a website and software to integ...</td>\n",
       "      <td>FKcloud is developing a private cloud system t...</td>\n",
       "      <td>UK</td>\n",
       "      <td>UK</td>\n",
       "      <td>Unknown</td>\n",
       "      <td>Unknown</td>\n",
       "      <td>Unknown</td>\n",
       "      <td>Part time Jobs</td>\n",
       "      <td>$30,000 - $50,000</td>\n",
       "      <td>40000</td>\n",
       "      <td>Elance</td>\n",
       "    </tr>\n",
       "    <tr>\n",
       "      <th>242089</th>\n",
       "      <td>72681851</td>\n",
       "      <td>Looking for AP Calculus teacher to create AP p...</td>\n",
       "      <td>We are looking for a current (preferred) high ...</td>\n",
       "      <td>UK</td>\n",
       "      <td>UK</td>\n",
       "      <td>Unknown</td>\n",
       "      <td>Unknown</td>\n",
       "      <td>Unknown</td>\n",
       "      <td>Part time Jobs</td>\n",
       "      <td>More than $10,000</td>\n",
       "      <td>10000</td>\n",
       "      <td>Elance</td>\n",
       "    </tr>\n",
       "    <tr>\n",
       "      <th>242090</th>\n",
       "      <td>72681860</td>\n",
       "      <td>iBook development  Android iPhone iPad</td>\n",
       "      <td>Need direction in creating a Cookbook for IBoo...</td>\n",
       "      <td>UK</td>\n",
       "      <td>UK</td>\n",
       "      <td>Unknown</td>\n",
       "      <td>Unknown</td>\n",
       "      <td>Unknown</td>\n",
       "      <td>Part time Jobs</td>\n",
       "      <td>$5,000 - $10,000</td>\n",
       "      <td>7500</td>\n",
       "      <td>Elance</td>\n",
       "    </tr>\n",
       "    <tr>\n",
       "      <th>242091</th>\n",
       "      <td>72682010</td>\n",
       "      <td>Scaling a hightraffic website  MySQL PHP Apach...</td>\n",
       "      <td>We have a growing hightraffic website that nee...</td>\n",
       "      <td>UK</td>\n",
       "      <td>UK</td>\n",
       "      <td>Unknown</td>\n",
       "      <td>Unknown</td>\n",
       "      <td>Unknown</td>\n",
       "      <td>Part time Jobs</td>\n",
       "      <td>$5,000 - $10,000</td>\n",
       "      <td>7500</td>\n",
       "      <td>Elance</td>\n",
       "    </tr>\n",
       "    <tr>\n",
       "      <th>242092</th>\n",
       "      <td>72682612</td>\n",
       "      <td>Experienced Recruitment Consultant/Headhunter ...</td>\n",
       "      <td>At Divitiae we are currently looking for exper...</td>\n",
       "      <td>UK</td>\n",
       "      <td>UK</td>\n",
       "      <td>Unknown</td>\n",
       "      <td>Unknown</td>\n",
       "      <td>Unknown</td>\n",
       "      <td>Part time Jobs</td>\n",
       "      <td>More than $10,000</td>\n",
       "      <td>10000</td>\n",
       "      <td>Elance</td>\n",
       "    </tr>\n",
       "  </tbody>\n",
       "</table>\n",
       "<p>145 rows × 12 columns</p>\n",
       "</div>"
      ],
      "text/plain": [
       "        Job Code                                              Title  \\\n",
       "97003   69252147                     Administrator  Admin Assistant   \n",
       "110718  69671323  Oilfield Services Management Trainees  Project...   \n",
       "110724  69671702  Project Manager / Lead Visual Studio C Develop...   \n",
       "128065  70080343  Search Engine Optimizer Needed  Google AdWords...   \n",
       "136382  70323356  Salesforcecom Administrator and Business Analy...   \n",
       "...          ...                                                ...   \n",
       "242088  72681744  development of a website and software to integ...   \n",
       "242089  72681851  Looking for AP Calculus teacher to create AP p...   \n",
       "242090  72681860             iBook development  Android iPhone iPad   \n",
       "242091  72682010  Scaling a hightraffic website  MySQL PHP Apach...   \n",
       "242092  72682612  Experienced Recruitment Consultant/Headhunter ...   \n",
       "\n",
       "                                          Job Description Region Location  \\\n",
       "97003   looking for Logistics/inventory/distribution/r...     UK       UK   \n",
       "110718  If you are a recent College Graduate and would...     UK       UK   \n",
       "110724  OVERVIEW: You will be responsible for analyzin...     UK       UK   \n",
       "128065  I am looking for a professional to work on ong...     UK       UK   \n",
       "136382  Technology company is building out and support...     UK       UK   \n",
       "...                                                   ...    ...      ...   \n",
       "242088  FKcloud is developing a private cloud system t...     UK       UK   \n",
       "242089  We are looking for a current (preferred) high ...     UK       UK   \n",
       "242090  Need direction in creating a Cookbook for IBoo...     UK       UK   \n",
       "242091  We have a growing hightraffic website that nee...     UK       UK   \n",
       "242092  At Divitiae we are currently looking for exper...     UK       UK   \n",
       "\n",
       "       ContractType ContractTime  Company        Category       Salary_Range  \\\n",
       "97003       Unknown      Unknown  Unknown  Part time Jobs  More than $10,000   \n",
       "110718      Unknown      Unknown  Unknown  Part time Jobs      About $48,000   \n",
       "110724      Unknown      Unknown  Unknown  Part time Jobs  More than $10,000   \n",
       "128065      Unknown      Unknown  Unknown  Part time Jobs  More than $10,000   \n",
       "136382      Unknown      Unknown  Unknown  Part time Jobs  More than $10,000   \n",
       "...             ...          ...      ...             ...                ...   \n",
       "242088      Unknown      Unknown  Unknown  Part time Jobs  $30,000 - $50,000   \n",
       "242089      Unknown      Unknown  Unknown  Part time Jobs  More than $10,000   \n",
       "242090      Unknown      Unknown  Unknown  Part time Jobs   $5,000 - $10,000   \n",
       "242091      Unknown      Unknown  Unknown  Part time Jobs   $5,000 - $10,000   \n",
       "242092      Unknown      Unknown  Unknown  Part time Jobs  More than $10,000   \n",
       "\n",
       "        Salary Source_Name  \n",
       "97003    10000      Elance  \n",
       "110718   48000      Elance  \n",
       "110724   10000      Elance  \n",
       "128065   10000      Elance  \n",
       "136382   10000      Elance  \n",
       "...        ...         ...  \n",
       "242088   40000      Elance  \n",
       "242089   10000      Elance  \n",
       "242090    7500      Elance  \n",
       "242091    7500      Elance  \n",
       "242092   10000      Elance  \n",
       "\n",
       "[145 rows x 12 columns]"
      ]
     },
     "execution_count": 39,
     "metadata": {},
     "output_type": "execute_result"
    }
   ],
   "source": [
    "# Check most suspicious potential outliers above upper bound\n",
    "train_data[(train_data.Salary > 222.5) & (train_data.Category == 'Part time Jobs')]"
   ]
  },
  {
   "cell_type": "markdown",
   "metadata": {},
   "source": [
    "The high-salary potential outliers all appear to be legitimate data. Most roles are I.T and executive roles and the junior positions are in industries that are well known for high salaries (oil, finance). We determine these entries to be legitimate and will not remove them."
   ]
  },
  {
   "cell_type": "code",
   "execution_count": 40,
   "metadata": {},
   "outputs": [],
   "source": [
    "def plot_feature(df, col):\n",
    "    '''\n",
    "    Make plot for each features\n",
    "    left, the distribution of samples on the feature\n",
    "    right, the dependance of salary on the feature\n",
    "    '''\n",
    "    plt.figure(figsize = (14, 6))\n",
    "    plt.subplot(1, 2, 1)\n",
    "    if df[col].dtype == 'int64':\n",
    "        df[col].value_counts().sort_index().plot()\n",
    "    else:\n",
    "        #change the categorical variable to category type and order their level by the mean salary\n",
    "        #in each category\n",
    "        mean = df.groupby(col)['Salary'].mean()\n",
    "        df[col] = df[col].astype('category')\n",
    "        levels = mean.sort_values().index.tolist()\n",
    "        df[col].cat.reorder_categories(levels, inplace=True)\n",
    "        df[col].value_counts().plot()\n",
    "    plt.xticks(rotation=90)\n",
    "    plt.xlabel(col)\n",
    "    plt.ylabel('Counts')\n",
    "    plt.subplot(1, 2, 2)\n",
    "\n",
    "    if df[col].dtype == 'int64' or col == 'companyId':\n",
    "        #plot the mean salary for each category and fill between the (mean - std, mean + std)\n",
    "        mean = df.groupby(col)['Salary'].mean()\n",
    "        std = df.groupby(col)['Salary'].std()\n",
    "        mean.plot()\n",
    "        plt.fill_between(range(len(std.index)), mean.values-std.values, mean.values + std.values, \\\n",
    "                         alpha = 0.1)\n",
    "    else:\n",
    "        sns.boxplot(x = col, y = 'Salary', data=df)\n",
    "    \n",
    "    plt.xticks(rotation=90)\n",
    "    plt.ylabel('Salary')\n",
    "    plt.show()"
   ]
  },
  {
   "cell_type": "code",
   "execution_count": 41,
   "metadata": {},
   "outputs": [
    {
     "data": {
      "image/png": "[encoded data removed]",
      "text/plain": [
       "<Figure size 1008x432 with 2 Axes>"
      ]
     },
     "metadata": {
      "needs_background": "light"
     },
     "output_type": "display_data"
    }
   ],
   "source": [
    "plot_feature(train_data, 'Category')"
   ]
  },
  {
   "cell_type": "markdown",
   "metadata": {},
   "source": [
    "### There is a clear positive correlation between job category and salary"
   ]
  },
  {
   "cell_type": "code",
   "execution_count": 42,
   "metadata": {},
   "outputs": [],
   "source": [
    "def encode_label(df, col):\n",
    "    #encode the categories using average salary for each category to replace label\n",
    "    cat_dict ={}\n",
    "    cats = df[col].cat.categories.tolist()\n",
    "    for cat in cats:\n",
    "        cat_dict[cat] = train_data[train_data[col] == cat]['Salary'].mean()   \n",
    "    df[col] = df[col].map(cat_dict)"
   ]
  },
  {
   "cell_type": "code",
   "execution_count": 43,
   "metadata": {},
   "outputs": [],
   "source": [
    "for col in train_data.columns:\n",
    "    if train_data[col].dtype.name == \"category\":\n",
    "        encode_label(train_data, col)"
   ]
  },
  {
   "cell_type": "code",
   "execution_count": 44,
   "metadata": {},
   "outputs": [
    {
     "data": {
      "image/png": "[encoded data removed]",
      "text/plain": [
       "<Figure size 1008x432 with 2 Axes>"
      ]
     },
     "metadata": {
      "needs_background": "light"
     },
     "output_type": "display_data"
    }
   ],
   "source": [
    "# Correlations between selected features and response\n",
    "# Id is discarded because it is unique for individual\n",
    "\n",
    "fig = plt.figure(figsize=(14, 6))\n",
    "features = [\"Job Code\", \"Title\", \"Job Description\", \"Region\", \"Location\", \"ContractType\", \"ContractTime\", \"Company\", \"Category\", \"Salary_Range\", \"Salary\",\"Source_Name\"]\n",
    "sns.heatmap(train_data[features + ['Salary']].corr(), cmap='Blues', annot=True)\n",
    "plt.xticks(rotation=45)\n",
    "plt.show()"
   ]
  },
  {
   "cell_type": "markdown",
   "metadata": {},
   "source": [
    "### We see that job Category is most strongly correlated with salary"
   ]
  },
  {
   "cell_type": "code",
   "execution_count": null,
   "metadata": {},
   "outputs": [],
   "source": []
  }
 ],
 "metadata": {
  "kernelspec": {
   "display_name": "Python 3",
   "language": "python",
   "name": "python3"
  },
  "language_info": {
   "codemirror_mode": {
    "name": "ipython",
    "version": 3
   },
   "file_extension": ".py",
   "mimetype": "text/x-python",
   "name": "python",
   "nbconvert_exporter": "python",
   "pygments_lexer": "ipython3",
   "version": "3.8.5"
  }
 },
 "nbformat": 4,
 "nbformat_minor": 4
}
