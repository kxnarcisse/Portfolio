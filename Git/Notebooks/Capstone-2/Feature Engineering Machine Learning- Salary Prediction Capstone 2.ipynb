{
 "cells": [
  {
   "cell_type": "markdown",
   "id": "ccf9abd6",
   "metadata": {},
   "source": [
    "### Feature Engineering - Machine Learning Modeling - Capstone 2"
   ]
  },
  {
   "cell_type": "code",
   "execution_count": 1,
   "id": "65bb3493",
   "metadata": {},
   "outputs": [],
   "source": [
    "#make sure that data is ready for modeling\n",
    "#create any new features needed to potentially enhance model"
   ]
  },
  {
   "cell_type": "markdown",
   "id": "53aedd08",
   "metadata": {},
   "source": [
    "### Load Libraries"
   ]
  },
  {
   "cell_type": "code",
   "execution_count": 2,
   "id": "9fabea6a",
   "metadata": {},
   "outputs": [],
   "source": [
    "import pandas as pd\n",
    "import numpy as np\n",
    "import missingno as msno\n",
    "import matplotlib.pyplot as plt\n",
    "import statistics as st\n",
    "import seaborn as sns\n",
    "import os\n",
    "import statsmodels.api as sm\n",
    "import scipy.stats as ss\n",
    "import itertools\n",
    "from sklearn.model_selection import train_test_split\n",
    "from sklearn.model_selection import cross_val_score\n",
    "from sklearn.model_selection import GridSearchCV, RandomizedSearchCV\n",
    "from sklearn.preprocessing import MinMaxScaler"
   ]
  },
  {
   "cell_type": "code",
   "execution_count": 3,
   "id": "3e339db7",
   "metadata": {},
   "outputs": [],
   "source": [
    "train_data = pd.read_csv('Train_rev1.csv')"
   ]
  },
  {
   "cell_type": "markdown",
   "id": "0c7b4e7a",
   "metadata": {},
   "source": [
    "### Clean-up"
   ]
  },
  {
   "cell_type": "code",
   "execution_count": 4,
   "id": "eb2cde14",
   "metadata": {},
   "outputs": [],
   "source": [
    "def scrub_data(data, columns, axis, vals, names):\n",
    "    #drop useless columns\n",
    "    data = data.drop(columns, axis = 1)\n",
    "    #detect the missing data\n",
    "    missingcounts = data.isnull().sum()\n",
    "    missingcols = [col for col in missingcounts.keys() if missingcounts[col] != 0]\n",
    "    #fill the missing data with specific values\n",
    "    values = dict(zip(missingcols, vals))\n",
    "    data = data.fillna(value = values)\n",
    "    #rename the columns\n",
    "    data.columns = names\n",
    "    return data"
   ]
  },
  {
   "cell_type": "code",
   "execution_count": 5,
   "id": "b19133fd",
   "metadata": {},
   "outputs": [],
   "source": [
    "#fill missing data for \"ContractType\", \"ContractTime\", \"Company\" with Unknown\n",
    "train_data = train_data.fillna(\"Unknown\")\n",
    "\n",
    "#rename the columns\n",
    "names = [\"Job Code\", \"Title\", \"Job Description\", \"Region\", \"Location\", \"ContractType\", \"ContractTime\", \"Company\", \"Category\", \"Salary_Range\", \"Salary\",\"Source_Name\"]\n",
    "train_data.columns = names\n"
   ]
  },
  {
   "cell_type": "code",
   "execution_count": 6,
   "id": "9b363fd6",
   "metadata": {},
   "outputs": [
    {
     "name": "stdout",
     "output_type": "stream",
     "text": [
      "<class 'pandas.core.frame.DataFrame'>\n",
      "RangeIndex: 244768 entries, 0 to 244767\n",
      "Data columns (total 12 columns):\n",
      " #   Column           Non-Null Count   Dtype \n",
      "---  ------           --------------   ----- \n",
      " 0   Job Code         244768 non-null  int64 \n",
      " 1   Title            244768 non-null  object\n",
      " 2   Job Description  244768 non-null  object\n",
      " 3   Region           244768 non-null  object\n",
      " 4   Location         244768 non-null  object\n",
      " 5   ContractType     244768 non-null  object\n",
      " 6   ContractTime     244768 non-null  object\n",
      " 7   Company          244768 non-null  object\n",
      " 8   Category         244768 non-null  object\n",
      " 9   Salary_Range     244768 non-null  object\n",
      " 10  Salary           244768 non-null  int64 \n",
      " 11  Source_Name      244768 non-null  object\n",
      "dtypes: int64(2), object(10)\n",
      "memory usage: 22.4+ MB\n"
     ]
    }
   ],
   "source": [
    "train_data.info()"
   ]
  },
  {
   "cell_type": "markdown",
   "id": "6c3c4aa4",
   "metadata": {},
   "source": [
    "#### Features for Categorical variables"
   ]
  },
  {
   "cell_type": "code",
   "execution_count": 7,
   "id": "132cc083",
   "metadata": {},
   "outputs": [],
   "source": [
    "num_variables = ['Job Code','Salary']\n",
    "cat_variables = ['Title', 'Job Description', 'Region', 'Location',\n",
    "       'ContractType', 'ContractTime', 'Company', 'Category', 'Salary_Range', 'Source_Name']\n",
    "feat_variables = ['Category', 'ContractTime','ContractType','Salary']"
   ]
  },
  {
   "cell_type": "markdown",
   "id": "03544e01",
   "metadata": {},
   "source": [
    "#### \"Job Code\" Column"
   ]
  },
  {
   "cell_type": "code",
   "execution_count": 8,
   "id": "0b506476",
   "metadata": {},
   "outputs": [],
   "source": [
    "tit0 = train_data[\"Job Code\"].value_counts()"
   ]
  },
  {
   "cell_type": "code",
   "execution_count": 9,
   "id": "a4863aac",
   "metadata": {},
   "outputs": [],
   "source": [
    "lst0 = tit0[tit0 >= 100].index.tolist()"
   ]
  },
  {
   "cell_type": "code",
   "execution_count": 10,
   "id": "43eb1390",
   "metadata": {},
   "outputs": [],
   "source": [
    "train_data.loc[~train_data[\"Job Code\"].isin(lst0), \"Job Code\"] = \"Other\""
   ]
  },
  {
   "cell_type": "markdown",
   "id": "70dee7bc",
   "metadata": {},
   "source": [
    "#### Title Column"
   ]
  },
  {
   "cell_type": "code",
   "execution_count": 11,
   "id": "8c8e9f92",
   "metadata": {},
   "outputs": [
    {
     "data": {
      "text/plain": [
       "Title                            \n",
       "Business Development Manager         921\n",
       "Project Manager                      749\n",
       "Management Accountant                661\n",
       "Sales Executive                      603\n",
       "Account Manager                      540\n",
       "                                    ... \n",
       "HR Advisor  FTC ****m                  1\n",
       "HR Advisor  Employee Relations         1\n",
       "HR Advisor  ER Specialist  Retail      1\n",
       "HR Advisor  BRISTOL                    1\n",
       "﻿Call Centre Sales Operative           1\n",
       "Length: 135436, dtype: int64"
      ]
     },
     "execution_count": 11,
     "metadata": {},
     "output_type": "execute_result"
    }
   ],
   "source": [
    "train_data[[\"Title\"]].value_counts()"
   ]
  },
  {
   "cell_type": "code",
   "execution_count": 12,
   "id": "7be89b87",
   "metadata": {},
   "outputs": [],
   "source": [
    "tit1 = train_data[\"Title\"].value_counts()"
   ]
  },
  {
   "cell_type": "code",
   "execution_count": 13,
   "id": "0050718c",
   "metadata": {},
   "outputs": [],
   "source": [
    "lst1 = tit1[tit1 >= 100].index.tolist()"
   ]
  },
  {
   "cell_type": "code",
   "execution_count": 14,
   "id": "717289bb",
   "metadata": {},
   "outputs": [],
   "source": [
    "train_data.loc[~train_data[\"Title\"].isin(lst1), \"Title\"] = \"Other\""
   ]
  },
  {
   "cell_type": "markdown",
   "id": "81ded76c",
   "metadata": {},
   "source": [
    "#### Job Description Column"
   ]
  },
  {
   "cell_type": "code",
   "execution_count": 15,
   "id": "f23a0067",
   "metadata": {},
   "outputs": [
    {
     "data": {
      "text/plain": [
       "Job Description                                                                                                                                                                                                                                                                                                                                                                                                                                                                                                                                                                                                                                                                                                                                                                                                                                                                                                                                                                                                                                                                                                                                                                                                                                                                                                                                                                                                                                                                                                                                                                                                                                                                                                                                                                                                                                                                                                                                                                                                                                                                                                                                                                                                                                                                                                                                                                                                                                                                                                                                                                                                                                                                                                                                                                                                                                                                                                                                                                                                                                                                                                                                                               \n",
       "What is expected of you as a Registered Nurse (RGN)? You are responsible to provide and supervise the delivery of high quality nursing care to residents in accordance with up to date, evidencebased professional practice and company policies. You will be responsible for leading a multidisciplinary team, supervising, training and developing care staff in providing the best quality of care to the people we support. The desire to learn and the ability to inspire your team is therefore essential. Our full time shift patterns range **** to 48 hours per week. You will be a Qualified Registered Nurse (RGN) and be registered with the NMC. Why join Barchester as a Registered Nurse (RGN)? As market leaders we place our residents first  and our people are the best. You will benefit from a wealth of experience and as a company that places a great emphasis on investing in their people; you will have the opportunity for both personal and professional development. Barchester has its own Learning and Development Academy, giving you the freedom to develop professionally and create your own career pathway  it's just a case of high do you want to climb? How we're different Barchester offers a range of diverse services, from nursing and care services for older people and people living with dementia, to accommodation, supported living and community support for children and adults with a range of different disabilities. With exposure to so many different areas of nursing, you will have the opportunity to build on your clinical skills or focus on a specialist area. Many companies offer management programmes for those already in management positions, with most nurses expected to oversee staff or resources with no management training. Barchester, however, offers management development to staff throughout their careers. These programmes ensure that all staff, particularly nurses, are constantly supported to develop their skills. Benefits include: • Competitive rates of pay • Access to a structured career development path and award winning training via the Barchester Business School which offer a range of training from NVQs to Masters Degrees • Free uniform • Generous Annual Leave Allowance • Employer contribution to a Stakeholder pension plan • Access to Barchester's Shopping Club for hundreds of savings from retail outlets also access to 'Busy Bees' Child Care Vouchers Scheme • Subsidised health and personal accident insurance • Long Service Awards • Great working environment • Employee help line to support staff in times of need Am I the right person to work for Barchester? A sound understanding of the Care Standards together with a Nursing qualification (RGN) and current NMC registration are essential for this role. Nurses straight from training can join us to develop their clinical skills, or perhaps you're retired or a working parent or perhaps looking for a second income. We offer flexible shifts including part time and bank hours to suit your individual lifestyle. • NMC  Nursing Midwifery Council  www(dot)nmcuk(dot)org    18\n",
       "dtype: int64"
      ]
     },
     "execution_count": 15,
     "metadata": {},
     "output_type": "execute_result"
    }
   ],
   "source": [
    "train_data[[\"Job Description\"]].value_counts()[:1]"
   ]
  },
  {
   "cell_type": "code",
   "execution_count": 16,
   "id": "0b086e44",
   "metadata": {},
   "outputs": [],
   "source": [
    "tit2 = train_data[\"Job Description\"].value_counts()"
   ]
  },
  {
   "cell_type": "code",
   "execution_count": 17,
   "id": "2e62972a",
   "metadata": {},
   "outputs": [],
   "source": [
    "lst2 = tit2[tit2 >= 100].index.tolist()"
   ]
  },
  {
   "cell_type": "code",
   "execution_count": 18,
   "id": "1f240ff7",
   "metadata": {},
   "outputs": [],
   "source": [
    "train_data.loc[~train_data[\"Job Description\"].isin(lst2), \"Job Description\"] = \"Other\""
   ]
  },
  {
   "cell_type": "markdown",
   "id": "f6e93c3c",
   "metadata": {},
   "source": [
    "#### Region Column"
   ]
  },
  {
   "cell_type": "code",
   "execution_count": 19,
   "id": "8e2b1856",
   "metadata": {},
   "outputs": [
    {
     "data": {
      "text/plain": [
       "Region                          \n",
       "London                              15605\n",
       "London South East                    8689\n",
       "UK                                   5538\n",
       "City London South East               2843\n",
       "City of London - London              2344\n",
       "West Midlands                        2263\n",
       "City of London                       2200\n",
       "Manchester Lancashire North West     1887\n",
       "Birmingham                           1879\n",
       "Central London                       1714\n",
       "dtype: int64"
      ]
     },
     "execution_count": 19,
     "metadata": {},
     "output_type": "execute_result"
    }
   ],
   "source": [
    "train_data[[\"Region\"]].value_counts()[:10]"
   ]
  },
  {
   "cell_type": "code",
   "execution_count": 20,
   "id": "edd36422",
   "metadata": {},
   "outputs": [],
   "source": [
    "tit3 = train_data[\"Region\"].value_counts()"
   ]
  },
  {
   "cell_type": "code",
   "execution_count": 21,
   "id": "ab29a41e",
   "metadata": {},
   "outputs": [],
   "source": [
    "lst3 = tit3[tit3 >= 100].index.tolist()"
   ]
  },
  {
   "cell_type": "code",
   "execution_count": 22,
   "id": "1ee0d0a0",
   "metadata": {},
   "outputs": [],
   "source": [
    "train_data.loc[~train_data[\"Region\"].isin(lst3), \"Region\"] = \"Other\""
   ]
  },
  {
   "cell_type": "markdown",
   "id": "4dff9e6e",
   "metadata": {},
   "source": [
    "#### Location Column"
   ]
  },
  {
   "cell_type": "code",
   "execution_count": 23,
   "id": "b8b96a49",
   "metadata": {},
   "outputs": [
    {
     "data": {
      "text/plain": [
       "Location         \n",
       "UK                   41093\n",
       "London               30522\n",
       "South East London    11713\n",
       "The City              6678\n",
       "dtype: int64"
      ]
     },
     "execution_count": 23,
     "metadata": {},
     "output_type": "execute_result"
    }
   ],
   "source": [
    "train_data[[\"Location\"]].value_counts()[:4]"
   ]
  },
  {
   "cell_type": "code",
   "execution_count": 24,
   "id": "8669ed70",
   "metadata": {},
   "outputs": [],
   "source": [
    "tit4 = train_data[\"Location\"].value_counts()"
   ]
  },
  {
   "cell_type": "code",
   "execution_count": 25,
   "id": "d9bb6832",
   "metadata": {},
   "outputs": [],
   "source": [
    "lst4 = tit4[tit4 >= 100].index.tolist()"
   ]
  },
  {
   "cell_type": "code",
   "execution_count": 26,
   "id": "9fef7599",
   "metadata": {},
   "outputs": [],
   "source": [
    "train_data.loc[~train_data[\"Location\"].isin(lst4), \"Location\"] = \"Other\""
   ]
  },
  {
   "cell_type": "markdown",
   "id": "5c18afce",
   "metadata": {},
   "source": [
    "#### ContractType Column"
   ]
  },
  {
   "cell_type": "code",
   "execution_count": 27,
   "id": "0c81a289",
   "metadata": {},
   "outputs": [
    {
     "data": {
      "text/plain": [
       "ContractType\n",
       "Unknown         179326\n",
       "full_time        57538\n",
       "part_time         7904\n",
       "dtype: int64"
      ]
     },
     "execution_count": 27,
     "metadata": {},
     "output_type": "execute_result"
    }
   ],
   "source": [
    "train_data[[\"ContractType\"]].value_counts()[:4]"
   ]
  },
  {
   "cell_type": "code",
   "execution_count": 28,
   "id": "e9359694",
   "metadata": {},
   "outputs": [],
   "source": [
    "tit5 = train_data[\"ContractType\"].value_counts()"
   ]
  },
  {
   "cell_type": "code",
   "execution_count": 29,
   "id": "740eedb5",
   "metadata": {},
   "outputs": [],
   "source": [
    "lst5 = tit5[tit5 >= 100].index.tolist()"
   ]
  },
  {
   "cell_type": "code",
   "execution_count": 30,
   "id": "7c371578",
   "metadata": {},
   "outputs": [],
   "source": [
    "train_data.loc[~train_data[\"ContractType\"].isin(lst5), \"ContractType\"] = \"Other\""
   ]
  },
  {
   "cell_type": "markdown",
   "id": "4df05ff0",
   "metadata": {},
   "source": [
    "#### ContractTime Column"
   ]
  },
  {
   "cell_type": "code",
   "execution_count": 31,
   "id": "4d39dc58",
   "metadata": {},
   "outputs": [
    {
     "data": {
      "text/plain": [
       "ContractTime\n",
       "permanent       151521\n",
       "Unknown          63905\n",
       "contract         29342\n",
       "dtype: int64"
      ]
     },
     "execution_count": 31,
     "metadata": {},
     "output_type": "execute_result"
    }
   ],
   "source": [
    "train_data[[\"ContractTime\"]].value_counts()[:4]"
   ]
  },
  {
   "cell_type": "code",
   "execution_count": 32,
   "id": "cbcc7726",
   "metadata": {},
   "outputs": [],
   "source": [
    "tit6 = train_data[\"ContractTime\"].value_counts()"
   ]
  },
  {
   "cell_type": "code",
   "execution_count": 33,
   "id": "a3e2ea68",
   "metadata": {},
   "outputs": [],
   "source": [
    "lst6 = tit6[tit6 >= 100].index.tolist()"
   ]
  },
  {
   "cell_type": "code",
   "execution_count": 34,
   "id": "a6ba994c",
   "metadata": {},
   "outputs": [],
   "source": [
    "train_data.loc[~train_data[\"ContractTime\"].isin(lst6), \"ContractTime\"] = \"Other\""
   ]
  },
  {
   "cell_type": "markdown",
   "id": "1c262abd",
   "metadata": {},
   "source": [
    "#### Company Column"
   ]
  },
  {
   "cell_type": "code",
   "execution_count": 35,
   "id": "8f8ff0b8",
   "metadata": {},
   "outputs": [
    {
     "data": {
      "text/plain": [
       "Company      \n",
       "Unknown          32434\n",
       "UKStaffsearch     4997\n",
       "CVbrowser         2977\n",
       "London4Jobs       2345\n",
       "dtype: int64"
      ]
     },
     "execution_count": 35,
     "metadata": {},
     "output_type": "execute_result"
    }
   ],
   "source": [
    "train_data[[\"Company\"]].value_counts()[:4]"
   ]
  },
  {
   "cell_type": "code",
   "execution_count": 36,
   "id": "4c2047c2",
   "metadata": {},
   "outputs": [],
   "source": [
    "tit7 = train_data[\"Company\"].value_counts()"
   ]
  },
  {
   "cell_type": "code",
   "execution_count": 37,
   "id": "7cb8675e",
   "metadata": {},
   "outputs": [],
   "source": [
    "lst7 = tit7[tit7 >= 100].index.tolist()"
   ]
  },
  {
   "cell_type": "code",
   "execution_count": 38,
   "id": "84f7db25",
   "metadata": {},
   "outputs": [],
   "source": [
    "train_data.loc[~train_data[\"Company\"].isin(lst7), \"Company\"] = \"Other\""
   ]
  },
  {
   "cell_type": "markdown",
   "id": "6412b46f",
   "metadata": {},
   "source": [
    "#### Category Column"
   ]
  },
  {
   "cell_type": "code",
   "execution_count": 39,
   "id": "277ca62d",
   "metadata": {},
   "outputs": [
    {
     "data": {
      "text/plain": [
       "Category                 \n",
       "IT Jobs                      38483\n",
       "Engineering Jobs             25174\n",
       "Accounting & Finance Jobs    21846\n",
       "Healthcare & Nursing Jobs    21076\n",
       "dtype: int64"
      ]
     },
     "execution_count": 39,
     "metadata": {},
     "output_type": "execute_result"
    }
   ],
   "source": [
    "train_data[[\"Category\"]].value_counts()[:4]"
   ]
  },
  {
   "cell_type": "code",
   "execution_count": 40,
   "id": "a3357bc1",
   "metadata": {},
   "outputs": [],
   "source": [
    "tit8 = train_data[\"Category\"].value_counts()"
   ]
  },
  {
   "cell_type": "code",
   "execution_count": 41,
   "id": "c067508a",
   "metadata": {},
   "outputs": [],
   "source": [
    "lst8 = tit8[tit8 >= 100].index.tolist()"
   ]
  },
  {
   "cell_type": "code",
   "execution_count": 42,
   "id": "e6685531",
   "metadata": {},
   "outputs": [],
   "source": [
    "train_data.loc[~train_data[\"Category\"].isin(lst8), \"Category\"] = \"Other\""
   ]
  },
  {
   "cell_type": "markdown",
   "id": "ce21ad5e",
   "metadata": {},
   "source": [
    "#### Salary Range Column"
   ]
  },
  {
   "cell_type": "code",
   "execution_count": 43,
   "id": "8c5ef72a",
   "metadata": {},
   "outputs": [
    {
     "data": {
      "text/plain": [
       "Salary_Range        \n",
       "50,000-74,999 yearly    1923\n",
       "35000                    868\n",
       "40000                    834\n",
       "45000                    764\n",
       "dtype: int64"
      ]
     },
     "execution_count": 43,
     "metadata": {},
     "output_type": "execute_result"
    }
   ],
   "source": [
    "train_data[[\"Salary_Range\"]].value_counts()[:4]"
   ]
  },
  {
   "cell_type": "code",
   "execution_count": 44,
   "id": "b0dd88a6",
   "metadata": {},
   "outputs": [],
   "source": [
    "tit9 = train_data[\"Salary_Range\"].value_counts()"
   ]
  },
  {
   "cell_type": "code",
   "execution_count": 45,
   "id": "b90bbbd6",
   "metadata": {},
   "outputs": [],
   "source": [
    "lst9 = tit9[tit9 >= 100].index.tolist()"
   ]
  },
  {
   "cell_type": "code",
   "execution_count": 46,
   "id": "f6c04076",
   "metadata": {},
   "outputs": [],
   "source": [
    "train_data.loc[~train_data[\"Salary_Range\"].isin(lst9), \"Salary_Range\"] = \"Other\""
   ]
  },
  {
   "cell_type": "markdown",
   "id": "6f07d40b",
   "metadata": {},
   "source": [
    "#### Source_Name Column"
   ]
  },
  {
   "cell_type": "code",
   "execution_count": 47,
   "id": "30f90641",
   "metadata": {},
   "outputs": [
    {
     "data": {
      "text/plain": [
       "Source_Name     \n",
       "totaljobs.com       48149\n",
       "cv-library.co.uk    34279\n",
       "Jobcentre Plus      17929\n",
       "jobsite.co.uk       12225\n",
       "dtype: int64"
      ]
     },
     "execution_count": 47,
     "metadata": {},
     "output_type": "execute_result"
    }
   ],
   "source": [
    "train_data[[\"Source_Name\"]].value_counts()[:4]"
   ]
  },
  {
   "cell_type": "code",
   "execution_count": 48,
   "id": "f8c76ef1",
   "metadata": {},
   "outputs": [],
   "source": [
    "tit10 = train_data[\"Source_Name\"].value_counts()"
   ]
  },
  {
   "cell_type": "code",
   "execution_count": 49,
   "id": "05e744b0",
   "metadata": {},
   "outputs": [],
   "source": [
    "lst10 = tit10[tit10 >= 100].index.tolist()"
   ]
  },
  {
   "cell_type": "code",
   "execution_count": 50,
   "id": "aa1e0a3b",
   "metadata": {},
   "outputs": [],
   "source": [
    "train_data.loc[~train_data[\"Source_Name\"].isin(lst10), \"Source_Name\"] = \"Other\""
   ]
  },
  {
   "cell_type": "markdown",
   "id": "91ec7b5a",
   "metadata": {},
   "source": [
    "#### Explore Changes"
   ]
  },
  {
   "cell_type": "code",
   "execution_count": 51,
   "id": "d40b8296",
   "metadata": {},
   "outputs": [
    {
     "data": {
      "text/html": [
       "<div>\n",
       "<style scoped>\n",
       "    .dataframe tbody tr th:only-of-type {\n",
       "        vertical-align: middle;\n",
       "    }\n",
       "\n",
       "    .dataframe tbody tr th {\n",
       "        vertical-align: top;\n",
       "    }\n",
       "\n",
       "    .dataframe thead th {\n",
       "        text-align: right;\n",
       "    }\n",
       "</style>\n",
       "<table border=\"1\" class=\"dataframe\">\n",
       "  <thead>\n",
       "    <tr style=\"text-align: right;\">\n",
       "      <th></th>\n",
       "      <th>Job Code</th>\n",
       "      <th>Title</th>\n",
       "      <th>Job Description</th>\n",
       "      <th>Region</th>\n",
       "      <th>Location</th>\n",
       "      <th>ContractType</th>\n",
       "      <th>ContractTime</th>\n",
       "      <th>Company</th>\n",
       "      <th>Category</th>\n",
       "      <th>Salary_Range</th>\n",
       "      <th>Salary</th>\n",
       "      <th>Source_Name</th>\n",
       "    </tr>\n",
       "  </thead>\n",
       "  <tbody>\n",
       "    <tr>\n",
       "      <th>0</th>\n",
       "      <td>Other</td>\n",
       "      <td>Other</td>\n",
       "      <td>Other</td>\n",
       "      <td>Other</td>\n",
       "      <td>Dorking</td>\n",
       "      <td>Unknown</td>\n",
       "      <td>permanent</td>\n",
       "      <td>Other</td>\n",
       "      <td>Engineering Jobs</td>\n",
       "      <td>Other</td>\n",
       "      <td>25000</td>\n",
       "      <td>cv-library.co.uk</td>\n",
       "    </tr>\n",
       "    <tr>\n",
       "      <th>1</th>\n",
       "      <td>Other</td>\n",
       "      <td>Other</td>\n",
       "      <td>Other</td>\n",
       "      <td>Other</td>\n",
       "      <td>Glasgow</td>\n",
       "      <td>Unknown</td>\n",
       "      <td>permanent</td>\n",
       "      <td>Other</td>\n",
       "      <td>Engineering Jobs</td>\n",
       "      <td>Other</td>\n",
       "      <td>30000</td>\n",
       "      <td>cv-library.co.uk</td>\n",
       "    </tr>\n",
       "    <tr>\n",
       "      <th>2</th>\n",
       "      <td>Other</td>\n",
       "      <td>Other</td>\n",
       "      <td>Other</td>\n",
       "      <td>Other</td>\n",
       "      <td>Hampshire</td>\n",
       "      <td>Unknown</td>\n",
       "      <td>permanent</td>\n",
       "      <td>Other</td>\n",
       "      <td>Engineering Jobs</td>\n",
       "      <td>Other</td>\n",
       "      <td>30000</td>\n",
       "      <td>cv-library.co.uk</td>\n",
       "    </tr>\n",
       "    <tr>\n",
       "      <th>3</th>\n",
       "      <td>Other</td>\n",
       "      <td>Other</td>\n",
       "      <td>Other</td>\n",
       "      <td>Other</td>\n",
       "      <td>Surrey</td>\n",
       "      <td>Unknown</td>\n",
       "      <td>permanent</td>\n",
       "      <td>Other</td>\n",
       "      <td>Engineering Jobs</td>\n",
       "      <td>Other</td>\n",
       "      <td>27500</td>\n",
       "      <td>cv-library.co.uk</td>\n",
       "    </tr>\n",
       "    <tr>\n",
       "      <th>4</th>\n",
       "      <td>Other</td>\n",
       "      <td>Other</td>\n",
       "      <td>Other</td>\n",
       "      <td>Other</td>\n",
       "      <td>Surrey</td>\n",
       "      <td>Unknown</td>\n",
       "      <td>permanent</td>\n",
       "      <td>Other</td>\n",
       "      <td>Engineering Jobs</td>\n",
       "      <td>Other</td>\n",
       "      <td>25000</td>\n",
       "      <td>cv-library.co.uk</td>\n",
       "    </tr>\n",
       "  </tbody>\n",
       "</table>\n",
       "</div>"
      ],
      "text/plain": [
       "  Job Code  Title Job Description Region   Location ContractType ContractTime  \\\n",
       "0    Other  Other           Other  Other    Dorking      Unknown    permanent   \n",
       "1    Other  Other           Other  Other    Glasgow      Unknown    permanent   \n",
       "2    Other  Other           Other  Other  Hampshire      Unknown    permanent   \n",
       "3    Other  Other           Other  Other     Surrey      Unknown    permanent   \n",
       "4    Other  Other           Other  Other     Surrey      Unknown    permanent   \n",
       "\n",
       "  Company          Category Salary_Range  Salary       Source_Name  \n",
       "0   Other  Engineering Jobs        Other   25000  cv-library.co.uk  \n",
       "1   Other  Engineering Jobs        Other   30000  cv-library.co.uk  \n",
       "2   Other  Engineering Jobs        Other   30000  cv-library.co.uk  \n",
       "3   Other  Engineering Jobs        Other   27500  cv-library.co.uk  \n",
       "4   Other  Engineering Jobs        Other   25000  cv-library.co.uk  "
      ]
     },
     "execution_count": 51,
     "metadata": {},
     "output_type": "execute_result"
    }
   ],
   "source": [
    "train_data.head()"
   ]
  },
  {
   "cell_type": "markdown",
   "id": "716af176",
   "metadata": {},
   "source": [
    "#### Feature Selection & Get dummies"
   ]
  },
  {
   "cell_type": "code",
   "execution_count": 52,
   "id": "7ca4cb4c",
   "metadata": {},
   "outputs": [
    {
     "data": {
      "text/html": [
       "<div>\n",
       "<style scoped>\n",
       "    .dataframe tbody tr th:only-of-type {\n",
       "        vertical-align: middle;\n",
       "    }\n",
       "\n",
       "    .dataframe tbody tr th {\n",
       "        vertical-align: top;\n",
       "    }\n",
       "\n",
       "    .dataframe thead th {\n",
       "        text-align: right;\n",
       "    }\n",
       "</style>\n",
       "<table border=\"1\" class=\"dataframe\">\n",
       "  <thead>\n",
       "    <tr style=\"text-align: right;\">\n",
       "      <th></th>\n",
       "      <th>Region_Aberdeen Aberdeenshire Scotland</th>\n",
       "      <th>Region_Aberdeen,</th>\n",
       "      <th>Region_Aberdeen, Scotland</th>\n",
       "      <th>Region_Aberdeen, UK</th>\n",
       "      <th>Region_Abingdon Oxfordshire South East</th>\n",
       "      <th>Region_Avon</th>\n",
       "      <th>Region_Aylesbury</th>\n",
       "      <th>Region_Aylesbury Buckinghamshire South East</th>\n",
       "      <th>Region_BIRMINGHAM</th>\n",
       "      <th>Region_Banbury Oxfordshire South East</th>\n",
       "      <th>...</th>\n",
       "      <th>Salary_Range_From 35,000 to 45,000 per annum</th>\n",
       "      <th>Salary_Range_From 35,000 to 45,000 per year</th>\n",
       "      <th>Salary_Range_From 40,000 to 45,000 per annum</th>\n",
       "      <th>Salary_Range_From 40,000 to 45,000 per year</th>\n",
       "      <th>Salary_Range_From 40,000 to 50,000 per annum</th>\n",
       "      <th>Salary_Range_From 40,000 to 50,000 per year</th>\n",
       "      <th>Salary_Range_From 45,000 to 50,000 per year</th>\n",
       "      <th>Salary_Range_From 50,000 to 60,000 per year</th>\n",
       "      <th>Salary_Range_Other</th>\n",
       "      <th>Salary_Range_Up to 34,200 Annual</th>\n",
       "    </tr>\n",
       "  </thead>\n",
       "  <tbody>\n",
       "    <tr>\n",
       "      <th>0</th>\n",
       "      <td>0</td>\n",
       "      <td>0</td>\n",
       "      <td>0</td>\n",
       "      <td>0</td>\n",
       "      <td>0</td>\n",
       "      <td>0</td>\n",
       "      <td>0</td>\n",
       "      <td>0</td>\n",
       "      <td>0</td>\n",
       "      <td>0</td>\n",
       "      <td>...</td>\n",
       "      <td>0</td>\n",
       "      <td>0</td>\n",
       "      <td>0</td>\n",
       "      <td>0</td>\n",
       "      <td>0</td>\n",
       "      <td>0</td>\n",
       "      <td>0</td>\n",
       "      <td>0</td>\n",
       "      <td>1</td>\n",
       "      <td>0</td>\n",
       "    </tr>\n",
       "    <tr>\n",
       "      <th>1</th>\n",
       "      <td>0</td>\n",
       "      <td>0</td>\n",
       "      <td>0</td>\n",
       "      <td>0</td>\n",
       "      <td>0</td>\n",
       "      <td>0</td>\n",
       "      <td>0</td>\n",
       "      <td>0</td>\n",
       "      <td>0</td>\n",
       "      <td>0</td>\n",
       "      <td>...</td>\n",
       "      <td>0</td>\n",
       "      <td>0</td>\n",
       "      <td>0</td>\n",
       "      <td>0</td>\n",
       "      <td>0</td>\n",
       "      <td>0</td>\n",
       "      <td>0</td>\n",
       "      <td>0</td>\n",
       "      <td>1</td>\n",
       "      <td>0</td>\n",
       "    </tr>\n",
       "    <tr>\n",
       "      <th>2</th>\n",
       "      <td>0</td>\n",
       "      <td>0</td>\n",
       "      <td>0</td>\n",
       "      <td>0</td>\n",
       "      <td>0</td>\n",
       "      <td>0</td>\n",
       "      <td>0</td>\n",
       "      <td>0</td>\n",
       "      <td>0</td>\n",
       "      <td>0</td>\n",
       "      <td>...</td>\n",
       "      <td>0</td>\n",
       "      <td>0</td>\n",
       "      <td>0</td>\n",
       "      <td>0</td>\n",
       "      <td>0</td>\n",
       "      <td>0</td>\n",
       "      <td>0</td>\n",
       "      <td>0</td>\n",
       "      <td>1</td>\n",
       "      <td>0</td>\n",
       "    </tr>\n",
       "    <tr>\n",
       "      <th>3</th>\n",
       "      <td>0</td>\n",
       "      <td>0</td>\n",
       "      <td>0</td>\n",
       "      <td>0</td>\n",
       "      <td>0</td>\n",
       "      <td>0</td>\n",
       "      <td>0</td>\n",
       "      <td>0</td>\n",
       "      <td>0</td>\n",
       "      <td>0</td>\n",
       "      <td>...</td>\n",
       "      <td>0</td>\n",
       "      <td>0</td>\n",
       "      <td>0</td>\n",
       "      <td>0</td>\n",
       "      <td>0</td>\n",
       "      <td>0</td>\n",
       "      <td>0</td>\n",
       "      <td>0</td>\n",
       "      <td>1</td>\n",
       "      <td>0</td>\n",
       "    </tr>\n",
       "    <tr>\n",
       "      <th>4</th>\n",
       "      <td>0</td>\n",
       "      <td>0</td>\n",
       "      <td>0</td>\n",
       "      <td>0</td>\n",
       "      <td>0</td>\n",
       "      <td>0</td>\n",
       "      <td>0</td>\n",
       "      <td>0</td>\n",
       "      <td>0</td>\n",
       "      <td>0</td>\n",
       "      <td>...</td>\n",
       "      <td>0</td>\n",
       "      <td>0</td>\n",
       "      <td>0</td>\n",
       "      <td>0</td>\n",
       "      <td>0</td>\n",
       "      <td>0</td>\n",
       "      <td>0</td>\n",
       "      <td>0</td>\n",
       "      <td>1</td>\n",
       "      <td>0</td>\n",
       "    </tr>\n",
       "  </tbody>\n",
       "</table>\n",
       "<p>5 rows × 849 columns</p>\n",
       "</div>"
      ],
      "text/plain": [
       "   Region_Aberdeen Aberdeenshire Scotland  Region_Aberdeen,  \\\n",
       "0                                       0                 0   \n",
       "1                                       0                 0   \n",
       "2                                       0                 0   \n",
       "3                                       0                 0   \n",
       "4                                       0                 0   \n",
       "\n",
       "   Region_Aberdeen, Scotland  Region_Aberdeen, UK  \\\n",
       "0                          0                    0   \n",
       "1                          0                    0   \n",
       "2                          0                    0   \n",
       "3                          0                    0   \n",
       "4                          0                    0   \n",
       "\n",
       "   Region_Abingdon Oxfordshire South East  Region_Avon  Region_Aylesbury  \\\n",
       "0                                       0            0                 0   \n",
       "1                                       0            0                 0   \n",
       "2                                       0            0                 0   \n",
       "3                                       0            0                 0   \n",
       "4                                       0            0                 0   \n",
       "\n",
       "   Region_Aylesbury Buckinghamshire South East  Region_BIRMINGHAM  \\\n",
       "0                                            0                  0   \n",
       "1                                            0                  0   \n",
       "2                                            0                  0   \n",
       "3                                            0                  0   \n",
       "4                                            0                  0   \n",
       "\n",
       "   Region_Banbury Oxfordshire South East  ...  \\\n",
       "0                                      0  ...   \n",
       "1                                      0  ...   \n",
       "2                                      0  ...   \n",
       "3                                      0  ...   \n",
       "4                                      0  ...   \n",
       "\n",
       "   Salary_Range_From 35,000 to 45,000 per annum  \\\n",
       "0                                             0   \n",
       "1                                             0   \n",
       "2                                             0   \n",
       "3                                             0   \n",
       "4                                             0   \n",
       "\n",
       "   Salary_Range_From 35,000 to 45,000 per year  \\\n",
       "0                                            0   \n",
       "1                                            0   \n",
       "2                                            0   \n",
       "3                                            0   \n",
       "4                                            0   \n",
       "\n",
       "   Salary_Range_From 40,000 to 45,000 per annum  \\\n",
       "0                                             0   \n",
       "1                                             0   \n",
       "2                                             0   \n",
       "3                                             0   \n",
       "4                                             0   \n",
       "\n",
       "   Salary_Range_From 40,000 to 45,000 per year  \\\n",
       "0                                            0   \n",
       "1                                            0   \n",
       "2                                            0   \n",
       "3                                            0   \n",
       "4                                            0   \n",
       "\n",
       "   Salary_Range_From 40,000 to 50,000 per annum  \\\n",
       "0                                             0   \n",
       "1                                             0   \n",
       "2                                             0   \n",
       "3                                             0   \n",
       "4                                             0   \n",
       "\n",
       "   Salary_Range_From 40,000 to 50,000 per year  \\\n",
       "0                                            0   \n",
       "1                                            0   \n",
       "2                                            0   \n",
       "3                                            0   \n",
       "4                                            0   \n",
       "\n",
       "   Salary_Range_From 45,000 to 50,000 per year  \\\n",
       "0                                            0   \n",
       "1                                            0   \n",
       "2                                            0   \n",
       "3                                            0   \n",
       "4                                            0   \n",
       "\n",
       "   Salary_Range_From 50,000 to 60,000 per year  Salary_Range_Other  \\\n",
       "0                                            0                   1   \n",
       "1                                            0                   1   \n",
       "2                                            0                   1   \n",
       "3                                            0                   1   \n",
       "4                                            0                   1   \n",
       "\n",
       "   Salary_Range_Up to 34,200 Annual  \n",
       "0                                 0  \n",
       "1                                 0  \n",
       "2                                 0  \n",
       "3                                 0  \n",
       "4                                 0  \n",
       "\n",
       "[5 rows x 849 columns]"
      ]
     },
     "execution_count": 52,
     "metadata": {},
     "output_type": "execute_result"
    }
   ],
   "source": [
    "# One-hot encoding for nominal variables\n",
    "one_hot_var = ['Region','Location','Category', 'ContractType','ContractTime','Salary_Range']\n",
    "train_data_dum = pd.get_dummies(train_data[one_hot_var], drop_first=True)\n",
    "train_data_dum.head()"
   ]
  },
  {
   "cell_type": "markdown",
   "id": "4169fde9",
   "metadata": {},
   "source": [
    "#### Create y matrics from dataframe where y=Salary"
   ]
  },
  {
   "cell_type": "code",
   "execution_count": 53,
   "id": "fa5a0046",
   "metadata": {},
   "outputs": [
    {
     "data": {
      "text/plain": [
       "0    25000\n",
       "1    30000\n",
       "2    30000\n",
       "3    27500\n",
       "4    25000\n",
       "Name: Salary, dtype: int64"
      ]
     },
     "execution_count": 53,
     "metadata": {},
     "output_type": "execute_result"
    }
   ],
   "source": [
    "y=train_data.iloc[:,10]\n",
    "y.head()"
   ]
  },
  {
   "cell_type": "markdown",
   "id": "7d85c131",
   "metadata": {},
   "source": [
    "#### Create X matrics from dataframe"
   ]
  },
  {
   "cell_type": "code",
   "execution_count": 54,
   "id": "ddf30bcd",
   "metadata": {},
   "outputs": [
    {
     "data": {
      "text/html": [
       "<div>\n",
       "<style scoped>\n",
       "    .dataframe tbody tr th:only-of-type {\n",
       "        vertical-align: middle;\n",
       "    }\n",
       "\n",
       "    .dataframe tbody tr th {\n",
       "        vertical-align: top;\n",
       "    }\n",
       "\n",
       "    .dataframe thead th {\n",
       "        text-align: right;\n",
       "    }\n",
       "</style>\n",
       "<table border=\"1\" class=\"dataframe\">\n",
       "  <thead>\n",
       "    <tr style=\"text-align: right;\">\n",
       "      <th></th>\n",
       "      <th>Job Code</th>\n",
       "      <th>Title</th>\n",
       "      <th>Job Description</th>\n",
       "      <th>Region</th>\n",
       "      <th>Location</th>\n",
       "      <th>ContractType</th>\n",
       "      <th>ContractTime</th>\n",
       "      <th>Company</th>\n",
       "      <th>Category</th>\n",
       "      <th>Salary_Range</th>\n",
       "      <th>Salary</th>\n",
       "      <th>Source_Name</th>\n",
       "    </tr>\n",
       "  </thead>\n",
       "  <tbody>\n",
       "    <tr>\n",
       "      <th>0</th>\n",
       "      <td>Other</td>\n",
       "      <td>Other</td>\n",
       "      <td>Other</td>\n",
       "      <td>Other</td>\n",
       "      <td>Dorking</td>\n",
       "      <td>Unknown</td>\n",
       "      <td>permanent</td>\n",
       "      <td>Other</td>\n",
       "      <td>Engineering Jobs</td>\n",
       "      <td>Other</td>\n",
       "      <td>25000</td>\n",
       "      <td>cv-library.co.uk</td>\n",
       "    </tr>\n",
       "    <tr>\n",
       "      <th>1</th>\n",
       "      <td>Other</td>\n",
       "      <td>Other</td>\n",
       "      <td>Other</td>\n",
       "      <td>Other</td>\n",
       "      <td>Glasgow</td>\n",
       "      <td>Unknown</td>\n",
       "      <td>permanent</td>\n",
       "      <td>Other</td>\n",
       "      <td>Engineering Jobs</td>\n",
       "      <td>Other</td>\n",
       "      <td>30000</td>\n",
       "      <td>cv-library.co.uk</td>\n",
       "    </tr>\n",
       "    <tr>\n",
       "      <th>2</th>\n",
       "      <td>Other</td>\n",
       "      <td>Other</td>\n",
       "      <td>Other</td>\n",
       "      <td>Other</td>\n",
       "      <td>Hampshire</td>\n",
       "      <td>Unknown</td>\n",
       "      <td>permanent</td>\n",
       "      <td>Other</td>\n",
       "      <td>Engineering Jobs</td>\n",
       "      <td>Other</td>\n",
       "      <td>30000</td>\n",
       "      <td>cv-library.co.uk</td>\n",
       "    </tr>\n",
       "    <tr>\n",
       "      <th>3</th>\n",
       "      <td>Other</td>\n",
       "      <td>Other</td>\n",
       "      <td>Other</td>\n",
       "      <td>Other</td>\n",
       "      <td>Surrey</td>\n",
       "      <td>Unknown</td>\n",
       "      <td>permanent</td>\n",
       "      <td>Other</td>\n",
       "      <td>Engineering Jobs</td>\n",
       "      <td>Other</td>\n",
       "      <td>27500</td>\n",
       "      <td>cv-library.co.uk</td>\n",
       "    </tr>\n",
       "    <tr>\n",
       "      <th>4</th>\n",
       "      <td>Other</td>\n",
       "      <td>Other</td>\n",
       "      <td>Other</td>\n",
       "      <td>Other</td>\n",
       "      <td>Surrey</td>\n",
       "      <td>Unknown</td>\n",
       "      <td>permanent</td>\n",
       "      <td>Other</td>\n",
       "      <td>Engineering Jobs</td>\n",
       "      <td>Other</td>\n",
       "      <td>25000</td>\n",
       "      <td>cv-library.co.uk</td>\n",
       "    </tr>\n",
       "  </tbody>\n",
       "</table>\n",
       "</div>"
      ],
      "text/plain": [
       "  Job Code  Title Job Description Region   Location ContractType ContractTime  \\\n",
       "0    Other  Other           Other  Other    Dorking      Unknown    permanent   \n",
       "1    Other  Other           Other  Other    Glasgow      Unknown    permanent   \n",
       "2    Other  Other           Other  Other  Hampshire      Unknown    permanent   \n",
       "3    Other  Other           Other  Other     Surrey      Unknown    permanent   \n",
       "4    Other  Other           Other  Other     Surrey      Unknown    permanent   \n",
       "\n",
       "  Company          Category Salary_Range  Salary       Source_Name  \n",
       "0   Other  Engineering Jobs        Other   25000  cv-library.co.uk  \n",
       "1   Other  Engineering Jobs        Other   30000  cv-library.co.uk  \n",
       "2   Other  Engineering Jobs        Other   30000  cv-library.co.uk  \n",
       "3   Other  Engineering Jobs        Other   27500  cv-library.co.uk  \n",
       "4   Other  Engineering Jobs        Other   25000  cv-library.co.uk  "
      ]
     },
     "execution_count": 54,
     "metadata": {},
     "output_type": "execute_result"
    }
   ],
   "source": [
    "X=train_data.iloc[:,: 12]\n",
    "X.head()"
   ]
  },
  {
   "cell_type": "code",
   "execution_count": 55,
   "id": "8cd31fbe",
   "metadata": {},
   "outputs": [],
   "source": [
    "X = pd.concat([X, train_data_dum], axis=1)\n",
    "X = X.drop(['Job Code','Title','Job Description','Region','Location','ContractType','ContractTime','Company','Category','Salary_Range','Salary','Source_Name'], axis=1)"
   ]
  },
  {
   "cell_type": "code",
   "execution_count": 56,
   "id": "76157f95",
   "metadata": {},
   "outputs": [
    {
     "data": {
      "text/html": [
       "<div>\n",
       "<style scoped>\n",
       "    .dataframe tbody tr th:only-of-type {\n",
       "        vertical-align: middle;\n",
       "    }\n",
       "\n",
       "    .dataframe tbody tr th {\n",
       "        vertical-align: top;\n",
       "    }\n",
       "\n",
       "    .dataframe thead th {\n",
       "        text-align: right;\n",
       "    }\n",
       "</style>\n",
       "<table border=\"1\" class=\"dataframe\">\n",
       "  <thead>\n",
       "    <tr style=\"text-align: right;\">\n",
       "      <th></th>\n",
       "      <th>Region_Aberdeen Aberdeenshire Scotland</th>\n",
       "      <th>Region_Aberdeen,</th>\n",
       "      <th>Region_Aberdeen, Scotland</th>\n",
       "      <th>Region_Aberdeen, UK</th>\n",
       "      <th>Region_Abingdon Oxfordshire South East</th>\n",
       "      <th>Region_Avon</th>\n",
       "      <th>Region_Aylesbury</th>\n",
       "      <th>Region_Aylesbury Buckinghamshire South East</th>\n",
       "      <th>Region_BIRMINGHAM</th>\n",
       "      <th>Region_Banbury Oxfordshire South East</th>\n",
       "      <th>...</th>\n",
       "      <th>Salary_Range_From 35,000 to 45,000 per annum</th>\n",
       "      <th>Salary_Range_From 35,000 to 45,000 per year</th>\n",
       "      <th>Salary_Range_From 40,000 to 45,000 per annum</th>\n",
       "      <th>Salary_Range_From 40,000 to 45,000 per year</th>\n",
       "      <th>Salary_Range_From 40,000 to 50,000 per annum</th>\n",
       "      <th>Salary_Range_From 40,000 to 50,000 per year</th>\n",
       "      <th>Salary_Range_From 45,000 to 50,000 per year</th>\n",
       "      <th>Salary_Range_From 50,000 to 60,000 per year</th>\n",
       "      <th>Salary_Range_Other</th>\n",
       "      <th>Salary_Range_Up to 34,200 Annual</th>\n",
       "    </tr>\n",
       "  </thead>\n",
       "  <tbody>\n",
       "    <tr>\n",
       "      <th>0</th>\n",
       "      <td>0</td>\n",
       "      <td>0</td>\n",
       "      <td>0</td>\n",
       "      <td>0</td>\n",
       "      <td>0</td>\n",
       "      <td>0</td>\n",
       "      <td>0</td>\n",
       "      <td>0</td>\n",
       "      <td>0</td>\n",
       "      <td>0</td>\n",
       "      <td>...</td>\n",
       "      <td>0</td>\n",
       "      <td>0</td>\n",
       "      <td>0</td>\n",
       "      <td>0</td>\n",
       "      <td>0</td>\n",
       "      <td>0</td>\n",
       "      <td>0</td>\n",
       "      <td>0</td>\n",
       "      <td>1</td>\n",
       "      <td>0</td>\n",
       "    </tr>\n",
       "    <tr>\n",
       "      <th>1</th>\n",
       "      <td>0</td>\n",
       "      <td>0</td>\n",
       "      <td>0</td>\n",
       "      <td>0</td>\n",
       "      <td>0</td>\n",
       "      <td>0</td>\n",
       "      <td>0</td>\n",
       "      <td>0</td>\n",
       "      <td>0</td>\n",
       "      <td>0</td>\n",
       "      <td>...</td>\n",
       "      <td>0</td>\n",
       "      <td>0</td>\n",
       "      <td>0</td>\n",
       "      <td>0</td>\n",
       "      <td>0</td>\n",
       "      <td>0</td>\n",
       "      <td>0</td>\n",
       "      <td>0</td>\n",
       "      <td>1</td>\n",
       "      <td>0</td>\n",
       "    </tr>\n",
       "    <tr>\n",
       "      <th>2</th>\n",
       "      <td>0</td>\n",
       "      <td>0</td>\n",
       "      <td>0</td>\n",
       "      <td>0</td>\n",
       "      <td>0</td>\n",
       "      <td>0</td>\n",
       "      <td>0</td>\n",
       "      <td>0</td>\n",
       "      <td>0</td>\n",
       "      <td>0</td>\n",
       "      <td>...</td>\n",
       "      <td>0</td>\n",
       "      <td>0</td>\n",
       "      <td>0</td>\n",
       "      <td>0</td>\n",
       "      <td>0</td>\n",
       "      <td>0</td>\n",
       "      <td>0</td>\n",
       "      <td>0</td>\n",
       "      <td>1</td>\n",
       "      <td>0</td>\n",
       "    </tr>\n",
       "    <tr>\n",
       "      <th>3</th>\n",
       "      <td>0</td>\n",
       "      <td>0</td>\n",
       "      <td>0</td>\n",
       "      <td>0</td>\n",
       "      <td>0</td>\n",
       "      <td>0</td>\n",
       "      <td>0</td>\n",
       "      <td>0</td>\n",
       "      <td>0</td>\n",
       "      <td>0</td>\n",
       "      <td>...</td>\n",
       "      <td>0</td>\n",
       "      <td>0</td>\n",
       "      <td>0</td>\n",
       "      <td>0</td>\n",
       "      <td>0</td>\n",
       "      <td>0</td>\n",
       "      <td>0</td>\n",
       "      <td>0</td>\n",
       "      <td>1</td>\n",
       "      <td>0</td>\n",
       "    </tr>\n",
       "    <tr>\n",
       "      <th>4</th>\n",
       "      <td>0</td>\n",
       "      <td>0</td>\n",
       "      <td>0</td>\n",
       "      <td>0</td>\n",
       "      <td>0</td>\n",
       "      <td>0</td>\n",
       "      <td>0</td>\n",
       "      <td>0</td>\n",
       "      <td>0</td>\n",
       "      <td>0</td>\n",
       "      <td>...</td>\n",
       "      <td>0</td>\n",
       "      <td>0</td>\n",
       "      <td>0</td>\n",
       "      <td>0</td>\n",
       "      <td>0</td>\n",
       "      <td>0</td>\n",
       "      <td>0</td>\n",
       "      <td>0</td>\n",
       "      <td>1</td>\n",
       "      <td>0</td>\n",
       "    </tr>\n",
       "  </tbody>\n",
       "</table>\n",
       "<p>5 rows × 849 columns</p>\n",
       "</div>"
      ],
      "text/plain": [
       "   Region_Aberdeen Aberdeenshire Scotland  Region_Aberdeen,  \\\n",
       "0                                       0                 0   \n",
       "1                                       0                 0   \n",
       "2                                       0                 0   \n",
       "3                                       0                 0   \n",
       "4                                       0                 0   \n",
       "\n",
       "   Region_Aberdeen, Scotland  Region_Aberdeen, UK  \\\n",
       "0                          0                    0   \n",
       "1                          0                    0   \n",
       "2                          0                    0   \n",
       "3                          0                    0   \n",
       "4                          0                    0   \n",
       "\n",
       "   Region_Abingdon Oxfordshire South East  Region_Avon  Region_Aylesbury  \\\n",
       "0                                       0            0                 0   \n",
       "1                                       0            0                 0   \n",
       "2                                       0            0                 0   \n",
       "3                                       0            0                 0   \n",
       "4                                       0            0                 0   \n",
       "\n",
       "   Region_Aylesbury Buckinghamshire South East  Region_BIRMINGHAM  \\\n",
       "0                                            0                  0   \n",
       "1                                            0                  0   \n",
       "2                                            0                  0   \n",
       "3                                            0                  0   \n",
       "4                                            0                  0   \n",
       "\n",
       "   Region_Banbury Oxfordshire South East  ...  \\\n",
       "0                                      0  ...   \n",
       "1                                      0  ...   \n",
       "2                                      0  ...   \n",
       "3                                      0  ...   \n",
       "4                                      0  ...   \n",
       "\n",
       "   Salary_Range_From 35,000 to 45,000 per annum  \\\n",
       "0                                             0   \n",
       "1                                             0   \n",
       "2                                             0   \n",
       "3                                             0   \n",
       "4                                             0   \n",
       "\n",
       "   Salary_Range_From 35,000 to 45,000 per year  \\\n",
       "0                                            0   \n",
       "1                                            0   \n",
       "2                                            0   \n",
       "3                                            0   \n",
       "4                                            0   \n",
       "\n",
       "   Salary_Range_From 40,000 to 45,000 per annum  \\\n",
       "0                                             0   \n",
       "1                                             0   \n",
       "2                                             0   \n",
       "3                                             0   \n",
       "4                                             0   \n",
       "\n",
       "   Salary_Range_From 40,000 to 45,000 per year  \\\n",
       "0                                            0   \n",
       "1                                            0   \n",
       "2                                            0   \n",
       "3                                            0   \n",
       "4                                            0   \n",
       "\n",
       "   Salary_Range_From 40,000 to 50,000 per annum  \\\n",
       "0                                             0   \n",
       "1                                             0   \n",
       "2                                             0   \n",
       "3                                             0   \n",
       "4                                             0   \n",
       "\n",
       "   Salary_Range_From 40,000 to 50,000 per year  \\\n",
       "0                                            0   \n",
       "1                                            0   \n",
       "2                                            0   \n",
       "3                                            0   \n",
       "4                                            0   \n",
       "\n",
       "   Salary_Range_From 45,000 to 50,000 per year  \\\n",
       "0                                            0   \n",
       "1                                            0   \n",
       "2                                            0   \n",
       "3                                            0   \n",
       "4                                            0   \n",
       "\n",
       "   Salary_Range_From 50,000 to 60,000 per year  Salary_Range_Other  \\\n",
       "0                                            0                   1   \n",
       "1                                            0                   1   \n",
       "2                                            0                   1   \n",
       "3                                            0                   1   \n",
       "4                                            0                   1   \n",
       "\n",
       "   Salary_Range_Up to 34,200 Annual  \n",
       "0                                 0  \n",
       "1                                 0  \n",
       "2                                 0  \n",
       "3                                 0  \n",
       "4                                 0  \n",
       "\n",
       "[5 rows x 849 columns]"
      ]
     },
     "execution_count": 56,
     "metadata": {},
     "output_type": "execute_result"
    }
   ],
   "source": [
    "X.head()"
   ]
  },
  {
   "cell_type": "markdown",
   "id": "fbf9d0ed",
   "metadata": {},
   "source": [
    "#### Split the X and y into 75/25 training and testing data subsets"
   ]
  },
  {
   "cell_type": "code",
   "execution_count": 57,
   "id": "5364c9fa",
   "metadata": {},
   "outputs": [],
   "source": [
    "#train test split\n",
    "\n",
    "X_train, X_test, y_train, y_test=train_test_split(X, y, test_size=0.25, random_state=42)\n"
   ]
  },
  {
   "cell_type": "markdown",
   "id": "3aeb0577",
   "metadata": {},
   "source": [
    "### Load Machine Learning Models"
   ]
  },
  {
   "cell_type": "code",
   "execution_count": 58,
   "id": "4bb46cd9",
   "metadata": {},
   "outputs": [],
   "source": [
    "# Mean Squared Error\n",
    "from sklearn.metrics import mean_squared_error\n",
    "\n",
    "from math import sqrt\n",
    "\n",
    "from sklearn.metrics import r2_score\n",
    "\n",
    "#Linear Regression -  Straightforward Basic regression model\n",
    "from sklearn.linear_model import LinearRegression  \n",
    "\n",
    "# Random Forest Regressor - Low bias and low variance\n",
    "from sklearn.ensemble import RandomForestRegressor  \n",
    "\n",
    "# Extreme Gradient Boost - High performance\n",
    "from xgboost import XGBRegressor\n",
    "\n",
    "from sklearn.model_selection import KFold"
   ]
  },
  {
   "cell_type": "markdown",
   "id": "07453f32",
   "metadata": {},
   "source": [
    "### Linear Regression"
   ]
  },
  {
   "cell_type": "code",
   "execution_count": 59,
   "id": "aa3cfe27",
   "metadata": {},
   "outputs": [],
   "source": [
    "li_reg = LinearRegression()\n",
    "li_model = li_reg.fit(X_train, y_train)\n",
    "li_pred = li_model.predict(X_test)"
   ]
  },
  {
   "cell_type": "code",
   "execution_count": 60,
   "id": "ba5cc10d",
   "metadata": {},
   "outputs": [
    {
     "name": "stdout",
     "output_type": "stream",
     "text": [
      "RMSE: 14355.27\n"
     ]
    }
   ],
   "source": [
    "li_mse = sqrt(mean_squared_error(y_test, li_pred))\n",
    "print(\"RMSE: %.2f\" % li_mse)"
   ]
  },
  {
   "cell_type": "markdown",
   "id": "9eb2cfd0",
   "metadata": {},
   "source": [
    "#### Calculate $R^2$ Values"
   ]
  },
  {
   "cell_type": "code",
   "execution_count": 61,
   "id": "3157858a",
   "metadata": {},
   "outputs": [
    {
     "data": {
      "text/plain": [
       "0.3345813448785362"
      ]
     },
     "execution_count": 61,
     "metadata": {},
     "output_type": "execute_result"
    }
   ],
   "source": [
    "li_r2 = r2_score(y_test, li_pred)\n",
    "li_r2"
   ]
  },
  {
   "cell_type": "markdown",
   "id": "0d72bf95",
   "metadata": {},
   "source": [
    "### Random Forest"
   ]
  },
  {
   "cell_type": "code",
   "execution_count": 62,
   "id": "970da2e0",
   "metadata": {},
   "outputs": [],
   "source": [
    "rf_reg = RandomForestRegressor(n_estimators=150, n_jobs=2, max_depth=6, min_samples_split=60, max_features='auto', verbose=0)\n"
   ]
  },
  {
   "cell_type": "code",
   "execution_count": 63,
   "id": "62875001",
   "metadata": {},
   "outputs": [],
   "source": [
    "rf_model = rf_reg.fit(X_train, y_train)\n",
    "rf_pred = rf_model.predict(X_test)"
   ]
  },
  {
   "cell_type": "code",
   "execution_count": 64,
   "id": "c2694ee1",
   "metadata": {},
   "outputs": [
    {
     "name": "stdout",
     "output_type": "stream",
     "text": [
      "RMSE: 15854.77\n"
     ]
    }
   ],
   "source": [
    "rf_mse = sqrt(mean_squared_error(y_test, rf_pred))\n",
    "print(\"RMSE: %.2f\" % rf_mse)"
   ]
  },
  {
   "cell_type": "markdown",
   "id": "ecfa2670",
   "metadata": {},
   "source": [
    "#### Calculate $R^2$ Values"
   ]
  },
  {
   "cell_type": "code",
   "execution_count": 65,
   "id": "dd908f12",
   "metadata": {},
   "outputs": [
    {
     "data": {
      "text/plain": [
       "0.0"
      ]
     },
     "execution_count": 65,
     "metadata": {},
     "output_type": "execute_result"
    }
   ],
   "source": [
    "rf_r2 = r2_score(y_test, rf_pred).round()\n",
    "rf_r2"
   ]
  },
  {
   "cell_type": "markdown",
   "id": "4265500a",
   "metadata": {},
   "source": [
    "### XGBoost Regressor"
   ]
  },
  {
   "cell_type": "code",
   "execution_count": 62,
   "id": "03bae770",
   "metadata": {},
   "outputs": [],
   "source": [
    "xg_reg = XGBRegressor()\n",
    "xg_model = xg_reg.fit(X_train,y_train)\n",
    "xg_predict = xg_model.predict(X_test)"
   ]
  },
  {
   "cell_type": "code",
   "execution_count": 63,
   "id": "f3f9ec90",
   "metadata": {},
   "outputs": [
    {
     "name": "stdout",
     "output_type": "stream",
     "text": [
      "RMSE: 14013.34\n"
     ]
    }
   ],
   "source": [
    "xg_mse = sqrt(mean_squared_error(y_test, xg_predict))\n",
    "print(\"RMSE: %.2f\" % xg_mse)"
   ]
  },
  {
   "cell_type": "markdown",
   "id": "bb3d1e8f",
   "metadata": {},
   "source": [
    "#### Calculate $R^2$ Values"
   ]
  },
  {
   "cell_type": "code",
   "execution_count": 64,
   "id": "cb4674b4",
   "metadata": {},
   "outputs": [
    {
     "data": {
      "text/plain": [
       "0.0"
      ]
     },
     "execution_count": 64,
     "metadata": {},
     "output_type": "execute_result"
    }
   ],
   "source": [
    "xg_r2 = r2_score(y_test, xg_predict).round()\n",
    "xg_r2"
   ]
  },
  {
   "cell_type": "markdown",
   "id": "02a5043d",
   "metadata": {},
   "source": [
    "###  Test 3 Models (5-fold cross validation on models and measure MSE)"
   ]
  },
  {
   "cell_type": "markdown",
   "id": "c8507153",
   "metadata": {},
   "source": [
    "#### Linear Regression with Cross_Validation"
   ]
  },
  {
   "cell_type": "code",
   "execution_count": 69,
   "id": "efa5e664",
   "metadata": {},
   "outputs": [],
   "source": [
    "li_nmse = cross_val_score(li_reg, X_test, y_test, cv=5, scoring=\"neg_mean_squared_error\")"
   ]
  },
  {
   "cell_type": "code",
   "execution_count": 70,
   "id": "1752269e",
   "metadata": {},
   "outputs": [
    {
     "data": {
      "text/plain": [
       "1.934694614609818e+24"
      ]
     },
     "execution_count": 70,
     "metadata": {},
     "output_type": "execute_result"
    }
   ],
   "source": [
    "li_mse_cv = -1.0 * np.mean(li_nmse).round()\n",
    "li_mse_cv"
   ]
  },
  {
   "cell_type": "markdown",
   "id": "133d5f71",
   "metadata": {},
   "source": [
    "#### Random Forest with Cross_Validation"
   ]
  },
  {
   "cell_type": "code",
   "execution_count": 71,
   "id": "4f3cc9dd",
   "metadata": {},
   "outputs": [
    {
     "data": {
      "text/plain": [
       "250395013.0"
      ]
     },
     "execution_count": 71,
     "metadata": {},
     "output_type": "execute_result"
    }
   ],
   "source": [
    "rf_nmse = cross_val_score(rf_reg, X_test, y_test, cv=5, scoring=\"neg_mean_squared_error\")\n",
    "rf_mse_cv = -1.0 * np.mean(rf_nmse).round()\n",
    "rf_mse_cv"
   ]
  },
  {
   "cell_type": "markdown",
   "id": "f41901d8",
   "metadata": {},
   "source": [
    "#### XGboost with Cross_Validation"
   ]
  },
  {
   "cell_type": "code",
   "execution_count": 72,
   "id": "57748dc1",
   "metadata": {},
   "outputs": [
    {
     "data": {
      "text/plain": [
       "199649702.0"
      ]
     },
     "execution_count": 72,
     "metadata": {},
     "output_type": "execute_result"
    }
   ],
   "source": [
    "folds = KFold(n_splits =5, shuffle = True, random_state=100)\n",
    "xg_nmse = cross_val_score(xg_reg, X_test, y_test, cv=folds, scoring=\"neg_mean_squared_error\")\n",
    "xg_mse_cv = -1.0 * np.mean(xg_nmse).round()\n",
    "xg_mse_cv"
   ]
  },
  {
   "cell_type": "markdown",
   "id": "f000c916",
   "metadata": {},
   "source": [
    "### Comparison of the Models"
   ]
  },
  {
   "cell_type": "code",
   "execution_count": 73,
   "id": "6a0b3ac2",
   "metadata": {},
   "outputs": [],
   "source": [
    "#Model with the lowest error as my \"production\" model"
   ]
  },
  {
   "cell_type": "code",
   "execution_count": 74,
   "id": "9b22195d",
   "metadata": {},
   "outputs": [
    {
     "data": {
      "text/html": [
       "<div>\n",
       "<style scoped>\n",
       "    .dataframe tbody tr th:only-of-type {\n",
       "        vertical-align: middle;\n",
       "    }\n",
       "\n",
       "    .dataframe tbody tr th {\n",
       "        vertical-align: top;\n",
       "    }\n",
       "\n",
       "    .dataframe thead th {\n",
       "        text-align: right;\n",
       "    }\n",
       "</style>\n",
       "<table border=\"1\" class=\"dataframe\">\n",
       "  <thead>\n",
       "    <tr style=\"text-align: right;\">\n",
       "      <th></th>\n",
       "      <th>Linear Regression</th>\n",
       "      <th>Random Forest</th>\n",
       "      <th>XGBoost</th>\n",
       "    </tr>\n",
       "  </thead>\n",
       "  <tbody>\n",
       "    <tr>\n",
       "      <th>Without Cross_validation</th>\n",
       "      <td>1.435527e+04</td>\n",
       "      <td>1.585477e+04</td>\n",
       "      <td>1.401334e+04</td>\n",
       "    </tr>\n",
       "    <tr>\n",
       "      <th>$R^2$ Values</th>\n",
       "      <td>3.300000e-01</td>\n",
       "      <td>0.000000e+00</td>\n",
       "      <td>0.000000e+00</td>\n",
       "    </tr>\n",
       "    <tr>\n",
       "      <th>With Cross_validation</th>\n",
       "      <td>1.934695e+24</td>\n",
       "      <td>2.503950e+08</td>\n",
       "      <td>1.996497e+08</td>\n",
       "    </tr>\n",
       "  </tbody>\n",
       "</table>\n",
       "</div>"
      ],
      "text/plain": [
       "                          Linear Regression  Random Forest       XGBoost\n",
       "Without Cross_validation       1.435527e+04   1.585477e+04  1.401334e+04\n",
       "$R^2$ Values                   3.300000e-01   0.000000e+00  0.000000e+00\n",
       "With Cross_validation          1.934695e+24   2.503950e+08  1.996497e+08"
      ]
     },
     "execution_count": 74,
     "metadata": {},
     "output_type": "execute_result"
    }
   ],
   "source": [
    "results = {\n",
    "    'Linear Regression' : [round(li_mse, 2),  round(li_r2, 2), round(li_mse_cv,2)],\n",
    "    'Random Forest' : [round(rf_mse,2), round(rf_r2, 2), round(rf_mse_cv,2)],\n",
    "    'XGBoost' : [round(xg_mse,2), round(xg_r2, 2), round(xg_mse_cv,2)]\n",
    "}                                   \n",
    "result_df = pd.DataFrame(results, index = ['Without Cross_validation', '$R^2$ Values','With Cross_validation'],)\n",
    "result_df"
   ]
  },
  {
   "cell_type": "markdown",
   "id": "3f151bc4",
   "metadata": {},
   "source": [
    "### The Best Model"
   ]
  },
  {
   "cell_type": "markdown",
   "id": "b0c95693",
   "metadata": {},
   "source": [
    "#### XGBoost -  Tuning Hyperparameters"
   ]
  },
  {
   "cell_type": "code",
   "execution_count": 59,
   "id": "e4dd97e8",
   "metadata": {},
   "outputs": [
    {
     "name": "stdout",
     "output_type": "stream",
     "text": [
      "{'n_estimators': [200, 400, 600, 800, 1000], 'max_depth': [5], 'learning_rate': [0.01], 'gamma': [0.0], 'subsample': [0.3], 'colsample_bytree': [0.3], 'min_child_weight': [1]}\n"
     ]
    }
   ],
   "source": [
    "#Number on trees in XGBoost\n",
    "n_estimators = [int(x) for x in np.linspace(200, 1000, 5)]\n",
    "#Max number of levels in the tree\n",
    "max_depth= [5]\n",
    "#Learnig rate\n",
    "learning_rate=[0.01]\n",
    "#gamma\n",
    "gamma = [0.0]\n",
    "#Subsample ratio of the training instance.\n",
    "subsample=[0.3]\n",
    "#Subsample ratio of columns when constructing each tree.\n",
    "colsample_bytree=[0.3]\n",
    "#min_child_weight\n",
    "min_child_weight = [1]\n",
    "random_param={'n_estimators': n_estimators,\n",
    "              'max_depth': max_depth,\n",
    "              'learning_rate': learning_rate,\n",
    "              'gamma': gamma,\n",
    "              'subsample': subsample,\n",
    "              'colsample_bytree': colsample_bytree,\n",
    "              'min_child_weight': min_child_weight}\n",
    "print(random_param)"
   ]
  },
  {
   "cell_type": "code",
   "execution_count": 60,
   "id": "88bcd773",
   "metadata": {},
   "outputs": [
    {
     "name": "stdout",
     "output_type": "stream",
     "text": [
      "Fitting 2 folds for each of 2 candidates, totalling 4 fits\n"
     ]
    }
   ],
   "source": [
    "xg=XGBRegressor()\n",
    "xg_randomcv=RandomizedSearchCV(estimator=xg,param_distributions=random_param,n_iter=2,cv=2,verbose=3,n_jobs=-1)\n",
    "### fit the randomized model\n",
    "xg_reg_ht = xg_randomcv.fit(X_train,y_train)"
   ]
  },
  {
   "cell_type": "code",
   "execution_count": 61,
   "id": "9e89f1b6",
   "metadata": {},
   "outputs": [
    {
     "data": {
      "text/plain": [
       "{'subsample': 0.3,\n",
       " 'n_estimators': 1000,\n",
       " 'min_child_weight': 1,\n",
       " 'max_depth': 5,\n",
       " 'learning_rate': 0.01,\n",
       " 'gamma': 0.0,\n",
       " 'colsample_bytree': 0.3}"
      ]
     },
     "execution_count": 61,
     "metadata": {},
     "output_type": "execute_result"
    }
   ],
   "source": [
    "xg_randomcv.best_params_"
   ]
  },
  {
   "cell_type": "code",
   "execution_count": 62,
   "id": "edf3a846",
   "metadata": {},
   "outputs": [
    {
     "data": {
      "text/plain": [
       "XGBRegressor(base_score=0.5, booster='gbtree', colsample_bylevel=1,\n",
       "             colsample_bynode=1, colsample_bytree=0.3, gamma=0.0, gpu_id=-1,\n",
       "             importance_type='gain', interaction_constraints='',\n",
       "             learning_rate=0.01, max_delta_step=0, max_depth=5,\n",
       "             min_child_weight=1, missing=nan, monotone_constraints='()',\n",
       "             n_estimators=1000, n_jobs=8, num_parallel_tree=1, random_state=0,\n",
       "             reg_alpha=0, reg_lambda=1, scale_pos_weight=1, subsample=0.3,\n",
       "             tree_method='exact', validate_parameters=1, verbosity=None)"
      ]
     },
     "execution_count": 62,
     "metadata": {},
     "output_type": "execute_result"
    }
   ],
   "source": [
    "xg_randomcv.best_estimator_"
   ]
  },
  {
   "cell_type": "code",
   "execution_count": 63,
   "id": "c001458a",
   "metadata": {},
   "outputs": [],
   "source": [
    "xg_pred1 = xg_reg_ht.predict(X_test)"
   ]
  },
  {
   "cell_type": "code",
   "execution_count": 64,
   "id": "6cd0c9f6",
   "metadata": {},
   "outputs": [
    {
     "name": "stdout",
     "output_type": "stream",
     "text": [
      "RMSE: 14667.57\n"
     ]
    }
   ],
   "source": [
    "xg_mse1 = sqrt(mean_squared_error(y_test, xg_pred1))\n",
    "print(\"RMSE: %.2f\" % xg_mse1)"
   ]
  },
  {
   "cell_type": "code",
   "execution_count": 65,
   "id": "b2b72690",
   "metadata": {},
   "outputs": [
    {
     "data": {
      "text/html": [
       "<div>\n",
       "<style scoped>\n",
       "    .dataframe tbody tr th:only-of-type {\n",
       "        vertical-align: middle;\n",
       "    }\n",
       "\n",
       "    .dataframe tbody tr th {\n",
       "        vertical-align: top;\n",
       "    }\n",
       "\n",
       "    .dataframe thead th {\n",
       "        text-align: right;\n",
       "    }\n",
       "</style>\n",
       "<table border=\"1\" class=\"dataframe\">\n",
       "  <thead>\n",
       "    <tr style=\"text-align: right;\">\n",
       "      <th></th>\n",
       "      <th>XGBoost_ Hyperparameter</th>\n",
       "    </tr>\n",
       "  </thead>\n",
       "  <tbody>\n",
       "    <tr>\n",
       "      <th>RMSE:</th>\n",
       "      <td>14667.57</td>\n",
       "    </tr>\n",
       "  </tbody>\n",
       "</table>\n",
       "</div>"
      ],
      "text/plain": [
       "       XGBoost_ Hyperparameter\n",
       "RMSE:                 14667.57"
      ]
     },
     "execution_count": 65,
     "metadata": {},
     "output_type": "execute_result"
    }
   ],
   "source": [
    "xg_hypertune = {\n",
    "    'XGBoost_ Hyperparameter' : round(xg_mse1,2),\n",
    "    } \n",
    "\n",
    "xg_hypertune_df = pd.DataFrame(xg_hypertune, index = ['RMSE:'])\n",
    "xg_hypertune_df"
   ]
  },
  {
   "cell_type": "markdown",
   "id": "17eeb72f",
   "metadata": {},
   "source": [
    "### Feature Importance"
   ]
  },
  {
   "cell_type": "code",
   "execution_count": 66,
   "id": "a6416965",
   "metadata": {},
   "outputs": [
    {
     "data": {
      "text/plain": [
       "ExtraTreesRegressor()"
      ]
     },
     "execution_count": 66,
     "metadata": {},
     "output_type": "execute_result"
    }
   ],
   "source": [
    "from sklearn.ensemble import ExtraTreesRegressor\n",
    "selection = ExtraTreesRegressor()\n",
    "selection.fit(X_train, y_train)"
   ]
  },
  {
   "cell_type": "code",
   "execution_count": 67,
   "id": "e6739dc7",
   "metadata": {},
   "outputs": [
    {
     "data": {
      "text/plain": [
       "array([4.97994857e-04, 2.80768960e-03, 6.50069396e-04, 1.57711124e-04,\n",
       "       8.59259528e-05, 1.33705620e-04, 1.29263154e-04, 7.78745204e-05,\n",
       "       7.09497051e-05, 5.14832609e-05, 9.42745030e-05, 2.42929619e-04,\n",
       "       1.24200059e-04, 1.10347942e-04, 1.80709144e-04, 1.57781151e-04,\n",
       "       8.08900129e-05, 1.68400733e-04, 3.40536375e-04, 2.10952754e-04,\n",
       "       5.82915497e-04, 4.65030714e-04, 2.22532267e-04, 4.39126336e-04,\n",
       "       5.05188959e-04, 1.23478156e-05, 3.98435886e-04, 1.14605184e-04,\n",
       "       1.53625258e-04, 9.22890356e-05, 8.72819906e-05, 1.17784447e-04,\n",
       "       1.32576493e-04, 1.94190523e-04, 6.91025511e-05, 2.31340061e-04,\n",
       "       5.57525907e-05, 1.02259680e-04, 1.15231611e-04, 1.24703532e-04,\n",
       "       1.33198146e-04, 4.23328579e-04, 3.45861492e-04, 9.81036042e-05,\n",
       "       2.74548259e-04, 4.29243076e-04, 3.49667926e-04, 4.94331367e-04,\n",
       "       3.96649359e-04, 1.03164967e-04, 3.88800227e-04, 2.34982889e-04,\n",
       "       3.18001584e-04, 4.71149973e-04, 2.74299625e-04, 1.32277955e-04,\n",
       "       1.42902119e-04, 6.72121908e-04, 1.38805002e-05, 1.04086131e-04,\n",
       "       1.09848362e-04, 1.27679291e-04, 6.91509128e-05, 1.48875435e-04,\n",
       "       5.64470489e-05, 1.49527390e-04, 4.47296292e-04, 1.04961982e-04,\n",
       "       2.20596747e-04, 9.73187842e-05, 1.63835993e-04, 8.08860979e-05,\n",
       "       4.43292443e-04, 3.32199364e-04, 1.60498939e-03, 3.85277682e-04,\n",
       "       1.40209581e-04, 8.90145347e-05, 8.74201244e-04, 1.80915668e-03,\n",
       "       1.22434037e-04, 1.16635204e-04, 3.43390650e-04, 2.39605920e-04,\n",
       "       8.49992038e-05, 3.80978133e-04, 1.09883018e-04, 1.11223134e-04,\n",
       "       1.42264664e-04, 2.21876397e-04, 2.01061664e-04, 9.50134571e-05,\n",
       "       4.10858405e-04, 6.45161134e-05, 3.37926930e-04, 2.14817579e-04,\n",
       "       1.48147676e-04, 1.66207436e-04, 1.66962405e-04, 8.74825834e-05,\n",
       "       9.81005324e-05, 5.79867774e-04, 1.72630856e-04, 1.58243123e-04,\n",
       "       3.69380785e-04, 5.05598273e-05, 1.26147290e-04, 2.26130794e-04,\n",
       "       5.82916640e-04, 2.67256894e-04, 1.40663703e-04, 9.19049620e-05,\n",
       "       7.47351698e-04, 1.22613317e-04, 6.35426416e-04, 1.67541120e-03,\n",
       "       5.78532929e-04, 5.04256668e-04, 4.17182753e-04, 1.59047796e-04,\n",
       "       9.18685175e-05, 9.19329732e-05, 1.34444021e-04, 5.01672277e-05,\n",
       "       7.62474181e-05, 1.14508296e-04, 1.40765113e-04, 1.55068275e-04,\n",
       "       9.01489225e-04, 3.07714916e-04, 1.34144294e-04, 2.10354177e-04,\n",
       "       9.02051775e-05, 5.12013686e-05, 2.98420775e-04, 2.50023194e-04,\n",
       "       1.99324880e-04, 3.51369546e-04, 1.12577728e-02, 7.81294055e-04,\n",
       "       1.11688400e-04, 9.14448778e-05, 4.90698571e-04, 2.49584386e-04,\n",
       "       1.28838385e-04, 3.41392467e-04, 5.18159570e-05, 1.14192855e-04,\n",
       "       1.70357174e-04, 3.54771612e-05, 1.56607125e-04, 6.60003571e-05,\n",
       "       1.72118634e-04, 7.57788773e-04, 2.27128972e-03, 6.37305428e-04,\n",
       "       4.53826127e-04, 7.23011606e-05, 1.84601086e-04, 1.57830670e-04,\n",
       "       6.51196507e-05, 9.88682058e-05, 1.18371930e-03, 3.61805285e-04,\n",
       "       1.44890910e-04, 3.11273655e-04, 1.58397780e-04, 5.07191541e-04,\n",
       "       1.11892798e-04, 1.39302722e-04, 3.41108745e-04, 7.12297599e-04,\n",
       "       2.88265077e-04, 1.06139125e-04, 2.11624168e-04, 7.85068154e-05,\n",
       "       1.25989160e-04, 2.62669790e-04, 6.76158949e-05, 1.44071282e-04,\n",
       "       4.08820124e-04, 2.99656936e-04, 1.37597496e-04, 1.37459529e-04,\n",
       "       2.51225027e-03, 4.89759469e-04, 4.86699718e-04, 1.76779495e-03,\n",
       "       2.14746260e-04, 9.28405700e-04, 5.53983544e-04, 1.95842691e-04,\n",
       "       3.16922048e-04, 2.24232863e-04, 2.41019494e-04, 1.46591745e-04,\n",
       "       1.79171047e-04, 9.52438056e-05, 2.99808351e-04, 6.75717112e-05,\n",
       "       2.11627844e-04, 9.96843867e-05, 2.49543016e-04, 6.50701582e-05,\n",
       "       7.48526525e-04, 4.79312502e-05, 3.30369131e-04, 3.94725694e-04,\n",
       "       2.26364649e-04, 7.74007123e-04, 3.93697203e-04, 3.15793905e-04,\n",
       "       1.54658378e-05, 4.70452756e-04, 2.33075427e-04, 1.58826695e-04,\n",
       "       1.59754138e-04, 1.89502603e-04, 2.15725270e-04, 4.02282767e-04,\n",
       "       9.02056297e-05, 2.04085858e-04, 2.82664465e-04, 2.68600040e-04,\n",
       "       2.49036429e-04, 1.64282860e-04, 9.87868466e-04, 2.32318997e-04,\n",
       "       5.26682080e-04, 2.32226034e-04, 9.25604217e-05, 1.42113195e-04,\n",
       "       1.59311643e-04, 7.48562850e-05, 2.29148966e-04, 8.38806165e-05,\n",
       "       7.65603046e-07, 1.18960389e-04, 2.42110524e-04, 2.13184698e-04,\n",
       "       1.18521381e-04, 4.35753694e-04, 1.82077431e-04, 2.04044510e-04,\n",
       "       1.94873895e-04, 6.50962246e-05, 1.45816694e-02, 3.15888917e-04,\n",
       "       1.71415028e-04, 1.47304496e-04, 3.13471313e-04, 4.47511629e-04,\n",
       "       1.51943599e-04, 2.30177373e-04, 1.31369946e-04, 1.56636397e-04,\n",
       "       7.49638046e-05, 5.82604583e-05, 3.48138929e-05, 8.22975028e-05,\n",
       "       2.72908548e-04, 1.45735615e-04, 1.91753117e-04, 2.25668420e-04,\n",
       "       1.02031262e-04, 1.99785953e-04, 6.07395807e-04, 2.07910307e-04,\n",
       "       3.47087890e-04, 7.58970708e-05, 7.09237065e-05, 3.26745159e-05,\n",
       "       1.03784210e-04, 8.41840210e-04, 2.86186210e-04, 4.11022993e-05,\n",
       "       2.03155124e-04, 9.15102857e-05, 3.44403436e-04, 2.56465591e-04,\n",
       "       1.77068452e-04, 1.31341105e-04, 1.20813995e-04, 2.94030475e-03,\n",
       "       1.48736519e-04, 9.85400676e-05, 9.78083343e-04, 3.18634271e-04,\n",
       "       1.60771517e-04, 1.95951453e-04, 4.97100035e-05, 7.20230998e-05,\n",
       "       1.49130993e-04, 3.40973644e-04, 7.43661140e-04, 1.51920033e-04,\n",
       "       1.00151561e-04, 1.32926999e-04, 4.72365576e-04, 2.81452232e-04,\n",
       "       2.26192268e-04, 2.14515883e-04, 3.38563270e-04, 1.25899142e-04,\n",
       "       1.29533431e-04, 2.43585441e-04, 1.91682348e-04, 9.59704953e-05,\n",
       "       4.09745706e-04, 1.22286060e-04, 1.76012985e-04, 2.35177498e-04,\n",
       "       1.01045496e-04, 2.13651639e-04, 6.04381488e-04, 2.13567845e-04,\n",
       "       6.14490666e-05, 1.90682954e-04, 1.51410764e-04, 1.39499601e-04,\n",
       "       4.86259164e-05, 7.57099360e-05, 8.18436540e-05, 6.77709643e-04,\n",
       "       7.96440712e-03, 2.06678682e-04, 2.20277719e-04, 9.98116612e-05,\n",
       "       1.91083681e-04, 1.71565689e-04, 5.80673986e-05, 2.75630717e-04,\n",
       "       4.26473139e-05, 2.45436283e-04, 1.65868164e-04, 1.29090354e-04,\n",
       "       1.63800513e-04, 3.04455247e-04, 3.22628220e-04, 1.59679689e-04,\n",
       "       1.88319026e-04, 1.78192799e-04, 4.69788701e-05, 3.25023798e-04,\n",
       "       5.55479342e-04, 1.20139961e-04, 6.00426664e-04, 2.46308554e-04,\n",
       "       1.76313040e-04, 1.42017294e-04, 3.24918294e-04, 3.23028729e-04,\n",
       "       4.30449615e-04, 1.20368065e-04, 1.90161775e-04, 2.19851340e-05,\n",
       "       1.22514749e-04, 6.54935877e-05, 7.60304415e-05, 1.92390167e-05,\n",
       "       1.10611944e-04, 1.06852377e-04, 1.00869196e-04, 2.43950106e-04,\n",
       "       6.49212419e-05, 8.98338097e-05, 5.88179303e-05, 3.05156319e-04,\n",
       "       2.26897245e-04, 1.51400292e-04, 5.66378952e-04, 1.82222225e-05,\n",
       "       4.01924006e-04, 1.04682990e-04, 1.87117044e-04, 1.33478910e-04,\n",
       "       1.20571805e-04, 1.75438142e-04, 1.81082043e-04, 1.84941069e-04,\n",
       "       2.72334616e-04, 1.46067989e-04, 3.33583966e-04, 3.68579599e-04,\n",
       "       4.88504477e-04, 1.52155191e-04, 2.33462313e-04, 8.72979020e-04,\n",
       "       5.67735230e-04, 2.33528920e-03, 1.35123561e-04, 1.23698485e-03,\n",
       "       3.89369074e-04, 2.85066139e-04, 1.37673070e-04, 3.12300457e-04,\n",
       "       1.04164487e-04, 4.50790559e-04, 3.64684325e-04, 3.33224433e-04,\n",
       "       2.64913374e-04, 3.73355908e-04, 7.78094889e-04, 3.83154228e-04,\n",
       "       1.10448816e-03, 1.48991102e-04, 7.66878970e-05, 1.16853051e-04,\n",
       "       1.55511178e-04, 1.78527200e-04, 1.37805124e-04, 7.37468653e-04,\n",
       "       5.82331026e-04, 1.14050044e-04, 2.22626420e-04, 5.35699305e-04,\n",
       "       2.37541184e-04, 7.12181437e-03, 1.55295172e-04, 2.24086163e-04,\n",
       "       3.15462288e-04, 1.43743733e-04, 8.46660505e-04, 3.64671326e-04,\n",
       "       3.21479819e-04, 2.53608124e-04, 1.94849674e-04, 2.20658554e-04,\n",
       "       4.51012448e-04, 1.46382333e-04, 2.93491903e-04, 1.12420268e-04,\n",
       "       2.67387114e-04, 4.30982133e-04, 3.17329305e-04, 4.41996715e-04,\n",
       "       3.82607745e-04, 9.81818209e-04, 1.10825403e-04, 3.02354103e-04,\n",
       "       1.41587281e-04, 6.10015034e-04, 3.30067392e-04, 3.18325833e-04,\n",
       "       2.69823877e-04, 1.23936020e-04, 1.24406663e-04, 5.06944030e-04,\n",
       "       1.91111527e-04, 3.04552159e-04, 2.69776279e-04, 7.57588954e-04,\n",
       "       8.06837864e-04, 2.56086264e-04, 1.06388633e-03, 3.70704862e-04,\n",
       "       2.31306638e-04, 4.07848505e-04, 2.23524504e-04, 4.24001607e-04,\n",
       "       1.85023723e-04, 8.60182393e-05, 2.95844675e-04, 7.51015041e-04,\n",
       "       3.48635457e-04, 2.31288467e-04, 4.95007925e-04, 1.60668882e-04,\n",
       "       3.29120132e-04, 4.83687374e-04, 1.52747990e-04, 5.95983608e-04,\n",
       "       8.39299810e-04, 2.54240937e-04, 5.70466670e-04, 1.87999004e-04,\n",
       "       1.86001384e-04, 1.83980986e-04, 4.36550544e-04, 3.47025189e-04,\n",
       "       1.01349198e-03, 1.34836335e-04, 3.37467002e-04, 1.36292977e-04,\n",
       "       2.09860827e-04, 2.63981324e-04, 2.13980196e-04, 3.90723128e-04,\n",
       "       1.54560715e-04, 1.32212188e-03, 4.63511969e-04, 1.78739029e-05,\n",
       "       2.85741819e-04, 3.01507559e-04, 3.50740822e-04, 2.01706825e-04,\n",
       "       6.61822883e-04, 7.17505600e-04, 2.48422475e-04, 1.39322530e-03,\n",
       "       2.23283880e-04, 2.93469785e-04, 2.19056370e-04, 3.92359889e-04,\n",
       "       1.78467278e-04, 2.05665576e-04, 3.04988174e-04, 9.39438166e-04,\n",
       "       8.21161698e-04, 3.78964811e-04, 2.78767515e-04, 1.10819274e-04,\n",
       "       2.64669534e-04, 3.65024816e-04, 5.42453512e-04, 1.70113334e-04,\n",
       "       6.52540159e-02, 2.51895096e-04, 5.49158574e-04, 3.07744507e-04,\n",
       "       2.96223335e-04, 4.51405900e-04, 1.41445429e-03, 1.12072323e-04,\n",
       "       1.81882719e-04, 2.60512782e-04, 3.38869956e-04, 3.66437812e-04,\n",
       "       3.34392649e-04, 5.78479543e-04, 2.06923235e-04, 8.69078504e-04,\n",
       "       1.67770702e-04, 6.32965436e-05, 2.99984109e-04, 9.56957883e-04,\n",
       "       2.90942087e-04, 4.63889116e-04, 9.02394911e-04, 1.24375238e-03,\n",
       "       3.45215199e-04, 5.50192048e-04, 4.24540891e-04, 2.24549405e-04,\n",
       "       1.09814110e-04, 3.89694662e-04, 5.83943339e-04, 3.10225989e-04,\n",
       "       1.61902144e-04, 1.82761329e-04, 9.70032443e-03, 6.06999295e-04,\n",
       "       4.69824740e-04, 2.47160359e-04, 1.94086517e-04, 3.37206884e-04,\n",
       "       2.98947732e-04, 5.85725271e-04, 1.08180824e-03, 1.76378672e-04,\n",
       "       2.60458264e-04, 3.61866594e-04, 3.05526262e-04, 2.17694071e-04,\n",
       "       1.24210860e-04, 3.81966586e-04, 1.62470072e-04, 1.44179218e-04,\n",
       "       9.36224046e-05, 3.02687138e-04, 1.01670193e-03, 2.55908887e-04,\n",
       "       1.04510367e-03, 1.45633471e-04, 2.14519822e-04, 4.15718938e-04,\n",
       "       3.36556760e-04, 3.36358828e-04, 2.57032504e-03, 2.09511857e-02,\n",
       "       9.09323659e-05, 7.88698114e-04, 1.12268479e-03, 6.57046004e-04,\n",
       "       3.21308188e-04, 1.28042302e-04, 7.16085896e-05, 3.24439746e-04,\n",
       "       1.06153813e-04, 3.36191017e-04, 3.36214279e-04, 7.69548556e-04,\n",
       "       2.50398081e-04, 4.91486962e-04, 1.30941025e-04, 1.48615343e-04,\n",
       "       5.88299574e-04, 2.25221747e-04, 1.84237788e-03, 6.86419499e-05,\n",
       "       1.31783268e-04, 5.46315670e-04, 1.49931449e-04, 2.24015688e-04,\n",
       "       1.28103452e-04, 1.93589531e-04, 2.97060016e-02, 1.44911745e-04,\n",
       "       1.57297604e-04, 1.80137280e-04, 3.15660930e-04, 2.95989075e-03,\n",
       "       4.16090821e-04, 3.80808626e-04, 1.00384911e-03, 1.53743696e-04,\n",
       "       5.15710400e-04, 5.94150805e-04, 5.54910176e-04, 3.94741531e-04,\n",
       "       1.50514075e-04, 2.12230618e-04, 1.02963997e-03, 1.81808811e-03,\n",
       "       1.59465560e-03, 5.93469940e-04, 1.57355159e-04, 6.62643128e-04,\n",
       "       1.95990562e-04, 1.34559672e-04, 1.87144266e-05, 1.41567091e-04,\n",
       "       1.25480770e-04, 3.71190556e-04, 3.17487448e-04, 7.66150345e-05,\n",
       "       5.29997240e-04, 1.98906142e-04, 1.87256832e-04, 1.73476117e-04,\n",
       "       2.47222911e-04, 3.05394348e-04, 1.10258243e-04, 1.73779292e-04,\n",
       "       2.44079524e-04, 9.86478344e-04, 2.52726235e-02, 3.95431939e-03,\n",
       "       3.93168692e-03, 2.94046176e-03, 2.04142732e-02, 1.95660563e-03,\n",
       "       8.68058058e-03, 9.99894927e-03, 2.32161288e-03, 7.15202706e-03,\n",
       "       1.26542079e-02, 2.60367730e-02, 1.13329879e-01, 1.02231452e-02,\n",
       "       4.13296695e-03, 1.60399623e-03, 3.41905061e-03, 7.17248290e-03,\n",
       "       6.20384951e-03, 3.38382721e-03, 1.65226371e-03, 4.66239688e-03,\n",
       "       6.13077496e-03, 2.45696091e-03, 3.53831549e-03, 1.29208172e-02,\n",
       "       9.71216265e-03, 7.85725952e-03, 1.70874747e-02, 3.09875979e-02,\n",
       "       4.92950468e-02, 3.08078085e-02, 7.23275691e-04, 9.79815861e-05,\n",
       "       8.54296808e-05, 4.01588083e-05, 2.78464599e-04, 3.41794129e-04,\n",
       "       1.82503048e-04, 1.20206956e-03, 3.53443781e-04, 3.36477973e-04,\n",
       "       5.04776976e-04, 1.67128254e-04, 2.54283119e-04, 5.14047907e-04,\n",
       "       2.24822657e-04, 2.64387008e-04, 2.17378681e-04, 3.15551485e-04,\n",
       "       8.33835032e-04, 1.38404180e-04, 8.26597489e-04, 1.50441932e-04,\n",
       "       3.62490995e-04, 4.62895113e-04, 5.04291654e-04, 1.93425795e-04,\n",
       "       1.13205099e-03, 2.49038306e-05, 1.83623699e-04, 7.64271935e-05,\n",
       "       6.60454345e-05, 1.05347382e-04, 9.88334939e-05, 8.29341192e-05,\n",
       "       8.28801988e-04, 4.44368523e-05, 5.44369129e-05, 1.83440813e-04,\n",
       "       1.69781731e-04, 2.94504131e-04, 1.84090411e-04, 7.66580307e-05,\n",
       "       8.27919555e-05, 9.25127380e-05, 8.36019689e-05, 3.68644654e-05,\n",
       "       1.06545326e-04, 5.47226452e-04, 1.02247379e-04, 7.64359181e-05,\n",
       "       2.02524681e-04, 4.06717354e-05, 3.23158506e-05, 6.81123792e-05,\n",
       "       5.96707228e-05, 1.36234930e-04, 4.11258598e-03, 4.84709029e-04,\n",
       "       2.80900328e-04, 2.03035742e-04, 1.71768714e-04, 3.34909560e-04,\n",
       "       2.24295745e-04, 8.36909847e-05, 1.94483332e-04, 6.93026553e-05,\n",
       "       1.11819071e-04, 6.38698739e-05, 3.19959647e-04, 8.04258777e-05,\n",
       "       8.93573713e-05, 7.08373525e-05, 5.76539886e-04, 1.66702454e-04,\n",
       "       8.61619124e-05, 7.97331160e-04, 3.49159636e-04, 4.78202752e-04,\n",
       "       3.26502547e-04, 5.06631041e-04, 4.37998796e-04, 3.46399148e-04,\n",
       "       1.16895615e-04, 1.60010924e-04, 1.39494436e-04, 1.73181659e-04,\n",
       "       2.05066974e-04, 2.19939558e-04, 2.96078290e-04, 1.57145943e-03,\n",
       "       5.63479953e-04, 6.50185798e-04, 4.51968919e-04, 9.55046489e-04,\n",
       "       9.48660096e-04, 6.56382612e-04, 2.97426015e-04, 4.37009796e-04,\n",
       "       5.16902779e-04, 5.54701919e-04, 3.11385706e-04, 3.72786649e-04,\n",
       "       1.48324061e-04, 1.71582697e-03, 3.69380614e-04, 1.88632540e-03,\n",
       "       6.48619684e-04, 1.05702051e-03, 6.20677869e-04, 9.16467495e-04,\n",
       "       1.10869869e-03, 5.00631741e-04, 4.15835993e-04, 6.26442550e-04,\n",
       "       3.16606604e-02, 3.73369974e-03, 1.34908345e-03, 1.73683712e-03,\n",
       "       9.91692500e-04, 2.53135508e-03, 3.51686126e-03, 2.88087952e-04,\n",
       "       7.37648545e-04, 1.51458170e-04, 2.91043429e-05, 2.93956821e-04,\n",
       "       5.73728740e-04, 5.83245200e-03, 3.29823412e-03, 4.99817791e-03,\n",
       "       2.66790591e-04, 6.23850183e-05, 9.39282398e-05, 1.97590580e-04,\n",
       "       1.51813505e-04, 6.14083266e-04, 5.44744760e-03, 1.77833099e-02,\n",
       "       3.58485491e-03, 2.90333292e-05, 1.32266166e-04, 4.56317842e-04,\n",
       "       5.46973548e-03, 5.21176566e-05, 7.18613702e-05, 1.81346891e-04,\n",
       "       4.25373486e-04, 2.55162829e-04, 1.87852403e-04, 7.08552918e-05,\n",
       "       2.17288879e-04, 7.26187736e-05, 1.64155615e-04, 1.98997656e-04,\n",
       "       7.02133022e-05, 1.99110232e-04, 1.79341476e-04, 1.85803033e-04,\n",
       "       1.57711732e-04, 3.61644678e-04, 2.42813957e-04, 2.78659550e-04,\n",
       "       2.28406848e-04, 4.90491204e-04, 3.83822324e-04, 5.49203156e-04,\n",
       "       4.46169592e-04, 5.46491213e-04, 1.21918302e-03, 2.12144867e-02,\n",
       "       1.41840167e-04])"
      ]
     },
     "execution_count": 67,
     "metadata": {},
     "output_type": "execute_result"
    }
   ],
   "source": [
    "selection.feature_importances_"
   ]
  },
  {
   "cell_type": "code",
   "execution_count": 69,
   "id": "9fbf652a",
   "metadata": {},
   "outputs": [
    {
     "data": {
      "image/png": "[encoded data removed]",
      "text/plain": [
       "<Figure size 864x432 with 1 Axes>"
      ]
     },
     "metadata": {
      "needs_background": "light"
     },
     "output_type": "display_data"
    }
   ],
   "source": [
    "plt.figure(figsize = (12,6))\n",
    "feat_import = pd.Series(selection.feature_importances_, index = X.columns)\n",
    "feat_import.nlargest(20).plot(kind='barh')\n",
    "plt.show()"
   ]
  },
  {
   "cell_type": "code",
   "execution_count": null,
   "id": "1e67c823",
   "metadata": {},
   "outputs": [],
   "source": []
  }
 ],
 "metadata": {
  "kernelspec": {
   "display_name": "Python 3",
   "language": "python",
   "name": "python3"
  },
  "language_info": {
   "codemirror_mode": {
    "name": "ipython",
    "version": 3
   },
   "file_extension": ".py",
   "mimetype": "text/x-python",
   "name": "python",
   "nbconvert_exporter": "python",
   "pygments_lexer": "ipython3",
   "version": "3.8.8"
  }
 },
 "nbformat": 4,
 "nbformat_minor": 5
}
