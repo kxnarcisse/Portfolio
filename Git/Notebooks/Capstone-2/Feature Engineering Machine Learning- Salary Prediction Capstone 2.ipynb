{
 "cells": [
  {
   "cell_type": "markdown",
   "id": "ccf9abd6",
   "metadata": {},
   "source": [
    "### Feature Engineering - Machine Learning Modeling - Capstone 2"
   ]
  },
  {
   "cell_type": "code",
   "execution_count": 1,
   "id": "65bb3493",
   "metadata": {},
   "outputs": [],
   "source": [
    "#make sure that data is ready for modeling\n",
    "#create any new features needed to potentially enhance model"
   ]
  },
  {
   "cell_type": "markdown",
   "id": "53aedd08",
   "metadata": {},
   "source": [
    "### Load Libraries"
   ]
  },
  {
   "cell_type": "code",
   "execution_count": 2,
   "id": "9fabea6a",
   "metadata": {},
   "outputs": [],
   "source": [
    "import pandas as pd\n",
    "import numpy as np\n",
    "import missingno as msno\n",
    "import matplotlib.pyplot as plt\n",
    "import statistics as st\n",
    "import seaborn as sns\n",
    "import os\n",
    "import statsmodels.api as sm\n",
    "import scipy.stats as ss\n",
    "import itertools\n",
    "from sklearn.model_selection import train_test_split\n",
    "from sklearn.model_selection import cross_val_score\n",
    "from sklearn.model_selection import GridSearchCV, RandomizedSearchCV\n",
    "from sklearn.preprocessing import MinMaxScaler"
   ]
  },
  {
   "cell_type": "code",
   "execution_count": 3,
   "id": "3e339db7",
   "metadata": {},
   "outputs": [],
   "source": [
    "train_data = pd.read_csv('Train_rev1.csv')"
   ]
  },
  {
   "cell_type": "markdown",
   "id": "0c7b4e7a",
   "metadata": {},
   "source": [
    "### Clean-up"
   ]
  },
  {
   "cell_type": "code",
   "execution_count": 4,
   "id": "eb2cde14",
   "metadata": {},
   "outputs": [],
   "source": [
    "def scrub_data(data, columns, axis, vals, names):\n",
    "    #drop useless columns\n",
    "    data = data.drop(columns, axis = 1)\n",
    "    #detect the missing data\n",
    "    missingcounts = data.isnull().sum()\n",
    "    missingcols = [col for col in missingcounts.keys() if missingcounts[col] != 0]\n",
    "    #fill the missing data with specific values\n",
    "    values = dict(zip(missingcols, vals))\n",
    "    data = data.fillna(value = values)\n",
    "    #rename the columns\n",
    "    data.columns = names\n",
    "    return data"
   ]
  },
  {
   "cell_type": "code",
   "execution_count": 5,
   "id": "b19133fd",
   "metadata": {},
   "outputs": [],
   "source": [
    "#fill missing data for \"ContractType\", \"ContractTime\", \"Company\" with Unknown\n",
    "train_data = train_data.fillna(\"Unknown\")\n",
    "\n",
    "#rename the columns\n",
    "names = [\"Job Code\", \"Title\", \"Job Description\", \"Region\", \"Location\", \"ContractType\", \"ContractTime\", \"Company\", \"Category\", \"Salary_Range\", \"Salary\",\"Source_Name\"]\n",
    "train_data.columns = names\n"
   ]
  },
  {
   "cell_type": "code",
   "execution_count": 6,
   "id": "9b363fd6",
   "metadata": {},
   "outputs": [
    {
     "name": "stdout",
     "output_type": "stream",
     "text": [
      "<class 'pandas.core.frame.DataFrame'>\n",
      "RangeIndex: 244768 entries, 0 to 244767\n",
      "Data columns (total 12 columns):\n",
      " #   Column           Non-Null Count   Dtype \n",
      "---  ------           --------------   ----- \n",
      " 0   Job Code         244768 non-null  int64 \n",
      " 1   Title            244768 non-null  object\n",
      " 2   Job Description  244768 non-null  object\n",
      " 3   Region           244768 non-null  object\n",
      " 4   Location         244768 non-null  object\n",
      " 5   ContractType     244768 non-null  object\n",
      " 6   ContractTime     244768 non-null  object\n",
      " 7   Company          244768 non-null  object\n",
      " 8   Category         244768 non-null  object\n",
      " 9   Salary_Range     244768 non-null  object\n",
      " 10  Salary           244768 non-null  int64 \n",
      " 11  Source_Name      244768 non-null  object\n",
      "dtypes: int64(2), object(10)\n",
      "memory usage: 22.4+ MB\n"
     ]
    }
   ],
   "source": [
    "train_data.info()"
   ]
  },
  {
   "cell_type": "markdown",
   "id": "6c3c4aa4",
   "metadata": {},
   "source": [
    "#### Features for Categorical variables"
   ]
  },
  {
   "cell_type": "code",
   "execution_count": 7,
   "id": "132cc083",
   "metadata": {},
   "outputs": [],
   "source": [
    "num_variables = ['Job Code','Salary']\n",
    "cat_variables = ['Title', 'Job Description', 'Region', 'Location',\n",
    "       'ContractType', 'ContractTime', 'Company', 'Category', 'Salary_Range', 'Source_Name']\n",
    "feat_variables = ['Category', 'ContractTime','ContractType','Salary']"
   ]
  },
  {
   "cell_type": "markdown",
   "id": "03544e01",
   "metadata": {},
   "source": [
    "#### \"Job Code\" Column"
   ]
  },
  {
   "cell_type": "code",
   "execution_count": 8,
   "id": "0b506476",
   "metadata": {},
   "outputs": [],
   "source": [
    "tit0 = train_data[\"Job Code\"].value_counts()"
   ]
  },
  {
   "cell_type": "code",
   "execution_count": 9,
   "id": "a4863aac",
   "metadata": {},
   "outputs": [],
   "source": [
    "lst0 = tit0[tit0 >= 100].index.tolist()"
   ]
  },
  {
   "cell_type": "code",
   "execution_count": 10,
   "id": "43eb1390",
   "metadata": {},
   "outputs": [],
   "source": [
    "train_data.loc[~train_data[\"Job Code\"].isin(lst0), \"Job Code\"] = \"Other\""
   ]
  },
  {
   "cell_type": "markdown",
   "id": "70dee7bc",
   "metadata": {},
   "source": [
    "#### Title Column"
   ]
  },
  {
   "cell_type": "code",
   "execution_count": 11,
   "id": "8c8e9f92",
   "metadata": {},
   "outputs": [
    {
     "data": {
      "text/plain": [
       "Title                            \n",
       "Business Development Manager         921\n",
       "Project Manager                      749\n",
       "Management Accountant                661\n",
       "Sales Executive                      603\n",
       "Account Manager                      540\n",
       "                                    ... \n",
       "HR Advisor  FTC ****m                  1\n",
       "HR Advisor  Employee Relations         1\n",
       "HR Advisor  ER Specialist  Retail      1\n",
       "HR Advisor  BRISTOL                    1\n",
       "﻿Call Centre Sales Operative           1\n",
       "Length: 135436, dtype: int64"
      ]
     },
     "execution_count": 11,
     "metadata": {},
     "output_type": "execute_result"
    }
   ],
   "source": [
    "train_data[[\"Title\"]].value_counts()"
   ]
  },
  {
   "cell_type": "code",
   "execution_count": 12,
   "id": "7be89b87",
   "metadata": {},
   "outputs": [],
   "source": [
    "tit1 = train_data[\"Title\"].value_counts()"
   ]
  },
  {
   "cell_type": "code",
   "execution_count": 13,
   "id": "0050718c",
   "metadata": {},
   "outputs": [],
   "source": [
    "lst1 = tit1[tit1 >= 100].index.tolist()"
   ]
  },
  {
   "cell_type": "code",
   "execution_count": 14,
   "id": "717289bb",
   "metadata": {},
   "outputs": [],
   "source": [
    "train_data.loc[~train_data[\"Title\"].isin(lst1), \"Title\"] = \"Other\""
   ]
  },
  {
   "cell_type": "markdown",
   "id": "81ded76c",
   "metadata": {},
   "source": [
    "#### Job Description Column"
   ]
  },
  {
   "cell_type": "code",
   "execution_count": 15,
   "id": "f23a0067",
   "metadata": {},
   "outputs": [
    {
     "data": {
      "text/plain": [
       "Job Description                                                                                                                                                                                                                                                                                                                                                                                                                                                                                                                                                                                                                                                                                                                                                                                                                                                                                                                                                                                                                                                                                                                                                                                                                                                                                                                                                                                                                                                                                                                                                                                                                                                                                                                                                                                                                                                                                                                                                                                                                                                                                                                                                                                                                                                                                                                                                                                                                                                                                                                                                                                                                                                                                                                                                                                                                                                                                                                                                                                                                                                                                                                                                               \n",
       "What is expected of you as a Registered Nurse (RGN)? You are responsible to provide and supervise the delivery of high quality nursing care to residents in accordance with up to date, evidencebased professional practice and company policies. You will be responsible for leading a multidisciplinary team, supervising, training and developing care staff in providing the best quality of care to the people we support. The desire to learn and the ability to inspire your team is therefore essential. Our full time shift patterns range **** to 48 hours per week. You will be a Qualified Registered Nurse (RGN) and be registered with the NMC. Why join Barchester as a Registered Nurse (RGN)? As market leaders we place our residents first  and our people are the best. You will benefit from a wealth of experience and as a company that places a great emphasis on investing in their people; you will have the opportunity for both personal and professional development. Barchester has its own Learning and Development Academy, giving you the freedom to develop professionally and create your own career pathway  it's just a case of high do you want to climb? How we're different Barchester offers a range of diverse services, from nursing and care services for older people and people living with dementia, to accommodation, supported living and community support for children and adults with a range of different disabilities. With exposure to so many different areas of nursing, you will have the opportunity to build on your clinical skills or focus on a specialist area. Many companies offer management programmes for those already in management positions, with most nurses expected to oversee staff or resources with no management training. Barchester, however, offers management development to staff throughout their careers. These programmes ensure that all staff, particularly nurses, are constantly supported to develop their skills. Benefits include: • Competitive rates of pay • Access to a structured career development path and award winning training via the Barchester Business School which offer a range of training from NVQs to Masters Degrees • Free uniform • Generous Annual Leave Allowance • Employer contribution to a Stakeholder pension plan • Access to Barchester's Shopping Club for hundreds of savings from retail outlets also access to 'Busy Bees' Child Care Vouchers Scheme • Subsidised health and personal accident insurance • Long Service Awards • Great working environment • Employee help line to support staff in times of need Am I the right person to work for Barchester? A sound understanding of the Care Standards together with a Nursing qualification (RGN) and current NMC registration are essential for this role. Nurses straight from training can join us to develop their clinical skills, or perhaps you're retired or a working parent or perhaps looking for a second income. We offer flexible shifts including part time and bank hours to suit your individual lifestyle. • NMC  Nursing Midwifery Council  www(dot)nmcuk(dot)org    18\n",
       "dtype: int64"
      ]
     },
     "execution_count": 15,
     "metadata": {},
     "output_type": "execute_result"
    }
   ],
   "source": [
    "train_data[[\"Job Description\"]].value_counts()[:1]"
   ]
  },
  {
   "cell_type": "code",
   "execution_count": 16,
   "id": "0b086e44",
   "metadata": {},
   "outputs": [],
   "source": [
    "tit2 = train_data[\"Job Description\"].value_counts()"
   ]
  },
  {
   "cell_type": "code",
   "execution_count": 17,
   "id": "2e62972a",
   "metadata": {},
   "outputs": [],
   "source": [
    "lst2 = tit2[tit2 >= 100].index.tolist()"
   ]
  },
  {
   "cell_type": "code",
   "execution_count": 18,
   "id": "1f240ff7",
   "metadata": {},
   "outputs": [],
   "source": [
    "train_data.loc[~train_data[\"Job Description\"].isin(lst2), \"Job Description\"] = \"Other\""
   ]
  },
  {
   "cell_type": "markdown",
   "id": "f6e93c3c",
   "metadata": {},
   "source": [
    "#### Region Column"
   ]
  },
  {
   "cell_type": "code",
   "execution_count": 19,
   "id": "8e2b1856",
   "metadata": {},
   "outputs": [
    {
     "data": {
      "text/plain": [
       "Region                          \n",
       "London                              15605\n",
       "London South East                    8689\n",
       "UK                                   5538\n",
       "City London South East               2843\n",
       "City of London - London              2344\n",
       "West Midlands                        2263\n",
       "City of London                       2200\n",
       "Manchester Lancashire North West     1887\n",
       "Birmingham                           1879\n",
       "Central London                       1714\n",
       "dtype: int64"
      ]
     },
     "execution_count": 19,
     "metadata": {},
     "output_type": "execute_result"
    }
   ],
   "source": [
    "train_data[[\"Region\"]].value_counts()[:10]"
   ]
  },
  {
   "cell_type": "code",
   "execution_count": 20,
   "id": "edd36422",
   "metadata": {},
   "outputs": [],
   "source": [
    "tit3 = train_data[\"Region\"].value_counts()"
   ]
  },
  {
   "cell_type": "code",
   "execution_count": 21,
   "id": "ab29a41e",
   "metadata": {},
   "outputs": [],
   "source": [
    "lst3 = tit3[tit3 >= 100].index.tolist()"
   ]
  },
  {
   "cell_type": "code",
   "execution_count": 22,
   "id": "1ee0d0a0",
   "metadata": {},
   "outputs": [],
   "source": [
    "train_data.loc[~train_data[\"Region\"].isin(lst3), \"Region\"] = \"Other\""
   ]
  },
  {
   "cell_type": "markdown",
   "id": "4dff9e6e",
   "metadata": {},
   "source": [
    "#### Location Column"
   ]
  },
  {
   "cell_type": "code",
   "execution_count": 23,
   "id": "b8b96a49",
   "metadata": {},
   "outputs": [
    {
     "data": {
      "text/plain": [
       "Location         \n",
       "UK                   41093\n",
       "London               30522\n",
       "South East London    11713\n",
       "The City              6678\n",
       "dtype: int64"
      ]
     },
     "execution_count": 23,
     "metadata": {},
     "output_type": "execute_result"
    }
   ],
   "source": [
    "train_data[[\"Location\"]].value_counts()[:4]"
   ]
  },
  {
   "cell_type": "code",
   "execution_count": 24,
   "id": "8669ed70",
   "metadata": {},
   "outputs": [],
   "source": [
    "tit4 = train_data[\"Location\"].value_counts()"
   ]
  },
  {
   "cell_type": "code",
   "execution_count": 25,
   "id": "d9bb6832",
   "metadata": {},
   "outputs": [],
   "source": [
    "lst4 = tit4[tit4 >= 100].index.tolist()"
   ]
  },
  {
   "cell_type": "code",
   "execution_count": 26,
   "id": "9fef7599",
   "metadata": {},
   "outputs": [],
   "source": [
    "train_data.loc[~train_data[\"Location\"].isin(lst4), \"Location\"] = \"Other\""
   ]
  },
  {
   "cell_type": "markdown",
   "id": "5c18afce",
   "metadata": {},
   "source": [
    "#### ContractType Column"
   ]
  },
  {
   "cell_type": "code",
   "execution_count": 27,
   "id": "0c81a289",
   "metadata": {},
   "outputs": [
    {
     "data": {
      "text/plain": [
       "ContractType\n",
       "Unknown         179326\n",
       "full_time        57538\n",
       "part_time         7904\n",
       "dtype: int64"
      ]
     },
     "execution_count": 27,
     "metadata": {},
     "output_type": "execute_result"
    }
   ],
   "source": [
    "train_data[[\"ContractType\"]].value_counts()[:4]"
   ]
  },
  {
   "cell_type": "code",
   "execution_count": 28,
   "id": "e9359694",
   "metadata": {},
   "outputs": [],
   "source": [
    "tit5 = train_data[\"ContractType\"].value_counts()"
   ]
  },
  {
   "cell_type": "code",
   "execution_count": 29,
   "id": "740eedb5",
   "metadata": {},
   "outputs": [],
   "source": [
    "lst5 = tit5[tit5 >= 100].index.tolist()"
   ]
  },
  {
   "cell_type": "code",
   "execution_count": 30,
   "id": "7c371578",
   "metadata": {},
   "outputs": [],
   "source": [
    "train_data.loc[~train_data[\"ContractType\"].isin(lst5), \"ContractType\"] = \"Other\""
   ]
  },
  {
   "cell_type": "markdown",
   "id": "4df05ff0",
   "metadata": {},
   "source": [
    "#### ContractTime Column"
   ]
  },
  {
   "cell_type": "code",
   "execution_count": 31,
   "id": "4d39dc58",
   "metadata": {},
   "outputs": [
    {
     "data": {
      "text/plain": [
       "ContractTime\n",
       "permanent       151521\n",
       "Unknown          63905\n",
       "contract         29342\n",
       "dtype: int64"
      ]
     },
     "execution_count": 31,
     "metadata": {},
     "output_type": "execute_result"
    }
   ],
   "source": [
    "train_data[[\"ContractTime\"]].value_counts()[:4]"
   ]
  },
  {
   "cell_type": "code",
   "execution_count": 32,
   "id": "cbcc7726",
   "metadata": {},
   "outputs": [],
   "source": [
    "tit6 = train_data[\"ContractTime\"].value_counts()"
   ]
  },
  {
   "cell_type": "code",
   "execution_count": 33,
   "id": "a3e2ea68",
   "metadata": {},
   "outputs": [],
   "source": [
    "lst6 = tit6[tit6 >= 100].index.tolist()"
   ]
  },
  {
   "cell_type": "code",
   "execution_count": 34,
   "id": "a6ba994c",
   "metadata": {},
   "outputs": [],
   "source": [
    "train_data.loc[~train_data[\"ContractTime\"].isin(lst6), \"ContractTime\"] = \"Other\""
   ]
  },
  {
   "cell_type": "markdown",
   "id": "1c262abd",
   "metadata": {},
   "source": [
    "#### Company Column"
   ]
  },
  {
   "cell_type": "code",
   "execution_count": 35,
   "id": "8f8ff0b8",
   "metadata": {},
   "outputs": [
    {
     "data": {
      "text/plain": [
       "Company      \n",
       "Unknown          32434\n",
       "UKStaffsearch     4997\n",
       "CVbrowser         2977\n",
       "London4Jobs       2345\n",
       "dtype: int64"
      ]
     },
     "execution_count": 35,
     "metadata": {},
     "output_type": "execute_result"
    }
   ],
   "source": [
    "train_data[[\"Company\"]].value_counts()[:4]"
   ]
  },
  {
   "cell_type": "code",
   "execution_count": 36,
   "id": "4c2047c2",
   "metadata": {},
   "outputs": [],
   "source": [
    "tit7 = train_data[\"Company\"].value_counts()"
   ]
  },
  {
   "cell_type": "code",
   "execution_count": 37,
   "id": "7cb8675e",
   "metadata": {},
   "outputs": [],
   "source": [
    "lst7 = tit7[tit7 >= 100].index.tolist()"
   ]
  },
  {
   "cell_type": "code",
   "execution_count": 38,
   "id": "84f7db25",
   "metadata": {},
   "outputs": [],
   "source": [
    "train_data.loc[~train_data[\"Company\"].isin(lst7), \"Company\"] = \"Other\""
   ]
  },
  {
   "cell_type": "markdown",
   "id": "6412b46f",
   "metadata": {},
   "source": [
    "#### Category Column"
   ]
  },
  {
   "cell_type": "code",
   "execution_count": 39,
   "id": "277ca62d",
   "metadata": {},
   "outputs": [
    {
     "data": {
      "text/plain": [
       "Category                 \n",
       "IT Jobs                      38483\n",
       "Engineering Jobs             25174\n",
       "Accounting & Finance Jobs    21846\n",
       "Healthcare & Nursing Jobs    21076\n",
       "dtype: int64"
      ]
     },
     "execution_count": 39,
     "metadata": {},
     "output_type": "execute_result"
    }
   ],
   "source": [
    "train_data[[\"Category\"]].value_counts()[:4]"
   ]
  },
  {
   "cell_type": "code",
   "execution_count": 40,
   "id": "a3357bc1",
   "metadata": {},
   "outputs": [],
   "source": [
    "tit8 = train_data[\"Category\"].value_counts()"
   ]
  },
  {
   "cell_type": "code",
   "execution_count": 41,
   "id": "c067508a",
   "metadata": {},
   "outputs": [],
   "source": [
    "lst8 = tit8[tit8 >= 100].index.tolist()"
   ]
  },
  {
   "cell_type": "code",
   "execution_count": 42,
   "id": "e6685531",
   "metadata": {},
   "outputs": [],
   "source": [
    "train_data.loc[~train_data[\"Category\"].isin(lst8), \"Category\"] = \"Other\""
   ]
  },
  {
   "cell_type": "markdown",
   "id": "ce21ad5e",
   "metadata": {},
   "source": [
    "#### Salary Range Column"
   ]
  },
  {
   "cell_type": "code",
   "execution_count": 43,
   "id": "8c5ef72a",
   "metadata": {},
   "outputs": [
    {
     "data": {
      "text/plain": [
       "Salary_Range        \n",
       "50,000-74,999 yearly    1923\n",
       "35000                    868\n",
       "40000                    834\n",
       "45000                    764\n",
       "dtype: int64"
      ]
     },
     "execution_count": 43,
     "metadata": {},
     "output_type": "execute_result"
    }
   ],
   "source": [
    "train_data[[\"Salary_Range\"]].value_counts()[:4]"
   ]
  },
  {
   "cell_type": "code",
   "execution_count": 44,
   "id": "b0dd88a6",
   "metadata": {},
   "outputs": [],
   "source": [
    "tit9 = train_data[\"Salary_Range\"].value_counts()"
   ]
  },
  {
   "cell_type": "code",
   "execution_count": 45,
   "id": "b90bbbd6",
   "metadata": {},
   "outputs": [],
   "source": [
    "lst9 = tit9[tit9 >= 100].index.tolist()"
   ]
  },
  {
   "cell_type": "code",
   "execution_count": 46,
   "id": "f6c04076",
   "metadata": {},
   "outputs": [],
   "source": [
    "train_data.loc[~train_data[\"Salary_Range\"].isin(lst9), \"Salary_Range\"] = \"Other\""
   ]
  },
  {
   "cell_type": "markdown",
   "id": "6f07d40b",
   "metadata": {},
   "source": [
    "#### Source_Name Column"
   ]
  },
  {
   "cell_type": "code",
   "execution_count": 47,
   "id": "30f90641",
   "metadata": {},
   "outputs": [
    {
     "data": {
      "text/plain": [
       "Source_Name     \n",
       "totaljobs.com       48149\n",
       "cv-library.co.uk    34279\n",
       "Jobcentre Plus      17929\n",
       "jobsite.co.uk       12225\n",
       "dtype: int64"
      ]
     },
     "execution_count": 47,
     "metadata": {},
     "output_type": "execute_result"
    }
   ],
   "source": [
    "train_data[[\"Source_Name\"]].value_counts()[:4]"
   ]
  },
  {
   "cell_type": "code",
   "execution_count": 48,
   "id": "f8c76ef1",
   "metadata": {},
   "outputs": [],
   "source": [
    "tit10 = train_data[\"Source_Name\"].value_counts()"
   ]
  },
  {
   "cell_type": "code",
   "execution_count": 49,
   "id": "05e744b0",
   "metadata": {},
   "outputs": [],
   "source": [
    "lst10 = tit10[tit10 >= 100].index.tolist()"
   ]
  },
  {
   "cell_type": "code",
   "execution_count": 50,
   "id": "aa1e0a3b",
   "metadata": {},
   "outputs": [],
   "source": [
    "train_data.loc[~train_data[\"Source_Name\"].isin(lst10), \"Source_Name\"] = \"Other\""
   ]
  },
  {
   "cell_type": "markdown",
   "id": "91ec7b5a",
   "metadata": {},
   "source": [
    "#### Explore Changes"
   ]
  },
  {
   "cell_type": "code",
   "execution_count": 51,
   "id": "d40b8296",
   "metadata": {},
   "outputs": [
    {
     "data": {
      "text/html": [
       "<div>\n",
       "<style scoped>\n",
       "    .dataframe tbody tr th:only-of-type {\n",
       "        vertical-align: middle;\n",
       "    }\n",
       "\n",
       "    .dataframe tbody tr th {\n",
       "        vertical-align: top;\n",
       "    }\n",
       "\n",
       "    .dataframe thead th {\n",
       "        text-align: right;\n",
       "    }\n",
       "</style>\n",
       "<table border=\"1\" class=\"dataframe\">\n",
       "  <thead>\n",
       "    <tr style=\"text-align: right;\">\n",
       "      <th></th>\n",
       "      <th>Job Code</th>\n",
       "      <th>Title</th>\n",
       "      <th>Job Description</th>\n",
       "      <th>Region</th>\n",
       "      <th>Location</th>\n",
       "      <th>ContractType</th>\n",
       "      <th>ContractTime</th>\n",
       "      <th>Company</th>\n",
       "      <th>Category</th>\n",
       "      <th>Salary_Range</th>\n",
       "      <th>Salary</th>\n",
       "      <th>Source_Name</th>\n",
       "    </tr>\n",
       "  </thead>\n",
       "  <tbody>\n",
       "    <tr>\n",
       "      <th>0</th>\n",
       "      <td>Other</td>\n",
       "      <td>Other</td>\n",
       "      <td>Other</td>\n",
       "      <td>Other</td>\n",
       "      <td>Dorking</td>\n",
       "      <td>Unknown</td>\n",
       "      <td>permanent</td>\n",
       "      <td>Other</td>\n",
       "      <td>Engineering Jobs</td>\n",
       "      <td>Other</td>\n",
       "      <td>25000</td>\n",
       "      <td>cv-library.co.uk</td>\n",
       "    </tr>\n",
       "    <tr>\n",
       "      <th>1</th>\n",
       "      <td>Other</td>\n",
       "      <td>Other</td>\n",
       "      <td>Other</td>\n",
       "      <td>Other</td>\n",
       "      <td>Glasgow</td>\n",
       "      <td>Unknown</td>\n",
       "      <td>permanent</td>\n",
       "      <td>Other</td>\n",
       "      <td>Engineering Jobs</td>\n",
       "      <td>Other</td>\n",
       "      <td>30000</td>\n",
       "      <td>cv-library.co.uk</td>\n",
       "    </tr>\n",
       "    <tr>\n",
       "      <th>2</th>\n",
       "      <td>Other</td>\n",
       "      <td>Other</td>\n",
       "      <td>Other</td>\n",
       "      <td>Other</td>\n",
       "      <td>Hampshire</td>\n",
       "      <td>Unknown</td>\n",
       "      <td>permanent</td>\n",
       "      <td>Other</td>\n",
       "      <td>Engineering Jobs</td>\n",
       "      <td>Other</td>\n",
       "      <td>30000</td>\n",
       "      <td>cv-library.co.uk</td>\n",
       "    </tr>\n",
       "    <tr>\n",
       "      <th>3</th>\n",
       "      <td>Other</td>\n",
       "      <td>Other</td>\n",
       "      <td>Other</td>\n",
       "      <td>Other</td>\n",
       "      <td>Surrey</td>\n",
       "      <td>Unknown</td>\n",
       "      <td>permanent</td>\n",
       "      <td>Other</td>\n",
       "      <td>Engineering Jobs</td>\n",
       "      <td>Other</td>\n",
       "      <td>27500</td>\n",
       "      <td>cv-library.co.uk</td>\n",
       "    </tr>\n",
       "    <tr>\n",
       "      <th>4</th>\n",
       "      <td>Other</td>\n",
       "      <td>Other</td>\n",
       "      <td>Other</td>\n",
       "      <td>Other</td>\n",
       "      <td>Surrey</td>\n",
       "      <td>Unknown</td>\n",
       "      <td>permanent</td>\n",
       "      <td>Other</td>\n",
       "      <td>Engineering Jobs</td>\n",
       "      <td>Other</td>\n",
       "      <td>25000</td>\n",
       "      <td>cv-library.co.uk</td>\n",
       "    </tr>\n",
       "  </tbody>\n",
       "</table>\n",
       "</div>"
      ],
      "text/plain": [
       "  Job Code  Title Job Description Region   Location ContractType ContractTime  \\\n",
       "0    Other  Other           Other  Other    Dorking      Unknown    permanent   \n",
       "1    Other  Other           Other  Other    Glasgow      Unknown    permanent   \n",
       "2    Other  Other           Other  Other  Hampshire      Unknown    permanent   \n",
       "3    Other  Other           Other  Other     Surrey      Unknown    permanent   \n",
       "4    Other  Other           Other  Other     Surrey      Unknown    permanent   \n",
       "\n",
       "  Company          Category Salary_Range  Salary       Source_Name  \n",
       "0   Other  Engineering Jobs        Other   25000  cv-library.co.uk  \n",
       "1   Other  Engineering Jobs        Other   30000  cv-library.co.uk  \n",
       "2   Other  Engineering Jobs        Other   30000  cv-library.co.uk  \n",
       "3   Other  Engineering Jobs        Other   27500  cv-library.co.uk  \n",
       "4   Other  Engineering Jobs        Other   25000  cv-library.co.uk  "
      ]
     },
     "execution_count": 51,
     "metadata": {},
     "output_type": "execute_result"
    }
   ],
   "source": [
    "train_data.head()"
   ]
  },
  {
   "cell_type": "markdown",
   "id": "716af176",
   "metadata": {},
   "source": [
    "#### Feature Selection & Get dummies"
   ]
  },
  {
   "cell_type": "code",
   "execution_count": 52,
   "id": "7ca4cb4c",
   "metadata": {},
   "outputs": [
    {
     "data": {
      "text/html": [
       "<div>\n",
       "<style scoped>\n",
       "    .dataframe tbody tr th:only-of-type {\n",
       "        vertical-align: middle;\n",
       "    }\n",
       "\n",
       "    .dataframe tbody tr th {\n",
       "        vertical-align: top;\n",
       "    }\n",
       "\n",
       "    .dataframe thead th {\n",
       "        text-align: right;\n",
       "    }\n",
       "</style>\n",
       "<table border=\"1\" class=\"dataframe\">\n",
       "  <thead>\n",
       "    <tr style=\"text-align: right;\">\n",
       "      <th></th>\n",
       "      <th>Region_Aberdeen Aberdeenshire Scotland</th>\n",
       "      <th>Region_Aberdeen,</th>\n",
       "      <th>Region_Aberdeen, Scotland</th>\n",
       "      <th>Region_Aberdeen, UK</th>\n",
       "      <th>Region_Abingdon Oxfordshire South East</th>\n",
       "      <th>Region_Avon</th>\n",
       "      <th>Region_Aylesbury</th>\n",
       "      <th>Region_Aylesbury Buckinghamshire South East</th>\n",
       "      <th>Region_BIRMINGHAM</th>\n",
       "      <th>Region_Banbury Oxfordshire South East</th>\n",
       "      <th>...</th>\n",
       "      <th>Salary_Range_From 35,000 to 45,000 per annum</th>\n",
       "      <th>Salary_Range_From 35,000 to 45,000 per year</th>\n",
       "      <th>Salary_Range_From 40,000 to 45,000 per annum</th>\n",
       "      <th>Salary_Range_From 40,000 to 45,000 per year</th>\n",
       "      <th>Salary_Range_From 40,000 to 50,000 per annum</th>\n",
       "      <th>Salary_Range_From 40,000 to 50,000 per year</th>\n",
       "      <th>Salary_Range_From 45,000 to 50,000 per year</th>\n",
       "      <th>Salary_Range_From 50,000 to 60,000 per year</th>\n",
       "      <th>Salary_Range_Other</th>\n",
       "      <th>Salary_Range_Up to 34,200 Annual</th>\n",
       "    </tr>\n",
       "  </thead>\n",
       "  <tbody>\n",
       "    <tr>\n",
       "      <th>0</th>\n",
       "      <td>0</td>\n",
       "      <td>0</td>\n",
       "      <td>0</td>\n",
       "      <td>0</td>\n",
       "      <td>0</td>\n",
       "      <td>0</td>\n",
       "      <td>0</td>\n",
       "      <td>0</td>\n",
       "      <td>0</td>\n",
       "      <td>0</td>\n",
       "      <td>...</td>\n",
       "      <td>0</td>\n",
       "      <td>0</td>\n",
       "      <td>0</td>\n",
       "      <td>0</td>\n",
       "      <td>0</td>\n",
       "      <td>0</td>\n",
       "      <td>0</td>\n",
       "      <td>0</td>\n",
       "      <td>1</td>\n",
       "      <td>0</td>\n",
       "    </tr>\n",
       "    <tr>\n",
       "      <th>1</th>\n",
       "      <td>0</td>\n",
       "      <td>0</td>\n",
       "      <td>0</td>\n",
       "      <td>0</td>\n",
       "      <td>0</td>\n",
       "      <td>0</td>\n",
       "      <td>0</td>\n",
       "      <td>0</td>\n",
       "      <td>0</td>\n",
       "      <td>0</td>\n",
       "      <td>...</td>\n",
       "      <td>0</td>\n",
       "      <td>0</td>\n",
       "      <td>0</td>\n",
       "      <td>0</td>\n",
       "      <td>0</td>\n",
       "      <td>0</td>\n",
       "      <td>0</td>\n",
       "      <td>0</td>\n",
       "      <td>1</td>\n",
       "      <td>0</td>\n",
       "    </tr>\n",
       "    <tr>\n",
       "      <th>2</th>\n",
       "      <td>0</td>\n",
       "      <td>0</td>\n",
       "      <td>0</td>\n",
       "      <td>0</td>\n",
       "      <td>0</td>\n",
       "      <td>0</td>\n",
       "      <td>0</td>\n",
       "      <td>0</td>\n",
       "      <td>0</td>\n",
       "      <td>0</td>\n",
       "      <td>...</td>\n",
       "      <td>0</td>\n",
       "      <td>0</td>\n",
       "      <td>0</td>\n",
       "      <td>0</td>\n",
       "      <td>0</td>\n",
       "      <td>0</td>\n",
       "      <td>0</td>\n",
       "      <td>0</td>\n",
       "      <td>1</td>\n",
       "      <td>0</td>\n",
       "    </tr>\n",
       "    <tr>\n",
       "      <th>3</th>\n",
       "      <td>0</td>\n",
       "      <td>0</td>\n",
       "      <td>0</td>\n",
       "      <td>0</td>\n",
       "      <td>0</td>\n",
       "      <td>0</td>\n",
       "      <td>0</td>\n",
       "      <td>0</td>\n",
       "      <td>0</td>\n",
       "      <td>0</td>\n",
       "      <td>...</td>\n",
       "      <td>0</td>\n",
       "      <td>0</td>\n",
       "      <td>0</td>\n",
       "      <td>0</td>\n",
       "      <td>0</td>\n",
       "      <td>0</td>\n",
       "      <td>0</td>\n",
       "      <td>0</td>\n",
       "      <td>1</td>\n",
       "      <td>0</td>\n",
       "    </tr>\n",
       "    <tr>\n",
       "      <th>4</th>\n",
       "      <td>0</td>\n",
       "      <td>0</td>\n",
       "      <td>0</td>\n",
       "      <td>0</td>\n",
       "      <td>0</td>\n",
       "      <td>0</td>\n",
       "      <td>0</td>\n",
       "      <td>0</td>\n",
       "      <td>0</td>\n",
       "      <td>0</td>\n",
       "      <td>...</td>\n",
       "      <td>0</td>\n",
       "      <td>0</td>\n",
       "      <td>0</td>\n",
       "      <td>0</td>\n",
       "      <td>0</td>\n",
       "      <td>0</td>\n",
       "      <td>0</td>\n",
       "      <td>0</td>\n",
       "      <td>1</td>\n",
       "      <td>0</td>\n",
       "    </tr>\n",
       "  </tbody>\n",
       "</table>\n",
       "<p>5 rows × 849 columns</p>\n",
       "</div>"
      ],
      "text/plain": [
       "   Region_Aberdeen Aberdeenshire Scotland  Region_Aberdeen,  \\\n",
       "0                                       0                 0   \n",
       "1                                       0                 0   \n",
       "2                                       0                 0   \n",
       "3                                       0                 0   \n",
       "4                                       0                 0   \n",
       "\n",
       "   Region_Aberdeen, Scotland  Region_Aberdeen, UK  \\\n",
       "0                          0                    0   \n",
       "1                          0                    0   \n",
       "2                          0                    0   \n",
       "3                          0                    0   \n",
       "4                          0                    0   \n",
       "\n",
       "   Region_Abingdon Oxfordshire South East  Region_Avon  Region_Aylesbury  \\\n",
       "0                                       0            0                 0   \n",
       "1                                       0            0                 0   \n",
       "2                                       0            0                 0   \n",
       "3                                       0            0                 0   \n",
       "4                                       0            0                 0   \n",
       "\n",
       "   Region_Aylesbury Buckinghamshire South East  Region_BIRMINGHAM  \\\n",
       "0                                            0                  0   \n",
       "1                                            0                  0   \n",
       "2                                            0                  0   \n",
       "3                                            0                  0   \n",
       "4                                            0                  0   \n",
       "\n",
       "   Region_Banbury Oxfordshire South East  ...  \\\n",
       "0                                      0  ...   \n",
       "1                                      0  ...   \n",
       "2                                      0  ...   \n",
       "3                                      0  ...   \n",
       "4                                      0  ...   \n",
       "\n",
       "   Salary_Range_From 35,000 to 45,000 per annum  \\\n",
       "0                                             0   \n",
       "1                                             0   \n",
       "2                                             0   \n",
       "3                                             0   \n",
       "4                                             0   \n",
       "\n",
       "   Salary_Range_From 35,000 to 45,000 per year  \\\n",
       "0                                            0   \n",
       "1                                            0   \n",
       "2                                            0   \n",
       "3                                            0   \n",
       "4                                            0   \n",
       "\n",
       "   Salary_Range_From 40,000 to 45,000 per annum  \\\n",
       "0                                             0   \n",
       "1                                             0   \n",
       "2                                             0   \n",
       "3                                             0   \n",
       "4                                             0   \n",
       "\n",
       "   Salary_Range_From 40,000 to 45,000 per year  \\\n",
       "0                                            0   \n",
       "1                                            0   \n",
       "2                                            0   \n",
       "3                                            0   \n",
       "4                                            0   \n",
       "\n",
       "   Salary_Range_From 40,000 to 50,000 per annum  \\\n",
       "0                                             0   \n",
       "1                                             0   \n",
       "2                                             0   \n",
       "3                                             0   \n",
       "4                                             0   \n",
       "\n",
       "   Salary_Range_From 40,000 to 50,000 per year  \\\n",
       "0                                            0   \n",
       "1                                            0   \n",
       "2                                            0   \n",
       "3                                            0   \n",
       "4                                            0   \n",
       "\n",
       "   Salary_Range_From 45,000 to 50,000 per year  \\\n",
       "0                                            0   \n",
       "1                                            0   \n",
       "2                                            0   \n",
       "3                                            0   \n",
       "4                                            0   \n",
       "\n",
       "   Salary_Range_From 50,000 to 60,000 per year  Salary_Range_Other  \\\n",
       "0                                            0                   1   \n",
       "1                                            0                   1   \n",
       "2                                            0                   1   \n",
       "3                                            0                   1   \n",
       "4                                            0                   1   \n",
       "\n",
       "   Salary_Range_Up to 34,200 Annual  \n",
       "0                                 0  \n",
       "1                                 0  \n",
       "2                                 0  \n",
       "3                                 0  \n",
       "4                                 0  \n",
       "\n",
       "[5 rows x 849 columns]"
      ]
     },
     "execution_count": 52,
     "metadata": {},
     "output_type": "execute_result"
    }
   ],
   "source": [
    "# One-hot encoding for nominal variables\n",
    "one_hot_var = ['Region','Location','Category', 'ContractType','ContractTime','Salary_Range']\n",
    "train_data_dum = pd.get_dummies(train_data[one_hot_var], drop_first=True)\n",
    "train_data_dum.head()"
   ]
  },
  {
   "cell_type": "markdown",
   "id": "4169fde9",
   "metadata": {},
   "source": [
    "#### Create y matrics from dataframe where y=Salary"
   ]
  },
  {
   "cell_type": "code",
   "execution_count": 53,
   "id": "fa5a0046",
   "metadata": {},
   "outputs": [
    {
     "data": {
      "text/plain": [
       "0    25000\n",
       "1    30000\n",
       "2    30000\n",
       "3    27500\n",
       "4    25000\n",
       "Name: Salary, dtype: int64"
      ]
     },
     "execution_count": 53,
     "metadata": {},
     "output_type": "execute_result"
    }
   ],
   "source": [
    "y=train_data.iloc[:,10]\n",
    "y.head()"
   ]
  },
  {
   "cell_type": "markdown",
   "id": "7d85c131",
   "metadata": {},
   "source": [
    "#### Create X matrics from dataframe"
   ]
  },
  {
   "cell_type": "code",
   "execution_count": 54,
   "id": "ddf30bcd",
   "metadata": {},
   "outputs": [
    {
     "data": {
      "text/html": [
       "<div>\n",
       "<style scoped>\n",
       "    .dataframe tbody tr th:only-of-type {\n",
       "        vertical-align: middle;\n",
       "    }\n",
       "\n",
       "    .dataframe tbody tr th {\n",
       "        vertical-align: top;\n",
       "    }\n",
       "\n",
       "    .dataframe thead th {\n",
       "        text-align: right;\n",
       "    }\n",
       "</style>\n",
       "<table border=\"1\" class=\"dataframe\">\n",
       "  <thead>\n",
       "    <tr style=\"text-align: right;\">\n",
       "      <th></th>\n",
       "      <th>Job Code</th>\n",
       "      <th>Title</th>\n",
       "      <th>Job Description</th>\n",
       "      <th>Region</th>\n",
       "      <th>Location</th>\n",
       "      <th>ContractType</th>\n",
       "      <th>ContractTime</th>\n",
       "      <th>Company</th>\n",
       "      <th>Category</th>\n",
       "      <th>Salary_Range</th>\n",
       "      <th>Salary</th>\n",
       "      <th>Source_Name</th>\n",
       "    </tr>\n",
       "  </thead>\n",
       "  <tbody>\n",
       "    <tr>\n",
       "      <th>0</th>\n",
       "      <td>Other</td>\n",
       "      <td>Other</td>\n",
       "      <td>Other</td>\n",
       "      <td>Other</td>\n",
       "      <td>Dorking</td>\n",
       "      <td>Unknown</td>\n",
       "      <td>permanent</td>\n",
       "      <td>Other</td>\n",
       "      <td>Engineering Jobs</td>\n",
       "      <td>Other</td>\n",
       "      <td>25000</td>\n",
       "      <td>cv-library.co.uk</td>\n",
       "    </tr>\n",
       "    <tr>\n",
       "      <th>1</th>\n",
       "      <td>Other</td>\n",
       "      <td>Other</td>\n",
       "      <td>Other</td>\n",
       "      <td>Other</td>\n",
       "      <td>Glasgow</td>\n",
       "      <td>Unknown</td>\n",
       "      <td>permanent</td>\n",
       "      <td>Other</td>\n",
       "      <td>Engineering Jobs</td>\n",
       "      <td>Other</td>\n",
       "      <td>30000</td>\n",
       "      <td>cv-library.co.uk</td>\n",
       "    </tr>\n",
       "    <tr>\n",
       "      <th>2</th>\n",
       "      <td>Other</td>\n",
       "      <td>Other</td>\n",
       "      <td>Other</td>\n",
       "      <td>Other</td>\n",
       "      <td>Hampshire</td>\n",
       "      <td>Unknown</td>\n",
       "      <td>permanent</td>\n",
       "      <td>Other</td>\n",
       "      <td>Engineering Jobs</td>\n",
       "      <td>Other</td>\n",
       "      <td>30000</td>\n",
       "      <td>cv-library.co.uk</td>\n",
       "    </tr>\n",
       "    <tr>\n",
       "      <th>3</th>\n",
       "      <td>Other</td>\n",
       "      <td>Other</td>\n",
       "      <td>Other</td>\n",
       "      <td>Other</td>\n",
       "      <td>Surrey</td>\n",
       "      <td>Unknown</td>\n",
       "      <td>permanent</td>\n",
       "      <td>Other</td>\n",
       "      <td>Engineering Jobs</td>\n",
       "      <td>Other</td>\n",
       "      <td>27500</td>\n",
       "      <td>cv-library.co.uk</td>\n",
       "    </tr>\n",
       "    <tr>\n",
       "      <th>4</th>\n",
       "      <td>Other</td>\n",
       "      <td>Other</td>\n",
       "      <td>Other</td>\n",
       "      <td>Other</td>\n",
       "      <td>Surrey</td>\n",
       "      <td>Unknown</td>\n",
       "      <td>permanent</td>\n",
       "      <td>Other</td>\n",
       "      <td>Engineering Jobs</td>\n",
       "      <td>Other</td>\n",
       "      <td>25000</td>\n",
       "      <td>cv-library.co.uk</td>\n",
       "    </tr>\n",
       "  </tbody>\n",
       "</table>\n",
       "</div>"
      ],
      "text/plain": [
       "  Job Code  Title Job Description Region   Location ContractType ContractTime  \\\n",
       "0    Other  Other           Other  Other    Dorking      Unknown    permanent   \n",
       "1    Other  Other           Other  Other    Glasgow      Unknown    permanent   \n",
       "2    Other  Other           Other  Other  Hampshire      Unknown    permanent   \n",
       "3    Other  Other           Other  Other     Surrey      Unknown    permanent   \n",
       "4    Other  Other           Other  Other     Surrey      Unknown    permanent   \n",
       "\n",
       "  Company          Category Salary_Range  Salary       Source_Name  \n",
       "0   Other  Engineering Jobs        Other   25000  cv-library.co.uk  \n",
       "1   Other  Engineering Jobs        Other   30000  cv-library.co.uk  \n",
       "2   Other  Engineering Jobs        Other   30000  cv-library.co.uk  \n",
       "3   Other  Engineering Jobs        Other   27500  cv-library.co.uk  \n",
       "4   Other  Engineering Jobs        Other   25000  cv-library.co.uk  "
      ]
     },
     "execution_count": 54,
     "metadata": {},
     "output_type": "execute_result"
    }
   ],
   "source": [
    "X=train_data.iloc[:,: 12]\n",
    "X.head()"
   ]
  },
  {
   "cell_type": "code",
   "execution_count": 55,
   "id": "8cd31fbe",
   "metadata": {},
   "outputs": [],
   "source": [
    "X = pd.concat([X, train_data_dum], axis=1)\n",
    "X = X.drop(['Job Code','Title','Job Description','Region','Location','ContractType','ContractTime','Company','Category','Salary_Range','Salary','Source_Name'], axis=1)"
   ]
  },
  {
   "cell_type": "code",
   "execution_count": 56,
   "id": "76157f95",
   "metadata": {},
   "outputs": [
    {
     "data": {
      "text/html": [
       "<div>\n",
       "<style scoped>\n",
       "    .dataframe tbody tr th:only-of-type {\n",
       "        vertical-align: middle;\n",
       "    }\n",
       "\n",
       "    .dataframe tbody tr th {\n",
       "        vertical-align: top;\n",
       "    }\n",
       "\n",
       "    .dataframe thead th {\n",
       "        text-align: right;\n",
       "    }\n",
       "</style>\n",
       "<table border=\"1\" class=\"dataframe\">\n",
       "  <thead>\n",
       "    <tr style=\"text-align: right;\">\n",
       "      <th></th>\n",
       "      <th>Region_Aberdeen Aberdeenshire Scotland</th>\n",
       "      <th>Region_Aberdeen,</th>\n",
       "      <th>Region_Aberdeen, Scotland</th>\n",
       "      <th>Region_Aberdeen, UK</th>\n",
       "      <th>Region_Abingdon Oxfordshire South East</th>\n",
       "      <th>Region_Avon</th>\n",
       "      <th>Region_Aylesbury</th>\n",
       "      <th>Region_Aylesbury Buckinghamshire South East</th>\n",
       "      <th>Region_BIRMINGHAM</th>\n",
       "      <th>Region_Banbury Oxfordshire South East</th>\n",
       "      <th>...</th>\n",
       "      <th>Salary_Range_From 35,000 to 45,000 per annum</th>\n",
       "      <th>Salary_Range_From 35,000 to 45,000 per year</th>\n",
       "      <th>Salary_Range_From 40,000 to 45,000 per annum</th>\n",
       "      <th>Salary_Range_From 40,000 to 45,000 per year</th>\n",
       "      <th>Salary_Range_From 40,000 to 50,000 per annum</th>\n",
       "      <th>Salary_Range_From 40,000 to 50,000 per year</th>\n",
       "      <th>Salary_Range_From 45,000 to 50,000 per year</th>\n",
       "      <th>Salary_Range_From 50,000 to 60,000 per year</th>\n",
       "      <th>Salary_Range_Other</th>\n",
       "      <th>Salary_Range_Up to 34,200 Annual</th>\n",
       "    </tr>\n",
       "  </thead>\n",
       "  <tbody>\n",
       "    <tr>\n",
       "      <th>0</th>\n",
       "      <td>0</td>\n",
       "      <td>0</td>\n",
       "      <td>0</td>\n",
       "      <td>0</td>\n",
       "      <td>0</td>\n",
       "      <td>0</td>\n",
       "      <td>0</td>\n",
       "      <td>0</td>\n",
       "      <td>0</td>\n",
       "      <td>0</td>\n",
       "      <td>...</td>\n",
       "      <td>0</td>\n",
       "      <td>0</td>\n",
       "      <td>0</td>\n",
       "      <td>0</td>\n",
       "      <td>0</td>\n",
       "      <td>0</td>\n",
       "      <td>0</td>\n",
       "      <td>0</td>\n",
       "      <td>1</td>\n",
       "      <td>0</td>\n",
       "    </tr>\n",
       "    <tr>\n",
       "      <th>1</th>\n",
       "      <td>0</td>\n",
       "      <td>0</td>\n",
       "      <td>0</td>\n",
       "      <td>0</td>\n",
       "      <td>0</td>\n",
       "      <td>0</td>\n",
       "      <td>0</td>\n",
       "      <td>0</td>\n",
       "      <td>0</td>\n",
       "      <td>0</td>\n",
       "      <td>...</td>\n",
       "      <td>0</td>\n",
       "      <td>0</td>\n",
       "      <td>0</td>\n",
       "      <td>0</td>\n",
       "      <td>0</td>\n",
       "      <td>0</td>\n",
       "      <td>0</td>\n",
       "      <td>0</td>\n",
       "      <td>1</td>\n",
       "      <td>0</td>\n",
       "    </tr>\n",
       "    <tr>\n",
       "      <th>2</th>\n",
       "      <td>0</td>\n",
       "      <td>0</td>\n",
       "      <td>0</td>\n",
       "      <td>0</td>\n",
       "      <td>0</td>\n",
       "      <td>0</td>\n",
       "      <td>0</td>\n",
       "      <td>0</td>\n",
       "      <td>0</td>\n",
       "      <td>0</td>\n",
       "      <td>...</td>\n",
       "      <td>0</td>\n",
       "      <td>0</td>\n",
       "      <td>0</td>\n",
       "      <td>0</td>\n",
       "      <td>0</td>\n",
       "      <td>0</td>\n",
       "      <td>0</td>\n",
       "      <td>0</td>\n",
       "      <td>1</td>\n",
       "      <td>0</td>\n",
       "    </tr>\n",
       "    <tr>\n",
       "      <th>3</th>\n",
       "      <td>0</td>\n",
       "      <td>0</td>\n",
       "      <td>0</td>\n",
       "      <td>0</td>\n",
       "      <td>0</td>\n",
       "      <td>0</td>\n",
       "      <td>0</td>\n",
       "      <td>0</td>\n",
       "      <td>0</td>\n",
       "      <td>0</td>\n",
       "      <td>...</td>\n",
       "      <td>0</td>\n",
       "      <td>0</td>\n",
       "      <td>0</td>\n",
       "      <td>0</td>\n",
       "      <td>0</td>\n",
       "      <td>0</td>\n",
       "      <td>0</td>\n",
       "      <td>0</td>\n",
       "      <td>1</td>\n",
       "      <td>0</td>\n",
       "    </tr>\n",
       "    <tr>\n",
       "      <th>4</th>\n",
       "      <td>0</td>\n",
       "      <td>0</td>\n",
       "      <td>0</td>\n",
       "      <td>0</td>\n",
       "      <td>0</td>\n",
       "      <td>0</td>\n",
       "      <td>0</td>\n",
       "      <td>0</td>\n",
       "      <td>0</td>\n",
       "      <td>0</td>\n",
       "      <td>...</td>\n",
       "      <td>0</td>\n",
       "      <td>0</td>\n",
       "      <td>0</td>\n",
       "      <td>0</td>\n",
       "      <td>0</td>\n",
       "      <td>0</td>\n",
       "      <td>0</td>\n",
       "      <td>0</td>\n",
       "      <td>1</td>\n",
       "      <td>0</td>\n",
       "    </tr>\n",
       "  </tbody>\n",
       "</table>\n",
       "<p>5 rows × 849 columns</p>\n",
       "</div>"
      ],
      "text/plain": [
       "   Region_Aberdeen Aberdeenshire Scotland  Region_Aberdeen,  \\\n",
       "0                                       0                 0   \n",
       "1                                       0                 0   \n",
       "2                                       0                 0   \n",
       "3                                       0                 0   \n",
       "4                                       0                 0   \n",
       "\n",
       "   Region_Aberdeen, Scotland  Region_Aberdeen, UK  \\\n",
       "0                          0                    0   \n",
       "1                          0                    0   \n",
       "2                          0                    0   \n",
       "3                          0                    0   \n",
       "4                          0                    0   \n",
       "\n",
       "   Region_Abingdon Oxfordshire South East  Region_Avon  Region_Aylesbury  \\\n",
       "0                                       0            0                 0   \n",
       "1                                       0            0                 0   \n",
       "2                                       0            0                 0   \n",
       "3                                       0            0                 0   \n",
       "4                                       0            0                 0   \n",
       "\n",
       "   Region_Aylesbury Buckinghamshire South East  Region_BIRMINGHAM  \\\n",
       "0                                            0                  0   \n",
       "1                                            0                  0   \n",
       "2                                            0                  0   \n",
       "3                                            0                  0   \n",
       "4                                            0                  0   \n",
       "\n",
       "   Region_Banbury Oxfordshire South East  ...  \\\n",
       "0                                      0  ...   \n",
       "1                                      0  ...   \n",
       "2                                      0  ...   \n",
       "3                                      0  ...   \n",
       "4                                      0  ...   \n",
       "\n",
       "   Salary_Range_From 35,000 to 45,000 per annum  \\\n",
       "0                                             0   \n",
       "1                                             0   \n",
       "2                                             0   \n",
       "3                                             0   \n",
       "4                                             0   \n",
       "\n",
       "   Salary_Range_From 35,000 to 45,000 per year  \\\n",
       "0                                            0   \n",
       "1                                            0   \n",
       "2                                            0   \n",
       "3                                            0   \n",
       "4                                            0   \n",
       "\n",
       "   Salary_Range_From 40,000 to 45,000 per annum  \\\n",
       "0                                             0   \n",
       "1                                             0   \n",
       "2                                             0   \n",
       "3                                             0   \n",
       "4                                             0   \n",
       "\n",
       "   Salary_Range_From 40,000 to 45,000 per year  \\\n",
       "0                                            0   \n",
       "1                                            0   \n",
       "2                                            0   \n",
       "3                                            0   \n",
       "4                                            0   \n",
       "\n",
       "   Salary_Range_From 40,000 to 50,000 per annum  \\\n",
       "0                                             0   \n",
       "1                                             0   \n",
       "2                                             0   \n",
       "3                                             0   \n",
       "4                                             0   \n",
       "\n",
       "   Salary_Range_From 40,000 to 50,000 per year  \\\n",
       "0                                            0   \n",
       "1                                            0   \n",
       "2                                            0   \n",
       "3                                            0   \n",
       "4                                            0   \n",
       "\n",
       "   Salary_Range_From 45,000 to 50,000 per year  \\\n",
       "0                                            0   \n",
       "1                                            0   \n",
       "2                                            0   \n",
       "3                                            0   \n",
       "4                                            0   \n",
       "\n",
       "   Salary_Range_From 50,000 to 60,000 per year  Salary_Range_Other  \\\n",
       "0                                            0                   1   \n",
       "1                                            0                   1   \n",
       "2                                            0                   1   \n",
       "3                                            0                   1   \n",
       "4                                            0                   1   \n",
       "\n",
       "   Salary_Range_Up to 34,200 Annual  \n",
       "0                                 0  \n",
       "1                                 0  \n",
       "2                                 0  \n",
       "3                                 0  \n",
       "4                                 0  \n",
       "\n",
       "[5 rows x 849 columns]"
      ]
     },
     "execution_count": 56,
     "metadata": {},
     "output_type": "execute_result"
    }
   ],
   "source": [
    "X.head()"
   ]
  },
  {
   "cell_type": "markdown",
   "id": "fbf9d0ed",
   "metadata": {},
   "source": [
    "#### Split the X and y into 75/25 training and testing data subsets"
   ]
  },
  {
   "cell_type": "code",
   "execution_count": 57,
   "id": "5364c9fa",
   "metadata": {},
   "outputs": [],
   "source": [
    "#train test split\n",
    "\n",
    "X_train, X_test, y_train, y_test=train_test_split(X, y, test_size=0.25, random_state=42)\n"
   ]
  },
  {
   "cell_type": "markdown",
   "id": "3aeb0577",
   "metadata": {},
   "source": [
    "### Load Machine Learning Models"
   ]
  },
  {
   "cell_type": "code",
   "execution_count": 58,
   "id": "4bb46cd9",
   "metadata": {},
   "outputs": [],
   "source": [
    "# Mean Squared Error\n",
    "from sklearn.metrics import mean_squared_error\n",
    "\n",
    "from math import sqrt\n",
    "\n",
    "from sklearn.metrics import r2_score\n",
    "\n",
    "#Linear Regression -  Straightforward Basic regression model\n",
    "from sklearn.linear_model import LinearRegression  \n",
    "\n",
    "# Random Forest Regressor - Low bias and low variance\n",
    "from sklearn.ensemble import RandomForestRegressor  \n",
    "\n",
    "# Extreme Gradient Boost - High performance\n",
    "from xgboost import XGBRegressor\n",
    "\n",
    "from sklearn.model_selection import KFold"
   ]
  },
  {
   "cell_type": "markdown",
   "id": "07453f32",
   "metadata": {},
   "source": [
    "### Linear Regression"
   ]
  },
  {
   "cell_type": "code",
   "execution_count": 59,
   "id": "aa3cfe27",
   "metadata": {},
   "outputs": [],
   "source": [
    "li_reg = LinearRegression()\n",
    "li_model = li_reg.fit(X_train, y_train)\n",
    "li_pred = li_model.predict(X_test)"
   ]
  },
  {
   "cell_type": "code",
   "execution_count": 60,
   "id": "ba5cc10d",
   "metadata": {},
   "outputs": [
    {
     "name": "stdout",
     "output_type": "stream",
     "text": [
      "RMSE: 14355.27\n"
     ]
    }
   ],
   "source": [
    "li_mse = sqrt(mean_squared_error(y_test, li_pred))\n",
    "print(\"RMSE: %.2f\" % li_mse)"
   ]
  },
  {
   "cell_type": "markdown",
   "id": "9eb2cfd0",
   "metadata": {},
   "source": [
    "#### Calculate $R^2$ Values"
   ]
  },
  {
   "cell_type": "code",
   "execution_count": 61,
   "id": "3157858a",
   "metadata": {},
   "outputs": [
    {
     "data": {
      "text/plain": [
       "0.3345813448785362"
      ]
     },
     "execution_count": 61,
     "metadata": {},
     "output_type": "execute_result"
    }
   ],
   "source": [
    "li_r2 = r2_score(y_test, li_pred)\n",
    "li_r2"
   ]
  },
  {
   "cell_type": "markdown",
   "id": "0d72bf95",
   "metadata": {},
   "source": [
    "### Random Forest"
   ]
  },
  {
   "cell_type": "code",
   "execution_count": 62,
   "id": "970da2e0",
   "metadata": {},
   "outputs": [],
   "source": [
    "rf_reg = RandomForestRegressor(n_estimators=150, n_jobs=2, max_depth=6, min_samples_split=60, max_features='auto', verbose=0)\n"
   ]
  },
  {
   "cell_type": "code",
   "execution_count": 63,
   "id": "62875001",
   "metadata": {},
   "outputs": [],
   "source": [
    "rf_model = rf_reg.fit(X_train, y_train)\n",
    "rf_pred = rf_model.predict(X_test)"
   ]
  },
  {
   "cell_type": "code",
   "execution_count": 64,
   "id": "c2694ee1",
   "metadata": {},
   "outputs": [
    {
     "name": "stdout",
     "output_type": "stream",
     "text": [
      "RMSE: 15854.77\n"
     ]
    }
   ],
   "source": [
    "rf_mse = sqrt(mean_squared_error(y_test, rf_pred))\n",
    "print(\"RMSE: %.2f\" % rf_mse)"
   ]
  },
  {
   "cell_type": "markdown",
   "id": "ecfa2670",
   "metadata": {},
   "source": [
    "#### Calculate $R^2$ Values"
   ]
  },
  {
   "cell_type": "code",
   "execution_count": 65,
   "id": "dd908f12",
   "metadata": {},
   "outputs": [
    {
     "data": {
      "text/plain": [
       "0.0"
      ]
     },
     "execution_count": 65,
     "metadata": {},
     "output_type": "execute_result"
    }
   ],
   "source": [
    "rf_r2 = r2_score(y_test, rf_pred).round()\n",
    "rf_r2"
   ]
  },
  {
   "cell_type": "markdown",
   "id": "4265500a",
   "metadata": {},
   "source": [
    "### XGBoost Regressor"
   ]
  },
  {
   "cell_type": "code",
   "execution_count": 62,
   "id": "03bae770",
   "metadata": {},
   "outputs": [],
   "source": [
    "xg_reg = XGBRegressor()\n",
    "xg_model = xg_reg.fit(X_train,y_train)\n",
    "xg_predict = xg_model.predict(X_test)"
   ]
  },
  {
   "cell_type": "code",
   "execution_count": 63,
   "id": "f3f9ec90",
   "metadata": {},
   "outputs": [
    {
     "name": "stdout",
     "output_type": "stream",
     "text": [
      "RMSE: 14013.34\n"
     ]
    }
   ],
   "source": [
    "xg_mse = sqrt(mean_squared_error(y_test, xg_predict))\n",
    "print(\"RMSE: %.2f\" % xg_mse)"
   ]
  },
  {
   "cell_type": "markdown",
   "id": "bb3d1e8f",
   "metadata": {},
   "source": [
    "#### Calculate $R^2$ Values"
   ]
  },
  {
   "cell_type": "code",
   "execution_count": 64,
   "id": "cb4674b4",
   "metadata": {},
   "outputs": [
    {
     "data": {
      "text/plain": [
       "0.0"
      ]
     },
     "execution_count": 64,
     "metadata": {},
     "output_type": "execute_result"
    }
   ],
   "source": [
    "xg_r2 = r2_score(y_test, xg_predict).round()\n",
    "xg_r2"
   ]
  },
  {
   "cell_type": "markdown",
   "id": "02a5043d",
   "metadata": {},
   "source": [
    "###  Test 3 Models (5-fold cross validation on models and measure MSE)"
   ]
  },
  {
   "cell_type": "markdown",
   "id": "c8507153",
   "metadata": {},
   "source": [
    "#### Linear Regression with Cross_Validation"
   ]
  },
  {
   "cell_type": "code",
   "execution_count": 69,
   "id": "efa5e664",
   "metadata": {},
   "outputs": [],
   "source": [
    "li_nmse = cross_val_score(li_reg, X_test, y_test, cv=5, scoring=\"neg_mean_squared_error\")"
   ]
  },
  {
   "cell_type": "code",
   "execution_count": 70,
   "id": "1752269e",
   "metadata": {},
   "outputs": [
    {
     "data": {
      "text/plain": [
       "1.934694614609818e+24"
      ]
     },
     "execution_count": 70,
     "metadata": {},
     "output_type": "execute_result"
    }
   ],
   "source": [
    "li_mse_cv = -1.0 * np.mean(li_nmse).round()\n",
    "li_mse_cv"
   ]
  },
  {
   "cell_type": "markdown",
   "id": "133d5f71",
   "metadata": {},
   "source": [
    "#### Random Forest with Cross_Validation"
   ]
  },
  {
   "cell_type": "code",
   "execution_count": 71,
   "id": "4f3cc9dd",
   "metadata": {},
   "outputs": [
    {
     "data": {
      "text/plain": [
       "250395013.0"
      ]
     },
     "execution_count": 71,
     "metadata": {},
     "output_type": "execute_result"
    }
   ],
   "source": [
    "rf_nmse = cross_val_score(rf_reg, X_test, y_test, cv=5, scoring=\"neg_mean_squared_error\")\n",
    "rf_mse_cv = -1.0 * np.mean(rf_nmse).round()\n",
    "rf_mse_cv"
   ]
  },
  {
   "cell_type": "markdown",
   "id": "f41901d8",
   "metadata": {},
   "source": [
    "#### XGboost with Cross_Validation"
   ]
  },
  {
   "cell_type": "code",
   "execution_count": 72,
   "id": "57748dc1",
   "metadata": {},
   "outputs": [
    {
     "data": {
      "text/plain": [
       "199649702.0"
      ]
     },
     "execution_count": 72,
     "metadata": {},
     "output_type": "execute_result"
    }
   ],
   "source": [
    "folds = KFold(n_splits =5, shuffle = True, random_state=100)\n",
    "xg_nmse = cross_val_score(xg_reg, X_test, y_test, cv=folds, scoring=\"neg_mean_squared_error\")\n",
    "xg_mse_cv = -1.0 * np.mean(xg_nmse).round()\n",
    "xg_mse_cv"
   ]
  },
  {
   "cell_type": "markdown",
   "id": "f000c916",
   "metadata": {},
   "source": [
    "### Comparison of the Models"
   ]
  },
  {
   "cell_type": "code",
   "execution_count": 73,
   "id": "6a0b3ac2",
   "metadata": {},
   "outputs": [],
   "source": [
    "#Model with the lowest error as my \"production\" model"
   ]
  },
  {
   "cell_type": "code",
   "execution_count": 74,
   "id": "9b22195d",
   "metadata": {},
   "outputs": [
    {
     "data": {
      "text/html": [
       "<div>\n",
       "<style scoped>\n",
       "    .dataframe tbody tr th:only-of-type {\n",
       "        vertical-align: middle;\n",
       "    }\n",
       "\n",
       "    .dataframe tbody tr th {\n",
       "        vertical-align: top;\n",
       "    }\n",
       "\n",
       "    .dataframe thead th {\n",
       "        text-align: right;\n",
       "    }\n",
       "</style>\n",
       "<table border=\"1\" class=\"dataframe\">\n",
       "  <thead>\n",
       "    <tr style=\"text-align: right;\">\n",
       "      <th></th>\n",
       "      <th>Linear Regression</th>\n",
       "      <th>Random Forest</th>\n",
       "      <th>XGBoost</th>\n",
       "    </tr>\n",
       "  </thead>\n",
       "  <tbody>\n",
       "    <tr>\n",
       "      <th>Without Cross_validation</th>\n",
       "      <td>1.435527e+04</td>\n",
       "      <td>1.585477e+04</td>\n",
       "      <td>1.401334e+04</td>\n",
       "    </tr>\n",
       "    <tr>\n",
       "      <th>$R^2$ Values</th>\n",
       "      <td>3.300000e-01</td>\n",
       "      <td>0.000000e+00</td>\n",
       "      <td>0.000000e+00</td>\n",
       "    </tr>\n",
       "    <tr>\n",
       "      <th>With Cross_validation</th>\n",
       "      <td>1.934695e+24</td>\n",
       "      <td>2.503950e+08</td>\n",
       "      <td>1.996497e+08</td>\n",
       "    </tr>\n",
       "  </tbody>\n",
       "</table>\n",
       "</div>"
      ],
      "text/plain": [
       "                          Linear Regression  Random Forest       XGBoost\n",
       "Without Cross_validation       1.435527e+04   1.585477e+04  1.401334e+04\n",
       "$R^2$ Values                   3.300000e-01   0.000000e+00  0.000000e+00\n",
       "With Cross_validation          1.934695e+24   2.503950e+08  1.996497e+08"
      ]
     },
     "execution_count": 74,
     "metadata": {},
     "output_type": "execute_result"
    }
   ],
   "source": [
    "results = {\n",
    "    'Linear Regression' : [round(li_mse, 2),  round(li_r2, 2), round(li_mse_cv,2)],\n",
    "    'Random Forest' : [round(rf_mse,2), round(rf_r2, 2), round(rf_mse_cv,2)],\n",
    "    'XGBoost' : [round(xg_mse,2), round(xg_r2, 2), round(xg_mse_cv,2)]\n",
    "}                                   \n",
    "result_df = pd.DataFrame(results, index = ['Without Cross_validation', '$R^2$ Values','With Cross_validation'],)\n",
    "result_df"
   ]
  },
  {
   "cell_type": "markdown",
   "id": "3f151bc4",
   "metadata": {},
   "source": [
    "### The Best Model"
   ]
  },
  {
   "cell_type": "markdown",
   "id": "b0c95693",
   "metadata": {},
   "source": [
    "#### XGBoost -  Tuning Hyperparameters"
   ]
  },
  {
   "cell_type": "code",
   "execution_count": 59,
   "id": "e4dd97e8",
   "metadata": {},
   "outputs": [
    {
     "name": "stdout",
     "output_type": "stream",
     "text": [
      "{'n_estimators': [200, 400, 600, 800, 1000, 1200, 1400, 1600, 1800, 2000], 'max_depth': [3], 'learning_rate': [0.05], 'gamma': [0.0, 0.1], 'subsample': [0.3, 0.5], 'colsample_bytree': [0.3, 0.4], 'min_child_weight': [1, 3]}\n"
     ]
    }
   ],
   "source": [
    "#Number on trees in XGBoost\n",
    "n_estimators = [int(x) for x in np.linspace(200, 2000, 10)]\n",
    "#Max number of levels in the tree\n",
    "max_depth= [3]\n",
    "#Learnig rate\n",
    "learning_rate=[0.05]\n",
    "#gamma\n",
    "gamma = [0.0,0.1]\n",
    "#Subsample ratio of the training instance.\n",
    "subsample=[0.3, 0.5]\n",
    "#Subsample ratio of columns when constructing each tree.\n",
    "colsample_bytree=[0.3, 0.4]\n",
    "#min_child_weight\n",
    "min_child_weight = [1,3]\n",
    "random_param={'n_estimators': n_estimators,\n",
    "              'max_depth': max_depth,\n",
    "              'learning_rate': learning_rate,\n",
    "              'gamma': gamma,\n",
    "              'subsample': subsample,\n",
    "              'colsample_bytree': colsample_bytree,\n",
    "              'min_child_weight': min_child_weight}\n",
    "print(random_param)"
   ]
  },
  {
   "cell_type": "code",
   "execution_count": null,
   "id": "88bcd773",
   "metadata": {},
   "outputs": [
    {
     "name": "stdout",
     "output_type": "stream",
     "text": [
      "Fitting 5 folds for each of 5 candidates, totalling 25 fits\n"
     ]
    }
   ],
   "source": [
    "xg=XGBRegressor()\n",
    "xg_randomcv=RandomizedSearchCV(estimator=xg,param_distributions=random_param,n_iter=5,cv=5,verbose=3,n_jobs=-1)\n",
    "### fit the randomized model\n",
    "xg_reg_ht = xg_randomcv.fit(X_train,y_train)"
   ]
  },
  {
   "cell_type": "code",
   "execution_count": null,
   "id": "9e89f1b6",
   "metadata": {},
   "outputs": [],
   "source": [
    "xg_randomcv.best_params_"
   ]
  },
  {
   "cell_type": "code",
   "execution_count": null,
   "id": "edf3a846",
   "metadata": {},
   "outputs": [],
   "source": [
    "xg_randomcv.best_estimator_"
   ]
  },
  {
   "cell_type": "code",
   "execution_count": null,
   "id": "c001458a",
   "metadata": {},
   "outputs": [],
   "source": [
    "xg_pred1 = xg_reg_ht.predict(X_test)"
   ]
  },
  {
   "cell_type": "code",
   "execution_count": null,
   "id": "6cd0c9f6",
   "metadata": {},
   "outputs": [],
   "source": [
    "xg_mse1 = sqrt(mean_squared_error(y_test, xg_pred1))\n",
    "print(\"RMSE: %.2f\" % xg_mse1)"
   ]
  },
  {
   "cell_type": "code",
   "execution_count": null,
   "id": "b2b72690",
   "metadata": {},
   "outputs": [],
   "source": [
    "xg_hypertune = {\n",
    "    'XGBoost_ Hyperparameter' : round(xg_mse1,2),\n",
    "    } \n",
    "\n",
    "xg_hypertune_df = pd.DataFrame(xg_hypertune, index = ['RMSE:'])\n",
    "xg_hypertune_df"
   ]
  }
 ],
 "metadata": {
  "kernelspec": {
   "display_name": "Python 3",
   "language": "python",
   "name": "python3"
  },
  "language_info": {
   "codemirror_mode": {
    "name": "ipython",
    "version": 3
   },
   "file_extension": ".py",
   "mimetype": "text/x-python",
   "name": "python",
   "nbconvert_exporter": "python",
   "pygments_lexer": "ipython3",
   "version": "3.8.8"
  }
 },
 "nbformat": 4,
 "nbformat_minor": 5
}
