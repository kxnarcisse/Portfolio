{
 "cells": [
  {
   "cell_type": "markdown",
   "metadata": {},
   "source": [
    "# Capstone 2  Project Overview + Context"
   ]
  },
  {
   "cell_type": "markdown",
   "metadata": {},
   "source": [
    "Data Source:  https://www.kaggle.com/airiddha/trainrev1\n"
   ]
  },
  {
   "cell_type": "markdown",
   "metadata": {},
   "source": [
    "### Description:"
   ]
  },
  {
   "cell_type": "markdown",
   "metadata": {},
   "source": [
    "Brief phone screens with HR and hiring manager at a prominent tech company. They have an interest in hiring me to be a Data Scientist on their team that acts as internal consultants for multiple groups throughout the company.\n"
   ]
  },
  {
   "cell_type": "markdown",
   "metadata": {},
   "source": [
    "I am being considered for either a junior, mid-level, or senior position based on the quality of results I provide.\n"
   ]
  },
  {
   "cell_type": "markdown",
   "metadata": {},
   "source": [
    "### Objective:"
   ]
  },
  {
   "cell_type": "markdown",
   "metadata": {},
   "source": [
    "Predicting salaries based on job descriptions."
   ]
  },
  {
   "cell_type": "markdown",
   "metadata": {},
   "source": [
    "### Company:"
   ]
  },
  {
   "cell_type": "markdown",
   "metadata": {},
   "source": [
    "IT-Talent.com is a division of CareerBuilder - the global leader in human capital solutions - whose online career site, CareerBuilder.com, is the largest in the U.S. with 23 million unique visitors. IT-Talent is an employment website that connects, IT talent with client-facing opportunities by attracting seasoned professionals and matching them with relevant career opportunities. Users can also post resumes, sign up for automatic job alerts, and take advantage of job search management tools.\n"
   ]
  },
  {
   "cell_type": "markdown",
   "metadata": {},
   "source": [
    "At IT-Talent, our mission is to help people get jobs therefore we price opportunities to attract talent. More than 10,000 global employees passionately pursue this purpose and improve the recruitment journey through real stories and data. We foster a collaborative workplace that strives to create the best experience for job seekers.\n"
   ]
  },
  {
   "cell_type": "markdown",
   "metadata": {},
   "source": [
    "In addition to creating the best experience, IT-Talent defines traditional pay using skill-based sets pay level solely based on a job's qualifications rather than the qualifications plus the job description.\n"
   ]
  },
  {
   "cell_type": "markdown",
   "metadata": {},
   "source": [
    "Skill-based pay enables IT-Talent to reward employees for performing multiple tasks in one role rather than just those indicated in a job description.\n"
   ]
  },
  {
   "cell_type": "markdown",
   "metadata": {},
   "source": [
    "The low and out-of-range salaries for a job type have made it challenging to attract the best talents. The business wants guidance on how to select the top candidates with the most valuable skills.\n"
   ]
  },
  {
   "cell_type": "code",
   "execution_count": null,
   "metadata": {},
   "outputs": [],
   "source": []
  }
 ],
 "metadata": {
  "kernelspec": {
   "display_name": "Python 3",
   "language": "python",
   "name": "python3"
  },
  "language_info": {
   "codemirror_mode": {
    "name": "ipython",
    "version": 3
   },
   "file_extension": ".py",
   "mimetype": "text/x-python",
   "name": "python",
   "nbconvert_exporter": "python",
   "pygments_lexer": "ipython3",
   "version": "3.8.5"
  }
 },
 "nbformat": 4,
 "nbformat_minor": 4
}
