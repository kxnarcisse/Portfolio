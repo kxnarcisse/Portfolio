{
 "cells": [
  {
   "cell_type": "markdown",
   "metadata": {},
   "source": [
    "# Capstone 2  Project Overview + Context"
   ]
  },
  {
   "cell_type": "markdown",
   "metadata": {},
   "source": [
    "Data Source:  https://www.kaggle.com/airiddha/trainrev1\n",
    "\n",
    "\n",
    "The data comes from an old competition posted by Adzuna to predict salaries for jobs in the UK based on a variety of attributes, the most important of which is the job description \n"
   ]
  },
  {
   "cell_type": "markdown",
   "metadata": {},
   "source": [
    "### Description:"
   ]
  },
  {
   "cell_type": "markdown",
   "metadata": {},
   "source": [
    "Brief phone screens with HR and hiring manager at a prominent tech company. They have an interest in hiring me to be a Data Scientist on their team that acts as internal consultants for multiple groups throughout the company.\n"
   ]
  },
  {
   "cell_type": "markdown",
   "metadata": {},
   "source": [
    "I am being considered for either a junior, mid-level, or senior position based on the quality of results I provide.\n"
   ]
  },
  {
   "cell_type": "markdown",
   "metadata": {},
   "source": [
    "### Objective:"
   ]
  },
  {
   "cell_type": "markdown",
   "metadata": {},
   "source": [
    "Predicting salaries based on job descriptions."
   ]
  },
  {
   "cell_type": "markdown",
   "metadata": {},
   "source": [
    "### Company:"
   ]
  },
  {
   "cell_type": "markdown",
   "metadata": {},
   "source": [
    "Adzuna is a smarter, more transparent job search engine that helps you dodge the thousands of irrelevant jobs so you can zero in on the right role faster.\n",
    "\n",
    "From launch in the UK in 2011, Adzuna now has tens of millions of visitors a month from offices in West London, Indianapolis and Sydney, helping millions of people find better, more fulfilling jobs.\n",
    "\n",
    "Adzuna is an employment website that connects, IT talent with client-facing opportunities by attracting seasoned professionals and matching them with relevant career opportunities. Users can also post resumes, sign up for automatic job alerts, and take advantage of job search management tools.\n"
   ]
  },
  {
   "cell_type": "markdown",
   "metadata": {},
   "source": [
    "At Adzuna, our mission is to help people get jobs therefore we price opportunities to attract talent. We foster a collaborative virtual workplace that strives to create the best experience for job seekers.\n"
   ]
  },
  {
   "cell_type": "markdown",
   "metadata": {},
   "source": [
    "In addition to creating the best experience, Adzuna defines traditional pay using skill-based sets pay level solely based on a job's qualifications rather than the qualifications plus the job description.\n"
   ]
  },
  {
   "cell_type": "markdown",
   "metadata": {},
   "source": [
    "Skill-based pay enables Adzuna to reward employees for performing multiple tasks in one role rather than just those indicated in a job description.\n"
   ]
  },
  {
   "cell_type": "markdown",
   "metadata": {},
   "source": [
    "The low and out-of-range salaries for a job type have made it challenging to attract the best talents. The business wants guidance on how to select the top candidates with the most valuable skills.\n"
   ]
  },
  {
   "cell_type": "markdown",
   "metadata": {},
   "source": [
    "### Problem Statement:"
   ]
  },
  {
   "cell_type": "markdown",
   "metadata": {},
   "source": [
    "##### What opportunities exist to estimate the most valuable skills?"
   ]
  },
  {
   "cell_type": "code",
   "execution_count": null,
   "metadata": {},
   "outputs": [],
   "source": []
  }
 ],
 "metadata": {
  "kernelspec": {
   "display_name": "Python 3",
   "language": "python",
   "name": "python3"
  },
  "language_info": {
   "codemirror_mode": {
    "name": "ipython",
    "version": 3
   },
   "file_extension": ".py",
   "mimetype": "text/x-python",
   "name": "python",
   "nbconvert_exporter": "python",
   "pygments_lexer": "ipython3",
   "version": "3.8.5"
  }
 },
 "nbformat": 4,
 "nbformat_minor": 4
}
