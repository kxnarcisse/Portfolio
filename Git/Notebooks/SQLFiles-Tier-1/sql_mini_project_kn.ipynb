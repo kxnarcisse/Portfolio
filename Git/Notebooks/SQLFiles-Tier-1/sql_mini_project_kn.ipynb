{
 "cells": [
  {
   "cell_type": "markdown",
   "metadata": {},
   "source": [
    "# The SQL mini project"
   ]
  },
  {
   "cell_type": "markdown",
   "metadata": {},
   "source": [
    "### /* Q1: Some of the facilities charge a fee to members, but some do not.\n",
    "Write a SQL query to produce a list of the names of the facilities that do. */"
   ]
  },
  {
   "cell_type": "raw",
   "metadata": {},
   "source": [
    "SELECT name \n",
    "FROM `Facilities`\n",
    "WHERE membercost > 0;"
   ]
  },
  {
   "cell_type": "markdown",
   "metadata": {},
   "source": [
    "### /* Q2: How many facilities do not charge a fee to members? */"
   ]
  },
  {
   "cell_type": "raw",
   "metadata": {},
   "source": [
    "SELECT `name` \n",
    "FROM `Facilities` \n",
    "WHERE `membercost`= 0;"
   ]
  },
  {
   "cell_type": "raw",
   "metadata": {},
   "source": [
    "SELECT Count(*) \n",
    "FROM `Facilities` \n",
    "WHERE `membercost`= 0;"
   ]
  },
  {
   "cell_type": "markdown",
   "metadata": {},
   "source": [
    "### Q4: Write an SQL query to retrieve the details of facilities with ID 1 and 5.\n",
    "\n",
    "Try writing the query without using the OR operator."
   ]
  },
  {
   "cell_type": "raw",
   "metadata": {},
   "source": [
    "SELECT `facid`,`name`\n",
    "FROM `Facilities` \n",
    "WHERE `facid` IN (1, 5)"
   ]
  },
  {
   "cell_type": "markdown",
   "metadata": {},
   "source": [
    "###  Q5: Produce a list of facilities, with each labelled as 'cheap' or 'expensive', depending on if their monthly maintenance cost is more than $100. \n",
    "\n",
    "Return the name and monthly maintenance of the facilities in question. "
   ]
  },
  {
   "cell_type": "raw",
   "metadata": {},
   "source": [
    "SELECT name, monthlymaintenance, \n",
    "CASE WHEN monthlymaintenance > 100 THEN 'expensive'\n",
    "     ELSE 'cheap' END AS label\n",
    "FROM Facilities"
   ]
  },
  {
   "cell_type": "markdown",
   "metadata": {},
   "source": [
    "###  Q6: You'd like to get the first and last name of the last member(s)\n",
    "\n",
    "who signed up. Try not to use the LIMIT clause for your solution. "
   ]
  },
  {
   "cell_type": "raw",
   "metadata": {},
   "source": [
    "SELECT `firstname`,`surname`\n",
    "FROM  Members\n",
    "Where `joindate`= (\n",
    "SELECT MAX(joindate) \n",
    "FROM Members)"
   ]
  },
  {
   "cell_type": "markdown",
   "metadata": {},
   "source": [
    "###  Q7: Produce a list of all members who have used a tennis court.\n",
    "\n",
    "\n",
    "Include in your output the name of the court, and the name of the member\n",
    "formatted as a single column. Ensure no duplicate data, and order by\n",
    "the member name. "
   ]
  },
  {
   "cell_type": "raw",
   "metadata": {},
   "source": [
    "SELECT sub.court, CONCAT( sub.firstname,  ' ', sub.surname ) AS name\n",
    "FROM (\n",
    "SELECT Facilities.name AS court, Members.firstname AS firstname, Members.surname AS surname\n",
    "FROM Bookings\n",
    "INNER JOIN Facilities ON Bookings.facid = Facilities.facid\n",
    "AND Facilities.name LIKE  'Tennis Court%'\n",
    "INNER JOIN Members ON Bookings.memid = Members.memid\n",
    ") sub\n",
    "GROUP BY sub.court, sub.firstname, sub.surname\n",
    "ORDER BY name"
   ]
  },
  {
   "cell_type": "markdown",
   "metadata": {},
   "source": [
    "### Q8: Produce a list of bookings on the day of 2012-09-14 which will cost the member (or guest) more than $30. \n",
    "\n",
    "\n",
    "Remember that guests have different costs to members (the listed costs are per half-hour 'slot'), and\n",
    "the guest user's ID is always 0.\n",
    "\n",
    "Include in your output the name of the facility, the name of the member formatted as a single column, and the cost.\n",
    "Order by descending cost, and do not use any subqueries. "
   ]
  },
  {
   "cell_type": "raw",
   "metadata": {},
   "source": [
    "SELECT Facilities.name AS facility, CONCAT( Members.firstname,  ' ', Members.surname ) AS name, \n",
    "CASE WHEN Bookings.memid =0\n",
    "THEN Facilities.guestcost * Bookings.slots\n",
    "ELSE Facilities.membercost * Bookings.slots\n",
    "END AS cost\n",
    "FROM Bookings\n",
    "INNER JOIN Facilities ON Bookings.facid = Facilities.facid\n",
    "AND Bookings.starttime LIKE  '2012-09-14%'\n",
    "AND (((Bookings.memid =0) AND (Facilities.guestcost * Bookings.slots >30))\n",
    "OR ((Bookings.memid !=0) AND (Facilities.membercost * Bookings.slots >30)))\n",
    "INNER JOIN Members ON Bookings.memid = Members.memid\n",
    "ORDER BY cost DESC"
   ]
  },
  {
   "cell_type": "markdown",
   "metadata": {},
   "source": [
    "###  Q9: This time, produce the same result as in Q8, but using a subquery. "
   ]
  },
  {
   "cell_type": "raw",
   "metadata": {},
   "source": [
    "SELECT * \n",
    "FROM (\n",
    "SELECT Facilities.name AS facility, CONCAT( Members.firstname,  ' ', Members.surname ) AS name, \n",
    "CASE WHEN Bookings.memid =0\n",
    "THEN Facilities.guestcost * Bookings.slots\n",
    "ELSE Facilities.membercost * Bookings.slots\n",
    "END AS cost\n",
    "FROM Bookings\n",
    "INNER JOIN Facilities ON Bookings.facid = Facilities.facid\n",
    "AND Bookings.starttime LIKE  '2012-09-14%'\n",
    "INNER JOIN Members ON Bookings.memid = Members.memid\n",
    ")sub\n",
    "WHERE sub.cost >30\n",
    "ORDER BY sub.cost DESC"
   ]
  },
  {
   "cell_type": "markdown",
   "metadata": {},
   "source": [
    "### SQLite-Part-2"
   ]
  },
  {
   "cell_type": "markdown",
   "metadata": {},
   "source": [
    "## We now want you to jump over to a local instance of the database on your machine."
   ]
  },
  {
   "cell_type": "markdown",
   "metadata": {},
   "source": [
    "Copy and paste the LocalSQLConnection.py script into an empty Jupyter notebook, and run it.\n",
    "\n",
    "Make sure that the SQLFiles folder containing thes files is in your working directory, and that you haven't changed the name of the .db file from 'sqlite\\db\\pythonsqlite'.\n",
    "\n",
    "You should see the output from the initial query 'SELECT * FROM FACILITIES'.\n",
    "\n",
    "Complete the remaining tasks in the Jupyter interface. If you struggle, feel free to go back to the PHPMyAdmin interface as and when you need to.\n",
    "\n",
    "You'll need to paste your query into value of the 'query1' variable and run the code block again to get an output."
   ]
  },
  {
   "cell_type": "markdown",
   "metadata": {},
   "source": [
    "### QUESTIONS:"
   ]
  },
  {
   "cell_type": "raw",
   "metadata": {},
   "source": [
    "SELECT * FROM FACILITIES'."
   ]
  },
  {
   "cell_type": "code",
   "execution_count": 2,
   "metadata": {},
   "outputs": [
    {
     "name": "stdout",
     "output_type": "stream",
     "text": [
      "2.6.0\n",
      "2. Query all tasks\n",
      "(0, 'Tennis Court 1', 5, 25, 10000, 200)\n",
      "(1, 'Tennis Court 2', 5, 25, 8000, 200)\n",
      "(2, 'Badminton Court', 0, 15.5, 4000, 50)\n",
      "(3, 'Table Tennis', 0, 5, 320, 10)\n",
      "(4, 'Massage Room 1', 9.9, 80, 4000, 3000)\n",
      "(5, 'Massage Room 2', 9.9, 80, 4000, 3000)\n",
      "(6, 'Squash Court', 3.5, 17.5, 5000, 80)\n",
      "(7, 'Snooker Table', 0, 5, 450, 15)\n",
      "(8, 'Pool Table', 0, 5, 400, 15)\n"
     ]
    }
   ],
   "source": [
    "import sqlite3\n",
    "from sqlite3 import Error\n",
    "\n",
    " \n",
    "def create_connection(db_file):\n",
    "    \"\"\" create a database connection to the SQLite database\n",
    "        specified by the db_file\n",
    "    :param db_file: database file\n",
    "    :return: Connection object or None\n",
    "    \"\"\"\n",
    "    conn = None\n",
    "    try:\n",
    "        conn = sqlite3.connect(db_file)\n",
    "        print(sqlite3.version)\n",
    "    except Error as e:\n",
    "        print(e)\n",
    " \n",
    "    return conn\n",
    "\n",
    " \n",
    "def select_all_tasks(conn):\n",
    "    \"\"\"\n",
    "    Query all rows in the tasks table\n",
    "    :param conn: the Connection object\n",
    "    :return:\n",
    "    \"\"\"\n",
    "    cur = conn.cursor()\n",
    "    \n",
    "    query1 = \"\"\"\n",
    "        SELECT *\n",
    "        FROM FACILITIES\n",
    "        \"\"\"\n",
    "    cur.execute(query1)\n",
    " \n",
    "    rows = cur.fetchall()\n",
    " \n",
    "    for row in rows:\n",
    "        print(row)\n",
    "\n",
    "\n",
    "def main():\n",
    "    database = \"sqlite_db_pythonsqlite.db\"\n",
    " \n",
    "    # create a database connection\n",
    "    conn = create_connection(database)\n",
    "    with conn: \n",
    "        print(\"2. Query all tasks\")\n",
    "        select_all_tasks(conn)\n",
    " \n",
    " \n",
    "if __name__ == '__main__':\n",
    "    main()"
   ]
  },
  {
   "cell_type": "markdown",
   "metadata": {},
   "source": [
    "### Q10: Produce a list of facilities with a total revenue less than 1000."
   ]
  },
  {
   "cell_type": "code",
   "execution_count": 3,
   "metadata": {},
   "outputs": [
    {
     "name": "stdout",
     "output_type": "stream",
     "text": [
      "2.6.0\n",
      "2. Query all tasks\n",
      "('Pool Table', 270)\n",
      "('Snooker Table', 240)\n",
      "('Table Tennis', 180)\n"
     ]
    }
   ],
   "source": [
    "import sqlite3\n",
    "from sqlite3 import Error\n",
    "\n",
    " \n",
    "def create_connection(db_file):\n",
    "    \"\"\" create a database connection to the SQLite database\n",
    "        specified by the db_file\n",
    "    :param db_file: database file\n",
    "    :return: Connection object or None\n",
    "    \"\"\"\n",
    "    conn = None\n",
    "    try:\n",
    "        conn = sqlite3.connect(db_file)\n",
    "        print(sqlite3.version)\n",
    "    except Error as e:\n",
    "        print(e)\n",
    " \n",
    "    return conn\n",
    "\n",
    " \n",
    "def select_all_tasks(conn):\n",
    "    \"\"\"\n",
    "    Query all rows in the tasks table\n",
    "    :param conn: the Connection object\n",
    "    :return:\n",
    "    \"\"\"\n",
    "    cur = conn.cursor()\n",
    "    \n",
    "    query1 = \"\"\"\n",
    "        SELECT * \n",
    "FROM (\n",
    "SELECT sub.facility, SUM( sub.cost ) AS total_revenue\n",
    "FROM (\n",
    "SELECT Facilities.name AS facility, \n",
    "CASE WHEN Bookings.memid =0\n",
    "THEN Facilities.guestcost * Bookings.slots\n",
    "ELSE Facilities.membercost * Bookings.slots\n",
    "END AS cost\n",
    "FROM Bookings\n",
    "INNER JOIN Facilities ON Bookings.facid = Facilities.facid\n",
    "INNER JOIN Members ON Bookings.memid = Members.memid\n",
    ")sub\n",
    "GROUP BY sub.facility\n",
    ")sub2\n",
    "WHERE sub2.total_revenue <1000\n",
    "        \"\"\"\n",
    "    cur.execute(query1)\n",
    " \n",
    "    rows = cur.fetchall()\n",
    " \n",
    "    for row in rows:\n",
    "        print(row)\n",
    "\n",
    "\n",
    "def main():\n",
    "    database = \"sqlite_db_pythonsqlite.db\"\n",
    " \n",
    "    # create a database connection\n",
    "    conn = create_connection(database)\n",
    "    with conn: \n",
    "        print(\"2. Query all tasks\")\n",
    "        select_all_tasks(conn)\n",
    " \n",
    " \n",
    "if __name__ == '__main__':\n",
    "    main()"
   ]
  },
  {
   "cell_type": "markdown",
   "metadata": {},
   "source": [
    "### Q11: Produce a report of members and who recommended them in alphabetic surname,firstname order"
   ]
  },
  {
   "cell_type": "code",
   "execution_count": 3,
   "metadata": {},
   "outputs": [
    {
     "name": "stdout",
     "output_type": "stream",
     "text": [
      "2.6.0\n",
      "2. Query all tasks\n",
      "('Bader', 'Florence', 15, 'Stibbons', 'Ponder')\n",
      "('Baker', 'Anne', 12, 'Stibbons', 'Ponder')\n",
      "('Baker', 'Timothy', 16, 'Farrell', 'Jemima')\n",
      "('Boothe', 'Tim', 8, 'Rownam', 'Tim')\n",
      "('Butters', 'Gerald', 5, 'Smith', 'Darren')\n",
      "('Coplin', 'Joan', 22, 'Baker', 'Timothy')\n",
      "('Crumpet', 'Erica', 36, 'Smith', 'Tracy')\n",
      "('Dare', 'Nancy', 7, 'Joplette', 'Janice')\n",
      "('Genting', 'Matthew', 20, 'Butters', 'Gerald')\n",
      "('Hunt', 'John', 35, 'Purview', 'Millicent')\n",
      "('Jones', 'David', 11, 'Joplette', 'Janice')\n",
      "('Jones', 'Douglas', 26, 'Jones', 'David')\n",
      "('Joplette', 'Janice', 4, 'Smith', 'Darren')\n",
      "('Mackenzie', 'Anna', 21, 'Smith', 'Darren')\n",
      "('Owen', 'Charles', 10, 'Smith', 'Darren')\n",
      "('Pinker', 'David', 17, 'Farrell', 'Jemima')\n",
      "('Purview', 'Millicent', 30, 'Smith', 'Tracy')\n",
      "('Rumney', 'Henrietta', 27, 'Genting', 'Matthew')\n",
      "('Sarwin', 'Ramnaresh', 24, 'Bader', 'Florence')\n",
      "('Smith', 'Jack', 14, 'Smith', 'Darren')\n",
      "('Stibbons', 'Ponder', 9, 'Tracy', 'Burton')\n",
      "('Worthington-Smyth', 'Henry', 29, 'Smith', 'Tracy')\n"
     ]
    }
   ],
   "source": [
    "def select_all_tasks(conn):\n",
    "    \"\"\"\n",
    "    Query all rows in the tasks table\n",
    "    :param conn: the Connection object\n",
    "    :return:\n",
    "    \"\"\"\n",
    "    cur = conn.cursor()\n",
    "    \n",
    "    query1 = \"\"\"\n",
    "        SELECT E.surname, E.firstname, E.memid, S.surname, S.firstname\n",
    " FROM Members E \n",
    "   JOIN Members S\n",
    "     ON E.recommendedby = S.memid\n",
    "\t\tAND E.memid > 0\n",
    "\t\t\tOrder by E.surname;\n",
    "        \"\"\"\n",
    "    cur.execute(query1)\n",
    " \n",
    "    rows = cur.fetchall()\n",
    " \n",
    "    for row in rows:\n",
    "        print(row)\n",
    "\n",
    "\n",
    "def main():\n",
    "    database = \"sqlite_db_pythonsqlite.db\"\n",
    " \n",
    "    # create a database connection\n",
    "    conn = create_connection(database)\n",
    "    with conn: \n",
    "        print(\"2. Query all tasks\")\n",
    "        select_all_tasks(conn)\n",
    " \n",
    " \n",
    "if __name__ == '__main__':\n",
    "    main()"
   ]
  },
  {
   "cell_type": "markdown",
   "metadata": {},
   "source": [
    "### Q12: Find the facilities with their usage by member, but not guests"
   ]
  },
  {
   "cell_type": "code",
   "execution_count": null,
   "metadata": {},
   "outputs": [],
   "source": [
    "def select_all_tasks(conn):\n",
    "    \"\"\"\n",
    "    Query all rows in the tasks table\n",
    "    :param conn: the Connection object\n",
    "    :return:\n",
    "    \"\"\"\n",
    "    cur = conn.cursor()\n",
    "    \n",
    "    query1 = \"\"\"\n",
    "        Select name, membercost, monthlymaintenance\n",
    "from Facilities\n",
    "Order by monthlymaintenance;\n",
    "        \"\"\"\n",
    "    cur.execute(query1)\n",
    " \n",
    "    rows = cur.fetchall()\n",
    " \n",
    "    for row in rows:\n",
    "        print(row)\n",
    "\n",
    "\n",
    "def main():\n",
    "    database = \"sqlite_db_pythonsqlite.db\"\n",
    " \n",
    "    # create a database connection\n",
    "    conn = create_connection(database)\n",
    "    with conn: \n",
    "        print(\"2. Query all tasks\")\n",
    "        select_all_tasks(conn)\n",
    " \n",
    " \n",
    "if __name__ == '__main__':\n",
    "    main()"
   ]
  },
  {
   "cell_type": "code",
   "execution_count": null,
   "metadata": {},
   "outputs": [],
   "source": []
  }
 ],
 "metadata": {
  "kernelspec": {
   "display_name": "Python 3",
   "language": "python",
   "name": "python3"
  },
  "language_info": {
   "codemirror_mode": {
    "name": "ipython",
    "version": 3
   },
   "file_extension": ".py",
   "mimetype": "text/x-python",
   "name": "python",
   "nbconvert_exporter": "python",
   "pygments_lexer": "ipython3",
   "version": "3.8.5"
  }
 },
 "nbformat": 4,
 "nbformat_minor": 4
}
